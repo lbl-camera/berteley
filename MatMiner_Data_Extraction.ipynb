{
  "nbformat": 4,
  "nbformat_minor": 0,
  "metadata": {
    "colab": {
      "name": "MatMiner Data Extraction.ipynb",
      "provenance": [],
      "authorship_tag": "ABX9TyMmIbkMSkr/0ZWe9OMbKZ0B",
      "include_colab_link": true
    },
    "kernelspec": {
      "name": "python3",
      "display_name": "Python 3"
    },
    "language_info": {
      "name": "python"
    }
  },
  "cells": [
    {
      "cell_type": "markdown",
      "metadata": {
        "id": "view-in-github",
        "colab_type": "text"
      },
      "source": [
        "<a href=\"https://colab.research.google.com/github/dani-lbnl/mudit/blob/main/MatMiner_Data_Extraction.ipynb\" target=\"_parent\"><img src=\"https://colab.research.google.com/assets/colab-badge.svg\" alt=\"Open In Colab\"/></a>"
      ]
    },
    {
      "cell_type": "code",
      "execution_count": 2,
      "metadata": {
        "colab": {
          "base_uri": "https://localhost:8080/",
          "height": 1000
        },
        "id": "AyppWCzIRnN_",
        "outputId": "1fadf7f1-e1eb-41b8-b2e3-9f5fb4eecd4b"
      },
      "outputs": [
        {
          "output_type": "stream",
          "name": "stdout",
          "text": [
            "Collecting matminer\n",
            "  Downloading matminer-0.7.6-py3-none-any.whl (1.4 MB)\n",
            "\u001b[?25l\r\u001b[K     |▎                               | 10 kB 20.9 MB/s eta 0:00:01\r\u001b[K     |▌                               | 20 kB 26.5 MB/s eta 0:00:01\r\u001b[K     |▊                               | 30 kB 31.8 MB/s eta 0:00:01\r\u001b[K     |█                               | 40 kB 25.2 MB/s eta 0:00:01\r\u001b[K     |█▏                              | 51 kB 21.5 MB/s eta 0:00:01\r\u001b[K     |█▍                              | 61 kB 23.5 MB/s eta 0:00:01\r\u001b[K     |█▋                              | 71 kB 24.4 MB/s eta 0:00:01\r\u001b[K     |██                              | 81 kB 25.7 MB/s eta 0:00:01\r\u001b[K     |██▏                             | 92 kB 27.8 MB/s eta 0:00:01\r\u001b[K     |██▍                             | 102 kB 26.0 MB/s eta 0:00:01\r\u001b[K     |██▋                             | 112 kB 26.0 MB/s eta 0:00:01\r\u001b[K     |██▉                             | 122 kB 26.0 MB/s eta 0:00:01\r\u001b[K     |███                             | 133 kB 26.0 MB/s eta 0:00:01\r\u001b[K     |███▎                            | 143 kB 26.0 MB/s eta 0:00:01\r\u001b[K     |███▋                            | 153 kB 26.0 MB/s eta 0:00:01\r\u001b[K     |███▉                            | 163 kB 26.0 MB/s eta 0:00:01\r\u001b[K     |████                            | 174 kB 26.0 MB/s eta 0:00:01\r\u001b[K     |████▎                           | 184 kB 26.0 MB/s eta 0:00:01\r\u001b[K     |████▌                           | 194 kB 26.0 MB/s eta 0:00:01\r\u001b[K     |████▊                           | 204 kB 26.0 MB/s eta 0:00:01\r\u001b[K     |█████                           | 215 kB 26.0 MB/s eta 0:00:01\r\u001b[K     |█████▎                          | 225 kB 26.0 MB/s eta 0:00:01\r\u001b[K     |█████▌                          | 235 kB 26.0 MB/s eta 0:00:01\r\u001b[K     |█████▊                          | 245 kB 26.0 MB/s eta 0:00:01\r\u001b[K     |██████                          | 256 kB 26.0 MB/s eta 0:00:01\r\u001b[K     |██████▏                         | 266 kB 26.0 MB/s eta 0:00:01\r\u001b[K     |██████▍                         | 276 kB 26.0 MB/s eta 0:00:01\r\u001b[K     |██████▋                         | 286 kB 26.0 MB/s eta 0:00:01\r\u001b[K     |███████                         | 296 kB 26.0 MB/s eta 0:00:01\r\u001b[K     |███████▏                        | 307 kB 26.0 MB/s eta 0:00:01\r\u001b[K     |███████▍                        | 317 kB 26.0 MB/s eta 0:00:01\r\u001b[K     |███████▋                        | 327 kB 26.0 MB/s eta 0:00:01\r\u001b[K     |███████▉                        | 337 kB 26.0 MB/s eta 0:00:01\r\u001b[K     |████████                        | 348 kB 26.0 MB/s eta 0:00:01\r\u001b[K     |████████▎                       | 358 kB 26.0 MB/s eta 0:00:01\r\u001b[K     |████████▋                       | 368 kB 26.0 MB/s eta 0:00:01\r\u001b[K     |████████▉                       | 378 kB 26.0 MB/s eta 0:00:01\r\u001b[K     |█████████                       | 389 kB 26.0 MB/s eta 0:00:01\r\u001b[K     |█████████▎                      | 399 kB 26.0 MB/s eta 0:00:01\r\u001b[K     |█████████▌                      | 409 kB 26.0 MB/s eta 0:00:01\r\u001b[K     |█████████▊                      | 419 kB 26.0 MB/s eta 0:00:01\r\u001b[K     |██████████                      | 430 kB 26.0 MB/s eta 0:00:01\r\u001b[K     |██████████▎                     | 440 kB 26.0 MB/s eta 0:00:01\r\u001b[K     |██████████▌                     | 450 kB 26.0 MB/s eta 0:00:01\r\u001b[K     |██████████▊                     | 460 kB 26.0 MB/s eta 0:00:01\r\u001b[K     |███████████                     | 471 kB 26.0 MB/s eta 0:00:01\r\u001b[K     |███████████▏                    | 481 kB 26.0 MB/s eta 0:00:01\r\u001b[K     |███████████▍                    | 491 kB 26.0 MB/s eta 0:00:01\r\u001b[K     |███████████▋                    | 501 kB 26.0 MB/s eta 0:00:01\r\u001b[K     |████████████                    | 512 kB 26.0 MB/s eta 0:00:01\r\u001b[K     |████████████▏                   | 522 kB 26.0 MB/s eta 0:00:01\r\u001b[K     |████████████▍                   | 532 kB 26.0 MB/s eta 0:00:01\r\u001b[K     |████████████▋                   | 542 kB 26.0 MB/s eta 0:00:01\r\u001b[K     |████████████▉                   | 552 kB 26.0 MB/s eta 0:00:01\r\u001b[K     |█████████████                   | 563 kB 26.0 MB/s eta 0:00:01\r\u001b[K     |█████████████▎                  | 573 kB 26.0 MB/s eta 0:00:01\r\u001b[K     |█████████████▋                  | 583 kB 26.0 MB/s eta 0:00:01\r\u001b[K     |█████████████▉                  | 593 kB 26.0 MB/s eta 0:00:01\r\u001b[K     |██████████████                  | 604 kB 26.0 MB/s eta 0:00:01\r\u001b[K     |██████████████▎                 | 614 kB 26.0 MB/s eta 0:00:01\r\u001b[K     |██████████████▌                 | 624 kB 26.0 MB/s eta 0:00:01\r\u001b[K     |██████████████▊                 | 634 kB 26.0 MB/s eta 0:00:01\r\u001b[K     |███████████████                 | 645 kB 26.0 MB/s eta 0:00:01\r\u001b[K     |███████████████▎                | 655 kB 26.0 MB/s eta 0:00:01\r\u001b[K     |███████████████▌                | 665 kB 26.0 MB/s eta 0:00:01\r\u001b[K     |███████████████▊                | 675 kB 26.0 MB/s eta 0:00:01\r\u001b[K     |████████████████                | 686 kB 26.0 MB/s eta 0:00:01\r\u001b[K     |████████████████▏               | 696 kB 26.0 MB/s eta 0:00:01\r\u001b[K     |████████████████▍               | 706 kB 26.0 MB/s eta 0:00:01\r\u001b[K     |████████████████▋               | 716 kB 26.0 MB/s eta 0:00:01\r\u001b[K     |█████████████████               | 727 kB 26.0 MB/s eta 0:00:01\r\u001b[K     |█████████████████▏              | 737 kB 26.0 MB/s eta 0:00:01\r\u001b[K     |█████████████████▍              | 747 kB 26.0 MB/s eta 0:00:01\r\u001b[K     |█████████████████▋              | 757 kB 26.0 MB/s eta 0:00:01\r\u001b[K     |█████████████████▉              | 768 kB 26.0 MB/s eta 0:00:01\r\u001b[K     |██████████████████              | 778 kB 26.0 MB/s eta 0:00:01\r\u001b[K     |██████████████████▎             | 788 kB 26.0 MB/s eta 0:00:01\r\u001b[K     |██████████████████▋             | 798 kB 26.0 MB/s eta 0:00:01\r\u001b[K     |██████████████████▉             | 808 kB 26.0 MB/s eta 0:00:01\r\u001b[K     |███████████████████             | 819 kB 26.0 MB/s eta 0:00:01\r\u001b[K     |███████████████████▎            | 829 kB 26.0 MB/s eta 0:00:01\r\u001b[K     |███████████████████▌            | 839 kB 26.0 MB/s eta 0:00:01\r\u001b[K     |███████████████████▊            | 849 kB 26.0 MB/s eta 0:00:01\r\u001b[K     |████████████████████            | 860 kB 26.0 MB/s eta 0:00:01\r\u001b[K     |████████████████████▏           | 870 kB 26.0 MB/s eta 0:00:01\r\u001b[K     |████████████████████▌           | 880 kB 26.0 MB/s eta 0:00:01\r\u001b[K     |████████████████████▊           | 890 kB 26.0 MB/s eta 0:00:01\r\u001b[K     |█████████████████████           | 901 kB 26.0 MB/s eta 0:00:01\r\u001b[K     |█████████████████████▏          | 911 kB 26.0 MB/s eta 0:00:01\r\u001b[K     |█████████████████████▍          | 921 kB 26.0 MB/s eta 0:00:01\r\u001b[K     |█████████████████████▋          | 931 kB 26.0 MB/s eta 0:00:01\r\u001b[K     |█████████████████████▉          | 942 kB 26.0 MB/s eta 0:00:01\r\u001b[K     |██████████████████████▏         | 952 kB 26.0 MB/s eta 0:00:01\r\u001b[K     |██████████████████████▍         | 962 kB 26.0 MB/s eta 0:00:01\r\u001b[K     |██████████████████████▋         | 972 kB 26.0 MB/s eta 0:00:01\r\u001b[K     |██████████████████████▉         | 983 kB 26.0 MB/s eta 0:00:01\r\u001b[K     |███████████████████████         | 993 kB 26.0 MB/s eta 0:00:01\r\u001b[K     |███████████████████████▎        | 1.0 MB 26.0 MB/s eta 0:00:01\r\u001b[K     |███████████████████████▌        | 1.0 MB 26.0 MB/s eta 0:00:01\r\u001b[K     |███████████████████████▉        | 1.0 MB 26.0 MB/s eta 0:00:01\r\u001b[K     |████████████████████████        | 1.0 MB 26.0 MB/s eta 0:00:01\r\u001b[K     |████████████████████████▎       | 1.0 MB 26.0 MB/s eta 0:00:01\r\u001b[K     |████████████████████████▌       | 1.1 MB 26.0 MB/s eta 0:00:01\r\u001b[K     |████████████████████████▊       | 1.1 MB 26.0 MB/s eta 0:00:01\r\u001b[K     |█████████████████████████       | 1.1 MB 26.0 MB/s eta 0:00:01\r\u001b[K     |█████████████████████████▏      | 1.1 MB 26.0 MB/s eta 0:00:01\r\u001b[K     |█████████████████████████▌      | 1.1 MB 26.0 MB/s eta 0:00:01\r\u001b[K     |█████████████████████████▊      | 1.1 MB 26.0 MB/s eta 0:00:01\r\u001b[K     |██████████████████████████      | 1.1 MB 26.0 MB/s eta 0:00:01\r\u001b[K     |██████████████████████████▏     | 1.1 MB 26.0 MB/s eta 0:00:01\r\u001b[K     |██████████████████████████▍     | 1.1 MB 26.0 MB/s eta 0:00:01\r\u001b[K     |██████████████████████████▋     | 1.1 MB 26.0 MB/s eta 0:00:01\r\u001b[K     |██████████████████████████▉     | 1.2 MB 26.0 MB/s eta 0:00:01\r\u001b[K     |███████████████████████████▏    | 1.2 MB 26.0 MB/s eta 0:00:01\r\u001b[K     |███████████████████████████▍    | 1.2 MB 26.0 MB/s eta 0:00:01\r\u001b[K     |███████████████████████████▋    | 1.2 MB 26.0 MB/s eta 0:00:01\r\u001b[K     |███████████████████████████▉    | 1.2 MB 26.0 MB/s eta 0:00:01\r\u001b[K     |████████████████████████████    | 1.2 MB 26.0 MB/s eta 0:00:01\r\u001b[K     |████████████████████████████▎   | 1.2 MB 26.0 MB/s eta 0:00:01\r\u001b[K     |████████████████████████████▌   | 1.2 MB 26.0 MB/s eta 0:00:01\r\u001b[K     |████████████████████████████▉   | 1.2 MB 26.0 MB/s eta 0:00:01\r\u001b[K     |█████████████████████████████   | 1.2 MB 26.0 MB/s eta 0:00:01\r\u001b[K     |█████████████████████████████▎  | 1.3 MB 26.0 MB/s eta 0:00:01\r\u001b[K     |█████████████████████████████▌  | 1.3 MB 26.0 MB/s eta 0:00:01\r\u001b[K     |█████████████████████████████▊  | 1.3 MB 26.0 MB/s eta 0:00:01\r\u001b[K     |██████████████████████████████  | 1.3 MB 26.0 MB/s eta 0:00:01\r\u001b[K     |██████████████████████████████▏ | 1.3 MB 26.0 MB/s eta 0:00:01\r\u001b[K     |██████████████████████████████▌ | 1.3 MB 26.0 MB/s eta 0:00:01\r\u001b[K     |██████████████████████████████▊ | 1.3 MB 26.0 MB/s eta 0:00:01\r\u001b[K     |███████████████████████████████ | 1.3 MB 26.0 MB/s eta 0:00:01\r\u001b[K     |███████████████████████████████▏| 1.3 MB 26.0 MB/s eta 0:00:01\r\u001b[K     |███████████████████████████████▍| 1.4 MB 26.0 MB/s eta 0:00:01\r\u001b[K     |███████████████████████████████▋| 1.4 MB 26.0 MB/s eta 0:00:01\r\u001b[K     |███████████████████████████████▉| 1.4 MB 26.0 MB/s eta 0:00:01\r\u001b[K     |████████████████████████████████| 1.4 MB 26.0 MB/s \n",
            "\u001b[?25hRequirement already satisfied: pymongo>=4.0.1 in /usr/local/lib/python3.7/dist-packages (from matminer) (4.0.2)\n",
            "Requirement already satisfied: pandas>=1.3.5 in /usr/local/lib/python3.7/dist-packages (from matminer) (1.3.5)\n",
            "Requirement already satisfied: tqdm>=4.62.3 in /usr/local/lib/python3.7/dist-packages (from matminer) (4.63.0)\n",
            "Collecting six>=1.16.0\n",
            "  Downloading six-1.16.0-py2.py3-none-any.whl (11 kB)\n",
            "Collecting jsonschema>=4.4.0\n",
            "  Downloading jsonschema-4.4.0-py3-none-any.whl (72 kB)\n",
            "\u001b[K     |████████████████████████████████| 72 kB 1.3 MB/s \n",
            "\u001b[?25hCollecting future>=0.18.2\n",
            "  Downloading future-0.18.2.tar.gz (829 kB)\n",
            "\u001b[K     |████████████████████████████████| 829 kB 52.6 MB/s \n",
            "\u001b[?25hRequirement already satisfied: scikit-learn>=1.0.1 in /usr/local/lib/python3.7/dist-packages (from matminer) (1.0.2)\n",
            "Collecting monty>=2022.1.12.1\n",
            "  Downloading monty-2022.3.12-py3-none-any.whl (65 kB)\n",
            "\u001b[K     |████████████████████████████████| 65 kB 4.9 MB/s \n",
            "\u001b[?25hCollecting requests>=2.27.1\n",
            "  Downloading requests-2.27.1-py2.py3-none-any.whl (63 kB)\n",
            "\u001b[K     |████████████████████████████████| 63 kB 2.0 MB/s \n",
            "\u001b[?25hCollecting matminer\n",
            "  Downloading matminer-0.7.5-py3-none-any.whl (1.4 MB)\n",
            "\u001b[K     |████████████████████████████████| 1.4 MB 52.9 MB/s \n",
            "\u001b[?25h  Downloading matminer-0.7.4-py3-none-any.whl (1.4 MB)\n",
            "\u001b[K     |████████████████████████████████| 1.4 MB 55.7 MB/s \n",
            "\u001b[?25hCollecting pymatgen>=2022.0.11\n",
            "  Downloading pymatgen-2022.0.17.tar.gz (40.6 MB)\n",
            "\u001b[K     |████████████████████████████████| 40.6 MB 1.2 MB/s \n",
            "\u001b[?25h  Installing build dependencies ... \u001b[?25l\u001b[?25hdone\n",
            "  Getting requirements to build wheel ... \u001b[?25l\u001b[?25hdone\n",
            "  Installing backend dependencies ... \u001b[?25l\u001b[?25hdone\n",
            "    Preparing wheel metadata ... \u001b[?25l\u001b[?25hdone\n",
            "Collecting sympy>=1.8\n",
            "  Downloading sympy-1.10-py3-none-any.whl (6.4 MB)\n",
            "\u001b[K     |████████████████████████████████| 6.4 MB 59.0 MB/s \n",
            "\u001b[?25hRequirement already satisfied: numpy>=1.21.1 in /usr/local/lib/python3.7/dist-packages (from matminer) (1.21.5)\n",
            "Requirement already satisfied: jsonschema>=3.2.0 in /usr/local/lib/python3.7/dist-packages (from matminer) (4.3.3)\n",
            "Collecting pint>=0.17\n",
            "  Downloading Pint-0.18-py2.py3-none-any.whl (209 kB)\n",
            "\u001b[K     |████████████████████████████████| 209 kB 76.7 MB/s \n",
            "\u001b[?25hRequirement already satisfied: attrs>=17.4.0 in /usr/local/lib/python3.7/dist-packages (from jsonschema>=3.2.0->matminer) (21.4.0)\n",
            "Requirement already satisfied: importlib-metadata in /usr/local/lib/python3.7/dist-packages (from jsonschema>=3.2.0->matminer) (4.11.2)\n",
            "Requirement already satisfied: importlib-resources>=1.4.0 in /usr/local/lib/python3.7/dist-packages (from jsonschema>=3.2.0->matminer) (5.4.0)\n",
            "Requirement already satisfied: pyrsistent!=0.17.0,!=0.17.1,!=0.17.2,>=0.14.0 in /usr/local/lib/python3.7/dist-packages (from jsonschema>=3.2.0->matminer) (0.18.1)\n",
            "Requirement already satisfied: typing-extensions in /usr/local/lib/python3.7/dist-packages (from jsonschema>=3.2.0->matminer) (3.10.0.2)\n",
            "Requirement already satisfied: zipp>=3.1.0 in /usr/local/lib/python3.7/dist-packages (from importlib-resources>=1.4.0->jsonschema>=3.2.0->matminer) (3.7.0)\n",
            "Requirement already satisfied: pytz>=2017.3 in /usr/local/lib/python3.7/dist-packages (from pandas>=1.3.5->matminer) (2018.9)\n",
            "Requirement already satisfied: python-dateutil>=2.7.3 in /usr/local/lib/python3.7/dist-packages (from pandas>=1.3.5->matminer) (2.8.2)\n",
            "Requirement already satisfied: packaging in /usr/local/lib/python3.7/dist-packages (from pint>=0.17->matminer) (21.3)\n",
            "Requirement already satisfied: networkx>=2.2 in /usr/local/lib/python3.7/dist-packages (from pymatgen>=2022.0.11->matminer) (2.6.3)\n",
            "Collecting ruamel.yaml>=0.15.6\n",
            "  Downloading ruamel.yaml-0.17.21-py3-none-any.whl (109 kB)\n",
            "\u001b[K     |████████████████████████████████| 109 kB 55.2 MB/s \n",
            "\u001b[?25hCollecting scipy>=1.5.0\n",
            "  Downloading scipy-1.7.3-cp37-cp37m-manylinux_2_12_x86_64.manylinux2010_x86_64.whl (38.1 MB)\n",
            "\u001b[K     |████████████████████████████████| 38.1 MB 1.2 MB/s \n",
            "\u001b[?25hRequirement already satisfied: tabulate in /usr/local/lib/python3.7/dist-packages (from pymatgen>=2022.0.11->matminer) (0.8.9)\n",
            "Collecting spglib>=1.9.9.44\n",
            "  Downloading spglib-1.16.3-cp37-cp37m-manylinux_2_17_x86_64.manylinux2014_x86_64.whl (292 kB)\n",
            "\u001b[K     |████████████████████████████████| 292 kB 75.1 MB/s \n",
            "\u001b[?25hRequirement already satisfied: matplotlib>=1.5 in /usr/local/lib/python3.7/dist-packages (from pymatgen>=2022.0.11->matminer) (3.2.2)\n",
            "Requirement already satisfied: plotly>=4.5.0 in /usr/local/lib/python3.7/dist-packages (from pymatgen>=2022.0.11->matminer) (5.5.0)\n",
            "Requirement already satisfied: palettable>=3.1.1 in /usr/local/lib/python3.7/dist-packages (from pymatgen>=2022.0.11->matminer) (3.3.0)\n",
            "Collecting uncertainties>=3.1.4\n",
            "  Downloading uncertainties-3.1.6-py2.py3-none-any.whl (98 kB)\n",
            "\u001b[K     |████████████████████████████████| 98 kB 9.7 MB/s \n",
            "\u001b[?25hRequirement already satisfied: pyparsing!=2.0.4,!=2.1.2,!=2.1.6,>=2.0.1 in /usr/local/lib/python3.7/dist-packages (from matplotlib>=1.5->pymatgen>=2022.0.11->matminer) (3.0.7)\n",
            "Requirement already satisfied: kiwisolver>=1.0.1 in /usr/local/lib/python3.7/dist-packages (from matplotlib>=1.5->pymatgen>=2022.0.11->matminer) (1.3.2)\n",
            "Requirement already satisfied: cycler>=0.10 in /usr/local/lib/python3.7/dist-packages (from matplotlib>=1.5->pymatgen>=2022.0.11->matminer) (0.11.0)\n",
            "Requirement already satisfied: tenacity>=6.2.0 in /usr/local/lib/python3.7/dist-packages (from plotly>=4.5.0->pymatgen>=2022.0.11->matminer) (8.0.1)\n",
            "Requirement already satisfied: idna<4,>=2.5 in /usr/local/lib/python3.7/dist-packages (from requests>=2.27.1->matminer) (2.10)\n",
            "Requirement already satisfied: urllib3<1.27,>=1.21.1 in /usr/local/lib/python3.7/dist-packages (from requests>=2.27.1->matminer) (1.24.3)\n",
            "Requirement already satisfied: charset-normalizer~=2.0.0 in /usr/local/lib/python3.7/dist-packages (from requests>=2.27.1->matminer) (2.0.12)\n",
            "Requirement already satisfied: certifi>=2017.4.17 in /usr/local/lib/python3.7/dist-packages (from requests>=2.27.1->matminer) (2021.10.8)\n",
            "Collecting ruamel.yaml.clib>=0.2.6\n",
            "  Downloading ruamel.yaml.clib-0.2.6-cp37-cp37m-manylinux1_x86_64.whl (546 kB)\n",
            "\u001b[K     |████████████████████████████████| 546 kB 57.3 MB/s \n",
            "\u001b[?25hRequirement already satisfied: threadpoolctl>=2.0.0 in /usr/local/lib/python3.7/dist-packages (from scikit-learn>=1.0.1->matminer) (3.1.0)\n",
            "Requirement already satisfied: joblib>=0.11 in /usr/local/lib/python3.7/dist-packages (from scikit-learn>=1.0.1->matminer) (1.1.0)\n",
            "Requirement already satisfied: mpmath>=0.19 in /usr/local/lib/python3.7/dist-packages (from sympy>=1.8->matminer) (1.2.1)\n",
            "Building wheels for collected packages: future, pymatgen\n",
            "  Building wheel for future (setup.py) ... \u001b[?25l\u001b[?25hdone\n",
            "  Created wheel for future: filename=future-0.18.2-py3-none-any.whl size=491070 sha256=fc676381c7ef4ae04d3bdc0865524d22ae337b3cb0ae86c509f06a80ee44dc51\n",
            "  Stored in directory: /root/.cache/pip/wheels/56/b0/fe/4410d17b32f1f0c3cf54cdfb2bc04d7b4b8f4ae377e2229ba0\n",
            "  Building wheel for pymatgen (PEP 517) ... \u001b[?25l\u001b[?25hdone\n",
            "  Created wheel for pymatgen: filename=pymatgen-2022.0.17-cp37-cp37m-linux_x86_64.whl size=41841036 sha256=75cc1d1bde5d490f9d1f949aea01432f643a379991dde4f5f22d1f4947ee0eff\n",
            "  Stored in directory: /root/.cache/pip/wheels/cf/f6/22/58a9be23c5f1b452770e02ff42047175eaf0f9c2f15219fc76\n",
            "Successfully built future pymatgen\n",
            "Installing collected packages: six, ruamel.yaml.clib, future, uncertainties, sympy, spglib, scipy, ruamel.yaml, requests, monty, pymatgen, pint, matminer\n",
            "  Attempting uninstall: six\n",
            "    Found existing installation: six 1.15.0\n",
            "    Uninstalling six-1.15.0:\n",
            "      Successfully uninstalled six-1.15.0\n",
            "  Attempting uninstall: future\n",
            "    Found existing installation: future 0.16.0\n",
            "    Uninstalling future-0.16.0:\n",
            "      Successfully uninstalled future-0.16.0\n",
            "  Attempting uninstall: sympy\n",
            "    Found existing installation: sympy 1.7.1\n",
            "    Uninstalling sympy-1.7.1:\n",
            "      Successfully uninstalled sympy-1.7.1\n",
            "  Attempting uninstall: scipy\n",
            "    Found existing installation: scipy 1.4.1\n",
            "    Uninstalling scipy-1.4.1:\n",
            "      Successfully uninstalled scipy-1.4.1\n",
            "  Attempting uninstall: requests\n",
            "    Found existing installation: requests 2.23.0\n",
            "    Uninstalling requests-2.23.0:\n",
            "      Successfully uninstalled requests-2.23.0\n",
            "\u001b[31mERROR: pip's dependency resolver does not currently take into account all the packages that are installed. This behaviour is the source of the following dependency conflicts.\n",
            "tensorflow 2.8.0 requires tf-estimator-nightly==2.8.0.dev2021122109, which is not installed.\n",
            "google-colab 1.0.0 requires requests~=2.23.0, but you have requests 2.27.1 which is incompatible.\n",
            "google-colab 1.0.0 requires six~=1.15.0, but you have six 1.16.0 which is incompatible.\n",
            "datascience 0.10.6 requires folium==0.2.1, but you have folium 0.8.3 which is incompatible.\n",
            "albumentations 0.1.12 requires imgaug<0.2.7,>=0.2.5, but you have imgaug 0.2.9 which is incompatible.\u001b[0m\n",
            "Successfully installed future-0.18.2 matminer-0.7.4 monty-2022.3.12 pint-0.18 pymatgen-2022.0.17 requests-2.27.1 ruamel.yaml-0.17.21 ruamel.yaml.clib-0.2.6 scipy-1.7.3 six-1.16.0 spglib-1.16.3 sympy-1.10 uncertainties-3.1.6\n"
          ]
        },
        {
          "output_type": "display_data",
          "data": {
            "application/vnd.colab-display-data+json": {
              "pip_warning": {
                "packages": [
                  "six"
                ]
              }
            }
          },
          "metadata": {}
        }
      ],
      "source": [
        "!pip install matminer"
      ]
    },
    {
      "cell_type": "code",
      "source": [
        "from matminer.data_retrieval.retrieve_MP import MPDataRetrieval\n",
        "# mpdr = MPDataRetrieval() \n",
        "mpdr = MPDataRetrieval(api_key= \"bMqE1QIDXynK5uBj8pLM\")\n"
      ],
      "metadata": {
        "id": "yRTuVSFJRyg7"
      },
      "execution_count": 4,
      "outputs": []
    },
    {
      "cell_type": "code",
      "source": [
        "df = mpdr.get_dataframe(criteria={\"nelements\": 1}, properties=['density', 'pretty_formula'])\n",
        "print(\"There are {} entries on MP with 1 element\".format(df['density'].count()))"
      ],
      "metadata": {
        "colab": {
          "base_uri": "https://localhost:8080/"
        },
        "id": "pXCmc-UaSKsv",
        "outputId": "26962a0d-5620-4f77-f867-959135946b95"
      },
      "execution_count": 5,
      "outputs": [
        {
          "output_type": "stream",
          "name": "stderr",
          "text": [
            "100%|██████████| 716/716 [00:00<00:00, 1183.00it/s]"
          ]
        },
        {
          "output_type": "stream",
          "name": "stdout",
          "text": [
            "There are 716 entries on MP with 1 element\n"
          ]
        },
        {
          "output_type": "stream",
          "name": "stderr",
          "text": [
            "\n"
          ]
        }
      ]
    },
    {
      "cell_type": "code",
      "source": [
        "df"
      ],
      "metadata": {
        "colab": {
          "base_uri": "https://localhost:8080/",
          "height": 455
        },
        "id": "96NjXL-NSR08",
        "outputId": "100a3b09-eec0-4bdf-aae9-2c0e125a95a6"
      },
      "execution_count": 6,
      "outputs": [
        {
          "output_type": "execute_result",
          "data": {
            "text/plain": [
              "               density pretty_formula\n",
              "material_id                          \n",
              "mp-1          1.935039             Cs\n",
              "mp-10         6.064410             As\n",
              "mp-100       13.343942             Hf\n",
              "mp-10018      8.305513             Ac\n",
              "mp-10021      6.092337             Ga\n",
              "...                ...            ...\n",
              "mp-979285     2.127521             Xe\n",
              "mp-979286     2.171431             Xe\n",
              "mp-9924       5.433004             Te\n",
              "mp-994911     0.072679              S\n",
              "mp-999200     2.158414             Si\n",
              "\n",
              "[716 rows x 2 columns]"
            ],
            "text/html": [
              "\n",
              "  <div id=\"df-aa8b5636-2f95-4cd7-9dfa-712265fe0593\">\n",
              "    <div class=\"colab-df-container\">\n",
              "      <div>\n",
              "<style scoped>\n",
              "    .dataframe tbody tr th:only-of-type {\n",
              "        vertical-align: middle;\n",
              "    }\n",
              "\n",
              "    .dataframe tbody tr th {\n",
              "        vertical-align: top;\n",
              "    }\n",
              "\n",
              "    .dataframe thead th {\n",
              "        text-align: right;\n",
              "    }\n",
              "</style>\n",
              "<table border=\"1\" class=\"dataframe\">\n",
              "  <thead>\n",
              "    <tr style=\"text-align: right;\">\n",
              "      <th></th>\n",
              "      <th>density</th>\n",
              "      <th>pretty_formula</th>\n",
              "    </tr>\n",
              "    <tr>\n",
              "      <th>material_id</th>\n",
              "      <th></th>\n",
              "      <th></th>\n",
              "    </tr>\n",
              "  </thead>\n",
              "  <tbody>\n",
              "    <tr>\n",
              "      <th>mp-1</th>\n",
              "      <td>1.935039</td>\n",
              "      <td>Cs</td>\n",
              "    </tr>\n",
              "    <tr>\n",
              "      <th>mp-10</th>\n",
              "      <td>6.064410</td>\n",
              "      <td>As</td>\n",
              "    </tr>\n",
              "    <tr>\n",
              "      <th>mp-100</th>\n",
              "      <td>13.343942</td>\n",
              "      <td>Hf</td>\n",
              "    </tr>\n",
              "    <tr>\n",
              "      <th>mp-10018</th>\n",
              "      <td>8.305513</td>\n",
              "      <td>Ac</td>\n",
              "    </tr>\n",
              "    <tr>\n",
              "      <th>mp-10021</th>\n",
              "      <td>6.092337</td>\n",
              "      <td>Ga</td>\n",
              "    </tr>\n",
              "    <tr>\n",
              "      <th>...</th>\n",
              "      <td>...</td>\n",
              "      <td>...</td>\n",
              "    </tr>\n",
              "    <tr>\n",
              "      <th>mp-979285</th>\n",
              "      <td>2.127521</td>\n",
              "      <td>Xe</td>\n",
              "    </tr>\n",
              "    <tr>\n",
              "      <th>mp-979286</th>\n",
              "      <td>2.171431</td>\n",
              "      <td>Xe</td>\n",
              "    </tr>\n",
              "    <tr>\n",
              "      <th>mp-9924</th>\n",
              "      <td>5.433004</td>\n",
              "      <td>Te</td>\n",
              "    </tr>\n",
              "    <tr>\n",
              "      <th>mp-994911</th>\n",
              "      <td>0.072679</td>\n",
              "      <td>S</td>\n",
              "    </tr>\n",
              "    <tr>\n",
              "      <th>mp-999200</th>\n",
              "      <td>2.158414</td>\n",
              "      <td>Si</td>\n",
              "    </tr>\n",
              "  </tbody>\n",
              "</table>\n",
              "<p>716 rows × 2 columns</p>\n",
              "</div>\n",
              "      <button class=\"colab-df-convert\" onclick=\"convertToInteractive('df-aa8b5636-2f95-4cd7-9dfa-712265fe0593')\"\n",
              "              title=\"Convert this dataframe to an interactive table.\"\n",
              "              style=\"display:none;\">\n",
              "        \n",
              "  <svg xmlns=\"http://www.w3.org/2000/svg\" height=\"24px\"viewBox=\"0 0 24 24\"\n",
              "       width=\"24px\">\n",
              "    <path d=\"M0 0h24v24H0V0z\" fill=\"none\"/>\n",
              "    <path d=\"M18.56 5.44l.94 2.06.94-2.06 2.06-.94-2.06-.94-.94-2.06-.94 2.06-2.06.94zm-11 1L8.5 8.5l.94-2.06 2.06-.94-2.06-.94L8.5 2.5l-.94 2.06-2.06.94zm10 10l.94 2.06.94-2.06 2.06-.94-2.06-.94-.94-2.06-.94 2.06-2.06.94z\"/><path d=\"M17.41 7.96l-1.37-1.37c-.4-.4-.92-.59-1.43-.59-.52 0-1.04.2-1.43.59L10.3 9.45l-7.72 7.72c-.78.78-.78 2.05 0 2.83L4 21.41c.39.39.9.59 1.41.59.51 0 1.02-.2 1.41-.59l7.78-7.78 2.81-2.81c.8-.78.8-2.07 0-2.86zM5.41 20L4 18.59l7.72-7.72 1.47 1.35L5.41 20z\"/>\n",
              "  </svg>\n",
              "      </button>\n",
              "      \n",
              "  <style>\n",
              "    .colab-df-container {\n",
              "      display:flex;\n",
              "      flex-wrap:wrap;\n",
              "      gap: 12px;\n",
              "    }\n",
              "\n",
              "    .colab-df-convert {\n",
              "      background-color: #E8F0FE;\n",
              "      border: none;\n",
              "      border-radius: 50%;\n",
              "      cursor: pointer;\n",
              "      display: none;\n",
              "      fill: #1967D2;\n",
              "      height: 32px;\n",
              "      padding: 0 0 0 0;\n",
              "      width: 32px;\n",
              "    }\n",
              "\n",
              "    .colab-df-convert:hover {\n",
              "      background-color: #E2EBFA;\n",
              "      box-shadow: 0px 1px 2px rgba(60, 64, 67, 0.3), 0px 1px 3px 1px rgba(60, 64, 67, 0.15);\n",
              "      fill: #174EA6;\n",
              "    }\n",
              "\n",
              "    [theme=dark] .colab-df-convert {\n",
              "      background-color: #3B4455;\n",
              "      fill: #D2E3FC;\n",
              "    }\n",
              "\n",
              "    [theme=dark] .colab-df-convert:hover {\n",
              "      background-color: #434B5C;\n",
              "      box-shadow: 0px 1px 3px 1px rgba(0, 0, 0, 0.15);\n",
              "      filter: drop-shadow(0px 1px 2px rgba(0, 0, 0, 0.3));\n",
              "      fill: #FFFFFF;\n",
              "    }\n",
              "  </style>\n",
              "\n",
              "      <script>\n",
              "        const buttonEl =\n",
              "          document.querySelector('#df-aa8b5636-2f95-4cd7-9dfa-712265fe0593 button.colab-df-convert');\n",
              "        buttonEl.style.display =\n",
              "          google.colab.kernel.accessAllowed ? 'block' : 'none';\n",
              "\n",
              "        async function convertToInteractive(key) {\n",
              "          const element = document.querySelector('#df-aa8b5636-2f95-4cd7-9dfa-712265fe0593');\n",
              "          const dataTable =\n",
              "            await google.colab.kernel.invokeFunction('convertToInteractive',\n",
              "                                                     [key], {});\n",
              "          if (!dataTable) return;\n",
              "\n",
              "          const docLinkHtml = 'Like what you see? Visit the ' +\n",
              "            '<a target=\"_blank\" href=https://colab.research.google.com/notebooks/data_table.ipynb>data table notebook</a>'\n",
              "            + ' to learn more about interactive tables.';\n",
              "          element.innerHTML = '';\n",
              "          dataTable['output_type'] = 'display_data';\n",
              "          await google.colab.output.renderOutput(dataTable, element);\n",
              "          const docLink = document.createElement('div');\n",
              "          docLink.innerHTML = docLinkHtml;\n",
              "          element.appendChild(docLink);\n",
              "        }\n",
              "      </script>\n",
              "    </div>\n",
              "  </div>\n",
              "  "
            ]
          },
          "metadata": {},
          "execution_count": 6
        }
      ]
    },
    {
      "cell_type": "code",
      "source": [
        ""
      ],
      "metadata": {
        "id": "GugTBP3zrGFG"
      },
      "execution_count": null,
      "outputs": []
    }
  ]
}