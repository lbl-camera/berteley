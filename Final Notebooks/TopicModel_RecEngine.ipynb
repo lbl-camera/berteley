{
  "nbformat": 4,
  "nbformat_minor": 0,
  "metadata": {
    "colab": {
      "name": "TopicModel_RecEngine.ipynb",
      "provenance": [],
      "include_colab_link": true
    },
    "kernelspec": {
      "name": "python3",
      "display_name": "Python 3"
    },
    "language_info": {
      "name": "python"
    },
    "accelerator": "GPU",
    "widgets": {
      "application/vnd.jupyter.widget-state+json": {
        "f8b6d8f0aa8f4e5d83070c41b03b0717": {
          "model_module": "@jupyter-widgets/controls",
          "model_name": "HBoxModel",
          "model_module_version": "1.5.0",
          "state": {
            "_dom_classes": [],
            "_model_module": "@jupyter-widgets/controls",
            "_model_module_version": "1.5.0",
            "_model_name": "HBoxModel",
            "_view_count": null,
            "_view_module": "@jupyter-widgets/controls",
            "_view_module_version": "1.5.0",
            "_view_name": "HBoxView",
            "box_style": "",
            "children": [
              "IPY_MODEL_6a472c08866d431b8b69f73fa856dbc0",
              "IPY_MODEL_92cb5ae212fd41819296b45a038d71bb",
              "IPY_MODEL_2a2ad85dbc3a43e2a34222b729171d6c"
            ],
            "layout": "IPY_MODEL_6a17dfd87eb84f5f9e8730ba2690b1d1"
          }
        },
        "6a472c08866d431b8b69f73fa856dbc0": {
          "model_module": "@jupyter-widgets/controls",
          "model_name": "HTMLModel",
          "model_module_version": "1.5.0",
          "state": {
            "_dom_classes": [],
            "_model_module": "@jupyter-widgets/controls",
            "_model_module_version": "1.5.0",
            "_model_name": "HTMLModel",
            "_view_count": null,
            "_view_module": "@jupyter-widgets/controls",
            "_view_module_version": "1.5.0",
            "_view_name": "HTMLView",
            "description": "",
            "description_tooltip": null,
            "layout": "IPY_MODEL_b428d3e36cda466dae5b9207a66ebcce",
            "placeholder": "​",
            "style": "IPY_MODEL_239725f11e4640e9a5023be63bd0bbcc",
            "value": "Batches: 100%"
          }
        },
        "92cb5ae212fd41819296b45a038d71bb": {
          "model_module": "@jupyter-widgets/controls",
          "model_name": "FloatProgressModel",
          "model_module_version": "1.5.0",
          "state": {
            "_dom_classes": [],
            "_model_module": "@jupyter-widgets/controls",
            "_model_module_version": "1.5.0",
            "_model_name": "FloatProgressModel",
            "_view_count": null,
            "_view_module": "@jupyter-widgets/controls",
            "_view_module_version": "1.5.0",
            "_view_name": "ProgressView",
            "bar_style": "success",
            "description": "",
            "description_tooltip": null,
            "layout": "IPY_MODEL_732b94e39f4446228005d47ff8f803ff",
            "max": 16,
            "min": 0,
            "orientation": "horizontal",
            "style": "IPY_MODEL_59abc6bc858f4860b46c43dc4a39a6fe",
            "value": 16
          }
        },
        "2a2ad85dbc3a43e2a34222b729171d6c": {
          "model_module": "@jupyter-widgets/controls",
          "model_name": "HTMLModel",
          "model_module_version": "1.5.0",
          "state": {
            "_dom_classes": [],
            "_model_module": "@jupyter-widgets/controls",
            "_model_module_version": "1.5.0",
            "_model_name": "HTMLModel",
            "_view_count": null,
            "_view_module": "@jupyter-widgets/controls",
            "_view_module_version": "1.5.0",
            "_view_name": "HTMLView",
            "description": "",
            "description_tooltip": null,
            "layout": "IPY_MODEL_717adfea5150455bb2e38778cbeec29c",
            "placeholder": "​",
            "style": "IPY_MODEL_752a287d766a4cd8a05023660c41dff5",
            "value": " 16/16 [00:01&lt;00:00, 19.89it/s]"
          }
        },
        "6a17dfd87eb84f5f9e8730ba2690b1d1": {
          "model_module": "@jupyter-widgets/base",
          "model_name": "LayoutModel",
          "model_module_version": "1.2.0",
          "state": {
            "_model_module": "@jupyter-widgets/base",
            "_model_module_version": "1.2.0",
            "_model_name": "LayoutModel",
            "_view_count": null,
            "_view_module": "@jupyter-widgets/base",
            "_view_module_version": "1.2.0",
            "_view_name": "LayoutView",
            "align_content": null,
            "align_items": null,
            "align_self": null,
            "border": null,
            "bottom": null,
            "display": null,
            "flex": null,
            "flex_flow": null,
            "grid_area": null,
            "grid_auto_columns": null,
            "grid_auto_flow": null,
            "grid_auto_rows": null,
            "grid_column": null,
            "grid_gap": null,
            "grid_row": null,
            "grid_template_areas": null,
            "grid_template_columns": null,
            "grid_template_rows": null,
            "height": null,
            "justify_content": null,
            "justify_items": null,
            "left": null,
            "margin": null,
            "max_height": null,
            "max_width": null,
            "min_height": null,
            "min_width": null,
            "object_fit": null,
            "object_position": null,
            "order": null,
            "overflow": null,
            "overflow_x": null,
            "overflow_y": null,
            "padding": null,
            "right": null,
            "top": null,
            "visibility": null,
            "width": null
          }
        },
        "b428d3e36cda466dae5b9207a66ebcce": {
          "model_module": "@jupyter-widgets/base",
          "model_name": "LayoutModel",
          "model_module_version": "1.2.0",
          "state": {
            "_model_module": "@jupyter-widgets/base",
            "_model_module_version": "1.2.0",
            "_model_name": "LayoutModel",
            "_view_count": null,
            "_view_module": "@jupyter-widgets/base",
            "_view_module_version": "1.2.0",
            "_view_name": "LayoutView",
            "align_content": null,
            "align_items": null,
            "align_self": null,
            "border": null,
            "bottom": null,
            "display": null,
            "flex": null,
            "flex_flow": null,
            "grid_area": null,
            "grid_auto_columns": null,
            "grid_auto_flow": null,
            "grid_auto_rows": null,
            "grid_column": null,
            "grid_gap": null,
            "grid_row": null,
            "grid_template_areas": null,
            "grid_template_columns": null,
            "grid_template_rows": null,
            "height": null,
            "justify_content": null,
            "justify_items": null,
            "left": null,
            "margin": null,
            "max_height": null,
            "max_width": null,
            "min_height": null,
            "min_width": null,
            "object_fit": null,
            "object_position": null,
            "order": null,
            "overflow": null,
            "overflow_x": null,
            "overflow_y": null,
            "padding": null,
            "right": null,
            "top": null,
            "visibility": null,
            "width": null
          }
        },
        "239725f11e4640e9a5023be63bd0bbcc": {
          "model_module": "@jupyter-widgets/controls",
          "model_name": "DescriptionStyleModel",
          "model_module_version": "1.5.0",
          "state": {
            "_model_module": "@jupyter-widgets/controls",
            "_model_module_version": "1.5.0",
            "_model_name": "DescriptionStyleModel",
            "_view_count": null,
            "_view_module": "@jupyter-widgets/base",
            "_view_module_version": "1.2.0",
            "_view_name": "StyleView",
            "description_width": ""
          }
        },
        "732b94e39f4446228005d47ff8f803ff": {
          "model_module": "@jupyter-widgets/base",
          "model_name": "LayoutModel",
          "model_module_version": "1.2.0",
          "state": {
            "_model_module": "@jupyter-widgets/base",
            "_model_module_version": "1.2.0",
            "_model_name": "LayoutModel",
            "_view_count": null,
            "_view_module": "@jupyter-widgets/base",
            "_view_module_version": "1.2.0",
            "_view_name": "LayoutView",
            "align_content": null,
            "align_items": null,
            "align_self": null,
            "border": null,
            "bottom": null,
            "display": null,
            "flex": null,
            "flex_flow": null,
            "grid_area": null,
            "grid_auto_columns": null,
            "grid_auto_flow": null,
            "grid_auto_rows": null,
            "grid_column": null,
            "grid_gap": null,
            "grid_row": null,
            "grid_template_areas": null,
            "grid_template_columns": null,
            "grid_template_rows": null,
            "height": null,
            "justify_content": null,
            "justify_items": null,
            "left": null,
            "margin": null,
            "max_height": null,
            "max_width": null,
            "min_height": null,
            "min_width": null,
            "object_fit": null,
            "object_position": null,
            "order": null,
            "overflow": null,
            "overflow_x": null,
            "overflow_y": null,
            "padding": null,
            "right": null,
            "top": null,
            "visibility": null,
            "width": null
          }
        },
        "59abc6bc858f4860b46c43dc4a39a6fe": {
          "model_module": "@jupyter-widgets/controls",
          "model_name": "ProgressStyleModel",
          "model_module_version": "1.5.0",
          "state": {
            "_model_module": "@jupyter-widgets/controls",
            "_model_module_version": "1.5.0",
            "_model_name": "ProgressStyleModel",
            "_view_count": null,
            "_view_module": "@jupyter-widgets/base",
            "_view_module_version": "1.2.0",
            "_view_name": "StyleView",
            "bar_color": null,
            "description_width": ""
          }
        },
        "717adfea5150455bb2e38778cbeec29c": {
          "model_module": "@jupyter-widgets/base",
          "model_name": "LayoutModel",
          "model_module_version": "1.2.0",
          "state": {
            "_model_module": "@jupyter-widgets/base",
            "_model_module_version": "1.2.0",
            "_model_name": "LayoutModel",
            "_view_count": null,
            "_view_module": "@jupyter-widgets/base",
            "_view_module_version": "1.2.0",
            "_view_name": "LayoutView",
            "align_content": null,
            "align_items": null,
            "align_self": null,
            "border": null,
            "bottom": null,
            "display": null,
            "flex": null,
            "flex_flow": null,
            "grid_area": null,
            "grid_auto_columns": null,
            "grid_auto_flow": null,
            "grid_auto_rows": null,
            "grid_column": null,
            "grid_gap": null,
            "grid_row": null,
            "grid_template_areas": null,
            "grid_template_columns": null,
            "grid_template_rows": null,
            "height": null,
            "justify_content": null,
            "justify_items": null,
            "left": null,
            "margin": null,
            "max_height": null,
            "max_width": null,
            "min_height": null,
            "min_width": null,
            "object_fit": null,
            "object_position": null,
            "order": null,
            "overflow": null,
            "overflow_x": null,
            "overflow_y": null,
            "padding": null,
            "right": null,
            "top": null,
            "visibility": null,
            "width": null
          }
        },
        "752a287d766a4cd8a05023660c41dff5": {
          "model_module": "@jupyter-widgets/controls",
          "model_name": "DescriptionStyleModel",
          "model_module_version": "1.5.0",
          "state": {
            "_model_module": "@jupyter-widgets/controls",
            "_model_module_version": "1.5.0",
            "_model_name": "DescriptionStyleModel",
            "_view_count": null,
            "_view_module": "@jupyter-widgets/base",
            "_view_module_version": "1.2.0",
            "_view_name": "StyleView",
            "description_width": ""
          }
        }
      }
    }
  },
  "cells": [
    {
      "cell_type": "markdown",
      "metadata": {
        "id": "view-in-github",
        "colab_type": "text"
      },
      "source": [
        "<a href=\"https://colab.research.google.com/github/dani-lbnl/mudit/blob/main/Final%20Notebooks/TopicModel_RecEngine.ipynb\" target=\"_parent\"><img src=\"https://colab.research.google.com/assets/colab-badge.svg\" alt=\"Open In Colab\"/></a>"
      ]
    },
    {
      "cell_type": "markdown",
      "source": [
        "## install and imports"
      ],
      "metadata": {
        "id": "OX_a3v9tWeSh"
      }
    },
    {
      "cell_type": "code",
      "execution_count": 1,
      "metadata": {
        "colab": {
          "base_uri": "https://localhost:8080/",
          "height": 0
        },
        "id": "26N2QnWaUQI7",
        "outputId": "ac5661c0-d2c1-4b5d-d728-26bd9a912508"
      },
      "outputs": [
        {
          "metadata": {
            "tags": null
          },
          "name": "stdout",
          "output_type": "stream",
          "text": [
            "Looking in indexes: https://pypi.org/simple, https://us-python.pkg.dev/colab-wheels/public/simple/\n",
            "Requirement already satisfied: spacy in /usr/local/lib/python3.7/dist-packages (2.2.4)\n",
            "Collecting spacy\n",
            "  Downloading spacy-3.3.0-cp37-cp37m-manylinux_2_17_x86_64.manylinux2014_x86_64.whl (6.2 MB)\n",
            "\u001b[K     |████████████████████████████████| 6.2 MB 17.2 MB/s \n",
            "\u001b[?25hRequirement already satisfied: cymem<2.1.0,>=2.0.2 in /usr/local/lib/python3.7/dist-packages (from spacy) (2.0.6)\n",
            "Collecting spacy-legacy<3.1.0,>=3.0.9\n",
            "  Downloading spacy_legacy-3.0.9-py2.py3-none-any.whl (20 kB)\n",
            "Collecting srsly<3.0.0,>=2.4.3\n",
            "  Downloading srsly-2.4.3-cp37-cp37m-manylinux_2_17_x86_64.manylinux2014_x86_64.whl (457 kB)\n",
            "\u001b[K     |████████████████████████████████| 457 kB 71.0 MB/s \n",
            "\u001b[?25hCollecting pathy>=0.3.5\n",
            "  Downloading pathy-0.6.1-py3-none-any.whl (42 kB)\n",
            "\u001b[K     |████████████████████████████████| 42 kB 1.7 MB/s \n",
            "\u001b[?25hRequirement already satisfied: numpy>=1.15.0 in /usr/local/lib/python3.7/dist-packages (from spacy) (1.21.6)\n",
            "Requirement already satisfied: murmurhash<1.1.0,>=0.28.0 in /usr/local/lib/python3.7/dist-packages (from spacy) (1.0.7)\n",
            "Requirement already satisfied: requests<3.0.0,>=2.13.0 in /usr/local/lib/python3.7/dist-packages (from spacy) (2.23.0)\n",
            "Collecting spacy-loggers<2.0.0,>=1.0.0\n",
            "  Downloading spacy_loggers-1.0.2-py3-none-any.whl (7.2 kB)\n",
            "Requirement already satisfied: setuptools in /usr/local/lib/python3.7/dist-packages (from spacy) (57.4.0)\n",
            "Collecting thinc<8.1.0,>=8.0.14\n",
            "  Downloading thinc-8.0.16-cp37-cp37m-manylinux_2_17_x86_64.manylinux2014_x86_64.whl (660 kB)\n",
            "\u001b[K     |████████████████████████████████| 660 kB 58.4 MB/s \n",
            "\u001b[?25hRequirement already satisfied: jinja2 in /usr/local/lib/python3.7/dist-packages (from spacy) (2.11.3)\n",
            "Requirement already satisfied: preshed<3.1.0,>=3.0.2 in /usr/local/lib/python3.7/dist-packages (from spacy) (3.0.6)\n",
            "Requirement already satisfied: packaging>=20.0 in /usr/local/lib/python3.7/dist-packages (from spacy) (21.3)\n",
            "Collecting pydantic!=1.8,!=1.8.1,<1.9.0,>=1.7.4\n",
            "  Downloading pydantic-1.8.2-cp37-cp37m-manylinux2014_x86_64.whl (10.1 MB)\n",
            "\u001b[K     |████████████████████████████████| 10.1 MB 61.2 MB/s \n",
            "\u001b[?25hRequirement already satisfied: wasabi<1.1.0,>=0.9.1 in /usr/local/lib/python3.7/dist-packages (from spacy) (0.9.1)\n",
            "Requirement already satisfied: blis<0.8.0,>=0.4.0 in /usr/local/lib/python3.7/dist-packages (from spacy) (0.4.1)\n",
            "Collecting catalogue<2.1.0,>=2.0.6\n",
            "  Downloading catalogue-2.0.7-py3-none-any.whl (17 kB)\n",
            "Collecting typer<0.5.0,>=0.3.0\n",
            "  Downloading typer-0.4.1-py3-none-any.whl (27 kB)\n",
            "Requirement already satisfied: tqdm<5.0.0,>=4.38.0 in /usr/local/lib/python3.7/dist-packages (from spacy) (4.64.0)\n",
            "Collecting typing-extensions<4.0.0.0,>=3.7.4\n",
            "  Downloading typing_extensions-3.10.0.2-py3-none-any.whl (26 kB)\n",
            "Collecting langcodes<4.0.0,>=3.2.0\n",
            "  Downloading langcodes-3.3.0-py3-none-any.whl (181 kB)\n",
            "\u001b[K     |████████████████████████████████| 181 kB 66.5 MB/s \n",
            "\u001b[?25hRequirement already satisfied: zipp>=0.5 in /usr/local/lib/python3.7/dist-packages (from catalogue<2.1.0,>=2.0.6->spacy) (3.8.0)\n",
            "Requirement already satisfied: pyparsing!=3.0.5,>=2.0.2 in /usr/local/lib/python3.7/dist-packages (from packaging>=20.0->spacy) (3.0.9)\n",
            "Collecting smart-open<6.0.0,>=5.0.0\n",
            "  Downloading smart_open-5.2.1-py3-none-any.whl (58 kB)\n",
            "\u001b[K     |████████████████████████████████| 58 kB 7.5 MB/s \n",
            "\u001b[?25hRequirement already satisfied: idna<3,>=2.5 in /usr/local/lib/python3.7/dist-packages (from requests<3.0.0,>=2.13.0->spacy) (2.10)\n",
            "Requirement already satisfied: chardet<4,>=3.0.2 in /usr/local/lib/python3.7/dist-packages (from requests<3.0.0,>=2.13.0->spacy) (3.0.4)\n",
            "Requirement already satisfied: urllib3!=1.25.0,!=1.25.1,<1.26,>=1.21.1 in /usr/local/lib/python3.7/dist-packages (from requests<3.0.0,>=2.13.0->spacy) (1.24.3)\n",
            "Requirement already satisfied: certifi>=2017.4.17 in /usr/local/lib/python3.7/dist-packages (from requests<3.0.0,>=2.13.0->spacy) (2022.5.18.1)\n",
            "Requirement already satisfied: click<9.0.0,>=7.1.1 in /usr/local/lib/python3.7/dist-packages (from typer<0.5.0,>=0.3.0->spacy) (7.1.2)\n",
            "Requirement already satisfied: MarkupSafe>=0.23 in /usr/local/lib/python3.7/dist-packages (from jinja2->spacy) (2.0.1)\n",
            "Installing collected packages: typing-extensions, catalogue, typer, srsly, smart-open, pydantic, thinc, spacy-loggers, spacy-legacy, pathy, langcodes, spacy\n",
            "  Attempting uninstall: typing-extensions\n",
            "    Found existing installation: typing-extensions 4.2.0\n",
            "    Uninstalling typing-extensions-4.2.0:\n",
            "      Successfully uninstalled typing-extensions-4.2.0\n",
            "  Attempting uninstall: catalogue\n",
            "    Found existing installation: catalogue 1.0.0\n",
            "    Uninstalling catalogue-1.0.0:\n",
            "      Successfully uninstalled catalogue-1.0.0\n",
            "  Attempting uninstall: srsly\n",
            "    Found existing installation: srsly 1.0.5\n",
            "    Uninstalling srsly-1.0.5:\n",
            "      Successfully uninstalled srsly-1.0.5\n",
            "  Attempting uninstall: smart-open\n",
            "    Found existing installation: smart-open 6.0.0\n",
            "    Uninstalling smart-open-6.0.0:\n",
            "      Successfully uninstalled smart-open-6.0.0\n",
            "  Attempting uninstall: thinc\n",
            "    Found existing installation: thinc 7.4.0\n",
            "    Uninstalling thinc-7.4.0:\n",
            "      Successfully uninstalled thinc-7.4.0\n",
            "  Attempting uninstall: spacy\n",
            "    Found existing installation: spacy 2.2.4\n",
            "    Uninstalling spacy-2.2.4:\n",
            "      Successfully uninstalled spacy-2.2.4\n",
            "Successfully installed catalogue-2.0.7 langcodes-3.3.0 pathy-0.6.1 pydantic-1.8.2 smart-open-5.2.1 spacy-3.3.0 spacy-legacy-3.0.9 spacy-loggers-1.0.2 srsly-2.4.3 thinc-8.0.16 typer-0.4.1 typing-extensions-3.10.0.2\n"
          ]
        },
        {
          "data": {
            "application/vnd.colab-display-data+json": {
              "pip_warning": {
                "packages": [
                  "typing_extensions"
                ]
              }
            }
          },
          "metadata": {},
          "output_type": "display_data"
        },
        {
          "output_type": "stream",
          "name": "stdout",
          "text": [
            "Looking in indexes: https://pypi.org/simple, https://us-python.pkg.dev/colab-wheels/public/simple/\n",
            "Collecting en-core-web-lg==3.3.0\n",
            "  Downloading https://github.com/explosion/spacy-models/releases/download/en_core_web_lg-3.3.0/en_core_web_lg-3.3.0-py3-none-any.whl (400.7 MB)\n",
            "\u001b[K     |████████████████████████████████| 400.7 MB 6.7 kB/s \n",
            "\u001b[?25hRequirement already satisfied: spacy<3.4.0,>=3.3.0.dev0 in /usr/local/lib/python3.7/dist-packages (from en-core-web-lg==3.3.0) (3.3.0)\n",
            "Requirement already satisfied: srsly<3.0.0,>=2.4.3 in /usr/local/lib/python3.7/dist-packages (from spacy<3.4.0,>=3.3.0.dev0->en-core-web-lg==3.3.0) (2.4.3)\n",
            "Requirement already satisfied: typing-extensions<4.0.0.0,>=3.7.4 in /usr/local/lib/python3.7/dist-packages (from spacy<3.4.0,>=3.3.0.dev0->en-core-web-lg==3.3.0) (3.10.0.2)\n",
            "Requirement already satisfied: langcodes<4.0.0,>=3.2.0 in /usr/local/lib/python3.7/dist-packages (from spacy<3.4.0,>=3.3.0.dev0->en-core-web-lg==3.3.0) (3.3.0)\n",
            "Requirement already satisfied: spacy-legacy<3.1.0,>=3.0.9 in /usr/local/lib/python3.7/dist-packages (from spacy<3.4.0,>=3.3.0.dev0->en-core-web-lg==3.3.0) (3.0.9)\n",
            "Requirement already satisfied: numpy>=1.15.0 in /usr/local/lib/python3.7/dist-packages (from spacy<3.4.0,>=3.3.0.dev0->en-core-web-lg==3.3.0) (1.21.6)\n",
            "Requirement already satisfied: wasabi<1.1.0,>=0.9.1 in /usr/local/lib/python3.7/dist-packages (from spacy<3.4.0,>=3.3.0.dev0->en-core-web-lg==3.3.0) (0.9.1)\n",
            "Requirement already satisfied: typer<0.5.0,>=0.3.0 in /usr/local/lib/python3.7/dist-packages (from spacy<3.4.0,>=3.3.0.dev0->en-core-web-lg==3.3.0) (0.4.1)\n",
            "Requirement already satisfied: catalogue<2.1.0,>=2.0.6 in /usr/local/lib/python3.7/dist-packages (from spacy<3.4.0,>=3.3.0.dev0->en-core-web-lg==3.3.0) (2.0.7)\n",
            "Requirement already satisfied: pydantic!=1.8,!=1.8.1,<1.9.0,>=1.7.4 in /usr/local/lib/python3.7/dist-packages (from spacy<3.4.0,>=3.3.0.dev0->en-core-web-lg==3.3.0) (1.8.2)\n",
            "Requirement already satisfied: thinc<8.1.0,>=8.0.14 in /usr/local/lib/python3.7/dist-packages (from spacy<3.4.0,>=3.3.0.dev0->en-core-web-lg==3.3.0) (8.0.16)\n",
            "Requirement already satisfied: cymem<2.1.0,>=2.0.2 in /usr/local/lib/python3.7/dist-packages (from spacy<3.4.0,>=3.3.0.dev0->en-core-web-lg==3.3.0) (2.0.6)\n",
            "Requirement already satisfied: jinja2 in /usr/local/lib/python3.7/dist-packages (from spacy<3.4.0,>=3.3.0.dev0->en-core-web-lg==3.3.0) (2.11.3)\n",
            "Requirement already satisfied: requests<3.0.0,>=2.13.0 in /usr/local/lib/python3.7/dist-packages (from spacy<3.4.0,>=3.3.0.dev0->en-core-web-lg==3.3.0) (2.23.0)\n",
            "Requirement already satisfied: murmurhash<1.1.0,>=0.28.0 in /usr/local/lib/python3.7/dist-packages (from spacy<3.4.0,>=3.3.0.dev0->en-core-web-lg==3.3.0) (1.0.7)\n",
            "Requirement already satisfied: spacy-loggers<2.0.0,>=1.0.0 in /usr/local/lib/python3.7/dist-packages (from spacy<3.4.0,>=3.3.0.dev0->en-core-web-lg==3.3.0) (1.0.2)\n",
            "Requirement already satisfied: setuptools in /usr/local/lib/python3.7/dist-packages (from spacy<3.4.0,>=3.3.0.dev0->en-core-web-lg==3.3.0) (57.4.0)\n",
            "Requirement already satisfied: pathy>=0.3.5 in /usr/local/lib/python3.7/dist-packages (from spacy<3.4.0,>=3.3.0.dev0->en-core-web-lg==3.3.0) (0.6.1)\n",
            "Requirement already satisfied: packaging>=20.0 in /usr/local/lib/python3.7/dist-packages (from spacy<3.4.0,>=3.3.0.dev0->en-core-web-lg==3.3.0) (21.3)\n",
            "Requirement already satisfied: tqdm<5.0.0,>=4.38.0 in /usr/local/lib/python3.7/dist-packages (from spacy<3.4.0,>=3.3.0.dev0->en-core-web-lg==3.3.0) (4.64.0)\n",
            "Requirement already satisfied: preshed<3.1.0,>=3.0.2 in /usr/local/lib/python3.7/dist-packages (from spacy<3.4.0,>=3.3.0.dev0->en-core-web-lg==3.3.0) (3.0.6)\n",
            "Requirement already satisfied: blis<0.8.0,>=0.4.0 in /usr/local/lib/python3.7/dist-packages (from spacy<3.4.0,>=3.3.0.dev0->en-core-web-lg==3.3.0) (0.4.1)\n",
            "Requirement already satisfied: zipp>=0.5 in /usr/local/lib/python3.7/dist-packages (from catalogue<2.1.0,>=2.0.6->spacy<3.4.0,>=3.3.0.dev0->en-core-web-lg==3.3.0) (3.8.0)\n",
            "Requirement already satisfied: pyparsing!=3.0.5,>=2.0.2 in /usr/local/lib/python3.7/dist-packages (from packaging>=20.0->spacy<3.4.0,>=3.3.0.dev0->en-core-web-lg==3.3.0) (3.0.9)\n",
            "Requirement already satisfied: smart-open<6.0.0,>=5.0.0 in /usr/local/lib/python3.7/dist-packages (from pathy>=0.3.5->spacy<3.4.0,>=3.3.0.dev0->en-core-web-lg==3.3.0) (5.2.1)\n",
            "Requirement already satisfied: certifi>=2017.4.17 in /usr/local/lib/python3.7/dist-packages (from requests<3.0.0,>=2.13.0->spacy<3.4.0,>=3.3.0.dev0->en-core-web-lg==3.3.0) (2022.5.18.1)\n",
            "Requirement already satisfied: idna<3,>=2.5 in /usr/local/lib/python3.7/dist-packages (from requests<3.0.0,>=2.13.0->spacy<3.4.0,>=3.3.0.dev0->en-core-web-lg==3.3.0) (2.10)\n",
            "Requirement already satisfied: chardet<4,>=3.0.2 in /usr/local/lib/python3.7/dist-packages (from requests<3.0.0,>=2.13.0->spacy<3.4.0,>=3.3.0.dev0->en-core-web-lg==3.3.0) (3.0.4)\n",
            "Requirement already satisfied: urllib3!=1.25.0,!=1.25.1,<1.26,>=1.21.1 in /usr/local/lib/python3.7/dist-packages (from requests<3.0.0,>=2.13.0->spacy<3.4.0,>=3.3.0.dev0->en-core-web-lg==3.3.0) (1.24.3)\n",
            "Requirement already satisfied: click<9.0.0,>=7.1.1 in /usr/local/lib/python3.7/dist-packages (from typer<0.5.0,>=0.3.0->spacy<3.4.0,>=3.3.0.dev0->en-core-web-lg==3.3.0) (7.1.2)\n",
            "Requirement already satisfied: MarkupSafe>=0.23 in /usr/local/lib/python3.7/dist-packages (from jinja2->spacy<3.4.0,>=3.3.0.dev0->en-core-web-lg==3.3.0) (2.0.1)\n",
            "Installing collected packages: en-core-web-lg\n",
            "Successfully installed en-core-web-lg-3.3.0\n",
            "\u001b[38;5;2m✔ Download and installation successful\u001b[0m\n",
            "You can now load the package via spacy.load('en_core_web_lg')\n",
            "Looking in indexes: https://pypi.org/simple, https://us-python.pkg.dev/colab-wheels/public/simple/\n",
            "Collecting kaleido\n",
            "  Downloading kaleido-0.2.1-py2.py3-none-manylinux1_x86_64.whl (79.9 MB)\n",
            "\u001b[K     |████████████████████████████████| 79.9 MB 1.2 MB/s \n",
            "\u001b[?25hInstalling collected packages: kaleido\n",
            "Successfully installed kaleido-0.2.1\n",
            "Looking in indexes: https://pypi.org/simple, https://us-python.pkg.dev/colab-wheels/public/simple/\n",
            "Collecting bertopic\n",
            "  Downloading bertopic-0.10.0-py2.py3-none-any.whl (58 kB)\n",
            "\u001b[K     |████████████████████████████████| 58 kB 5.4 MB/s \n",
            "\u001b[?25hRequirement already satisfied: numpy>=1.20.0 in /usr/local/lib/python3.7/dist-packages (from bertopic) (1.21.6)\n",
            "Requirement already satisfied: plotly>=4.7.0 in /usr/local/lib/python3.7/dist-packages (from bertopic) (5.5.0)\n",
            "Collecting sentence-transformers>=0.4.1\n",
            "  Downloading sentence-transformers-2.2.0.tar.gz (79 kB)\n",
            "\u001b[K     |████████████████████████████████| 79 kB 11.5 MB/s \n",
            "\u001b[?25hCollecting umap-learn>=0.5.0\n",
            "  Downloading umap-learn-0.5.3.tar.gz (88 kB)\n",
            "\u001b[K     |████████████████████████████████| 88 kB 8.3 MB/s \n",
            "\u001b[?25hRequirement already satisfied: scikit-learn>=0.22.2.post1 in /usr/local/lib/python3.7/dist-packages (from bertopic) (1.0.2)\n",
            "Requirement already satisfied: pandas>=1.1.5 in /usr/local/lib/python3.7/dist-packages (from bertopic) (1.3.5)\n",
            "Collecting hdbscan>=0.8.28\n",
            "  Downloading hdbscan-0.8.28.tar.gz (5.2 MB)\n",
            "\u001b[K     |████████████████████████████████| 5.2 MB 44.4 MB/s \n",
            "\u001b[?25h  Installing build dependencies ... \u001b[?25l\u001b[?25hdone\n",
            "  Getting requirements to build wheel ... \u001b[?25l\u001b[?25hdone\n",
            "    Preparing wheel metadata ... \u001b[?25l\u001b[?25hdone\n",
            "Requirement already satisfied: pyyaml<6.0 in /usr/local/lib/python3.7/dist-packages (from bertopic) (3.13)\n",
            "Requirement already satisfied: tqdm>=4.41.1 in /usr/local/lib/python3.7/dist-packages (from bertopic) (4.64.0)\n",
            "Requirement already satisfied: cython>=0.27 in /usr/local/lib/python3.7/dist-packages (from hdbscan>=0.8.28->bertopic) (0.29.30)\n",
            "Requirement already satisfied: scipy>=1.0 in /usr/local/lib/python3.7/dist-packages (from hdbscan>=0.8.28->bertopic) (1.4.1)\n",
            "Requirement already satisfied: joblib>=1.0 in /usr/local/lib/python3.7/dist-packages (from hdbscan>=0.8.28->bertopic) (1.1.0)\n",
            "Requirement already satisfied: pytz>=2017.3 in /usr/local/lib/python3.7/dist-packages (from pandas>=1.1.5->bertopic) (2022.1)\n",
            "Requirement already satisfied: python-dateutil>=2.7.3 in /usr/local/lib/python3.7/dist-packages (from pandas>=1.1.5->bertopic) (2.8.2)\n",
            "Requirement already satisfied: six in /usr/local/lib/python3.7/dist-packages (from plotly>=4.7.0->bertopic) (1.15.0)\n",
            "Requirement already satisfied: tenacity>=6.2.0 in /usr/local/lib/python3.7/dist-packages (from plotly>=4.7.0->bertopic) (8.0.1)\n",
            "Requirement already satisfied: threadpoolctl>=2.0.0 in /usr/local/lib/python3.7/dist-packages (from scikit-learn>=0.22.2.post1->bertopic) (3.1.0)\n",
            "Collecting transformers<5.0.0,>=4.6.0\n",
            "  Downloading transformers-4.19.2-py3-none-any.whl (4.2 MB)\n",
            "\u001b[K     |████████████████████████████████| 4.2 MB 54.8 MB/s \n",
            "\u001b[?25hRequirement already satisfied: torch>=1.6.0 in /usr/local/lib/python3.7/dist-packages (from sentence-transformers>=0.4.1->bertopic) (1.11.0+cu113)\n",
            "Requirement already satisfied: torchvision in /usr/local/lib/python3.7/dist-packages (from sentence-transformers>=0.4.1->bertopic) (0.12.0+cu113)\n",
            "Requirement already satisfied: nltk in /usr/local/lib/python3.7/dist-packages (from sentence-transformers>=0.4.1->bertopic) (3.2.5)\n",
            "Collecting sentencepiece\n",
            "  Downloading sentencepiece-0.1.96-cp37-cp37m-manylinux_2_17_x86_64.manylinux2014_x86_64.whl (1.2 MB)\n",
            "\u001b[K     |████████████████████████████████| 1.2 MB 51.5 MB/s \n",
            "\u001b[?25hCollecting huggingface-hub\n",
            "  Downloading huggingface_hub-0.7.0-py3-none-any.whl (86 kB)\n",
            "\u001b[K     |████████████████████████████████| 86 kB 7.0 MB/s \n",
            "\u001b[?25hRequirement already satisfied: typing-extensions in /usr/local/lib/python3.7/dist-packages (from torch>=1.6.0->sentence-transformers>=0.4.1->bertopic) (3.10.0.2)\n",
            "Requirement already satisfied: filelock in /usr/local/lib/python3.7/dist-packages (from transformers<5.0.0,>=4.6.0->sentence-transformers>=0.4.1->bertopic) (3.7.0)\n",
            "Collecting tokenizers!=0.11.3,<0.13,>=0.11.1\n",
            "  Downloading tokenizers-0.12.1-cp37-cp37m-manylinux_2_12_x86_64.manylinux2010_x86_64.whl (6.6 MB)\n",
            "\u001b[K     |████████████████████████████████| 6.6 MB 66.5 MB/s \n",
            "\u001b[?25hRequirement already satisfied: importlib-metadata in /usr/local/lib/python3.7/dist-packages (from transformers<5.0.0,>=4.6.0->sentence-transformers>=0.4.1->bertopic) (4.11.4)\n",
            "Requirement already satisfied: regex!=2019.12.17 in /usr/local/lib/python3.7/dist-packages (from transformers<5.0.0,>=4.6.0->sentence-transformers>=0.4.1->bertopic) (2019.12.20)\n",
            "Requirement already satisfied: requests in /usr/local/lib/python3.7/dist-packages (from transformers<5.0.0,>=4.6.0->sentence-transformers>=0.4.1->bertopic) (2.23.0)\n",
            "Collecting pyyaml<6.0\n",
            "  Downloading PyYAML-5.4.1-cp37-cp37m-manylinux1_x86_64.whl (636 kB)\n",
            "\u001b[K     |████████████████████████████████| 636 kB 62.4 MB/s \n",
            "\u001b[?25hRequirement already satisfied: packaging>=20.0 in /usr/local/lib/python3.7/dist-packages (from transformers<5.0.0,>=4.6.0->sentence-transformers>=0.4.1->bertopic) (21.3)\n",
            "Requirement already satisfied: pyparsing!=3.0.5,>=2.0.2 in /usr/local/lib/python3.7/dist-packages (from packaging>=20.0->transformers<5.0.0,>=4.6.0->sentence-transformers>=0.4.1->bertopic) (3.0.9)\n",
            "Requirement already satisfied: numba>=0.49 in /usr/local/lib/python3.7/dist-packages (from umap-learn>=0.5.0->bertopic) (0.51.2)\n",
            "Collecting pynndescent>=0.5\n",
            "  Downloading pynndescent-0.5.7.tar.gz (1.1 MB)\n",
            "\u001b[K     |████████████████████████████████| 1.1 MB 9.5 MB/s \n",
            "\u001b[?25hRequirement already satisfied: setuptools in /usr/local/lib/python3.7/dist-packages (from numba>=0.49->umap-learn>=0.5.0->bertopic) (57.4.0)\n",
            "Requirement already satisfied: llvmlite<0.35,>=0.34.0.dev0 in /usr/local/lib/python3.7/dist-packages (from numba>=0.49->umap-learn>=0.5.0->bertopic) (0.34.0)\n",
            "Requirement already satisfied: zipp>=0.5 in /usr/local/lib/python3.7/dist-packages (from importlib-metadata->transformers<5.0.0,>=4.6.0->sentence-transformers>=0.4.1->bertopic) (3.8.0)\n",
            "Requirement already satisfied: chardet<4,>=3.0.2 in /usr/local/lib/python3.7/dist-packages (from requests->transformers<5.0.0,>=4.6.0->sentence-transformers>=0.4.1->bertopic) (3.0.4)\n",
            "Requirement already satisfied: urllib3!=1.25.0,!=1.25.1,<1.26,>=1.21.1 in /usr/local/lib/python3.7/dist-packages (from requests->transformers<5.0.0,>=4.6.0->sentence-transformers>=0.4.1->bertopic) (1.24.3)\n",
            "Requirement already satisfied: certifi>=2017.4.17 in /usr/local/lib/python3.7/dist-packages (from requests->transformers<5.0.0,>=4.6.0->sentence-transformers>=0.4.1->bertopic) (2022.5.18.1)\n",
            "Requirement already satisfied: idna<3,>=2.5 in /usr/local/lib/python3.7/dist-packages (from requests->transformers<5.0.0,>=4.6.0->sentence-transformers>=0.4.1->bertopic) (2.10)\n",
            "Requirement already satisfied: pillow!=8.3.*,>=5.3.0 in /usr/local/lib/python3.7/dist-packages (from torchvision->sentence-transformers>=0.4.1->bertopic) (7.1.2)\n",
            "Building wheels for collected packages: hdbscan, sentence-transformers, umap-learn, pynndescent\n",
            "  Building wheel for hdbscan (PEP 517) ... \u001b[?25l\u001b[?25hdone\n",
            "  Created wheel for hdbscan: filename=hdbscan-0.8.28-cp37-cp37m-linux_x86_64.whl size=2342205 sha256=5647468fe8bf14c9bdaf476517a2528ebacdb2b9ddeef2b939633ada39ec360a\n",
            "  Stored in directory: /root/.cache/pip/wheels/6e/7a/5e/259ccc841c085fc41b99ef4a71e896b62f5161f2bc8a14c97a\n",
            "  Building wheel for sentence-transformers (setup.py) ... \u001b[?25l\u001b[?25hdone\n",
            "  Created wheel for sentence-transformers: filename=sentence_transformers-2.2.0-py3-none-any.whl size=120747 sha256=df74d4de2e6a46c625eb8d811647863e748ccb414ecb9d8280f66bc3c2701da6\n",
            "  Stored in directory: /root/.cache/pip/wheels/83/c0/df/b6873ab7aac3f2465aa9144b6b4c41c4391cfecc027c8b07e7\n",
            "  Building wheel for umap-learn (setup.py) ... \u001b[?25l\u001b[?25hdone\n",
            "  Created wheel for umap-learn: filename=umap_learn-0.5.3-py3-none-any.whl size=82829 sha256=b9e13e15c98636397f2101bb024fdab74c7ef88b25e40bc8eacf1e7750a4d4b0\n",
            "  Stored in directory: /root/.cache/pip/wheels/b3/52/a5/1fd9e3e76a7ab34f134c07469cd6f16e27ef3a37aeff1fe821\n",
            "  Building wheel for pynndescent (setup.py) ... \u001b[?25l\u001b[?25hdone\n",
            "  Created wheel for pynndescent: filename=pynndescent-0.5.7-py3-none-any.whl size=54286 sha256=a565588fd84dcfe49c242d730d068781741be2a58de1ebe537bfdb64c96859a3\n",
            "  Stored in directory: /root/.cache/pip/wheels/7f/2a/f8/7bd5dcec71bd5c669f6f574db3113513696b98f3f9b51f496c\n",
            "Successfully built hdbscan sentence-transformers umap-learn pynndescent\n",
            "Installing collected packages: pyyaml, tokenizers, huggingface-hub, transformers, sentencepiece, pynndescent, umap-learn, sentence-transformers, hdbscan, bertopic\n",
            "  Attempting uninstall: pyyaml\n",
            "    Found existing installation: PyYAML 3.13\n",
            "    Uninstalling PyYAML-3.13:\n",
            "      Successfully uninstalled PyYAML-3.13\n",
            "Successfully installed bertopic-0.10.0 hdbscan-0.8.28 huggingface-hub-0.7.0 pynndescent-0.5.7 pyyaml-5.4.1 sentence-transformers-2.2.0 sentencepiece-0.1.96 tokenizers-0.12.1 transformers-4.19.2 umap-learn-0.5.3\n"
          ]
        }
      ],
      "source": [
        "!pip install --upgrade spacy\n",
        "!python -m spacy download en_core_web_lg\n",
        "!pip install -U kaleido\n",
        "!pip install bertopic\n",
        "# !python -m spacy download en_core_web_lg"
      ]
    },
    {
      "cell_type": "code",
      "source": [
        "# from top2vec import Top2Vec\n",
        "import pandas as pd\n",
        "import numpy as np\n",
        "import multiprocessing\n",
        "import time\n",
        "from google.colab import drive\n",
        "import os\n",
        "from bertopic import BERTopic\n",
        "from sentence_transformers import SentenceTransformer\n",
        "\n",
        "import re\n",
        "import string\n",
        "\n",
        "import nltk\n",
        "nltk.download('stopwords')\n",
        "import spacy\n",
        "\n",
        "from nltk.corpus import stopwords\n",
        "from nltk.tokenize import word_tokenize\n",
        "nltk.download('punkt')\n",
        "import kaleido\n",
        "nlp = spacy.load('en_core_web_lg')\n",
        "multiprocessing.cpu_count()"
      ],
      "metadata": {
        "id": "XNNNPo-sWl-W",
        "colab": {
          "base_uri": "https://localhost:8080/"
        },
        "outputId": "76f89b1f-342a-437a-cee9-a168966082ed"
      },
      "execution_count": 2,
      "outputs": [
        {
          "output_type": "stream",
          "name": "stdout",
          "text": [
            "[nltk_data] Downloading package stopwords to /root/nltk_data...\n",
            "[nltk_data]   Unzipping corpora/stopwords.zip.\n",
            "[nltk_data] Downloading package punkt to /root/nltk_data...\n",
            "[nltk_data]   Unzipping tokenizers/punkt.zip.\n"
          ]
        },
        {
          "output_type": "execute_result",
          "data": {
            "text/plain": [
              "2"
            ]
          },
          "metadata": {},
          "execution_count": 2
        }
      ]
    },
    {
      "cell_type": "markdown",
      "source": [
        "## helper functions"
      ],
      "metadata": {
        "id": "4AbiC8mxWsqK"
      }
    },
    {
      "cell_type": "code",
      "source": [
        "import joblib ###\n",
        "import os \n",
        "\n",
        "def create_path_if_not_exists(datapath):\n",
        "    '''Create the new file if not exists and save the data'''\n",
        "\n",
        "    if not os.path.exists(datapath):\n",
        "        os.makedirs(datapath) \n",
        "\n",
        "def remove_punct_df(df):\n",
        "\n",
        "  # remove punctuation\n",
        "  # text_col = [''.join(letter for letter in word if letter not in string.punctuation) for word in df]\n",
        "\n",
        "  filt_combined = []\n",
        "  for word in word_tokenize(df):\n",
        "\n",
        "    if word.lower() not in string.punctuation:\n",
        "      # print(word)\n",
        "      \n",
        "      filt_combined.append(word)\n",
        "  filtered_ip= \" \".join(filt_combined)\n",
        "\n",
        "  return filtered_ip\n",
        "\n",
        "def create_input_new(df):\n",
        "\n",
        "  # for title\n",
        "  indices = df['Title'].isna()\n",
        "  df.loc[indices,'Title'] = \"\"\n",
        "\n",
        "  # for abstract\n",
        "  indices = df['Abstract'].isna()\n",
        "  df.loc[indices,'Abstract'] = \"\"\n",
        "\n",
        "  # combined - title + abstract\n",
        "  df['Combined'] = df['Title'] + \" \" + df['Abstract']\n",
        "\n",
        "  # remove blanks\n",
        "  df = df[df['Combined']!=\" \"]\n",
        "\n",
        "  #keep only selected cols\n",
        "  df_sel = df[['Authors','Pub Year','Research Area','Combined',\"Pub TYpe\"]]\n",
        "  df_sel= df_sel.rename(columns={'Pub Year':'pub_year',\"Research Area\":\"research_area\",\"Authors\":\"authors\",\"Combined\":\"combined\",\"Pub TYpe\":\"pub_type\"})\n",
        "\n",
        "  combined = list(df_sel['combined'])\n",
        "\n",
        "  # remove patterns\n",
        "  pattern = r'<inf>|</inf>|<sup>|</sup>|inf|/inf'\n",
        "  comb_clean = []\n",
        "  for l in combined:\n",
        "    mod_string = re.sub(pattern, '', l )\n",
        "    comb_clean.append(mod_string)\n",
        "\n",
        "  # merge back to df\n",
        "  df_sel['combined'] = comb_clean\n",
        "\n",
        "  # filter spurtious yeats\n",
        "  df_sel = df_sel[df_sel['pub_year']!='12.0.1.2']\n",
        "\n",
        "  # convert years to int\n",
        "  # df_sel['pub_year'] = df_sel['pub_year'].astype(str)\n",
        "  df_sel['pub_year'] = df_sel['pub_year'].astype(str).replace('\\.0', '', regex=True).astype(int)\n",
        "  # if year is 201, that is mistyped fom 2001\n",
        "  df_sel[df_sel['pub_year']==201]['pub_year'] = 2001\n",
        "\n",
        "\n",
        "  return df_sel\n",
        "\n",
        "def lemma_spacy(df_combined):\n",
        "\n",
        "  filt_combined = []\n",
        "  for word in nlp(df_combined):\n",
        "    if word.lemma_ != '-PRON-' :\n",
        "      filt_combined.append(word.lemma_)\n",
        "\n",
        "  new_df = \" \".join(filt_combined)\n",
        "\n",
        "  return new_df  \n",
        "\n",
        "def remove_stop_df(df_combined):\n",
        "\n",
        "  # remove stopwords\n",
        "\n",
        "  new_df= []\n",
        "  filt_combined = []\n",
        "  for word in word_tokenize(df_combined):\n",
        "\n",
        "    if word.lower() not in stopwords.words('english'):\n",
        "      # print(word)\n",
        "      if word.lower() == \"perovskites\":\n",
        "        filt_combined.append(\"perovskite\")\n",
        "      else:\n",
        "        filt_combined.append(word)\n",
        "  filtered_ip= \" \".join(filt_combined)\n",
        "\n",
        "  return filtered_ip\n",
        "\n",
        "\n",
        "\n",
        "def flatten(t):\n",
        "    return [item for sublist in t for item in sublist]\n",
        "\n",
        "# extract authors from the input data for the given documents(rep_docs)\n",
        "def get_authors(input_data,rep_docs):\n",
        "  # print(\"***Entered this function***\")\n",
        "  tt = input_data['combined'].to_list()\n",
        "\n",
        "  auth_list= []\n",
        "  for d in rep_docs:\n",
        "    # print(d)\n",
        "    ind = tt.index(d)\n",
        "    # print(\"***reach here***\")\n",
        "    # print(\"**index**\",ind)\n",
        "    # print(input_data.authors)\n",
        "    auth_str = input_data.authors.to_list()[ind]\n",
        "    auth_el = auth_str.split(\" ,\")\n",
        "    auth_list.append(auth_el)\n",
        "\n",
        "  auth_list = flatten(auth_list)\n",
        "  if '' in auth_list:\n",
        "    auth_list.remove('')\n",
        "\n",
        "  # unduplicate repeating authors \n",
        "  # print(\"Length of List:\",len(auth_list))\n",
        "  # print(auth_list)\n",
        "\n",
        "\n",
        "  final_auth_list = list(set(auth_list))\n",
        "  if '' in final_auth_list:\n",
        "    final_auth_list.remove('')\n",
        "\n",
        "  # print(final_auth_list)\n",
        "  # print(\"Length of Final List:\",len(final_auth_list))\n",
        "\n",
        "  return final_auth_list\n",
        "\n",
        "# for all topics, get respective docs and then find respective authors  \n",
        "def author_all_topics(topics,input_data):\n",
        "\n",
        "  dict_df = {}\n",
        "\n",
        "  # get a dict of all documents for each doc \n",
        "  topic_docs = {topic: [] for topic in set(topics)}\n",
        "  for topic, doc in zip(topics, input_data['combined']):\n",
        "      topic_docs[topic].append(doc)\n",
        "\n",
        "  # print(\"-----Topic Doc------\",topic_docs)\n",
        "  # print(len(topic_docs))\n",
        "\n",
        "  for i in range(len(set(topics))-1):\n",
        "    # rep_docs = model.get_representative_docs(i)\n",
        "    # print(\"***Topic Number****\",i)\n",
        "    # print(topic_docs[i])\n",
        "    author_list = get_authors(input_data,topic_docs[i])\n",
        "    # print(\"---Author List---:\",author_list)\n",
        "\n",
        "    dict_df[i] = author_list\n",
        "\n",
        "  # create df with topics and authors\n",
        "  author_topics = pd.DataFrame(dict([ (k,pd.Series(v)) for k,v in dict_df.items() ]))\n",
        "\n",
        "  return author_topics,dict_df\n",
        "\n",
        "\n",
        "# find closest author to each doc by using each doc as a search term\n",
        "\n",
        "def closest_author_docs(relevant_docs):\n",
        "\n",
        "  auth_list = []\n",
        "\n",
        "  for doc in relevant_docs:\n",
        "    similar_topics, similarity = topic_model.find_topics(doc, top_n=5)\n",
        "    auth_list.append(dict_authors[similar_topics[0]])\n",
        "\n",
        "  final_auth_list = list(set(flatten(auth_list)))\n",
        "\n",
        "\n",
        "  return final_auth_list\n",
        "\n"
      ],
      "metadata": {
        "id": "WKEYleUdWu4Y"
      },
      "execution_count": 3,
      "outputs": []
    },
    {
      "cell_type": "markdown",
      "source": [
        "## path of files "
      ],
      "metadata": {
        "id": "Pom9Fj3nWxWY"
      }
    },
    {
      "cell_type": "code",
      "source": [
        "drive.mount('/content/drive')\n",
        "# read all files\n",
        "path = '/content/drive/MyDrive/NLP/ALS Spreadsheets/'\n",
        "files = os.listdir(path)\n",
        "files.sort()\n",
        "files\n",
        "# beamline 2.4 bad ..removed; also one more check which one\n",
        "# 3.2.1 bad"
      ],
      "metadata": {
        "colab": {
          "base_uri": "https://localhost:8080/"
        },
        "id": "fg_FCIh-Wz4A",
        "outputId": "84355aab-cfa3-4a02-d0fb-4ae8a58684f7"
      },
      "execution_count": 5,
      "outputs": [
        {
          "output_type": "stream",
          "name": "stdout",
          "text": [
            "Mounted at /content/drive\n"
          ]
        },
        {
          "output_type": "execute_result",
          "data": {
            "text/plain": [
              "['Beamline_1.4.xls',\n",
              " 'Beamline_10.0.1.xls',\n",
              " 'Beamline_10.3.1.xls',\n",
              " 'Beamline_10.3.2.xls',\n",
              " 'Beamline_11.0.1.xls',\n",
              " 'Beamline_11.0.2.xls',\n",
              " 'Beamline_11.3.1.xls',\n",
              " 'Beamline_11.3.2.xls',\n",
              " 'Beamline_12.0.1.1.xls',\n",
              " 'Beamline_12.0.1.2.xls',\n",
              " 'Beamline_12.0.1.4.xls',\n",
              " 'Beamline_12.0.2.xls',\n",
              " 'Beamline_12.2.1.xls',\n",
              " 'Beamline_12.2.2.xls',\n",
              " 'Beamline_12.3.1.xls',\n",
              " 'Beamline_12.3.2.xls',\n",
              " 'Beamline_2.1.xls',\n",
              " 'Beamline_3.1.1.xls',\n",
              " 'Beamline_3.3.2.xls',\n",
              " 'Beamline_4.0.2.xls',\n",
              " 'Beamline_4.0.3.1.xls',\n",
              " 'Beamline_4.0.3.2.xls',\n",
              " 'Beamline_4.2.2.xls',\n",
              " 'Beamline_5.0.1.xls',\n",
              " 'Beamline_5.0.2.xls',\n",
              " 'Beamline_5.0.3.xls',\n",
              " 'Beamline_5.3.1.xls',\n",
              " 'Beamline_5.3.2.1.xls',\n",
              " 'Beamline_5.3.2.2.xls',\n",
              " 'Beamline_5.4.xls',\n",
              " 'Beamline_6.0.1.xls',\n",
              " 'Beamline_6.0.2.xls',\n",
              " 'Beamline_6.1.2.xls',\n",
              " 'Beamline_6.3.1.xls',\n",
              " 'Beamline_6.3.2.xls',\n",
              " 'Beamline_7.0.1.xls',\n",
              " 'Beamline_7.0.2.xls',\n",
              " 'Beamline_7.3.1.xls',\n",
              " 'Beamline_7.3.3.xls',\n",
              " 'Beamline_8.0.1.xls',\n",
              " 'Beamline_8.2.1.xls',\n",
              " 'Beamline_8.2.2.xls',\n",
              " 'Beamline_8.3.1.xls',\n",
              " 'Beamline_8.3.2.xls',\n",
              " 'Beamline_9.0.xls',\n",
              " 'Beamline_9.3.1.xls',\n",
              " 'beamline_4.0.3.xls']"
            ]
          },
          "metadata": {},
          "execution_count": 5
        }
      ]
    },
    {
      "cell_type": "markdown",
      "source": [
        "## topic model"
      ],
      "metadata": {
        "id": "zEkbronsW3NF"
      }
    },
    {
      "cell_type": "code",
      "source": [
        "# which model to use - \"default\" [\"mini-LM-L6-v2\"] or \"specter\" \n",
        "model_use = \"default\"\n",
        "\n",
        "# which beamline?\n",
        "beamline = \"8.3.2\"\n",
        "\n",
        "# ngram range - (1,1); (2,2); (1,2)\n",
        "n_gram = (2,2)"
      ],
      "metadata": {
        "id": "LweRYa_UXVFy"
      },
      "execution_count": 12,
      "outputs": []
    },
    {
      "cell_type": "code",
      "source": [
        "#####\n",
        "\n",
        "start_time = time.time()\n",
        "iter_version = \"Topic_RecEngine/\" # name of folder \n",
        "\n",
        "base_path = '/content/drive/MyDrive/NLP/'\n",
        "\n",
        "# import csv of beamline\n",
        "beam_name = \"Beamline_\" + beamline + \".xls\"\n",
        "df = pd.read_table(path + beam_name, on_bad_lines='skip')\n",
        "\n",
        "\n",
        "# combine abstract and title\n",
        "input_data = create_input_new(df)\n",
        "\n",
        "# remove stopwords\n",
        "input_data['combined'] = input_data['combined'].apply(remove_stop_df)\n",
        "\n",
        "# lemmatize\n",
        "input_data['combined'] = input_data['combined'].apply(lemma_spacy)\n",
        "\n",
        "# remove punct\n",
        "input_data['combined'] = input_data['combined'].apply(remove_punct_df)\n",
        "\n",
        "# train topic model\n",
        "if model_use == \"specter\":\n",
        "  sentence_model = SentenceTransformer('allenai-specter')\n",
        "  topic_model = BERTopic(embedding_model=sentence_model,verbose=True,nr_topics = 'auto',n_gram_range=n_gram) \n",
        "else: \n",
        "  topic_model = BERTopic(verbose=True,nr_topics = 'auto',n_gram_range=n_gram) # uses default bertopic model - \"all-miniLM-L6_v2\"\n",
        "\n",
        "list_text = input_data['combined'].to_list()\n",
        "\n",
        "topics, probs = topic_model.fit_transform(list_text)\n",
        "\n",
        "# print('Topics:',topics)\n",
        "\n",
        "# create beamline folder in the given path to which model files will be saved \n",
        "model_path = base_path + iter_version + beam_name + \"/\"\n",
        "create_path_if_not_exists(model_path)\n",
        "\n",
        "# save topic model as pickle file\n",
        "file_path = model_path + \"model\" + beam_name + \".pkl\"\n",
        "joblib.dump(topic_model, file_path) \n",
        "\n",
        "# visualize barchart of topics\n",
        "fig = topic_model.visualize_barchart(top_n_topics = len(topic_model.topics))\n",
        "fig_name = model_path + \"bar_chart\" + beam_name  +\".html\"\n",
        "fig_name_png = model_path + \"bar_chart\" + beam_name  +\".png\"\n",
        "fig.write_html(fig_name)\n",
        "fig.write_image(fig_name_png)\n",
        "\n",
        "# save topics in excel file\n",
        "excel_name = model_path + \"Topic_Results.xlsx\"\n",
        "df_topics = pd.DataFrame(topic_model.topics)\n",
        "df_topics.to_excel(excel_name,sheet_name=\"topic_words\")\n",
        "\n",
        "## dynamic topic modeling - topics over time \n",
        "years = input_data['pub_year'].to_list() # save years from the dataframe\n",
        "topics_over_time = topic_model.topics_over_time(list_text, topics, years) # train dynamic topic model\n",
        "fig_time = topic_model.visualize_topics_over_time(topics_over_time, top_n_topics=20) # save figure\n",
        "fig_name_png = model_path + \"topic_time\" + beam_name  +\".png\"\n",
        "fig_time.write_image(fig_name_png) # static image \n",
        "fig_name_html = model_path + \"topic_time\" + beam_name  +\".html\"\n",
        "fig_time.write_html(fig_name_html) # interactive html image\n"
      ],
      "metadata": {
        "colab": {
          "base_uri": "https://localhost:8080/",
          "height": 136,
          "referenced_widgets": [
            "f8b6d8f0aa8f4e5d83070c41b03b0717",
            "6a472c08866d431b8b69f73fa856dbc0",
            "92cb5ae212fd41819296b45a038d71bb",
            "2a2ad85dbc3a43e2a34222b729171d6c",
            "6a17dfd87eb84f5f9e8730ba2690b1d1",
            "b428d3e36cda466dae5b9207a66ebcce",
            "239725f11e4640e9a5023be63bd0bbcc",
            "732b94e39f4446228005d47ff8f803ff",
            "59abc6bc858f4860b46c43dc4a39a6fe",
            "717adfea5150455bb2e38778cbeec29c",
            "752a287d766a4cd8a05023660c41dff5"
          ]
        },
        "id": "VNhJApo9fyJF",
        "outputId": "6c01b5eb-9839-4a27-86eb-17b94463b6e5"
      },
      "execution_count": 13,
      "outputs": [
        {
          "output_type": "display_data",
          "data": {
            "text/plain": [
              "Batches:   0%|          | 0/16 [00:00<?, ?it/s]"
            ],
            "application/vnd.jupyter.widget-view+json": {
              "version_major": 2,
              "version_minor": 0,
              "model_id": "f8b6d8f0aa8f4e5d83070c41b03b0717"
            }
          },
          "metadata": {}
        },
        {
          "output_type": "stream",
          "name": "stderr",
          "text": [
            "2022-06-02 05:34:59,406 - BERTopic - Transformed documents to Embeddings\n",
            "2022-06-02 05:35:03,427 - BERTopic - Reduced dimensionality\n",
            "2022-06-02 05:35:03,452 - BERTopic - Clustered reduced embeddings\n",
            "2022-06-02 05:35:03,909 - BERTopic - Reduced number of topics from 11 to 11\n",
            "19it [00:01, 14.35it/s]\n"
          ]
        }
      ]
    },
    {
      "cell_type": "code",
      "source": [
        "fig"
      ],
      "metadata": {
        "colab": {
          "base_uri": "https://localhost:8080/",
          "height": 767
        },
        "id": "dCO13LF5n9We",
        "outputId": "91a832f6-f2f3-440a-e3b4-4534eb4f357c"
      },
      "execution_count": 14,
      "outputs": [
        {
          "output_type": "display_data",
          "data": {
            "text/html": [
              "<html>\n",
              "<head><meta charset=\"utf-8\" /></head>\n",
              "<body>\n",
              "    <div>            <script src=\"https://cdnjs.cloudflare.com/ajax/libs/mathjax/2.7.5/MathJax.js?config=TeX-AMS-MML_SVG\"></script><script type=\"text/javascript\">if (window.MathJax) {MathJax.Hub.Config({SVG: {font: \"STIX-Web\"}});}</script>                <script type=\"text/javascript\">window.PlotlyConfig = {MathJaxConfig: 'local'};</script>\n",
              "        <script src=\"https://cdn.plot.ly/plotly-2.8.3.min.js\"></script>                <div id=\"4106bc04-882c-4682-9ba4-8828663ba1be\" class=\"plotly-graph-div\" style=\"height:750px; width:1000px;\"></div>            <script type=\"text/javascript\">                                    window.PLOTLYENV=window.PLOTLYENV || {};                                    if (document.getElementById(\"4106bc04-882c-4682-9ba4-8828663ba1be\")) {                    Plotly.newPlot(                        \"4106bc04-882c-4682-9ba4-8828663ba1be\",                        [{\"marker\":{\"color\":\"#D55E00\"},\"orientation\":\"h\",\"x\":[0.010848877343953045,0.013264512411229895,0.01484743775177573,0.015361085410303867,0.019882265749954033],\"y\":[\"reactive transport  \",\"porous medium  \",\"interfacial area  \",\"pore scale  \",\"surface area  \"],\"type\":\"bar\",\"xaxis\":\"x\",\"yaxis\":\"y\"},{\"marker\":{\"color\":\"#0072B2\"},\"orientation\":\"h\",\"x\":[0.01109180521555117,0.012185176076141507,0.012185176076141507,0.013820849222487535,0.017944573500833404],\"y\":[\"hydraulic conductivity  \",\"xylem embolism  \",\"embolism formation  \",\"drought induce  \",\"xylem network  \"],\"type\":\"bar\",\"xaxis\":\"x2\",\"yaxis\":\"y2\"},{\"marker\":{\"color\":\"#CC79A7\"},\"orientation\":\"h\",\"x\":[0.015790631063732595,0.016000669441594683,0.018105972640534346,0.02018591911228817,0.02657108406024587],\"y\":[\"material property  \",\"fracture toughness  \",\"human cortical  \",\"mechanical property  \",\"cortical bone  \"],\"type\":\"bar\",\"xaxis\":\"x3\",\"yaxis\":\"y3\"},{\"marker\":{\"color\":\"#E69F00\"},\"orientation\":\"h\",\"x\":[0.01742298688535459,0.018917689267316656,0.020160418311656617,0.02155915303019175,0.02385619701220448],\"y\":[\"synchrotron ray  \",\"micro tomography  \",\"ray micro  \",\"advanced light  \",\"light source  \"],\"type\":\"bar\",\"xaxis\":\"x4\",\"yaxis\":\"y4\"},{\"marker\":{\"color\":\"#56B4E9\"},\"orientation\":\"h\",\"x\":[0.017962797101645413,0.019279912935481792,0.020544616136478223,0.02224268156997064,0.03325370899411621],\"y\":[\"compute tomography  \",\"gas diffusion  \",\"liquid water  \",\"polymer electrolyte  \",\"fuel cell  \"],\"type\":\"bar\",\"xaxis\":\"x5\",\"yaxis\":\"y5\"},{\"marker\":{\"color\":\"#009E73\"},\"orientation\":\"h\",\"x\":[0.013081761963172843,0.013081761963172843,0.014289297098955761,0.014289297098955761,0.01547349987685063],\"y\":[\"mafic explosive  \",\"shallow conduit  \",\"number density  \",\"rapid ascent  \",\"explosive eruption  \"],\"type\":\"bar\",\"xaxis\":\"x6\",\"yaxis\":\"y6\"},{\"marker\":{\"color\":\"#F0E442\"},\"orientation\":\"h\",\"x\":[0.01756400246292715,0.017841792521453965,0.020321389215700994,0.020492722507567878,0.023605986164787165],\"y\":[\"fiber reorce  \",\"lattice structure  \",\"compute tomography  \",\"matrix composite  \",\"ceramic matrix  \"],\"type\":\"bar\",\"xaxis\":\"x7\",\"yaxis\":\"y7\"},{\"marker\":{\"color\":\"#D55E00\"},\"orientation\":\"h\",\"x\":[0.027523154528298344,0.02808083251521225,0.030401184117836363,0.03179007748737491,0.04571980048844394],\"y\":[\"solid state  \",\"copolymer electrolyte  \",\"current density  \",\"block copolymer  \",\"lithium metal  \"],\"type\":\"bar\",\"xaxis\":\"x8\",\"yaxis\":\"y8\"},{\"marker\":{\"color\":\"#0072B2\"},\"orientation\":\"h\",\"x\":[0.011511273221297543,0.014744775671124422,0.014744775671124422,0.02084151224172576,0.02658244072273846],\"y\":[\"zoobankorg urn  \",\"calcareous ring  \",\"connective tissue  \",\"power amplify  \",\"cheliceral muscle  \"],\"type\":\"bar\",\"xaxis\":\"x9\",\"yaxis\":\"y9\"},{\"marker\":{\"color\":\"#CC79A7\"},\"orientation\":\"h\",\"x\":[0.036979722574320105,0.036979722574320105,0.043596980088682756,0.044868943228863874,0.04736728103455653],\"y\":[\"polymeric substance  \",\"eps mucilage  \",\"water flow  \",\"hydraulic conductivity  \",\"root induce  \"],\"type\":\"bar\",\"xaxis\":\"x10\",\"yaxis\":\"y10\"}],                        {\"template\":{\"data\":{\"barpolar\":[{\"marker\":{\"line\":{\"color\":\"white\",\"width\":0.5},\"pattern\":{\"fillmode\":\"overlay\",\"size\":10,\"solidity\":0.2}},\"type\":\"barpolar\"}],\"bar\":[{\"error_x\":{\"color\":\"#2a3f5f\"},\"error_y\":{\"color\":\"#2a3f5f\"},\"marker\":{\"line\":{\"color\":\"white\",\"width\":0.5},\"pattern\":{\"fillmode\":\"overlay\",\"size\":10,\"solidity\":0.2}},\"type\":\"bar\"}],\"carpet\":[{\"aaxis\":{\"endlinecolor\":\"#2a3f5f\",\"gridcolor\":\"#C8D4E3\",\"linecolor\":\"#C8D4E3\",\"minorgridcolor\":\"#C8D4E3\",\"startlinecolor\":\"#2a3f5f\"},\"baxis\":{\"endlinecolor\":\"#2a3f5f\",\"gridcolor\":\"#C8D4E3\",\"linecolor\":\"#C8D4E3\",\"minorgridcolor\":\"#C8D4E3\",\"startlinecolor\":\"#2a3f5f\"},\"type\":\"carpet\"}],\"choropleth\":[{\"colorbar\":{\"outlinewidth\":0,\"ticks\":\"\"},\"type\":\"choropleth\"}],\"contourcarpet\":[{\"colorbar\":{\"outlinewidth\":0,\"ticks\":\"\"},\"type\":\"contourcarpet\"}],\"contour\":[{\"colorbar\":{\"outlinewidth\":0,\"ticks\":\"\"},\"colorscale\":[[0.0,\"#0d0887\"],[0.1111111111111111,\"#46039f\"],[0.2222222222222222,\"#7201a8\"],[0.3333333333333333,\"#9c179e\"],[0.4444444444444444,\"#bd3786\"],[0.5555555555555556,\"#d8576b\"],[0.6666666666666666,\"#ed7953\"],[0.7777777777777778,\"#fb9f3a\"],[0.8888888888888888,\"#fdca26\"],[1.0,\"#f0f921\"]],\"type\":\"contour\"}],\"heatmapgl\":[{\"colorbar\":{\"outlinewidth\":0,\"ticks\":\"\"},\"colorscale\":[[0.0,\"#0d0887\"],[0.1111111111111111,\"#46039f\"],[0.2222222222222222,\"#7201a8\"],[0.3333333333333333,\"#9c179e\"],[0.4444444444444444,\"#bd3786\"],[0.5555555555555556,\"#d8576b\"],[0.6666666666666666,\"#ed7953\"],[0.7777777777777778,\"#fb9f3a\"],[0.8888888888888888,\"#fdca26\"],[1.0,\"#f0f921\"]],\"type\":\"heatmapgl\"}],\"heatmap\":[{\"colorbar\":{\"outlinewidth\":0,\"ticks\":\"\"},\"colorscale\":[[0.0,\"#0d0887\"],[0.1111111111111111,\"#46039f\"],[0.2222222222222222,\"#7201a8\"],[0.3333333333333333,\"#9c179e\"],[0.4444444444444444,\"#bd3786\"],[0.5555555555555556,\"#d8576b\"],[0.6666666666666666,\"#ed7953\"],[0.7777777777777778,\"#fb9f3a\"],[0.8888888888888888,\"#fdca26\"],[1.0,\"#f0f921\"]],\"type\":\"heatmap\"}],\"histogram2dcontour\":[{\"colorbar\":{\"outlinewidth\":0,\"ticks\":\"\"},\"colorscale\":[[0.0,\"#0d0887\"],[0.1111111111111111,\"#46039f\"],[0.2222222222222222,\"#7201a8\"],[0.3333333333333333,\"#9c179e\"],[0.4444444444444444,\"#bd3786\"],[0.5555555555555556,\"#d8576b\"],[0.6666666666666666,\"#ed7953\"],[0.7777777777777778,\"#fb9f3a\"],[0.8888888888888888,\"#fdca26\"],[1.0,\"#f0f921\"]],\"type\":\"histogram2dcontour\"}],\"histogram2d\":[{\"colorbar\":{\"outlinewidth\":0,\"ticks\":\"\"},\"colorscale\":[[0.0,\"#0d0887\"],[0.1111111111111111,\"#46039f\"],[0.2222222222222222,\"#7201a8\"],[0.3333333333333333,\"#9c179e\"],[0.4444444444444444,\"#bd3786\"],[0.5555555555555556,\"#d8576b\"],[0.6666666666666666,\"#ed7953\"],[0.7777777777777778,\"#fb9f3a\"],[0.8888888888888888,\"#fdca26\"],[1.0,\"#f0f921\"]],\"type\":\"histogram2d\"}],\"histogram\":[{\"marker\":{\"pattern\":{\"fillmode\":\"overlay\",\"size\":10,\"solidity\":0.2}},\"type\":\"histogram\"}],\"mesh3d\":[{\"colorbar\":{\"outlinewidth\":0,\"ticks\":\"\"},\"type\":\"mesh3d\"}],\"parcoords\":[{\"line\":{\"colorbar\":{\"outlinewidth\":0,\"ticks\":\"\"}},\"type\":\"parcoords\"}],\"pie\":[{\"automargin\":true,\"type\":\"pie\"}],\"scatter3d\":[{\"line\":{\"colorbar\":{\"outlinewidth\":0,\"ticks\":\"\"}},\"marker\":{\"colorbar\":{\"outlinewidth\":0,\"ticks\":\"\"}},\"type\":\"scatter3d\"}],\"scattercarpet\":[{\"marker\":{\"colorbar\":{\"outlinewidth\":0,\"ticks\":\"\"}},\"type\":\"scattercarpet\"}],\"scattergeo\":[{\"marker\":{\"colorbar\":{\"outlinewidth\":0,\"ticks\":\"\"}},\"type\":\"scattergeo\"}],\"scattergl\":[{\"marker\":{\"colorbar\":{\"outlinewidth\":0,\"ticks\":\"\"}},\"type\":\"scattergl\"}],\"scattermapbox\":[{\"marker\":{\"colorbar\":{\"outlinewidth\":0,\"ticks\":\"\"}},\"type\":\"scattermapbox\"}],\"scatterpolargl\":[{\"marker\":{\"colorbar\":{\"outlinewidth\":0,\"ticks\":\"\"}},\"type\":\"scatterpolargl\"}],\"scatterpolar\":[{\"marker\":{\"colorbar\":{\"outlinewidth\":0,\"ticks\":\"\"}},\"type\":\"scatterpolar\"}],\"scatter\":[{\"marker\":{\"colorbar\":{\"outlinewidth\":0,\"ticks\":\"\"}},\"type\":\"scatter\"}],\"scatterternary\":[{\"marker\":{\"colorbar\":{\"outlinewidth\":0,\"ticks\":\"\"}},\"type\":\"scatterternary\"}],\"surface\":[{\"colorbar\":{\"outlinewidth\":0,\"ticks\":\"\"},\"colorscale\":[[0.0,\"#0d0887\"],[0.1111111111111111,\"#46039f\"],[0.2222222222222222,\"#7201a8\"],[0.3333333333333333,\"#9c179e\"],[0.4444444444444444,\"#bd3786\"],[0.5555555555555556,\"#d8576b\"],[0.6666666666666666,\"#ed7953\"],[0.7777777777777778,\"#fb9f3a\"],[0.8888888888888888,\"#fdca26\"],[1.0,\"#f0f921\"]],\"type\":\"surface\"}],\"table\":[{\"cells\":{\"fill\":{\"color\":\"#EBF0F8\"},\"line\":{\"color\":\"white\"}},\"header\":{\"fill\":{\"color\":\"#C8D4E3\"},\"line\":{\"color\":\"white\"}},\"type\":\"table\"}]},\"layout\":{\"annotationdefaults\":{\"arrowcolor\":\"#2a3f5f\",\"arrowhead\":0,\"arrowwidth\":1},\"autotypenumbers\":\"strict\",\"coloraxis\":{\"colorbar\":{\"outlinewidth\":0,\"ticks\":\"\"}},\"colorscale\":{\"diverging\":[[0,\"#8e0152\"],[0.1,\"#c51b7d\"],[0.2,\"#de77ae\"],[0.3,\"#f1b6da\"],[0.4,\"#fde0ef\"],[0.5,\"#f7f7f7\"],[0.6,\"#e6f5d0\"],[0.7,\"#b8e186\"],[0.8,\"#7fbc41\"],[0.9,\"#4d9221\"],[1,\"#276419\"]],\"sequential\":[[0.0,\"#0d0887\"],[0.1111111111111111,\"#46039f\"],[0.2222222222222222,\"#7201a8\"],[0.3333333333333333,\"#9c179e\"],[0.4444444444444444,\"#bd3786\"],[0.5555555555555556,\"#d8576b\"],[0.6666666666666666,\"#ed7953\"],[0.7777777777777778,\"#fb9f3a\"],[0.8888888888888888,\"#fdca26\"],[1.0,\"#f0f921\"]],\"sequentialminus\":[[0.0,\"#0d0887\"],[0.1111111111111111,\"#46039f\"],[0.2222222222222222,\"#7201a8\"],[0.3333333333333333,\"#9c179e\"],[0.4444444444444444,\"#bd3786\"],[0.5555555555555556,\"#d8576b\"],[0.6666666666666666,\"#ed7953\"],[0.7777777777777778,\"#fb9f3a\"],[0.8888888888888888,\"#fdca26\"],[1.0,\"#f0f921\"]]},\"colorway\":[\"#636efa\",\"#EF553B\",\"#00cc96\",\"#ab63fa\",\"#FFA15A\",\"#19d3f3\",\"#FF6692\",\"#B6E880\",\"#FF97FF\",\"#FECB52\"],\"font\":{\"color\":\"#2a3f5f\"},\"geo\":{\"bgcolor\":\"white\",\"lakecolor\":\"white\",\"landcolor\":\"white\",\"showlakes\":true,\"showland\":true,\"subunitcolor\":\"#C8D4E3\"},\"hoverlabel\":{\"align\":\"left\"},\"hovermode\":\"closest\",\"mapbox\":{\"style\":\"light\"},\"paper_bgcolor\":\"white\",\"plot_bgcolor\":\"white\",\"polar\":{\"angularaxis\":{\"gridcolor\":\"#EBF0F8\",\"linecolor\":\"#EBF0F8\",\"ticks\":\"\"},\"bgcolor\":\"white\",\"radialaxis\":{\"gridcolor\":\"#EBF0F8\",\"linecolor\":\"#EBF0F8\",\"ticks\":\"\"}},\"scene\":{\"xaxis\":{\"backgroundcolor\":\"white\",\"gridcolor\":\"#DFE8F3\",\"gridwidth\":2,\"linecolor\":\"#EBF0F8\",\"showbackground\":true,\"ticks\":\"\",\"zerolinecolor\":\"#EBF0F8\"},\"yaxis\":{\"backgroundcolor\":\"white\",\"gridcolor\":\"#DFE8F3\",\"gridwidth\":2,\"linecolor\":\"#EBF0F8\",\"showbackground\":true,\"ticks\":\"\",\"zerolinecolor\":\"#EBF0F8\"},\"zaxis\":{\"backgroundcolor\":\"white\",\"gridcolor\":\"#DFE8F3\",\"gridwidth\":2,\"linecolor\":\"#EBF0F8\",\"showbackground\":true,\"ticks\":\"\",\"zerolinecolor\":\"#EBF0F8\"}},\"shapedefaults\":{\"line\":{\"color\":\"#2a3f5f\"}},\"ternary\":{\"aaxis\":{\"gridcolor\":\"#DFE8F3\",\"linecolor\":\"#A2B1C6\",\"ticks\":\"\"},\"baxis\":{\"gridcolor\":\"#DFE8F3\",\"linecolor\":\"#A2B1C6\",\"ticks\":\"\"},\"bgcolor\":\"white\",\"caxis\":{\"gridcolor\":\"#DFE8F3\",\"linecolor\":\"#A2B1C6\",\"ticks\":\"\"}},\"title\":{\"x\":0.05},\"xaxis\":{\"automargin\":true,\"gridcolor\":\"#EBF0F8\",\"linecolor\":\"#EBF0F8\",\"ticks\":\"\",\"title\":{\"standoff\":15},\"zerolinecolor\":\"#EBF0F8\",\"zerolinewidth\":2},\"yaxis\":{\"automargin\":true,\"gridcolor\":\"#EBF0F8\",\"linecolor\":\"#EBF0F8\",\"ticks\":\"\",\"title\":{\"standoff\":15},\"zerolinecolor\":\"#EBF0F8\",\"zerolinewidth\":2}}},\"xaxis\":{\"anchor\":\"y\",\"domain\":[0.0,0.175],\"showgrid\":true},\"yaxis\":{\"anchor\":\"x\",\"domain\":[0.7555555555555555,1.0],\"showgrid\":true},\"xaxis2\":{\"anchor\":\"y2\",\"domain\":[0.275,0.45],\"showgrid\":true},\"yaxis2\":{\"anchor\":\"x2\",\"domain\":[0.7555555555555555,1.0],\"showgrid\":true},\"xaxis3\":{\"anchor\":\"y3\",\"domain\":[0.55,0.7250000000000001],\"showgrid\":true},\"yaxis3\":{\"anchor\":\"x3\",\"domain\":[0.7555555555555555,1.0],\"showgrid\":true},\"xaxis4\":{\"anchor\":\"y4\",\"domain\":[0.825,1.0],\"showgrid\":true},\"yaxis4\":{\"anchor\":\"x4\",\"domain\":[0.7555555555555555,1.0],\"showgrid\":true},\"xaxis5\":{\"anchor\":\"y5\",\"domain\":[0.0,0.175],\"showgrid\":true},\"yaxis5\":{\"anchor\":\"x5\",\"domain\":[0.37777777777777777,0.6222222222222222],\"showgrid\":true},\"xaxis6\":{\"anchor\":\"y6\",\"domain\":[0.275,0.45],\"showgrid\":true},\"yaxis6\":{\"anchor\":\"x6\",\"domain\":[0.37777777777777777,0.6222222222222222],\"showgrid\":true},\"xaxis7\":{\"anchor\":\"y7\",\"domain\":[0.55,0.7250000000000001],\"showgrid\":true},\"yaxis7\":{\"anchor\":\"x7\",\"domain\":[0.37777777777777777,0.6222222222222222],\"showgrid\":true},\"xaxis8\":{\"anchor\":\"y8\",\"domain\":[0.825,1.0],\"showgrid\":true},\"yaxis8\":{\"anchor\":\"x8\",\"domain\":[0.37777777777777777,0.6222222222222222],\"showgrid\":true},\"xaxis9\":{\"anchor\":\"y9\",\"domain\":[0.0,0.175],\"showgrid\":true},\"yaxis9\":{\"anchor\":\"x9\",\"domain\":[0.0,0.24444444444444446],\"showgrid\":true},\"xaxis10\":{\"anchor\":\"y10\",\"domain\":[0.275,0.45],\"showgrid\":true},\"yaxis10\":{\"anchor\":\"x10\",\"domain\":[0.0,0.24444444444444446],\"showgrid\":true},\"xaxis11\":{\"anchor\":\"y11\",\"domain\":[0.55,0.7250000000000001],\"showgrid\":true},\"yaxis11\":{\"anchor\":\"x11\",\"domain\":[0.0,0.24444444444444446],\"showgrid\":true},\"xaxis12\":{\"anchor\":\"y12\",\"domain\":[0.825,1.0],\"showgrid\":true},\"yaxis12\":{\"anchor\":\"x12\",\"domain\":[0.0,0.24444444444444446],\"showgrid\":true},\"annotations\":[{\"font\":{\"size\":16},\"showarrow\":false,\"text\":\"Topic 0\",\"x\":0.0875,\"xanchor\":\"center\",\"xref\":\"paper\",\"y\":1.0,\"yanchor\":\"bottom\",\"yref\":\"paper\"},{\"font\":{\"size\":16},\"showarrow\":false,\"text\":\"Topic 1\",\"x\":0.36250000000000004,\"xanchor\":\"center\",\"xref\":\"paper\",\"y\":1.0,\"yanchor\":\"bottom\",\"yref\":\"paper\"},{\"font\":{\"size\":16},\"showarrow\":false,\"text\":\"Topic 2\",\"x\":0.6375000000000001,\"xanchor\":\"center\",\"xref\":\"paper\",\"y\":1.0,\"yanchor\":\"bottom\",\"yref\":\"paper\"},{\"font\":{\"size\":16},\"showarrow\":false,\"text\":\"Topic 3\",\"x\":0.9125,\"xanchor\":\"center\",\"xref\":\"paper\",\"y\":1.0,\"yanchor\":\"bottom\",\"yref\":\"paper\"},{\"font\":{\"size\":16},\"showarrow\":false,\"text\":\"Topic 4\",\"x\":0.0875,\"xanchor\":\"center\",\"xref\":\"paper\",\"y\":0.6222222222222222,\"yanchor\":\"bottom\",\"yref\":\"paper\"},{\"font\":{\"size\":16},\"showarrow\":false,\"text\":\"Topic 5\",\"x\":0.36250000000000004,\"xanchor\":\"center\",\"xref\":\"paper\",\"y\":0.6222222222222222,\"yanchor\":\"bottom\",\"yref\":\"paper\"},{\"font\":{\"size\":16},\"showarrow\":false,\"text\":\"Topic 6\",\"x\":0.6375000000000001,\"xanchor\":\"center\",\"xref\":\"paper\",\"y\":0.6222222222222222,\"yanchor\":\"bottom\",\"yref\":\"paper\"},{\"font\":{\"size\":16},\"showarrow\":false,\"text\":\"Topic 7\",\"x\":0.9125,\"xanchor\":\"center\",\"xref\":\"paper\",\"y\":0.6222222222222222,\"yanchor\":\"bottom\",\"yref\":\"paper\"},{\"font\":{\"size\":16},\"showarrow\":false,\"text\":\"Topic 8\",\"x\":0.0875,\"xanchor\":\"center\",\"xref\":\"paper\",\"y\":0.24444444444444446,\"yanchor\":\"bottom\",\"yref\":\"paper\"},{\"font\":{\"size\":16},\"showarrow\":false,\"text\":\"Topic 9\",\"x\":0.36250000000000004,\"xanchor\":\"center\",\"xref\":\"paper\",\"y\":0.24444444444444446,\"yanchor\":\"bottom\",\"yref\":\"paper\"}],\"title\":{\"font\":{\"size\":22,\"color\":\"Black\"},\"text\":\"<b>Topic Word Scores\",\"x\":0.5,\"xanchor\":\"center\",\"yanchor\":\"top\"},\"hoverlabel\":{\"font\":{\"size\":16,\"family\":\"Rockwell\"},\"bgcolor\":\"white\"},\"showlegend\":false,\"width\":1000,\"height\":750},                        {\"responsive\": true}                    ).then(function(){\n",
              "                            \n",
              "var gd = document.getElementById('4106bc04-882c-4682-9ba4-8828663ba1be');\n",
              "var x = new MutationObserver(function (mutations, observer) {{\n",
              "        var display = window.getComputedStyle(gd).display;\n",
              "        if (!display || display === 'none') {{\n",
              "            console.log([gd, 'removed!']);\n",
              "            Plotly.purge(gd);\n",
              "            observer.disconnect();\n",
              "        }}\n",
              "}});\n",
              "\n",
              "// Listen for the removal of the full notebook cells\n",
              "var notebookContainer = gd.closest('#notebook-container');\n",
              "if (notebookContainer) {{\n",
              "    x.observe(notebookContainer, {childList: true});\n",
              "}}\n",
              "\n",
              "// Listen for the clearing of the current output cell\n",
              "var outputEl = gd.closest('.output');\n",
              "if (outputEl) {{\n",
              "    x.observe(outputEl, {childList: true});\n",
              "}}\n",
              "\n",
              "                        })                };                            </script>        </div>\n",
              "</body>\n",
              "</html>"
            ]
          },
          "metadata": {}
        }
      ]
    },
    {
      "cell_type": "markdown",
      "source": [
        "## Rec Engine"
      ],
      "metadata": {
        "id": "5Nm1F97rIdu4"
      }
    },
    {
      "cell_type": "code",
      "source": [
        "similar_topics[0]"
      ],
      "metadata": {
        "id": "eRHd5O7AJ4ud",
        "outputId": "d2a8f72e-a0fc-489d-c9ec-705e8ab7df84",
        "colab": {
          "base_uri": "https://localhost:8080/"
        }
      },
      "execution_count": 60,
      "outputs": [
        {
          "output_type": "execute_result",
          "data": {
            "text/plain": [
              "7"
            ]
          },
          "metadata": {},
          "execution_count": 60
        }
      ]
    },
    {
      "cell_type": "code",
      "source": [
        "topic_model.topic_names[9]"
      ],
      "metadata": {
        "id": "NQ2cbvF1J1H0",
        "outputId": "fe417079-8d0e-40ca-fe4b-f582247edc19",
        "colab": {
          "base_uri": "https://localhost:8080/",
          "height": 35
        }
      },
      "execution_count": 59,
      "outputs": [
        {
          "output_type": "execute_result",
          "data": {
            "text/plain": [
              "'9_root induce_hydraulic conductivity_water flow_eps mucilage'"
            ],
            "application/vnd.google.colaboratory.intrinsic+json": {
              "type": "string"
            }
          },
          "metadata": {},
          "execution_count": 59
        }
      ]
    },
    {
      "cell_type": "code",
      "source": [
        "\n",
        "###--------- for a given search term, find closest authors, documents-----------###\n",
        "search_term = input(\"Find authors and documents related to the term : \")\n",
        "\n",
        "\n",
        "# generating authors for each topic \n",
        "df_authors, dict_authors = author_all_topics(topics,input_data)\n",
        "# save df with authors \n",
        "excel_name = model_path + \"Author_Topics.xlsx\"\n",
        "df_authors.to_excel(excel_name,sheet_name=\"authors_topics\")\n",
        "\n",
        "# find most similar topics\n",
        "similar_topics, similarity = topic_model.find_topics(search_term, top_n=5)\n",
        "\n",
        "# print closest topic\n",
        "print(\"The closest topic is topic number {}: {}\".format(similar_topics[0],topic_model.topic_names[similar_topics[0]]))\n",
        "\n",
        "# find all authors in the most similar topic\n",
        "print(\"Authors are:\")\n",
        "author_similar = dict_authors[similar_topics[0]]\n",
        "print(author_similar)\n",
        "\n",
        "# get 3 rep docs related to a particular search term \n",
        "rep_docs = topic_model.get_representative_docs(similar_topics[0])\n",
        "print(\"Three Closest documents are:\")\n",
        "print(rep_docs)\n",
        "\n",
        "# get all docs related to that topic \n",
        "docs_topics = pd.DataFrame(topics, list_text).reset_index().rename(columns = {'index':'Document', 0:'Topic_Number'})\n",
        "\n",
        "# filter for the most similar topic\n",
        "docs_similar = docs_topics[docs_topics['Topic_Number']==similar_topics[0]]['Document']\n",
        "\n",
        "print(\"There are {} documents in this topic. They are:\".format(len(docs_similar)))\n",
        "docs_similar\n"
      ],
      "metadata": {
        "colab": {
          "base_uri": "https://localhost:8080/"
        },
        "id": "SJOvy6d3W8Rk",
        "outputId": "b8586f73-824e-4ec9-f183-3b1143dabe6e"
      },
      "execution_count": 65,
      "outputs": [
        {
          "output_type": "stream",
          "name": "stdout",
          "text": [
            "Find authors and documents related to the term : battery\n",
            "The closest topic is topic number 7: 7_lithium metal_block copolymer_current density_copolymer electrolyte\n",
            "Authors are:\n",
            "['Sulas, D.B.', 'Cheng, Lei', 'Platt, H.S.', 'Al-Jassim, M.M.', 'Ho, A.', 'Maslyn, Jacqueline', 'Yuca, N.', 'Frenck, Louise', 'Srinivasan, V.', 'Bird, O.F.', 'Renner, Peter', 'Wu, S.-L.', 'Parkinson, Dilworth Y.,McCloskey, Bryan', 'Sahu, S.', 'Parkinson, Dilworth Y.,Kundu, Shankhamala', 'Trask, S.E.', 'Chen, Yinlin', 'Meckler, S.M.', 'Jiang, X.', 'Ling, M.', 'Barai, P.', 'Yi, Eongyu', 'Mueller, K.T.', 'MacDowell, Alastair A.,Balsara, Nitash P.,', 'Amores, M.', 'Kim, J.', 'Tong, W.', 'Parkinson, Dilworth Y.,Liang, Hong', 'Pratt, R.C.', 'Müller, A.', 'Andrykowski, R.', 'Robbins, S.', 'Pylypenko, S.', 'Chen, Kelly', 'Doeff, Marca', 'Frenck, L.', 'Kim, H.W.', 'Marwaha, N.', 'Harry, Katherine', 'Baskin, A.', 'Heywood, S.', 'McEntush, Kyle', 'Zhang, Bixia', 'Viswanathan, V.', 'Teat, S.J.', 'Sankar, S.', 'Sung, Yung-Eun', 'Ells, A.W.', 'Seitzman, N.', 'Parkinson, D.Y.', 'Jansen, A.N.', 'Venturi, V.', 'Sofie, S.W.', 'Devaux, Didier H,Harry, Katherine', 'Mehta, S.', 'Schauser, N.S.', 'Higa, Kenneth', 'Battaglia, Vincent Santo,Parkinson, Dilworth Y.,Srinivasan, Venkat', 'Parkinson, Dilworth Y.,Balsara, Nitash P.,', 'Maslyn, J.A.', 'Finegan, D.P.', 'Devaux, Didier H,Wang, Xinru', 'Parkinson, Dilworth Y.,Minor, A.M.', 'Shen, Hao', 'Ma, Le', 'Song, J.', 'Cairns, Elton J.,', 'Srinivasan, Venkat', 'Parkinson, Dilworth Y.,Chen, Guangxu', 'Westmore, Tim', 'Pylypenko, Svitlana M,', 'Oh, H.J.', 'Liao, Xiaxia', 'Alvarado, Judith', 'Harry, K.J.', 'Jha, Swarn', 'Battaglia, V.', 'Loo, W.S.', 'Liu, Gang', 'Baird, M.A.', 'McEntush, K.D.', 'Prendergast, D.', 'Parkinson, Dilworth Y.,Yuan, Rodger', 'Sofie, S.', 'Liang, Hong', 'Eitouni, H.B.', 'Elwany, A.', 'Ahmad, Z.', 'Tamura, Nobumichi', 'Han, K.S.', 'Yang, Qin', 'Veeraraghavan, V.D.', 'Al-Jassim, M.', 'Balsara, N.P.', 'Parkinson, Dilworth Y.,MacDowell, Alastair A.,Balsara, Nitash P.,', 'Parkinson, Dilworth Y.,Watanabe, H.', 'Hwa, Yoon', 'Guthrey, H.', 'Zhao, Hongyu', 'Balsara, Nitash P.,', 'Villaluenga, I.', 'Carrington, M.E.', 'Ferreira, S.', 'Helms, B.A.', 'Kou, J.', 'Wang, Fan', 'Minor, A.M.', 'Ho, A.S.', 'Nuval, A.a.', 'Parkinson, Dilworth Y.,Doeff, Marca', 'Fu, C.', 'Thelen, Jacob L.,Parkinson, Dilworth Y.,Cabana, Jordi', 'Baran, M.J.', 'Chang, Y.H.', 'Parkinson, Dilworth Y.,Fu, Yang', 'Devaux, D.', 'Seitzman, Natalie', 'Hallinan, D.T.']\n",
            "Three Closest documents are:\n",
            "['Failure Mode Lithium Metal battery block Copolymer Electrolyte analyze x ray Microtomography Solid block polymer electrolyte promise candidate development high energy density rechargeable lithium metal base battery solid state battery comprise lithiummetal negative electrode lithium iron phosphate lifepo lt gt 4 lt gt composite positive electrode assemble polystyrene b poly ethylene oxide seo copolymer dope lithium salt use electrolyte cycling battery reason capacity fade failure determine imaging battery use synchrotron hard x ray microtomography experiment reveal partial delamination lithium foil block copolymer electrolyte layer void volume foil electrolyte layer obtain 40 90 cycle comparable volume change battery one cycle simple model account effect delamination current density battery present capacity fade battery failure observe experiment consistent model evidence lithium dendrite formation find contrast cycle lithium lithium symmetric cell polymer electrolyte current density fail due dendrite formation evidence delamination find cell', 'lithium Dendrite Growth Glassy Rubbery Nanostructured Block Copolymer Electrolytes enable use lithium metal anode critical step require dramatically increase energy density rechargeable battery however dendrite growth lithium metal battery lack fundamental understanding factor govern growth limit factor prevent adoption herein present effect battery cycling temperature range 90 120 ° c dendrite growth polystyrene block poly ethylene oxide -based electrolyte temperature range encompass glass transition temperature polystyrene 107 ° c slight increase cycling temperature symmetric lithium polymer lithium cell 90 105 ° c result factor five decrease amount charge pass short circuit synchrotron hard x ray microtomography experiment reveal shift dendrite location primarily within lithium electrode 90 ° c primarily within electrolyte 105 ° c rheological measurement show large change mechanical property temperature window time temperature superposition use interpret rheological datum Dendrite growth characteristic cell lifetime correlate temperature dependent shift factor use time temperature superposition work represent step toward understand factor govern lithium dendrite growth viscoelastic electrolyte', 'toward all solid State Lithium Batteries three dimensional visualization Lithium Migration β Li d3 PS d4 Ceramic Electrolyte all solid lithium battery attractive next generation technology use ion conduct solid β Li3PS4 LPS enable use lithium metal anode increase theoretical capacity widen stable voltage window traditional lithium ion system ion conductive solid also provide increase safety replace flammable liquid electrolyte although solid state electrolyte significantly stable dendrite resistant traditional liquid electrolyte lithium anode all solid system may nevertheless grow dendrite high stress repeat cycling lead short circuit premature battery breakdown reason study formation propagation Li metal feature within solid electrolyte use synchrotron base x ray tomography in situ current voltage cycling support custom sample platform result demonstrate ability technique delineate different layer Li LPS Li structure spatial resolution approach 1 μm resolution able detect expansion void especially early stage cycle expansion void observe throughout volume symmetric cell visually resemble propagation crack result interaction Li metal pre existing void LPS electrolyte']\n",
            "There are 34 documents in this topic. They are:\n"
          ]
        },
        {
          "output_type": "execute_result",
          "data": {
            "text/plain": [
              "28     3D Detection Lithiation Lithium Plating Graphi...\n",
              "139    detection subsurface structure underneath dend...\n",
              "142    compare Macroscale Microscale Simulations Poro...\n",
              "155    lithium Dendrite Growth Glassy Rubbery Nanostr...\n",
              "200    Failure Mode Lithium Metal battery block Copol...\n",
              "201    failure Analysis Batteries use Synchrotron bas...\n",
              "212    Electrochemical Deposition Stripping Behavior ...\n",
              "250    lithium Metal copper Vanadium Oxide Battery Bl...\n",
              "255    Influence Electrolyte Modulus Local Current De...\n",
              "262    Convenient Versatile Method Control Electrode ...\n",
              "263    lithium dendrite growth solid polymer electrol...\n",
              "323    toward all solid State Lithium Batteries three...\n",
              "330    growth Lithium Dendrites Globules Solid Block ...\n",
              "376    orient porous llzo 3d structure obtain freeze ...\n",
              "379        lithium metal foil low defect density pending\n",
              "381    three dimensionally align Sulfur Electrodes Di...\n",
              "382    sustainable sulfur carbonaceous composite elec...\n",
              "384    Extended Cycling Rigid Block Copolymer Electro...\n",
              "387    Impact Salt Concentration Nonuniform Lithium E...\n",
              "388    All solid State Batteries use rationally desig...\n",
              "389    scalable Freeze tape cast Fabrication Pore Str...\n",
              "390    influence morphology electrochemical capacity ...\n",
              "391    NiWO4 Nanoparticle decorate Lignin Electrodes ...\n",
              "392    Design Synthesis Lignin base Flexible Supercap...\n",
              "395    study buffer layer base block copolymer electr...\n",
              "408    lithium Sulfur Batteries Block Copolymer Elect...\n",
              "424    Universal chemomechanical design rule solid io...\n",
              "430    uncover relationship Diameter Height electrode...\n",
              "456    Operando x ray Tomography Imaging Solid State ...\n",
              "459    diversity orient synthesis polymer membrane io...\n",
              "464    limit Current Nanostructured Block Copolymer E...\n",
              "474    preferential strip Lithium Protrusion Resultin...\n",
              "480    multi scale microscopy Li Electrolyte Interfac...\n",
              "481    lithium Electrodeposition Rigid Block Copolyme...\n",
              "Name: Document, dtype: object"
            ]
          },
          "metadata": {},
          "execution_count": 65
        }
      ]
    },
    {
      "cell_type": "code",
      "source": [
        "rep_docs"
      ],
      "metadata": {
        "id": "0RM0jisAvqBc",
        "outputId": "3efc6365-646e-4ec8-be12-62ce9e867776",
        "colab": {
          "base_uri": "https://localhost:8080/"
        }
      },
      "execution_count": 16,
      "outputs": [
        {
          "output_type": "execute_result",
          "data": {
            "text/plain": [
              "['Failure Mode Lithium Metal battery block Copolymer Electrolyte analyze x ray Microtomography Solid block polymer electrolyte promise candidate development high energy density rechargeable lithium metal base battery solid state battery comprise lithiummetal negative electrode lithium iron phosphate lifepo lt gt 4 lt gt composite positive electrode assemble polystyrene b poly ethylene oxide seo copolymer dope lithium salt use electrolyte cycling battery reason capacity fade failure determine imaging battery use synchrotron hard x ray microtomography experiment reveal partial delamination lithium foil block copolymer electrolyte layer void volume foil electrolyte layer obtain 40 90 cycle comparable volume change battery one cycle simple model account effect delamination current density battery present capacity fade battery failure observe experiment consistent model evidence lithium dendrite formation find contrast cycle lithium lithium symmetric cell polymer electrolyte current density fail due dendrite formation evidence delamination find cell',\n",
              " 'lithium Dendrite Growth Glassy Rubbery Nanostructured Block Copolymer Electrolytes enable use lithium metal anode critical step require dramatically increase energy density rechargeable battery however dendrite growth lithium metal battery lack fundamental understanding factor govern growth limit factor prevent adoption herein present effect battery cycling temperature range 90 120 ° c dendrite growth polystyrene block poly ethylene oxide -based electrolyte temperature range encompass glass transition temperature polystyrene 107 ° c slight increase cycling temperature symmetric lithium polymer lithium cell 90 105 ° c result factor five decrease amount charge pass short circuit synchrotron hard x ray microtomography experiment reveal shift dendrite location primarily within lithium electrode 90 ° c primarily within electrolyte 105 ° c rheological measurement show large change mechanical property temperature window time temperature superposition use interpret rheological datum Dendrite growth characteristic cell lifetime correlate temperature dependent shift factor use time temperature superposition work represent step toward understand factor govern lithium dendrite growth viscoelastic electrolyte',\n",
              " 'toward all solid State Lithium Batteries three dimensional visualization Lithium Migration β Li d3 PS d4 Ceramic Electrolyte all solid lithium battery attractive next generation technology use ion conduct solid β Li3PS4 LPS enable use lithium metal anode increase theoretical capacity widen stable voltage window traditional lithium ion system ion conductive solid also provide increase safety replace flammable liquid electrolyte although solid state electrolyte significantly stable dendrite resistant traditional liquid electrolyte lithium anode all solid system may nevertheless grow dendrite high stress repeat cycling lead short circuit premature battery breakdown reason study formation propagation Li metal feature within solid electrolyte use synchrotron base x ray tomography in situ current voltage cycling support custom sample platform result demonstrate ability technique delineate different layer Li LPS Li structure spatial resolution approach 1 μm resolution able detect expansion void especially early stage cycle expansion void observe throughout volume symmetric cell visually resemble propagation crack result interaction Li metal pre existing void LPS electrolyte']"
            ]
          },
          "metadata": {},
          "execution_count": 16
        }
      ]
    },
    {
      "cell_type": "code",
      "source": [
        "###----- for a given document, find closest authors and documents-----------###\n",
        "\n",
        "\n",
        "search_doc = \"Researchers have increased the lifetime of a promising electric vehicle \\\\\n",
        " battery to a record level, an important step toward the goal of lighter, less expensive and long-lasting batteries for future electric vehicles. The work is reported June 28 in the journal Nature Energy.Such batteries—the goal\\\\\n",
        "  of research groups the world over—are seen as an important part of the solution to reduce the effects of climate change, and scientists are exploring a dizzying array of options.\\\\\n",
        "One solution on the horizon is a lithium-metal battery for electric vehicles. These batteries hold almost twice the energy of their widely used lithium-ion counterparts, and they’re lighter.\\\\\n",
        " That combination offers the enticing prospect of an electric vehicle that would be lighter and go much farther on a single charge. But lithium-metal batteries in the laboratory have been plagued by premature death, lasting only a fraction of the time of today’s lithium-ion batteries.\"\n",
        "\n",
        "\n",
        "\n",
        "# find most similar topic\n",
        "similar_topics, similarity = topic_model.find_topics(search_doc, top_n=5)\n",
        "\n",
        "# print closest topic\n",
        "print(\"The closest topic is topic number {}: {}\".format(similar_topics[0],topic_model.topic_names[similar_topics[0]]))\n",
        "\n",
        "\n",
        "# find all authors in the most similar topic\n",
        "print(\"Authors are:\")\n",
        "author_similar = dict_authors[similar_topics[0]]\n",
        "print(author_similar)\n",
        "\n",
        "# get 3 rep docs related to a particular search term \n",
        "rep_docs = topic_model.get_representative_docs(similar_topics[0])\n",
        "print(\"Three Closest documents are:\")\n",
        "print(rep_docs)\n",
        "\n",
        "# get all docs related to that topic \n",
        "# filter for the most similar topic\n",
        "docs_similar = docs_topics[docs_topics['Topic_Number']==similar_topics[0]]['Document']\n",
        "print(\"There are {} documents in this topic. They are:\".format(len(docs_similar)))\n",
        "docs_similar\n"
      ],
      "metadata": {
        "colab": {
          "base_uri": "https://localhost:8080/"
        },
        "id": "U8Fd3Uuivgli",
        "outputId": "551cedcd-4998-4be3-a162-52bf5cac04ae"
      },
      "execution_count": 66,
      "outputs": [
        {
          "output_type": "stream",
          "name": "stdout",
          "text": [
            "The closest topic is topic number 7: 7_lithium metal_block copolymer_current density_copolymer electrolyte\n",
            "Authors are:\n",
            "['Sulas, D.B.', 'Cheng, Lei', 'Platt, H.S.', 'Al-Jassim, M.M.', 'Ho, A.', 'Maslyn, Jacqueline', 'Yuca, N.', 'Frenck, Louise', 'Srinivasan, V.', 'Bird, O.F.', 'Renner, Peter', 'Wu, S.-L.', 'Parkinson, Dilworth Y.,McCloskey, Bryan', 'Sahu, S.', 'Parkinson, Dilworth Y.,Kundu, Shankhamala', 'Trask, S.E.', 'Chen, Yinlin', 'Meckler, S.M.', 'Jiang, X.', 'Ling, M.', 'Barai, P.', 'Yi, Eongyu', 'Mueller, K.T.', 'MacDowell, Alastair A.,Balsara, Nitash P.,', 'Amores, M.', 'Kim, J.', 'Tong, W.', 'Parkinson, Dilworth Y.,Liang, Hong', 'Pratt, R.C.', 'Müller, A.', 'Andrykowski, R.', 'Robbins, S.', 'Pylypenko, S.', 'Chen, Kelly', 'Doeff, Marca', 'Frenck, L.', 'Kim, H.W.', 'Marwaha, N.', 'Harry, Katherine', 'Baskin, A.', 'Heywood, S.', 'McEntush, Kyle', 'Zhang, Bixia', 'Viswanathan, V.', 'Teat, S.J.', 'Sankar, S.', 'Sung, Yung-Eun', 'Ells, A.W.', 'Seitzman, N.', 'Parkinson, D.Y.', 'Jansen, A.N.', 'Venturi, V.', 'Sofie, S.W.', 'Devaux, Didier H,Harry, Katherine', 'Mehta, S.', 'Schauser, N.S.', 'Higa, Kenneth', 'Battaglia, Vincent Santo,Parkinson, Dilworth Y.,Srinivasan, Venkat', 'Parkinson, Dilworth Y.,Balsara, Nitash P.,', 'Maslyn, J.A.', 'Finegan, D.P.', 'Devaux, Didier H,Wang, Xinru', 'Parkinson, Dilworth Y.,Minor, A.M.', 'Shen, Hao', 'Ma, Le', 'Song, J.', 'Cairns, Elton J.,', 'Srinivasan, Venkat', 'Parkinson, Dilworth Y.,Chen, Guangxu', 'Westmore, Tim', 'Pylypenko, Svitlana M,', 'Oh, H.J.', 'Liao, Xiaxia', 'Alvarado, Judith', 'Harry, K.J.', 'Jha, Swarn', 'Battaglia, V.', 'Loo, W.S.', 'Liu, Gang', 'Baird, M.A.', 'McEntush, K.D.', 'Prendergast, D.', 'Parkinson, Dilworth Y.,Yuan, Rodger', 'Sofie, S.', 'Liang, Hong', 'Eitouni, H.B.', 'Elwany, A.', 'Ahmad, Z.', 'Tamura, Nobumichi', 'Han, K.S.', 'Yang, Qin', 'Veeraraghavan, V.D.', 'Al-Jassim, M.', 'Balsara, N.P.', 'Parkinson, Dilworth Y.,MacDowell, Alastair A.,Balsara, Nitash P.,', 'Parkinson, Dilworth Y.,Watanabe, H.', 'Hwa, Yoon', 'Guthrey, H.', 'Zhao, Hongyu', 'Balsara, Nitash P.,', 'Villaluenga, I.', 'Carrington, M.E.', 'Ferreira, S.', 'Helms, B.A.', 'Kou, J.', 'Wang, Fan', 'Minor, A.M.', 'Ho, A.S.', 'Nuval, A.a.', 'Parkinson, Dilworth Y.,Doeff, Marca', 'Fu, C.', 'Thelen, Jacob L.,Parkinson, Dilworth Y.,Cabana, Jordi', 'Baran, M.J.', 'Chang, Y.H.', 'Parkinson, Dilworth Y.,Fu, Yang', 'Devaux, D.', 'Seitzman, Natalie', 'Hallinan, D.T.']\n",
            "Three Closest documents are:\n",
            "['Failure Mode Lithium Metal battery block Copolymer Electrolyte analyze x ray Microtomography Solid block polymer electrolyte promise candidate development high energy density rechargeable lithium metal base battery solid state battery comprise lithiummetal negative electrode lithium iron phosphate lifepo lt gt 4 lt gt composite positive electrode assemble polystyrene b poly ethylene oxide seo copolymer dope lithium salt use electrolyte cycling battery reason capacity fade failure determine imaging battery use synchrotron hard x ray microtomography experiment reveal partial delamination lithium foil block copolymer electrolyte layer void volume foil electrolyte layer obtain 40 90 cycle comparable volume change battery one cycle simple model account effect delamination current density battery present capacity fade battery failure observe experiment consistent model evidence lithium dendrite formation find contrast cycle lithium lithium symmetric cell polymer electrolyte current density fail due dendrite formation evidence delamination find cell', 'lithium Dendrite Growth Glassy Rubbery Nanostructured Block Copolymer Electrolytes enable use lithium metal anode critical step require dramatically increase energy density rechargeable battery however dendrite growth lithium metal battery lack fundamental understanding factor govern growth limit factor prevent adoption herein present effect battery cycling temperature range 90 120 ° c dendrite growth polystyrene block poly ethylene oxide -based electrolyte temperature range encompass glass transition temperature polystyrene 107 ° c slight increase cycling temperature symmetric lithium polymer lithium cell 90 105 ° c result factor five decrease amount charge pass short circuit synchrotron hard x ray microtomography experiment reveal shift dendrite location primarily within lithium electrode 90 ° c primarily within electrolyte 105 ° c rheological measurement show large change mechanical property temperature window time temperature superposition use interpret rheological datum Dendrite growth characteristic cell lifetime correlate temperature dependent shift factor use time temperature superposition work represent step toward understand factor govern lithium dendrite growth viscoelastic electrolyte', 'toward all solid State Lithium Batteries three dimensional visualization Lithium Migration β Li d3 PS d4 Ceramic Electrolyte all solid lithium battery attractive next generation technology use ion conduct solid β Li3PS4 LPS enable use lithium metal anode increase theoretical capacity widen stable voltage window traditional lithium ion system ion conductive solid also provide increase safety replace flammable liquid electrolyte although solid state electrolyte significantly stable dendrite resistant traditional liquid electrolyte lithium anode all solid system may nevertheless grow dendrite high stress repeat cycling lead short circuit premature battery breakdown reason study formation propagation Li metal feature within solid electrolyte use synchrotron base x ray tomography in situ current voltage cycling support custom sample platform result demonstrate ability technique delineate different layer Li LPS Li structure spatial resolution approach 1 μm resolution able detect expansion void especially early stage cycle expansion void observe throughout volume symmetric cell visually resemble propagation crack result interaction Li metal pre existing void LPS electrolyte']\n",
            "There are 34 documents in this topic. They are:\n"
          ]
        },
        {
          "output_type": "execute_result",
          "data": {
            "text/plain": [
              "28     3D Detection Lithiation Lithium Plating Graphi...\n",
              "139    detection subsurface structure underneath dend...\n",
              "142    compare Macroscale Microscale Simulations Poro...\n",
              "155    lithium Dendrite Growth Glassy Rubbery Nanostr...\n",
              "200    Failure Mode Lithium Metal battery block Copol...\n",
              "201    failure Analysis Batteries use Synchrotron bas...\n",
              "212    Electrochemical Deposition Stripping Behavior ...\n",
              "250    lithium Metal copper Vanadium Oxide Battery Bl...\n",
              "255    Influence Electrolyte Modulus Local Current De...\n",
              "262    Convenient Versatile Method Control Electrode ...\n",
              "263    lithium dendrite growth solid polymer electrol...\n",
              "323    toward all solid State Lithium Batteries three...\n",
              "330    growth Lithium Dendrites Globules Solid Block ...\n",
              "376    orient porous llzo 3d structure obtain freeze ...\n",
              "379        lithium metal foil low defect density pending\n",
              "381    three dimensionally align Sulfur Electrodes Di...\n",
              "382    sustainable sulfur carbonaceous composite elec...\n",
              "384    Extended Cycling Rigid Block Copolymer Electro...\n",
              "387    Impact Salt Concentration Nonuniform Lithium E...\n",
              "388    All solid State Batteries use rationally desig...\n",
              "389    scalable Freeze tape cast Fabrication Pore Str...\n",
              "390    influence morphology electrochemical capacity ...\n",
              "391    NiWO4 Nanoparticle decorate Lignin Electrodes ...\n",
              "392    Design Synthesis Lignin base Flexible Supercap...\n",
              "395    study buffer layer base block copolymer electr...\n",
              "408    lithium Sulfur Batteries Block Copolymer Elect...\n",
              "424    Universal chemomechanical design rule solid io...\n",
              "430    uncover relationship Diameter Height electrode...\n",
              "456    Operando x ray Tomography Imaging Solid State ...\n",
              "459    diversity orient synthesis polymer membrane io...\n",
              "464    limit Current Nanostructured Block Copolymer E...\n",
              "474    preferential strip Lithium Protrusion Resultin...\n",
              "480    multi scale microscopy Li Electrolyte Interfac...\n",
              "481    lithium Electrodeposition Rigid Block Copolyme...\n",
              "Name: Document, dtype: object"
            ]
          },
          "metadata": {},
          "execution_count": 66
        }
      ]
    },
    {
      "cell_type": "code",
      "source": [
        "###----- for a given auhors, find all other authors and closest documents-----------###\n",
        "\n",
        "# iterate thru dict, pick up the topic where that author occurs and return all authors in that topic\n",
        "# search_author = 'Balsara, N.P.'\n",
        "search_author = 'Zenyuk, I.V.'\n",
        "\n",
        "for t in dict_authors:\n",
        "  if search_author in dict_authors[t]:\n",
        "    # print closest topic\n",
        "    print(\"The given author works in Topic Number {}: {}\".format(t,topic_model.topic_names[t]))\n",
        "    first_auth_list = dict_authors[t]\n",
        "    # print(\"All other authors:\",dict_authors[t])\n",
        "\n",
        "\n",
        "# find the doc in which the search author occurs, then find closest docs to that doc and return authors for that\n",
        "relevant_docs = input_data[input_data.apply(lambda row: row.astype(str).str.contains(search_author).any(), axis=1)]['combined'].to_list()\n",
        "authors_docs = closest_author_docs(relevant_docs)\n",
        "# print(\"Authors representing the closest docs are:\",authors_docs)\n",
        "\n",
        "final_auth_list = authors_docs + first_auth_list\n",
        "final_auth_list = list(set(final_auth_list))\n",
        "print(\"Closest authors to given author:\",final_auth_list)\n",
        "\n"
      ],
      "metadata": {
        "colab": {
          "base_uri": "https://localhost:8080/"
        },
        "id": "U6qTKoSr5WTO",
        "outputId": "91b97dbb-ea44-4b99-d082-0c9b3956f188"
      },
      "execution_count": 69,
      "outputs": [
        {
          "output_type": "stream",
          "name": "stdout",
          "text": [
            "The given author works in Topic Number 4: 4_fuel cell_polymer electrolyte_liquid water_gas diffusion\n",
            "Closest authors to given author: ['Spernjak, D.', 'Chan, T.', 'Pan, X.', 'Karan, K.', 'Sabarirajan, Dinesh C,Calzada, O.', 'Mukundan, R.', 'Dery, S.', 'Garcia-Salaberri, P.A.', 'Vera, M.', 'Ng, B.', 'Besli, M.M.', 'McElrone, Andrew Joseph,Choat, Brendan', 'Martin, Andreas', 'Parkinson, Dilworth Y.,Kusoglu, Ahmet', 'Tucker, M.C.', 'Sabarirajan, Dinesh C,Yared, D.G.', 'Parkinson, Dilworth Y.,Serov, A.', 'Gili, A.', 'Shum, A.D.', 'Connolly, L.G.', 'Parkinson, Dilworth Y.,Blair, J.', 'Cetinbas, F.C.', 'Gambetta, Gregory A.,Brodersen, Craig', 'Tieu, P.', 'Fendorf, Scott E.,Luthy, Richard G,', 'Serov, A.', 'Normile, S.J.', 'Weidner, J.W.', 'Medici, E.F.', 'Gostick, Jeff T.,Gunterman, Haluna Penelope F.,Kienitz, Brian L.,Newman, James', 'Khedekar, K.', 'Weber, Adam Z,Gostick, Jeff T.,', 'Mansour, Nagi N,', 'Zheng, Y.', 'Gross, Elad', 'Xiao, X.', 'Varcoe, J.R.', 'Weber, Adam Z,Kusoglu, Ahmet', 'García-Salaberri, P.A.', 'MacDowell, Alastair A.,Weber, Adam Z,', 'More, K.L.', 'Barnard, H.S.', 'Kusoglu, Ahmet', 'Cheng, Y.', 'Lu, Zijie', 'Hexemer, Alexander', 'Shum, Andrew D,Zenyuk, Iryna V,Shimpalee, S.', 'Perego, A.', 'Shum, Andrew D,Zenyuk, Iryna V,', 'Zenyuk, Iryna V,Parkinson, Dilworth Y.,Weber, Adam Z,Allen, J.S.', 'Hussey, D.S.', 'Liu, Yao', 'Hu, B.', 'Johnston, C.M.', 'Atanassov, Plamen', 'Tamura, N.', 'Kim, D.W.', 'Shum, Andrew D,Normile, S.', 'Weber, A.Z.', 'Shimpalee, S.', 'Pant, L.M.', 'Shen, F.', 'De Carlo, F.', 'Borup, R.L.', 'Ahluwalia, R.K.', 'Satjaritanun, P.', 'Parkinson, D.Y.', 'Weber, Adam Z,', 'Panerai, Francesco', 'Danilovic, N.', 'Roy, A.', 'Omasta, T.J.', 'Leonard, E.', 'Borner, Arnaud', 'Ayers, K.E.', 'Zenyuk, Iryna V,Parkinson, Dilworth Y.,Hwang, G.k.', 'Higa, Kenneth', 'Zenyuk, I.V.', 'Cheng, L.', 'LaManna, J.M.', 'Talarposhti, M.R.', 'Zenyuk, Iryna V,Weber, Adam Z,', 'Gasch, M.J.', 'Artyushkova, K.', 'Wang, L.', 'Zenyuk, Iryna V,', 'Goulas, Konstantinos', 'Jambunathan, R.', 'Khunatorn, Y.', 'Villatoro, W.', 'Srinivasan, Venkat', 'Li, Menglu', 'Ahn, Suk Jin', 'Zackin, B.I.', 'Huang, Y.', 'Ferguson, J.', 'Rezaei Talarposhti, M.', 'Litster, S.E.', 'Hirano, S.', 'Zhuang, Y.', 'Tu, K.N.', 'Doran, A.', 'Liu, Gang', 'Xiao, Xiao', 'Craig, N.', 'Asset, T.', 'Wang, R.', 'Parkinson, Dilworth Y.,Barnard, Harold S,Ling, M.', 'Leonard, Emily', 'Zenyuk, Iryna V,Shum, Andrew D,Hwang, Gi Suk', 'Hickner, Michael A,', 'Kulkarni, D.', 'Lachaud, J.', 'Tippayawong, N.', 'Levin, D.A.', 'Zhao, Hongyu', 'Capuano, C.', 'Xu, M.', 'Kuppan, S.', 'Mustain, W.E.', 'Hwang, Gi Suk', 'Ogawa, S.', 'Stewart, S.', 'Peng, X.', 'Sepe, M.', 'Ferguson, Joseph C.,Lachaud, J.', 'Weber, Adam Z,Zenyuk, Iryna V,', 'Atanassov, P.', 'Parkinson, Dilworth Y.,Jacobson, D.L.', 'Chen, Y.', 'Liu, J.', 'Metzger, M.', 'Mandal, Pratiti', 'Wojcik, M.', 'Zenyuk, Iryna V,Hwang, Gi Suk', 'Ferguson, Joseph C.,Panerai, Francesco', 'De Andrade, V.', 'Dietrich, Philipp', 'Johnson, Gregory R,Grippo, Adam Michael,Wang, Y.C.', 'Gu, S.', 'Dogdibegovic, E.', 'Seyfferth, Angelia L.,Masue-Slowey, Y.', 'Hwang, G.S.', 'Gostick, Jeff T.,Hwang, Gi Suk', \"O'Brien, M.\", 'Sabarirajan, D.C.', 'Weber, Adam Z,Vera, M.']\n"
          ]
        }
      ]
    },
    {
      "cell_type": "code",
      "source": [
        "###---calculate distance between topic embedding and document embedding----###\n",
        "\n",
        "# topic embedding - this is the average of all the embeddings of the documents in each topic. \n",
        "# Note: Center of the cluster(topic) by taking average might not be accurate as clusters are found using a density-based procedure. More at: https://github.com/MaartenGr/BERTopic/issues/477\n",
        "topic_emb = topic_model.topic_embeddings\n",
        "\n",
        "# document embeddings, depends on which embedding model used to train topic model\n",
        "if model_use == \"specter\":\n",
        "  sentence_model = SentenceTransformer('allenai-specter')\n",
        "  doc_emb = sentence_model.encode(list_text, show_progress_bar=False)\n",
        "else:\n",
        "  sentence_model = SentenceTransformer(\"all-MiniLM-L6-v2\")\n",
        "  doc_emb = sentence_model.encode(list_text, show_progress_bar=False)\n",
        "\n",
        "# find which doc is closest to topic 4 (battery?)\n",
        "sim_list = []\n",
        "for i in range(len(list_text)):\n",
        "  sim_list.append(1-spatial.distance.cosine(doc_emb[i], topic_emb[8])) # cosine similarity between all docs and one topic\n",
        "\n",
        "# find doc with max similarity\n",
        "max_val = max(sim_list)\n",
        "max_ind = sim_list.index(max_val)\n",
        "\n",
        "print(\"Doc closest to the given document is:\",list_text[max_ind])\n"
      ],
      "metadata": {
        "id": "HnZp8D4wXVN3"
      },
      "execution_count": 28,
      "outputs": []
    },
    {
      "cell_type": "code",
      "source": [
        "topic_model.c_tf_idf[0].shape"
      ],
      "metadata": {
        "id": "8gyukLBh2kO6",
        "outputId": "7b754054-2f8e-48a3-c1d0-c7593cb6af17",
        "colab": {
          "base_uri": "https://localhost:8080/"
        }
      },
      "execution_count": 27,
      "outputs": [
        {
          "output_type": "execute_result",
          "data": {
            "text/plain": [
              "(1, 38402)"
            ]
          },
          "metadata": {},
          "execution_count": 27
        }
      ]
    },
    {
      "cell_type": "code",
      "source": [
        "doc_emb.shape"
      ],
      "metadata": {
        "id": "7PtlqluH9d0g",
        "outputId": "eab9aa36-6674-40a0-cc65-c1a7614af114",
        "colab": {
          "base_uri": "https://localhost:8080/"
        }
      },
      "execution_count": 29,
      "outputs": [
        {
          "output_type": "execute_result",
          "data": {
            "text/plain": [
              "(510, 384)"
            ]
          },
          "metadata": {},
          "execution_count": 29
        }
      ]
    },
    {
      "cell_type": "code",
      "source": [
        "doc_emb[0].shape"
      ],
      "metadata": {
        "id": "4cqWuJnXE6XV",
        "outputId": "26048c7d-d081-48e0-d0fc-30c497a7d48d",
        "colab": {
          "base_uri": "https://localhost:8080/"
        }
      },
      "execution_count": 37,
      "outputs": [
        {
          "output_type": "execute_result",
          "data": {
            "text/plain": [
              "(384,)"
            ]
          },
          "metadata": {},
          "execution_count": 37
        }
      ]
    },
    {
      "cell_type": "code",
      "source": [
        "len(topic_emb)"
      ],
      "metadata": {
        "id": "VgBjUR8NFSp-",
        "outputId": "460a00d8-991d-48eb-e3e1-682ad4c645be",
        "colab": {
          "base_uri": "https://localhost:8080/"
        }
      },
      "execution_count": 39,
      "outputs": [
        {
          "output_type": "execute_result",
          "data": {
            "text/plain": [
              "11"
            ]
          },
          "metadata": {},
          "execution_count": 39
        }
      ]
    },
    {
      "cell_type": "code",
      "source": [
        "from scipy import spatial\n",
        "spatial.distance.cosine(doc_emb[0], topic_emb[0])"
      ],
      "metadata": {
        "id": "xa1dVq14DlYL",
        "outputId": "57c29751-4c10-4e4d-d1b6-75b89f27073f",
        "colab": {
          "base_uri": "https://localhost:8080/"
        }
      },
      "execution_count": 38,
      "outputs": [
        {
          "output_type": "execute_result",
          "data": {
            "text/plain": [
              "0.7463974666102642"
            ]
          },
          "metadata": {},
          "execution_count": 38
        }
      ]
    },
    {
      "cell_type": "code",
      "source": [
        "# find which doc is closest to topic 4 (battery?)\n",
        "sim_list = []\n",
        "for i in range(len(list_text)):\n",
        "  sim_list.append(1-spatial.distance.cosine(doc_emb[i], topic_emb[8])) # cosine similarity between all docs and one topic\n",
        "\n",
        "# find doc with max similarity\n",
        "max_val = max(sim_list)\n",
        "max_ind = sim_list.index(max_val)\n",
        "\n",
        "print(\"Doc closest to the given document is:\",list_text[max_ind])"
      ],
      "metadata": {
        "id": "sFlZmZk-FCO_",
        "outputId": "3aeedfcb-ad99-4b23-bf9e-9e85ffb9e475",
        "colab": {
          "base_uri": "https://localhost:8080/"
        }
      },
      "execution_count": 55,
      "outputs": [
        {
          "output_type": "stream",
          "name": "stdout",
          "text": [
            "Doc closest to the given document is: lithium Electrodeposition Rigid Block Copolymer electrolyte\n"
          ]
        }
      ]
    },
    {
      "cell_type": "code",
      "source": [
        "list_text[max_ind]"
      ],
      "metadata": {
        "id": "Y054ziu4Ftw_",
        "outputId": "bc594bd3-72e5-417e-a696-fd36aa5332f0",
        "colab": {
          "base_uri": "https://localhost:8080/",
          "height": 35
        }
      },
      "execution_count": 56,
      "outputs": [
        {
          "output_type": "execute_result",
          "data": {
            "text/plain": [
              "'lithium Electrodeposition Rigid Block Copolymer electrolyte'"
            ],
            "application/vnd.google.colaboratory.intrinsic+json": {
              "type": "string"
            }
          },
          "metadata": {},
          "execution_count": 56
        }
      ]
    },
    {
      "cell_type": "code",
      "source": [
        "max_val"
      ],
      "metadata": {
        "id": "9ighruYJF9ek",
        "outputId": "bd4b46bb-38f9-42c4-ed26-7e150a476873",
        "colab": {
          "base_uri": "https://localhost:8080/"
        }
      },
      "execution_count": 53,
      "outputs": [
        {
          "output_type": "execute_result",
          "data": {
            "text/plain": [
              "0.4203780953295091"
            ]
          },
          "metadata": {},
          "execution_count": 53
        }
      ]
    },
    {
      "cell_type": "code",
      "source": [
        "doc_emb[5]"
      ],
      "metadata": {
        "id": "OFxRhlLQGKxc",
        "outputId": "a38661ab-f256-454f-e23a-ccb77b44168e",
        "colab": {
          "base_uri": "https://localhost:8080/"
        }
      },
      "execution_count": 48,
      "outputs": [
        {
          "output_type": "execute_result",
          "data": {
            "text/plain": [
              "array([-4.49873284e-02, -4.72244397e-02,  6.33210763e-02, -1.58034097e-02,\n",
              "       -4.07424197e-02, -7.81985968e-02, -3.15278992e-02,  4.26019542e-02,\n",
              "       -1.11523442e-01,  4.49258313e-02, -4.10246141e-02,  5.42007051e-02,\n",
              "       -6.42958879e-02, -1.39430501e-02, -5.31894416e-02,  3.50956805e-02,\n",
              "        3.73244248e-02,  9.16818380e-02,  1.59443662e-04,  3.76724787e-02,\n",
              "        3.04325018e-02, -5.52264489e-02,  4.79948372e-02, -1.38022304e-02,\n",
              "       -1.60811357e-02, -4.48756479e-02, -3.45495157e-02,  2.07906663e-02,\n",
              "       -4.65369560e-02,  6.05169125e-03, -5.27716018e-02,  1.27914667e-01,\n",
              "        7.39997029e-02, -5.66481017e-02, -3.36245298e-02,  5.36348149e-02,\n",
              "       -3.83769684e-02, -4.93430011e-02, -1.78171888e-01,  5.28027257e-03,\n",
              "       -8.74609686e-03, -8.31101984e-02,  1.51561014e-02,  1.83621291e-02,\n",
              "        4.04683724e-02, -1.04288988e-01, -4.48912717e-02, -5.19169867e-02,\n",
              "        1.77916009e-02,  6.49334490e-02, -3.98226194e-02, -5.67688234e-02,\n",
              "       -6.05903044e-02,  5.27515449e-02, -2.28845906e-02,  3.13394442e-02,\n",
              "       -5.37282564e-02, -3.36998068e-02, -1.48672480e-02, -1.69732384e-02,\n",
              "       -1.72005617e-03,  6.92170230e-04, -6.30015433e-02,  8.48234631e-03,\n",
              "        2.85284128e-02,  3.96523289e-02,  5.12970649e-02, -6.57362640e-02,\n",
              "       -3.85963544e-02,  4.79049049e-02,  1.53371291e-02,  1.87742189e-02,\n",
              "        7.40510225e-02,  5.59841320e-02, -5.91384284e-02, -1.29349744e-02,\n",
              "        3.78921591e-02,  6.63376972e-02,  9.85384658e-02, -2.68858522e-02,\n",
              "       -7.97056258e-02,  5.21646999e-02,  2.91028153e-02,  4.36429977e-02,\n",
              "       -2.87548266e-02,  4.61450070e-02, -8.01115856e-02,  3.30164284e-02,\n",
              "       -4.55603600e-02,  3.01443785e-02,  2.21594260e-03,  1.08188137e-01,\n",
              "       -3.55869941e-02,  1.69060891e-04,  1.28213773e-02, -4.17068526e-02,\n",
              "       -4.11887765e-02, -1.11047365e-02,  5.65233380e-02, -2.02933326e-02,\n",
              "        5.29951565e-02,  1.42695624e-02,  6.65911958e-02, -7.04934224e-02,\n",
              "       -2.57121678e-02, -3.68354991e-02, -2.94466875e-02,  7.52090365e-02,\n",
              "        2.57632532e-03,  2.81587522e-02, -2.55322130e-03,  6.85218954e-03,\n",
              "        4.59385570e-03,  2.43662167e-02, -2.29160767e-03,  5.26929609e-02,\n",
              "        1.84891801e-02,  2.62163598e-02,  8.53612870e-02,  3.13159674e-02,\n",
              "        6.08941205e-02,  5.19844107e-02,  5.47779500e-02, -5.84212989e-02,\n",
              "       -3.34237963e-02,  2.79530976e-02,  4.31436822e-02,  1.87321181e-32,\n",
              "       -2.53146365e-02, -4.09568287e-02,  2.33014282e-02,  1.65230241e-02,\n",
              "       -7.88386017e-02,  3.75401713e-02,  6.74385801e-02, -2.66297944e-02,\n",
              "       -4.36027572e-02, -3.85272764e-02, -2.19564307e-02,  6.19317107e-02,\n",
              "        5.44761308e-02,  4.76304330e-02, -2.52852514e-02, -4.98868749e-02,\n",
              "        5.47878481e-02,  4.81023118e-02,  6.17267471e-03,  2.64203455e-02,\n",
              "        1.16318658e-01,  5.56803606e-02,  1.33215534e-02,  7.93879777e-02,\n",
              "        8.06010738e-02, -1.06184103e-01, -2.33886093e-02, -2.12599151e-02,\n",
              "       -5.89942262e-02,  8.31391662e-03, -4.44361828e-02, -2.00880524e-02,\n",
              "       -3.18832099e-02, -1.70179129e-01, -8.03209990e-02, -6.49726614e-02,\n",
              "        6.87270388e-02, -9.72373113e-02,  1.72366295e-02, -4.73462380e-02,\n",
              "        1.24651864e-01, -3.00551374e-02,  1.21078575e-02, -4.18284684e-02,\n",
              "        1.44164292e-02, -2.15695873e-02, -2.22256780e-03, -2.94320919e-02,\n",
              "       -1.27118770e-02, -7.69653097e-02,  1.62865538e-02,  2.55446620e-02,\n",
              "       -2.76107006e-02, -4.35769111e-02, -9.59344283e-02,  1.01653479e-01,\n",
              "       -7.41927698e-02, -5.25469966e-02, -5.62548637e-03,  5.22308908e-02,\n",
              "       -4.82679307e-02, -4.71370704e-02,  4.94520105e-02,  4.13490012e-02,\n",
              "       -3.32545750e-02, -8.18710625e-02, -1.29894530e-02, -6.36269897e-02,\n",
              "       -1.04691997e-01,  5.62422462e-02,  2.50738449e-02, -4.48251776e-02,\n",
              "        6.60183839e-04,  2.59536244e-02, -7.16824504e-03,  3.35449837e-02,\n",
              "        2.98573803e-02,  9.72149968e-02, -9.26218480e-02, -3.37082781e-02,\n",
              "        1.41036259e-02,  7.49206468e-02, -6.54525012e-02,  7.50232115e-02,\n",
              "        6.20646141e-02, -2.82505713e-02,  2.13395033e-04,  9.87948105e-03,\n",
              "        1.87336914e-02, -6.25749156e-02,  9.13703348e-03, -1.10549152e-01,\n",
              "       -7.36833587e-02, -8.89690295e-02, -2.75090914e-02, -1.76486459e-32,\n",
              "        6.67959265e-03,  5.12701869e-02,  5.04726022e-02,  5.07349558e-02,\n",
              "       -4.19251360e-02,  3.87595594e-02, -4.00522314e-02, -4.86671040e-03,\n",
              "        7.88827091e-02, -4.28229570e-02,  1.08644487e-02,  5.65097444e-02,\n",
              "       -5.36348931e-02, -1.23213269e-01, -4.68497016e-02,  1.95145980e-02,\n",
              "       -6.02538064e-02,  1.15438839e-02, -7.26102144e-02,  2.97681708e-02,\n",
              "        1.03538875e-02,  4.24570329e-02,  3.02539710e-02,  9.18725785e-03,\n",
              "        2.64461394e-02, -9.63944942e-03,  1.10730892e-02,  2.60819700e-02,\n",
              "        3.77933122e-02,  3.79721746e-02,  1.11968154e-02, -5.76391593e-02,\n",
              "       -1.70159340e-02,  3.99114415e-02,  7.30633512e-02,  2.91081145e-03,\n",
              "        7.32209831e-02, -1.14191040e-01, -1.94537137e-02,  1.55411204e-02,\n",
              "        8.45626742e-02, -4.06877659e-02, -6.09123847e-03, -1.99590158e-02,\n",
              "       -4.69905026e-02, -5.55049926e-02, -8.42292141e-03,  1.43690296e-02,\n",
              "        3.96880545e-02,  2.52591893e-02, -5.92100946e-03,  1.35038318e-02,\n",
              "       -2.53130961e-02, -4.45076637e-02, -7.15783471e-03, -5.53548783e-02,\n",
              "        1.16881363e-01, -1.58644810e-01, -5.66609055e-02,  2.05285614e-03,\n",
              "        2.47169868e-03,  1.16504235e-02,  1.53470552e-02, -1.30498270e-03,\n",
              "        5.77953495e-02,  1.69333238e-02, -3.82359576e-04, -6.68403786e-03,\n",
              "       -1.00025982e-01, -3.76960002e-02, -5.32019101e-02, -5.41579793e-04,\n",
              "        3.38799544e-02,  2.80540623e-02,  4.26564403e-02,  4.51085009e-02,\n",
              "        9.35045257e-02, -4.62747142e-02, -5.31947725e-02,  5.40590286e-03,\n",
              "        1.74915530e-02, -1.05001397e-01,  3.88068072e-02,  3.01397573e-02,\n",
              "       -1.30742108e-02,  3.97595614e-02,  3.47282290e-02,  6.49754182e-02,\n",
              "        4.31768373e-02,  2.81525142e-02, -7.72200078e-02, -5.14792651e-02,\n",
              "       -4.86895666e-02, -3.25150159e-03,  4.31547202e-02, -4.98334352e-08,\n",
              "       -2.20760591e-02,  3.55411693e-02,  1.80241689e-02,  2.21002344e-02,\n",
              "        2.87399977e-04,  5.58214448e-03, -2.09892746e-02,  1.13701392e-02,\n",
              "       -1.59388948e-02, -3.33935283e-02, -2.92765107e-02,  4.52423841e-02,\n",
              "       -1.72029193e-02,  2.73109227e-03,  4.95341932e-03, -2.57152854e-03,\n",
              "        4.25923169e-02,  3.57647985e-02, -9.19527467e-03, -5.39043918e-02,\n",
              "       -9.33786407e-02, -2.47858241e-02,  1.77644528e-02,  7.98083246e-02,\n",
              "        2.43440308e-02, -1.39915356e-02, -5.37355170e-02,  6.66628033e-02,\n",
              "       -2.23318115e-02,  1.84045881e-02,  5.11756018e-02, -3.42423618e-02,\n",
              "        6.46304190e-02,  1.79343615e-02,  4.36027423e-02,  2.96708872e-03,\n",
              "        2.48967344e-03,  6.63942993e-02,  2.52868887e-02,  3.88431177e-02,\n",
              "       -7.14356527e-02,  3.14007141e-02,  2.16593985e-02,  2.12515686e-02,\n",
              "       -3.32996659e-02, -4.14817743e-02, -8.58343914e-02,  2.00577788e-02,\n",
              "        1.87467039e-02, -8.91474634e-02, -2.74767242e-02,  2.59359200e-02,\n",
              "       -1.16340481e-02, -6.00402392e-02, -6.57784119e-02,  1.24432974e-01,\n",
              "        6.37612958e-03, -2.14431863e-02,  1.13808915e-01, -2.95626223e-02,\n",
              "       -7.59812491e-03, -7.96705857e-02, -1.86753944e-02, -6.15106057e-03],\n",
              "      dtype=float32)"
            ]
          },
          "metadata": {},
          "execution_count": 48
        }
      ]
    },
    {
      "cell_type": "code",
      "source": [
        ""
      ],
      "metadata": {
        "id": "7bOgaKl7GOjA"
      },
      "execution_count": null,
      "outputs": []
    }
  ]
}