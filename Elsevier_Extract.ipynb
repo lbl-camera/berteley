{
  "nbformat": 4,
  "nbformat_minor": 0,
  "metadata": {
    "colab": {
      "name": "Elsevier_Extract.ipynb",
      "provenance": [],
      "authorship_tag": "ABX9TyP5W6UnN1QHaZxM3MCiRCCL",
      "include_colab_link": true
    },
    "kernelspec": {
      "name": "python3",
      "display_name": "Python 3"
    },
    "language_info": {
      "name": "python"
    }
  },
  "cells": [
    {
      "cell_type": "markdown",
      "metadata": {
        "id": "view-in-github",
        "colab_type": "text"
      },
      "source": [
        "<a href=\"https://colab.research.google.com/github/dani-lbnl/mudit/blob/main/Elsevier_Extract.ipynb\" target=\"_parent\"><img src=\"https://colab.research.google.com/assets/colab-badge.svg\" alt=\"Open In Colab\"/></a>"
      ]
    },
    {
      "cell_type": "markdown",
      "source": [
        "## Elsevier"
      ],
      "metadata": {
        "id": "cGXA6KPB9HLT"
      }
    },
    {
      "cell_type": "code",
      "source": [
        "import requests \n",
        "from io import BytesIO\n",
        "import re \n",
        "import os"
      ],
      "metadata": {
        "id": "6KERR-bF9M8V"
      },
      "execution_count": 1,
      "outputs": []
    },
    {
      "cell_type": "code",
      "source": [
        "!pip install elsapy"
      ],
      "metadata": {
        "colab": {
          "base_uri": "https://localhost:8080/"
        },
        "id": "V-tmNNDz9xEb",
        "outputId": "636bf957-69fa-4bb1-81a6-5b4ba5582d19"
      },
      "execution_count": 2,
      "outputs": [
        {
          "output_type": "stream",
          "name": "stdout",
          "text": [
            "Collecting elsapy\n",
            "  Downloading elsapy-0.5.0-py3-none-any.whl (12 kB)\n",
            "Requirement already satisfied: requests in /usr/local/lib/python3.7/dist-packages (from elsapy) (2.23.0)\n",
            "Requirement already satisfied: idna<3,>=2.5 in /usr/local/lib/python3.7/dist-packages (from requests->elsapy) (2.10)\n",
            "Requirement already satisfied: chardet<4,>=3.0.2 in /usr/local/lib/python3.7/dist-packages (from requests->elsapy) (3.0.4)\n",
            "Requirement already satisfied: certifi>=2017.4.17 in /usr/local/lib/python3.7/dist-packages (from requests->elsapy) (2021.10.8)\n",
            "Requirement already satisfied: urllib3!=1.25.0,!=1.25.1,<1.26,>=1.21.1 in /usr/local/lib/python3.7/dist-packages (from requests->elsapy) (1.24.3)\n",
            "Installing collected packages: elsapy\n",
            "Successfully installed elsapy-0.5.0\n"
          ]
        }
      ]
    },
    {
      "cell_type": "code",
      "source": [
        "from elsapy.elsclient import ElsClient\n",
        "from elsapy.elsprofile import ElsAuthor, ElsAffil\n",
        "from elsapy.elsdoc import FullDoc, AbsDoc\n",
        "from elsapy.elssearch import ElsSearch\n",
        "import json"
      ],
      "metadata": {
        "id": "pqu92dB_91Dq"
      },
      "execution_count": 2,
      "outputs": []
    },
    {
      "cell_type": "code",
      "source": [
        "# create config.json\n",
        "dict_api =    {\n",
        "\t    \"apikey\": \"856d163d12a1f149d801ee44e166857e\",\n",
        "\t    \"insttoken\": \"\"\n",
        "    }\n",
        "\n",
        "api_json = json.dumps(dict_api)\n",
        "# print(api_json)  \n",
        "\n",
        "\n",
        "my_file = r'config.json'\n",
        "with open(my_file, 'w', encoding='utf-8') as file:\n",
        "    file.write(api_json)\n",
        "\n",
        "\n",
        "## Load configuration\n",
        "con_file = open(\"config.json\")\n",
        "config = json.load(con_file)\n",
        "con_file.close()\n",
        "\n",
        "## Initialize client\n",
        "client = ElsClient(config['apikey'])\n",
        "client.inst_token = config['insttoken']"
      ],
      "metadata": {
        "id": "KffQzU0g92uw"
      },
      "execution_count": 3,
      "outputs": []
    },
    {
      "cell_type": "code",
      "source": [
        "#   retrieving all results\n",
        "doc_srch = ElsSearch(\"rechargeable lithium metal\",'scopus')\n",
        "doc_srch.execute(client, get_all = False)\n",
        "print (\"doc_srch has\", len(doc_srch.results), \"results.\")"
      ],
      "metadata": {
        "colab": {
          "base_uri": "https://localhost:8080/"
        },
        "id": "ScSo9k6K-rMf",
        "outputId": "5786b6e7-01df-46ea-aed3-57ef10f1aaf7"
      },
      "execution_count": 4,
      "outputs": [
        {
          "output_type": "stream",
          "name": "stdout",
          "text": [
            "doc_srch has 25 results.\n"
          ]
        }
      ]
    },
    {
      "cell_type": "code",
      "source": [
        "# get scopus ID\n",
        "scopus_id = []\n",
        "for p in doc_srch.results:\n",
        "  if p['openaccess']==1:\n",
        "    scopus_id.append(p['dc:identifier'])"
      ],
      "metadata": {
        "id": "dh5pS3iBJ6qr"
      },
      "execution_count": 29,
      "outputs": []
    },
    {
      "cell_type": "code",
      "source": [
        "# get doi\n",
        "doi = []\n",
        "for p in doc_srch.results:\n",
        "  if p['openaccess']=='1':\n",
        "    doi.append(p['prism:doi'])"
      ],
      "metadata": {
        "id": "0NVjL-xH-sMH"
      },
      "execution_count": 44,
      "outputs": []
    },
    {
      "cell_type": "code",
      "source": [
        "doc_srch.results[9]"
      ],
      "metadata": {
        "colab": {
          "base_uri": "https://localhost:8080/"
        },
        "id": "vwedGc2ePi57",
        "outputId": "d52665d6-3dea-4f4c-8d35-a6c6e829405f"
      },
      "execution_count": 49,
      "outputs": [
        {
          "output_type": "execute_result",
          "data": {
            "text/plain": [
              "{'@_fa': 'true',\n",
              " 'affiliation': [{'@_fa': 'true',\n",
              "   'affiliation-city': 'Jaipur',\n",
              "   'affiliation-country': 'India',\n",
              "   'affilname': 'Malaviya National Institute of Technology Jaipur'}],\n",
              " 'article-number': '3999',\n",
              " 'citedby-count': '0',\n",
              " 'dc:creator': 'Bhardwaj U.',\n",
              " 'dc:identifier': 'SCOPUS_ID:85125982200',\n",
              " 'dc:title': 'High energy storage capabilities of CaCu<inf>3</inf>Ti<inf>4</inf>O<inf>12</inf> for paper-based zinc–air battery',\n",
              " 'eid': '2-s2.0-85125982200',\n",
              " 'freetoread': {'value': [{'$': 'all'},\n",
              "   {'$': 'publisherfullgold'},\n",
              "   {'$': 'repository'},\n",
              "   {'$': 'repositoryvor'},\n",
              "   {'$': 'repositoryam'}]},\n",
              " 'freetoreadLabel': {'value': [{'$': 'All Open Access'},\n",
              "   {'$': 'Gold'},\n",
              "   {'$': 'Green'}]},\n",
              " 'link': [{'@_fa': 'true',\n",
              "   '@href': 'https://api.elsevier.com/content/abstract/scopus_id/85125982200',\n",
              "   '@ref': 'self'},\n",
              "  {'@_fa': 'true',\n",
              "   '@href': 'https://api.elsevier.com/content/abstract/scopus_id/85125982200?field=author,affiliation',\n",
              "   '@ref': 'author-affiliation'},\n",
              "  {'@_fa': 'true',\n",
              "   '@href': 'https://www.scopus.com/inward/record.uri?partnerID=HzOxMe3b&scp=85125982200&origin=inward',\n",
              "   '@ref': 'scopus'},\n",
              "  {'@_fa': 'true',\n",
              "   '@href': 'https://www.scopus.com/inward/citedby.uri?partnerID=HzOxMe3b&scp=85125982200&origin=inward',\n",
              "   '@ref': 'scopus-citedby'}],\n",
              " 'openaccess': '1',\n",
              " 'openaccessFlag': True,\n",
              " 'prism:aggregationType': 'Journal',\n",
              " 'prism:coverDate': '2022-12-01',\n",
              " 'prism:coverDisplayDate': 'December 2022',\n",
              " 'prism:doi': '10.1038/s41598-022-07858-1',\n",
              " 'prism:eIssn': '20452322',\n",
              " 'prism:issueIdentifier': '1',\n",
              " 'prism:pageRange': None,\n",
              " 'prism:publicationName': 'Scientific Reports',\n",
              " 'prism:url': 'https://api.elsevier.com/content/abstract/scopus_id/85125982200',\n",
              " 'prism:volume': '12',\n",
              " 'pubmed-id': '35256700',\n",
              " 'source-id': '21100200805',\n",
              " 'subtype': 'ar',\n",
              " 'subtypeDescription': 'Article'}"
            ]
          },
          "metadata": {},
          "execution_count": 49
        }
      ]
    },
    {
      "cell_type": "code",
      "source": [
        "len(doi)"
      ],
      "metadata": {
        "colab": {
          "base_uri": "https://localhost:8080/"
        },
        "id": "l43hIQ_NPYNS",
        "outputId": "a654c682-c5c8-46c3-a95b-9dc95921b288"
      },
      "execution_count": 48,
      "outputs": [
        {
          "output_type": "execute_result",
          "data": {
            "text/plain": [
              "25"
            ]
          },
          "metadata": {},
          "execution_count": 48
        }
      ]
    },
    {
      "cell_type": "code",
      "source": [
        "\"\"\"\n",
        "Elsevier web-scraper. PLEASE use your own API key.\n",
        "\"\"\"\n",
        "\n",
        "# __author__ = \"Shu Huang\"\n",
        "# __email__ = \"sh2009@cam.ac.uk\"\n",
        "\n",
        "import json\n",
        "import requests\n",
        "import numpy as np\n",
        "\n",
        "API_KEY = \"856d163d12a1f149d801ee44e166857e\"\n",
        "query = \"rechargeable lithium metal\"\n",
        "base_url = 'https://api.elsevier.com/content/search/scopus'\n",
        "\n",
        "data = {\"qs\": query,\n",
        "        \"date\": 2019,\n",
        "        # \"volume\": 0,\n",
        "        \"display\": {\n",
        "            \"show\": 10,\n",
        "            \"offset\": 0\n",
        "        }}\n",
        "\n",
        "headers = {'x-els-apikey': API_KEY,\n",
        "           'Content-Type': 'application/json',\n",
        "           'Accept': 'application/json'}\n",
        "\n",
        "\n",
        "def get_response(url, data, headers):\n",
        "    \"\"\"\n",
        "    Return the response from Elsevier\n",
        "    :param url: <str> base_url\n",
        "    :param data: <dict> data parameters\n",
        "    :param headers: <dict> headers\n",
        "    :return: response\n",
        "    \"\"\"\n",
        "    response = requests.put(url, data=json.dumps(data), headers=headers)\n",
        "    response = response.text.replace('false', 'False').replace('true', 'True')\n",
        "    try:\n",
        "        response = eval(response)\n",
        "    except BaseException:\n",
        "        print(response)\n",
        "    return response\n",
        "\n",
        "\n",
        "def get_doi(data, volume, year):\n",
        "    \"\"\"\n",
        "    Get DOIs\n",
        "    :param data: <dict> data parameters\n",
        "    :param volume: <int> the volume index\n",
        "    :param year: <int> the year index\n",
        "    :return: <list> of <str> list of DOIs\n",
        "    \"\"\"\n",
        "    dois = []\n",
        "    data['volume'] = volume\n",
        "    data[\"date\"] = year\n",
        "    response = get_response(base_url, data, headers)\n",
        "    if 'resultsFound' in response.keys():\n",
        "        n = int(np.ceil(response['resultsFound'] / 100))\n",
        "    else:\n",
        "        n = 60\n",
        "    for offset in range(n + 1):\n",
        "        data[\"display\"][\"offset\"] = offset\n",
        "        response = get_response(base_url, data, headers)\n",
        "        if 'results' in response.keys():\n",
        "            results = response['results']\n",
        "            for result in results:\n",
        "                if 'doi' in result:\n",
        "                    dois.append(result['doi'])\n",
        "    return dois\n",
        "\n",
        "\n",
        "# def download_doi(doi):\n",
        "#     \"\"\"\n",
        "#     Download the paper according to the DOI\n",
        "#     :param doi: <str> DOI\n",
        "#     \"\"\"\n",
        "#     with open(str(doi) + '.xml', 'w', encoding='utf-8') as f:\n",
        "#         request_url = 'https://api.elsevier.com/content/article/scopus_id/{}?apiKey={}&httpAccept=text%2Fxml'.format(\n",
        "#             doi, API_KEY)\n",
        "#         text = requests.get(request_url).text\n",
        "#         f.write(text)\n",
        "#     return"
      ],
      "metadata": {
        "id": "SgPa24hQET-K"
      },
      "execution_count": 47,
      "outputs": []
    },
    {
      "cell_type": "code",
      "source": [
        "def download_scopus(doi):\n",
        "    \"\"\"\n",
        "    Download the paper according to the DOI\n",
        "    :param doi: <str> DOI\n",
        "    \"\"\"\n",
        "    with open(str(doi) + '.xml', 'w', encoding='utf-8') as f:\n",
        "        request_url = 'https://api.elsevier.com/content/article/scopus_id/{}?apiKey={}&httpAccept=text%2Fxml'.format(\n",
        "            doi, API_KEY)\n",
        "        print(request_url)\n",
        "        text = requests.get(request_url).text\n",
        "        f.write(text)\n",
        "    return"
      ],
      "metadata": {
        "id": "zp15lhHZH3YI"
      },
      "execution_count": 31,
      "outputs": []
    },
    {
      "cell_type": "code",
      "source": [
        "def download_doi(doi):\n",
        "    \"\"\"\n",
        "    Download the paper according to the DOI\n",
        "    :param doi: <str> DOI\n",
        "    \"\"\"\n",
        "    with open(\"doi/\" + str(doi) + '.xml', 'w', encoding='utf-8') as f:\n",
        "        request_url = 'https://api.elsevier.com/content/article/doi/{}?apiKey={}&httpAccept=text%2Fxml'.format(\n",
        "            doi, API_KEY)\n",
        "        print(request_url)\n",
        "        text = requests.get(request_url).text\n",
        "        f.write(text)\n",
        "    return"
      ],
      "metadata": {
        "id": "DPJwg8WJE5mj"
      },
      "execution_count": 23,
      "outputs": []
    },
    {
      "cell_type": "code",
      "source": [
        " request_url = 'https://api.elsevier.com/content/article/scopus_id/{}?apiKey={}'.format(\n",
        "            '85122632679', API_KEY)\n",
        " \n",
        " print(request_url)\n",
        " # getting the error - \"Resource not found\""
      ],
      "metadata": {
        "colab": {
          "base_uri": "https://localhost:8080/"
        },
        "id": "JXOvpkyYKyNG",
        "outputId": "18148a72-34b7-42b8-d712-11988cbac4ef"
      },
      "execution_count": 38,
      "outputs": [
        {
          "output_type": "stream",
          "name": "stdout",
          "text": [
            "https://api.elsevier.com/content/article/scopus_id/85122632679?apiKey=856d163d12a1f149d801ee44e166857e\n"
          ]
        }
      ]
    },
    {
      "cell_type": "code",
      "source": [
        " request_url = 'https://api.elsevier.com/content/article/doi/{}?apiKey={}&httpAccept=text%2Fxml'.format(\n",
        "            '10.1038/s41598-022-08691-2', \t'dad1b7295c38089e9ab8129bb2b77563')\n",
        " \n",
        " print(request_url)\n",
        " # getting the error - \"Resource not found\""
      ],
      "metadata": {
        "colab": {
          "base_uri": "https://localhost:8080/"
        },
        "id": "Rg7Rx42VJhb9",
        "outputId": "342592df-203a-4a9b-8a9f-d0d1476c534c"
      },
      "execution_count": 37,
      "outputs": [
        {
          "output_type": "stream",
          "name": "stdout",
          "text": [
            "https://api.elsevier.com/content/article/doi/10.1038/s41598-022-08691-2?apiKey=dad1b7295c38089e9ab8129bb2b77563&httpAccept=text%2Fxml\n"
          ]
        }
      ]
    },
    {
      "cell_type": "code",
      "source": [
        "for id in scopus_id:\n",
        "  print(id)\n",
        "  download_scopus(id)"
      ],
      "metadata": {
        "colab": {
          "base_uri": "https://localhost:8080/"
        },
        "id": "dnRTgecAJ2N1",
        "outputId": "8e28cd72-50b4-49c7-c371-f44ff4f0d60d"
      },
      "execution_count": 32,
      "outputs": [
        {
          "output_type": "stream",
          "name": "stdout",
          "text": [
            "SCOPUS_ID:85126720450\n",
            "https://api.elsevier.com/content/article/scopus_id/SCOPUS_ID:85126720450?apiKey=856d163d12a1f149d801ee44e166857e&httpAccept=text%2Fxml\n",
            "SCOPUS_ID:85126558210\n",
            "https://api.elsevier.com/content/article/scopus_id/SCOPUS_ID:85126558210?apiKey=856d163d12a1f149d801ee44e166857e&httpAccept=text%2Fxml\n",
            "SCOPUS_ID:85126531853\n",
            "https://api.elsevier.com/content/article/scopus_id/SCOPUS_ID:85126531853?apiKey=856d163d12a1f149d801ee44e166857e&httpAccept=text%2Fxml\n",
            "SCOPUS_ID:85126269582\n",
            "https://api.elsevier.com/content/article/scopus_id/SCOPUS_ID:85126269582?apiKey=856d163d12a1f149d801ee44e166857e&httpAccept=text%2Fxml\n",
            "SCOPUS_ID:85126250517\n",
            "https://api.elsevier.com/content/article/scopus_id/SCOPUS_ID:85126250517?apiKey=856d163d12a1f149d801ee44e166857e&httpAccept=text%2Fxml\n",
            "SCOPUS_ID:85126237860\n",
            "https://api.elsevier.com/content/article/scopus_id/SCOPUS_ID:85126237860?apiKey=856d163d12a1f149d801ee44e166857e&httpAccept=text%2Fxml\n",
            "SCOPUS_ID:85126224116\n",
            "https://api.elsevier.com/content/article/scopus_id/SCOPUS_ID:85126224116?apiKey=856d163d12a1f149d801ee44e166857e&httpAccept=text%2Fxml\n",
            "SCOPUS_ID:85126090467\n",
            "https://api.elsevier.com/content/article/scopus_id/SCOPUS_ID:85126090467?apiKey=856d163d12a1f149d801ee44e166857e&httpAccept=text%2Fxml\n",
            "SCOPUS_ID:85126022489\n",
            "https://api.elsevier.com/content/article/scopus_id/SCOPUS_ID:85126022489?apiKey=856d163d12a1f149d801ee44e166857e&httpAccept=text%2Fxml\n",
            "SCOPUS_ID:85125982200\n",
            "https://api.elsevier.com/content/article/scopus_id/SCOPUS_ID:85125982200?apiKey=856d163d12a1f149d801ee44e166857e&httpAccept=text%2Fxml\n",
            "SCOPUS_ID:85125691936\n",
            "https://api.elsevier.com/content/article/scopus_id/SCOPUS_ID:85125691936?apiKey=856d163d12a1f149d801ee44e166857e&httpAccept=text%2Fxml\n",
            "SCOPUS_ID:85125611038\n",
            "https://api.elsevier.com/content/article/scopus_id/SCOPUS_ID:85125611038?apiKey=856d163d12a1f149d801ee44e166857e&httpAccept=text%2Fxml\n",
            "SCOPUS_ID:85125483547\n",
            "https://api.elsevier.com/content/article/scopus_id/SCOPUS_ID:85125483547?apiKey=856d163d12a1f149d801ee44e166857e&httpAccept=text%2Fxml\n",
            "SCOPUS_ID:85125213854\n",
            "https://api.elsevier.com/content/article/scopus_id/SCOPUS_ID:85125213854?apiKey=856d163d12a1f149d801ee44e166857e&httpAccept=text%2Fxml\n",
            "SCOPUS_ID:85124976985\n",
            "https://api.elsevier.com/content/article/scopus_id/SCOPUS_ID:85124976985?apiKey=856d163d12a1f149d801ee44e166857e&httpAccept=text%2Fxml\n",
            "SCOPUS_ID:85124810061\n",
            "https://api.elsevier.com/content/article/scopus_id/SCOPUS_ID:85124810061?apiKey=856d163d12a1f149d801ee44e166857e&httpAccept=text%2Fxml\n",
            "SCOPUS_ID:85124740506\n",
            "https://api.elsevier.com/content/article/scopus_id/SCOPUS_ID:85124740506?apiKey=856d163d12a1f149d801ee44e166857e&httpAccept=text%2Fxml\n",
            "SCOPUS_ID:85124314181\n",
            "https://api.elsevier.com/content/article/scopus_id/SCOPUS_ID:85124314181?apiKey=856d163d12a1f149d801ee44e166857e&httpAccept=text%2Fxml\n",
            "SCOPUS_ID:85124270855\n",
            "https://api.elsevier.com/content/article/scopus_id/SCOPUS_ID:85124270855?apiKey=856d163d12a1f149d801ee44e166857e&httpAccept=text%2Fxml\n",
            "SCOPUS_ID:85124174691\n",
            "https://api.elsevier.com/content/article/scopus_id/SCOPUS_ID:85124174691?apiKey=856d163d12a1f149d801ee44e166857e&httpAccept=text%2Fxml\n",
            "SCOPUS_ID:85124045846\n",
            "https://api.elsevier.com/content/article/scopus_id/SCOPUS_ID:85124045846?apiKey=856d163d12a1f149d801ee44e166857e&httpAccept=text%2Fxml\n",
            "SCOPUS_ID:85123974052\n",
            "https://api.elsevier.com/content/article/scopus_id/SCOPUS_ID:85123974052?apiKey=856d163d12a1f149d801ee44e166857e&httpAccept=text%2Fxml\n",
            "SCOPUS_ID:85123973132\n",
            "https://api.elsevier.com/content/article/scopus_id/SCOPUS_ID:85123973132?apiKey=856d163d12a1f149d801ee44e166857e&httpAccept=text%2Fxml\n",
            "SCOPUS_ID:85123919258\n",
            "https://api.elsevier.com/content/article/scopus_id/SCOPUS_ID:85123919258?apiKey=856d163d12a1f149d801ee44e166857e&httpAccept=text%2Fxml\n",
            "SCOPUS_ID:85123794932\n",
            "https://api.elsevier.com/content/article/scopus_id/SCOPUS_ID:85123794932?apiKey=856d163d12a1f149d801ee44e166857e&httpAccept=text%2Fxml\n"
          ]
        }
      ]
    },
    {
      "cell_type": "code",
      "source": [
        ""
      ],
      "metadata": {
        "id": "y-5vNXgoGIJX"
      },
      "execution_count": null,
      "outputs": []
    }
  ]
}