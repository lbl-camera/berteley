{
  "nbformat": 4,
  "nbformat_minor": 0,
  "metadata": {
    "colab": {
      "name": "Springer_Extract.ipynb",
      "provenance": [],
      "authorship_tag": "ABX9TyMf+fEmbK4osWvr6R0FXIRj",
      "include_colab_link": true
    },
    "kernelspec": {
      "name": "python3",
      "display_name": "Python 3"
    },
    "language_info": {
      "name": "python"
    }
  },
  "cells": [
    {
      "cell_type": "markdown",
      "metadata": {
        "id": "view-in-github",
        "colab_type": "text"
      },
      "source": [
        "<a href=\"https://colab.research.google.com/github/dani-lbnl/mudit/blob/main/Springer_Extract.ipynb\" target=\"_parent\"><img src=\"https://colab.research.google.com/assets/colab-badge.svg\" alt=\"Open In Colab\"/></a>"
      ]
    },
    {
      "cell_type": "code",
      "source": [
        ""
      ],
      "metadata": {
        "id": "2c420izHUqUH"
      },
      "execution_count": null,
      "outputs": []
    },
    {
      "cell_type": "code",
      "execution_count": 7,
      "metadata": {
        "id": "uhA_Er4bUjSy"
      },
      "outputs": [],
      "source": [
        "import urllib.request as request\n",
        "import json\n",
        "\n",
        "\n",
        "class SpringerScraper():\n",
        "    def __init__(\n",
        "            self,\n",
        "            query_text,\n",
        "            start=0,\n",
        "            year=2020,\n",
        "            apikey=\"d0fce19bf0a92a57dd448bd7f0c2301f\",\n",
        "            max_return=100):\n",
        "        \"\"\"\n",
        "        :param query_text: query words\n",
        "        :param start: start page number\n",
        "        :param year: year of published papers\n",
        "        :param apikey: Springer APIKEY\n",
        "        :param max_return: max returned number of papers\n",
        "        \"\"\"\n",
        "        self.apikey = apikey\n",
        "        self.start = start\n",
        "        self.max_return = max_return\n",
        "        self.year = year\n",
        "        self.query_text = query_text.replace(\" \", '%20')\n",
        "\n",
        "    def FindDois(self):\n",
        "        \"\"\"\n",
        "        :return: <list> of <str> list of DOIs\n",
        "        \"\"\"\n",
        "        url = \"http://api.springernature.com/meta/v2/json?&q={}%20type:Journal%20year:{}&s={}&p={}&api_key={}\".format(\n",
        "            self.query_text, self.year, self.start, self.max_return, self.apikey)\n",
        "        # url = \"http://api.springernature.com/openaccess/json?q=title:%22lithium%22metal%22battery%22type:Journal%20year:{}&s={}&p={}&api_key={}\".format(self.year, self.start, self.max_return, self.apikey)\n",
        "        # url = \"http://api.springernature.com/openaccess/json?q=title:{}%20type:Journal%20year:{}&s={}&p={}&api_key={}\".format(self.query_text,self.year, self.start, self.max_return, self.apikey)\n",
        "\n",
        "        \n",
        "        crawl_content = request.urlopen(url).read()\n",
        "        Content = json.loads(crawl_content.decode('utf8'))\n",
        "        Dois = []\n",
        "        for i in range(self.max_return):\n",
        "            Dois.append(Content['records'][i]['doi'])\n",
        "        return Dois\n",
        "\n",
        "    def FindingXml(self, papers):\n",
        "        \"\"\"\n",
        "        :param papers: list of DOIS\n",
        "        :return: url addresses of papers\n",
        "        \"\"\"\n",
        "        DoiUrls = []\n",
        "        for doi in papers:\n",
        "            doiUrls = \"https://api.springernature.com/meta/v2/pam?q=doi:{}&p=2&api_key={}\".format(\n",
        "                doi, self.apikey)\n",
        "            DoiUrls.append(doiUrls)\n",
        "        return DoiUrls\n",
        "\n",
        "\n",
        "def download_doi(doi):\n",
        "    \"\"\"\n",
        "    :param doi: DOI\n",
        "    :return:\n",
        "    \"\"\"\n",
        "    WebContent = request.urlopen(doi).read()\n",
        "    with open(r'springer_{}.xml'.format(doi), 'wb') as f:\n",
        "        f.write(WebContent)\n",
        "        f.close()\n",
        "    return"
      ]
    },
    {
      "cell_type": "code",
      "source": [
        "ss = SpringerScraper(\"Lithium Metal Battery\")"
      ],
      "metadata": {
        "id": "sZudokFDUuPI"
      },
      "execution_count": 8,
      "outputs": []
    },
    {
      "cell_type": "code",
      "source": [
        "doi_list = ss.FindDois()"
      ],
      "metadata": {
        "id": "MX-ejl-5U_LC"
      },
      "execution_count": 9,
      "outputs": []
    },
    {
      "cell_type": "code",
      "source": [
        "url_doi=ss.FindingXml(doi_list)"
      ],
      "metadata": {
        "id": "jEkm9W-yVHlz"
      },
      "execution_count": 11,
      "outputs": []
    },
    {
      "cell_type": "code",
      "source": [
        "len(doi_list)"
      ],
      "metadata": {
        "colab": {
          "base_uri": "https://localhost:8080/"
        },
        "id": "-ETO7V3CYNxk",
        "outputId": "98171ca9-d38a-43b8-950e-f56a34a76d80"
      },
      "execution_count": 12,
      "outputs": [
        {
          "output_type": "execute_result",
          "data": {
            "text/plain": [
              "100"
            ]
          },
          "metadata": {},
          "execution_count": 12
        }
      ]
    },
    {
      "cell_type": "code",
      "source": [
        "num_list = []\n",
        "for i in range(1,101):\n",
        "  num_list.append(i)\n"
      ],
      "metadata": {
        "id": "iR5871LVYWiK"
      },
      "execution_count": 15,
      "outputs": []
    },
    {
      "cell_type": "code",
      "source": [
        "url_doi"
      ],
      "metadata": {
        "colab": {
          "base_uri": "https://localhost:8080/"
        },
        "id": "w9UL-_40ZHbk",
        "outputId": "bae9284d-7680-42c0-ed48-4c9cd15b02dd"
      },
      "execution_count": 23,
      "outputs": [
        {
          "output_type": "execute_result",
          "data": {
            "text/plain": [
              "['https://api.springernature.com/meta/v2/pam?q=doi:10.1038/s41378-020-00222-1&p=2&api_key=d0fce19bf0a92a57dd448bd7f0c2301f',\n",
              " 'https://api.springernature.com/meta/v2/pam?q=doi:10.1007/s11467-020-0992-2&p=2&api_key=d0fce19bf0a92a57dd448bd7f0c2301f',\n",
              " 'https://api.springernature.com/meta/v2/pam?q=doi:10.1038/s41427-020-00257-w&p=2&api_key=d0fce19bf0a92a57dd448bd7f0c2301f',\n",
              " 'https://api.springernature.com/meta/v2/pam?q=doi:10.1186/s12302-020-00436-0&p=2&api_key=d0fce19bf0a92a57dd448bd7f0c2301f',\n",
              " 'https://api.springernature.com/meta/v2/pam?q=doi:10.1186/s12887-020-02444-8&p=2&api_key=d0fce19bf0a92a57dd448bd7f0c2301f',\n",
              " 'https://api.springernature.com/meta/v2/pam?q=doi:10.1557/PROC-699-R7.5&p=2&api_key=d0fce19bf0a92a57dd448bd7f0c2301f',\n",
              " 'https://api.springernature.com/meta/v2/pam?q=doi:10.1038/s41598-020-79286-y&p=2&api_key=d0fce19bf0a92a57dd448bd7f0c2301f',\n",
              " 'https://api.springernature.com/meta/v2/pam?q=doi:10.1038/s41598-020-79188-z&p=2&api_key=d0fce19bf0a92a57dd448bd7f0c2301f',\n",
              " 'https://api.springernature.com/meta/v2/pam?q=doi:10.1038/s41598-020-78977-w&p=2&api_key=d0fce19bf0a92a57dd448bd7f0c2301f',\n",
              " 'https://api.springernature.com/meta/v2/pam?q=doi:10.1038/s41467-020-19815-5&p=2&api_key=d0fce19bf0a92a57dd448bd7f0c2301f',\n",
              " 'https://api.springernature.com/meta/v2/pam?q=doi:10.1038/s41598-020-79038-y&p=2&api_key=d0fce19bf0a92a57dd448bd7f0c2301f',\n",
              " 'https://api.springernature.com/meta/v2/pam?q=doi:10.1038/s41598-020-78558-x&p=2&api_key=d0fce19bf0a92a57dd448bd7f0c2301f',\n",
              " 'https://api.springernature.com/meta/v2/pam?q=doi:10.1007/s11051-020-05100-5&p=2&api_key=d0fce19bf0a92a57dd448bd7f0c2301f',\n",
              " 'https://api.springernature.com/meta/v2/pam?q=doi:10.1186/s40635-020-00354-8&p=2&api_key=d0fce19bf0a92a57dd448bd7f0c2301f',\n",
              " 'https://api.springernature.com/meta/v2/pam?q=doi:10.1007/s42452-020-03842-4&p=2&api_key=d0fce19bf0a92a57dd448bd7f0c2301f',\n",
              " 'https://api.springernature.com/meta/v2/pam?q=doi:10.1007/s11051-020-05089-x&p=2&api_key=d0fce19bf0a92a57dd448bd7f0c2301f',\n",
              " 'https://api.springernature.com/meta/v2/pam?q=doi:10.1038/s41467-020-20198-w&p=2&api_key=d0fce19bf0a92a57dd448bd7f0c2301f',\n",
              " 'https://api.springernature.com/meta/v2/pam?q=doi:10.1038/s41598-020-78649-9&p=2&api_key=d0fce19bf0a92a57dd448bd7f0c2301f',\n",
              " 'https://api.springernature.com/meta/v2/pam?q=doi:10.1038/s41467-020-20374-y&p=2&api_key=d0fce19bf0a92a57dd448bd7f0c2301f',\n",
              " 'https://api.springernature.com/meta/v2/pam?q=doi:10.1038/s41598-020-78268-4&p=2&api_key=d0fce19bf0a92a57dd448bd7f0c2301f',\n",
              " 'https://api.springernature.com/meta/v2/pam?q=doi:10.1038/s43246-020-00095-x&p=2&api_key=d0fce19bf0a92a57dd448bd7f0c2301f',\n",
              " 'https://api.springernature.com/meta/v2/pam?q=doi:10.1038/s41598-020-78258-6&p=2&api_key=d0fce19bf0a92a57dd448bd7f0c2301f',\n",
              " 'https://api.springernature.com/meta/v2/pam?q=doi:10.1038/s41598-020-78542-5&p=2&api_key=d0fce19bf0a92a57dd448bd7f0c2301f',\n",
              " 'https://api.springernature.com/meta/v2/pam?q=doi:10.1038/s41467-020-19991-4&p=2&api_key=d0fce19bf0a92a57dd448bd7f0c2301f',\n",
              " 'https://api.springernature.com/meta/v2/pam?q=doi:10.1038/s41598-020-78262-w&p=2&api_key=d0fce19bf0a92a57dd448bd7f0c2301f',\n",
              " 'https://api.springernature.com/meta/v2/pam?q=doi:10.1007/s11051-020-05103-2&p=2&api_key=d0fce19bf0a92a57dd448bd7f0c2301f',\n",
              " 'https://api.springernature.com/meta/v2/pam?q=doi:10.1007/s11051-020-05097-x&p=2&api_key=d0fce19bf0a92a57dd448bd7f0c2301f',\n",
              " 'https://api.springernature.com/meta/v2/pam?q=doi:10.1038/s41598-020-78070-2&p=2&api_key=d0fce19bf0a92a57dd448bd7f0c2301f',\n",
              " 'https://api.springernature.com/meta/v2/pam?q=doi:10.1038/s41598-020-78363-6&p=2&api_key=d0fce19bf0a92a57dd448bd7f0c2301f',\n",
              " 'https://api.springernature.com/meta/v2/pam?q=doi:10.1038/s41467-020-19992-3&p=2&api_key=d0fce19bf0a92a57dd448bd7f0c2301f',\n",
              " 'https://api.springernature.com/meta/v2/pam?q=doi:10.1038/s41467-020-19987-0&p=2&api_key=d0fce19bf0a92a57dd448bd7f0c2301f',\n",
              " 'https://api.springernature.com/meta/v2/pam?q=doi:10.1007/s41918-020-00076-1&p=2&api_key=d0fce19bf0a92a57dd448bd7f0c2301f',\n",
              " 'https://api.springernature.com/meta/v2/pam?q=doi:10.1007/s42864-020-00068-0&p=2&api_key=d0fce19bf0a92a57dd448bd7f0c2301f',\n",
              " 'https://api.springernature.com/meta/v2/pam?q=doi:10.1007/s40843-020-1425-2&p=2&api_key=d0fce19bf0a92a57dd448bd7f0c2301f',\n",
              " 'https://api.springernature.com/meta/v2/pam?q=doi:10.1007/s12274-020-2993-4&p=2&api_key=d0fce19bf0a92a57dd448bd7f0c2301f',\n",
              " 'https://api.springernature.com/meta/v2/pam?q=doi:10.1007/s10118-020-2455-1&p=2&api_key=d0fce19bf0a92a57dd448bd7f0c2301f',\n",
              " 'https://api.springernature.com/meta/v2/pam?q=doi:10.1007/s42765-020-00052-w&p=2&api_key=d0fce19bf0a92a57dd448bd7f0c2301f',\n",
              " 'https://api.springernature.com/meta/v2/pam?q=doi:10.1007/s41918-020-00082-3&p=2&api_key=d0fce19bf0a92a57dd448bd7f0c2301f',\n",
              " 'https://api.springernature.com/meta/v2/pam?q=doi:10.1007/s11705-019-1897-x&p=2&api_key=d0fce19bf0a92a57dd448bd7f0c2301f',\n",
              " 'https://api.springernature.com/meta/v2/pam?q=doi:10.1007/s13233-020-8175-0&p=2&api_key=d0fce19bf0a92a57dd448bd7f0c2301f',\n",
              " 'https://api.springernature.com/meta/v2/pam?q=doi:10.1007/s11708-020-0810-0&p=2&api_key=d0fce19bf0a92a57dd448bd7f0c2301f',\n",
              " 'https://api.springernature.com/meta/v2/pam?q=doi:10.1007/s11581-020-03716-0&p=2&api_key=d0fce19bf0a92a57dd448bd7f0c2301f',\n",
              " 'https://api.springernature.com/meta/v2/pam?q=doi:10.1007/s12274-020-3015-2&p=2&api_key=d0fce19bf0a92a57dd448bd7f0c2301f',\n",
              " 'https://api.springernature.com/meta/v2/pam?q=doi:10.1007/s11581-020-03761-9&p=2&api_key=d0fce19bf0a92a57dd448bd7f0c2301f',\n",
              " 'https://api.springernature.com/meta/v2/pam?q=doi:10.1007/s41918-020-00079-y&p=2&api_key=d0fce19bf0a92a57dd448bd7f0c2301f',\n",
              " 'https://api.springernature.com/meta/v2/pam?q=doi:10.1007/s11581-020-03748-6&p=2&api_key=d0fce19bf0a92a57dd448bd7f0c2301f',\n",
              " 'https://api.springernature.com/meta/v2/pam?q=doi:10.1007/s42247-020-00146-6&p=2&api_key=d0fce19bf0a92a57dd448bd7f0c2301f',\n",
              " 'https://api.springernature.com/meta/v2/pam?q=doi:10.1007/s10934-020-00942-9&p=2&api_key=d0fce19bf0a92a57dd448bd7f0c2301f',\n",
              " 'https://api.springernature.com/meta/v2/pam?q=doi:10.1007/s10853-020-05203-3&p=2&api_key=d0fce19bf0a92a57dd448bd7f0c2301f',\n",
              " 'https://api.springernature.com/meta/v2/pam?q=doi:10.1007/s10853-020-05193-2&p=2&api_key=d0fce19bf0a92a57dd448bd7f0c2301f',\n",
              " 'https://api.springernature.com/meta/v2/pam?q=doi:10.1007/s10854-020-04723-7&p=2&api_key=d0fce19bf0a92a57dd448bd7f0c2301f',\n",
              " 'https://api.springernature.com/meta/v2/pam?q=doi:10.1007/s12274-020-2991-6&p=2&api_key=d0fce19bf0a92a57dd448bd7f0c2301f',\n",
              " 'https://api.springernature.com/meta/v2/pam?q=doi:10.1007/s12613-020-2175-0&p=2&api_key=d0fce19bf0a92a57dd448bd7f0c2301f',\n",
              " 'https://api.springernature.com/meta/v2/pam?q=doi:10.1007/s12598-020-01509-y&p=2&api_key=d0fce19bf0a92a57dd448bd7f0c2301f',\n",
              " 'https://api.springernature.com/meta/v2/pam?q=doi:10.1007/s11581-020-03764-6&p=2&api_key=d0fce19bf0a92a57dd448bd7f0c2301f',\n",
              " 'https://api.springernature.com/meta/v2/pam?q=doi:10.1007/s11581-020-03746-8&p=2&api_key=d0fce19bf0a92a57dd448bd7f0c2301f',\n",
              " 'https://api.springernature.com/meta/v2/pam?q=doi:10.1007/s11581-020-03742-y&p=2&api_key=d0fce19bf0a92a57dd448bd7f0c2301f',\n",
              " 'https://api.springernature.com/meta/v2/pam?q=doi:10.1007/s11581-020-03771-7&p=2&api_key=d0fce19bf0a92a57dd448bd7f0c2301f',\n",
              " 'https://api.springernature.com/meta/v2/pam?q=doi:10.1007/s12274-020-3009-0&p=2&api_key=d0fce19bf0a92a57dd448bd7f0c2301f',\n",
              " 'https://api.springernature.com/meta/v2/pam?q=doi:10.1007/s11581-020-03741-z&p=2&api_key=d0fce19bf0a92a57dd448bd7f0c2301f',\n",
              " 'https://api.springernature.com/meta/v2/pam?q=doi:10.1007/s11581-020-03768-2&p=2&api_key=d0fce19bf0a92a57dd448bd7f0c2301f',\n",
              " 'https://api.springernature.com/meta/v2/pam?q=doi:10.1007/s10854-020-04826-1&p=2&api_key=d0fce19bf0a92a57dd448bd7f0c2301f',\n",
              " 'https://api.springernature.com/meta/v2/pam?q=doi:10.1007/s10853-020-05197-y&p=2&api_key=d0fce19bf0a92a57dd448bd7f0c2301f',\n",
              " 'https://api.springernature.com/meta/v2/pam?q=doi:10.1007/s11431-019-1539-6&p=2&api_key=d0fce19bf0a92a57dd448bd7f0c2301f',\n",
              " 'https://api.springernature.com/meta/v2/pam?q=doi:10.1007/s11581-020-03520-w&p=2&api_key=d0fce19bf0a92a57dd448bd7f0c2301f',\n",
              " 'https://api.springernature.com/meta/v2/pam?q=doi:10.1007/s42247-020-00140-y&p=2&api_key=d0fce19bf0a92a57dd448bd7f0c2301f',\n",
              " 'https://api.springernature.com/meta/v2/pam?q=doi:10.1007/s10934-020-00963-4&p=2&api_key=d0fce19bf0a92a57dd448bd7f0c2301f',\n",
              " 'https://api.springernature.com/meta/v2/pam?q=doi:10.1007/s11581-020-03751-x&p=2&api_key=d0fce19bf0a92a57dd448bd7f0c2301f',\n",
              " 'https://api.springernature.com/meta/v2/pam?q=doi:10.1007/s13204-020-01310-4&p=2&api_key=d0fce19bf0a92a57dd448bd7f0c2301f',\n",
              " 'https://api.springernature.com/meta/v2/pam?q=doi:10.1007/s11581-020-03738-8&p=2&api_key=d0fce19bf0a92a57dd448bd7f0c2301f',\n",
              " 'https://api.springernature.com/meta/v2/pam?q=doi:10.1007/s11581-020-03782-4&p=2&api_key=d0fce19bf0a92a57dd448bd7f0c2301f',\n",
              " 'https://api.springernature.com/meta/v2/pam?q=doi:10.1007/s11771-020-4570-0&p=2&api_key=d0fce19bf0a92a57dd448bd7f0c2301f',\n",
              " 'https://api.springernature.com/meta/v2/pam?q=doi:10.1007/s40843-020-1433-4&p=2&api_key=d0fce19bf0a92a57dd448bd7f0c2301f',\n",
              " 'https://api.springernature.com/meta/v2/pam?q=doi:10.1038/s41560-020-00734-0&p=2&api_key=d0fce19bf0a92a57dd448bd7f0c2301f',\n",
              " 'https://api.springernature.com/meta/v2/pam?q=doi:10.1007/s11705-020-1918-9&p=2&api_key=d0fce19bf0a92a57dd448bd7f0c2301f',\n",
              " 'https://api.springernature.com/meta/v2/pam?q=doi:10.1007/s11581-020-03758-4&p=2&api_key=d0fce19bf0a92a57dd448bd7f0c2301f',\n",
              " 'https://api.springernature.com/meta/v2/pam?q=doi:10.1007/s11664-020-08470-7&p=2&api_key=d0fce19bf0a92a57dd448bd7f0c2301f',\n",
              " 'https://api.springernature.com/meta/v2/pam?q=doi:10.1038/s41563-020-0729-1&p=2&api_key=d0fce19bf0a92a57dd448bd7f0c2301f',\n",
              " 'https://api.springernature.com/meta/v2/pam?q=doi:10.1007/s12649-019-00927-z&p=2&api_key=d0fce19bf0a92a57dd448bd7f0c2301f',\n",
              " 'https://api.springernature.com/meta/v2/pam?q=doi:10.1007/s40831-020-00314-2&p=2&api_key=d0fce19bf0a92a57dd448bd7f0c2301f',\n",
              " 'https://api.springernature.com/meta/v2/pam?q=doi:10.1007/s12613-020-2150-9&p=2&api_key=d0fce19bf0a92a57dd448bd7f0c2301f',\n",
              " 'https://api.springernature.com/meta/v2/pam?q=doi:10.1007/s11581-020-03781-5&p=2&api_key=d0fce19bf0a92a57dd448bd7f0c2301f',\n",
              " 'https://api.springernature.com/meta/v2/pam?q=doi:10.1007/s42823-020-00133-1&p=2&api_key=d0fce19bf0a92a57dd448bd7f0c2301f',\n",
              " 'https://api.springernature.com/meta/v2/pam?q=doi:10.1134/S1023193520120174&p=2&api_key=d0fce19bf0a92a57dd448bd7f0c2301f',\n",
              " 'https://api.springernature.com/meta/v2/pam?q=doi:10.1007/s11581-020-03762-8&p=2&api_key=d0fce19bf0a92a57dd448bd7f0c2301f',\n",
              " 'https://api.springernature.com/meta/v2/pam?q=doi:10.1007/s40831-020-00313-3&p=2&api_key=d0fce19bf0a92a57dd448bd7f0c2301f',\n",
              " 'https://api.springernature.com/meta/v2/pam?q=doi:10.1134/S0020168520120092&p=2&api_key=d0fce19bf0a92a57dd448bd7f0c2301f',\n",
              " 'https://api.springernature.com/meta/v2/pam?q=doi:10.1007/s11581-020-03747-7&p=2&api_key=d0fce19bf0a92a57dd448bd7f0c2301f',\n",
              " 'https://api.springernature.com/meta/v2/pam?q=doi:10.1007/s12649-019-00921-5&p=2&api_key=d0fce19bf0a92a57dd448bd7f0c2301f',\n",
              " 'https://api.springernature.com/meta/v2/pam?q=doi:10.1007/s12598-014-0316-1&p=2&api_key=d0fce19bf0a92a57dd448bd7f0c2301f',\n",
              " 'https://api.springernature.com/meta/v2/pam?q=doi:10.1007/s11581-020-03786-0&p=2&api_key=d0fce19bf0a92a57dd448bd7f0c2301f',\n",
              " 'https://api.springernature.com/meta/v2/pam?q=doi:10.1007/s12613-020-2026-z&p=2&api_key=d0fce19bf0a92a57dd448bd7f0c2301f',\n",
              " 'https://api.springernature.com/meta/v2/pam?q=doi:10.1007/s40145-020-0411-8&p=2&api_key=d0fce19bf0a92a57dd448bd7f0c2301f',\n",
              " 'https://api.springernature.com/meta/v2/pam?q=doi:10.1007/s10853-020-05221-1&p=2&api_key=d0fce19bf0a92a57dd448bd7f0c2301f',\n",
              " 'https://api.springernature.com/meta/v2/pam?q=doi:10.1007/s12274-020-3011-6&p=2&api_key=d0fce19bf0a92a57dd448bd7f0c2301f',\n",
              " 'https://api.springernature.com/meta/v2/pam?q=doi:10.1007/s12613-020-2080-6&p=2&api_key=d0fce19bf0a92a57dd448bd7f0c2301f',\n",
              " 'https://api.springernature.com/meta/v2/pam?q=doi:10.1007/s40843-020-1387-7&p=2&api_key=d0fce19bf0a92a57dd448bd7f0c2301f',\n",
              " 'https://api.springernature.com/meta/v2/pam?q=doi:10.1134/S0031918X20140173&p=2&api_key=d0fce19bf0a92a57dd448bd7f0c2301f',\n",
              " 'https://api.springernature.com/meta/v2/pam?q=doi:10.1007/s10854-020-04805-6&p=2&api_key=d0fce19bf0a92a57dd448bd7f0c2301f',\n",
              " 'https://api.springernature.com/meta/v2/pam?q=doi:10.1007/s11581-020-03772-6&p=2&api_key=d0fce19bf0a92a57dd448bd7f0c2301f']"
            ]
          },
          "metadata": {},
          "execution_count": 23
        }
      ]
    },
    {
      "cell_type": "code",
      "source": [
        "def download_doi(doi):\n",
        "    \"\"\"\n",
        "    :param doi: DOI\n",
        "    :return:\n",
        "    \"\"\"\n",
        "\n",
        "    save_list = []\n",
        "    WebContent = request.urlopen(doi).read()\n",
        "    with open(r'springer_{}.xml'.format('1'), 'wb') as f:\n",
        "        save_list.append(WebContent)   \n",
        "        f.write(WebContent)\n",
        "        f.close()\n",
        "    return"
      ],
      "metadata": {
        "id": "NxhGeoGrVJBn"
      },
      "execution_count": 24,
      "outputs": []
    },
    {
      "cell_type": "code",
      "source": [
        "download_doi('https://api.springernature.com/meta/v2/pam?q=doi:10.1038/s41378-020-00222-1&p=2&api_key=d0fce19bf0a92a57dd448bd7f0c2301f')"
      ],
      "metadata": {
        "id": "yJZFIIwDYMtB"
      },
      "execution_count": 25,
      "outputs": []
    },
    {
      "cell_type": "code",
      "source": [
        "save_list"
      ],
      "metadata": {
        "colab": {
          "base_uri": "https://localhost:8080/",
          "height": 168
        },
        "id": "ZWaDWwDMY10g",
        "outputId": "12bf46a2-5c68-4255-a311-68e369bea44e"
      },
      "execution_count": 26,
      "outputs": [
        {
          "output_type": "error",
          "ename": "NameError",
          "evalue": "ignored",
          "traceback": [
            "\u001b[0;31m---------------------------------------------------------------------------\u001b[0m",
            "\u001b[0;31mNameError\u001b[0m                                 Traceback (most recent call last)",
            "\u001b[0;32m<ipython-input-26-6fed3e491aff>\u001b[0m in \u001b[0;36m<module>\u001b[0;34m()\u001b[0m\n\u001b[0;32m----> 1\u001b[0;31m \u001b[0msave_list\u001b[0m\u001b[0;34m\u001b[0m\u001b[0;34m\u001b[0m\u001b[0m\n\u001b[0m",
            "\u001b[0;31mNameError\u001b[0m: name 'save_list' is not defined"
          ]
        }
      ]
    },
    {
      "cell_type": "code",
      "source": [
        ""
      ],
      "metadata": {
        "id": "EwDJp5i9Z7Ew"
      },
      "execution_count": null,
      "outputs": []
    }
  ]
}