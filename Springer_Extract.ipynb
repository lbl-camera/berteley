{
  "nbformat": 4,
  "nbformat_minor": 0,
  "metadata": {
    "colab": {
      "name": "Springer_Extract.ipynb",
      "provenance": [],
      "authorship_tag": "ABX9TyNNjnGARMzbYwt1hFwATq4g",
      "include_colab_link": true
    },
    "kernelspec": {
      "name": "python3",
      "display_name": "Python 3"
    },
    "language_info": {
      "name": "python"
    }
  },
  "cells": [
    {
      "cell_type": "markdown",
      "metadata": {
        "id": "view-in-github",
        "colab_type": "text"
      },
      "source": [
        "<a href=\"https://colab.research.google.com/github/dani-lbnl/mudit/blob/main/Springer_Extract.ipynb\" target=\"_parent\"><img src=\"https://colab.research.google.com/assets/colab-badge.svg\" alt=\"Open In Colab\"/></a>"
      ]
    },
    {
      "cell_type": "code",
      "source": [
        ""
      ],
      "metadata": {
        "id": "2c420izHUqUH"
      },
      "execution_count": null,
      "outputs": []
    },
    {
      "cell_type": "code",
      "execution_count": 1,
      "metadata": {
        "id": "uhA_Er4bUjSy"
      },
      "outputs": [],
      "source": [
        ""
      ]
    },
    {
      "cell_type": "code",
      "source": [
        "ss = SpringerScraper(\"Lithium Metal Battery\")"
      ],
      "metadata": {
        "id": "sZudokFDUuPI"
      },
      "execution_count": 2,
      "outputs": []
    },
    {
      "cell_type": "code",
      "source": [
        "doi_list = ss.FindDois()"
      ],
      "metadata": {
        "id": "MX-ejl-5U_LC"
      },
      "execution_count": 3,
      "outputs": []
    },
    {
      "cell_type": "code",
      "source": [
        "url_doi=ss.FindingXml(doi_list)"
      ],
      "metadata": {
        "id": "jEkm9W-yVHlz"
      },
      "execution_count": 4,
      "outputs": []
    },
    {
      "cell_type": "code",
      "source": [
        "len(doi_list)"
      ],
      "metadata": {
        "colab": {
          "base_uri": "https://localhost:8080/"
        },
        "id": "-ETO7V3CYNxk",
        "outputId": "32235b3b-23e0-4f7a-ab7f-cc3e4f968dd6"
      },
      "execution_count": 5,
      "outputs": [
        {
          "output_type": "execute_result",
          "data": {
            "text/plain": [
              "100"
            ]
          },
          "metadata": {},
          "execution_count": 5
        }
      ]
    },
    {
      "cell_type": "code",
      "source": [
        "num_list = []\n",
        "for i in range(1,101):\n",
        "  num_list.append(i)\n"
      ],
      "metadata": {
        "id": "iR5871LVYWiK"
      },
      "execution_count": 6,
      "outputs": []
    },
    {
      "cell_type": "code",
      "source": [
        "url_doi"
      ],
      "metadata": {
        "colab": {
          "base_uri": "https://localhost:8080/"
        },
        "id": "w9UL-_40ZHbk",
        "outputId": "6dfb4bdd-3d1b-468b-ad0e-187911d6c848"
      },
      "execution_count": 7,
      "outputs": [
        {
          "output_type": "execute_result",
          "data": {
            "text/plain": [
              "['https://api.springernature.com/meta/v2/pam?q=doi:10.1038/s41378-020-00222-1&p=2&api_key=d0fce19bf0a92a57dd448bd7f0c2301f',\n",
              " 'https://api.springernature.com/meta/v2/pam?q=doi:10.1007/s11467-020-0992-2&p=2&api_key=d0fce19bf0a92a57dd448bd7f0c2301f',\n",
              " 'https://api.springernature.com/meta/v2/pam?q=doi:10.1038/s41427-020-00257-w&p=2&api_key=d0fce19bf0a92a57dd448bd7f0c2301f',\n",
              " 'https://api.springernature.com/meta/v2/pam?q=doi:10.1186/s12302-020-00436-0&p=2&api_key=d0fce19bf0a92a57dd448bd7f0c2301f',\n",
              " 'https://api.springernature.com/meta/v2/pam?q=doi:10.1186/s12887-020-02444-8&p=2&api_key=d0fce19bf0a92a57dd448bd7f0c2301f',\n",
              " 'https://api.springernature.com/meta/v2/pam?q=doi:10.1557/PROC-699-R7.5&p=2&api_key=d0fce19bf0a92a57dd448bd7f0c2301f',\n",
              " 'https://api.springernature.com/meta/v2/pam?q=doi:10.1038/s41598-020-79286-y&p=2&api_key=d0fce19bf0a92a57dd448bd7f0c2301f',\n",
              " 'https://api.springernature.com/meta/v2/pam?q=doi:10.1038/s41598-020-79188-z&p=2&api_key=d0fce19bf0a92a57dd448bd7f0c2301f',\n",
              " 'https://api.springernature.com/meta/v2/pam?q=doi:10.1038/s41598-020-78977-w&p=2&api_key=d0fce19bf0a92a57dd448bd7f0c2301f',\n",
              " 'https://api.springernature.com/meta/v2/pam?q=doi:10.1038/s41467-020-19815-5&p=2&api_key=d0fce19bf0a92a57dd448bd7f0c2301f',\n",
              " 'https://api.springernature.com/meta/v2/pam?q=doi:10.1038/s41598-020-79038-y&p=2&api_key=d0fce19bf0a92a57dd448bd7f0c2301f',\n",
              " 'https://api.springernature.com/meta/v2/pam?q=doi:10.1038/s41598-020-78558-x&p=2&api_key=d0fce19bf0a92a57dd448bd7f0c2301f',\n",
              " 'https://api.springernature.com/meta/v2/pam?q=doi:10.1007/s11051-020-05100-5&p=2&api_key=d0fce19bf0a92a57dd448bd7f0c2301f',\n",
              " 'https://api.springernature.com/meta/v2/pam?q=doi:10.1186/s40635-020-00354-8&p=2&api_key=d0fce19bf0a92a57dd448bd7f0c2301f',\n",
              " 'https://api.springernature.com/meta/v2/pam?q=doi:10.1007/s42452-020-03842-4&p=2&api_key=d0fce19bf0a92a57dd448bd7f0c2301f',\n",
              " 'https://api.springernature.com/meta/v2/pam?q=doi:10.1007/s11051-020-05089-x&p=2&api_key=d0fce19bf0a92a57dd448bd7f0c2301f',\n",
              " 'https://api.springernature.com/meta/v2/pam?q=doi:10.1038/s41467-020-20198-w&p=2&api_key=d0fce19bf0a92a57dd448bd7f0c2301f',\n",
              " 'https://api.springernature.com/meta/v2/pam?q=doi:10.1038/s41598-020-78649-9&p=2&api_key=d0fce19bf0a92a57dd448bd7f0c2301f',\n",
              " 'https://api.springernature.com/meta/v2/pam?q=doi:10.1038/s41467-020-20374-y&p=2&api_key=d0fce19bf0a92a57dd448bd7f0c2301f',\n",
              " 'https://api.springernature.com/meta/v2/pam?q=doi:10.1038/s41598-020-78268-4&p=2&api_key=d0fce19bf0a92a57dd448bd7f0c2301f',\n",
              " 'https://api.springernature.com/meta/v2/pam?q=doi:10.1038/s43246-020-00095-x&p=2&api_key=d0fce19bf0a92a57dd448bd7f0c2301f',\n",
              " 'https://api.springernature.com/meta/v2/pam?q=doi:10.1038/s41598-020-78258-6&p=2&api_key=d0fce19bf0a92a57dd448bd7f0c2301f',\n",
              " 'https://api.springernature.com/meta/v2/pam?q=doi:10.1038/s41598-020-78542-5&p=2&api_key=d0fce19bf0a92a57dd448bd7f0c2301f',\n",
              " 'https://api.springernature.com/meta/v2/pam?q=doi:10.1038/s41467-020-19991-4&p=2&api_key=d0fce19bf0a92a57dd448bd7f0c2301f',\n",
              " 'https://api.springernature.com/meta/v2/pam?q=doi:10.1038/s41598-020-78262-w&p=2&api_key=d0fce19bf0a92a57dd448bd7f0c2301f',\n",
              " 'https://api.springernature.com/meta/v2/pam?q=doi:10.1007/s11051-020-05103-2&p=2&api_key=d0fce19bf0a92a57dd448bd7f0c2301f',\n",
              " 'https://api.springernature.com/meta/v2/pam?q=doi:10.1007/s11051-020-05097-x&p=2&api_key=d0fce19bf0a92a57dd448bd7f0c2301f',\n",
              " 'https://api.springernature.com/meta/v2/pam?q=doi:10.1038/s41598-020-78070-2&p=2&api_key=d0fce19bf0a92a57dd448bd7f0c2301f',\n",
              " 'https://api.springernature.com/meta/v2/pam?q=doi:10.1038/s41598-020-78363-6&p=2&api_key=d0fce19bf0a92a57dd448bd7f0c2301f',\n",
              " 'https://api.springernature.com/meta/v2/pam?q=doi:10.1038/s41467-020-19992-3&p=2&api_key=d0fce19bf0a92a57dd448bd7f0c2301f',\n",
              " 'https://api.springernature.com/meta/v2/pam?q=doi:10.1038/s41467-020-19987-0&p=2&api_key=d0fce19bf0a92a57dd448bd7f0c2301f',\n",
              " 'https://api.springernature.com/meta/v2/pam?q=doi:10.1007/s41918-020-00076-1&p=2&api_key=d0fce19bf0a92a57dd448bd7f0c2301f',\n",
              " 'https://api.springernature.com/meta/v2/pam?q=doi:10.1007/s42864-020-00068-0&p=2&api_key=d0fce19bf0a92a57dd448bd7f0c2301f',\n",
              " 'https://api.springernature.com/meta/v2/pam?q=doi:10.1007/s40843-020-1425-2&p=2&api_key=d0fce19bf0a92a57dd448bd7f0c2301f',\n",
              " 'https://api.springernature.com/meta/v2/pam?q=doi:10.1007/s12274-020-2993-4&p=2&api_key=d0fce19bf0a92a57dd448bd7f0c2301f',\n",
              " 'https://api.springernature.com/meta/v2/pam?q=doi:10.1007/s10118-020-2455-1&p=2&api_key=d0fce19bf0a92a57dd448bd7f0c2301f',\n",
              " 'https://api.springernature.com/meta/v2/pam?q=doi:10.1007/s42765-020-00052-w&p=2&api_key=d0fce19bf0a92a57dd448bd7f0c2301f',\n",
              " 'https://api.springernature.com/meta/v2/pam?q=doi:10.1007/s41918-020-00082-3&p=2&api_key=d0fce19bf0a92a57dd448bd7f0c2301f',\n",
              " 'https://api.springernature.com/meta/v2/pam?q=doi:10.1007/s11705-019-1897-x&p=2&api_key=d0fce19bf0a92a57dd448bd7f0c2301f',\n",
              " 'https://api.springernature.com/meta/v2/pam?q=doi:10.1007/s13233-020-8175-0&p=2&api_key=d0fce19bf0a92a57dd448bd7f0c2301f',\n",
              " 'https://api.springernature.com/meta/v2/pam?q=doi:10.1007/s11708-020-0810-0&p=2&api_key=d0fce19bf0a92a57dd448bd7f0c2301f',\n",
              " 'https://api.springernature.com/meta/v2/pam?q=doi:10.1007/s11581-020-03716-0&p=2&api_key=d0fce19bf0a92a57dd448bd7f0c2301f',\n",
              " 'https://api.springernature.com/meta/v2/pam?q=doi:10.1007/s12274-020-3015-2&p=2&api_key=d0fce19bf0a92a57dd448bd7f0c2301f',\n",
              " 'https://api.springernature.com/meta/v2/pam?q=doi:10.1007/s11581-020-03761-9&p=2&api_key=d0fce19bf0a92a57dd448bd7f0c2301f',\n",
              " 'https://api.springernature.com/meta/v2/pam?q=doi:10.1007/s41918-020-00079-y&p=2&api_key=d0fce19bf0a92a57dd448bd7f0c2301f',\n",
              " 'https://api.springernature.com/meta/v2/pam?q=doi:10.1007/s11581-020-03748-6&p=2&api_key=d0fce19bf0a92a57dd448bd7f0c2301f',\n",
              " 'https://api.springernature.com/meta/v2/pam?q=doi:10.1007/s42247-020-00146-6&p=2&api_key=d0fce19bf0a92a57dd448bd7f0c2301f',\n",
              " 'https://api.springernature.com/meta/v2/pam?q=doi:10.1007/s10934-020-00942-9&p=2&api_key=d0fce19bf0a92a57dd448bd7f0c2301f',\n",
              " 'https://api.springernature.com/meta/v2/pam?q=doi:10.1007/s10853-020-05203-3&p=2&api_key=d0fce19bf0a92a57dd448bd7f0c2301f',\n",
              " 'https://api.springernature.com/meta/v2/pam?q=doi:10.1007/s10853-020-05193-2&p=2&api_key=d0fce19bf0a92a57dd448bd7f0c2301f',\n",
              " 'https://api.springernature.com/meta/v2/pam?q=doi:10.1007/s10854-020-04723-7&p=2&api_key=d0fce19bf0a92a57dd448bd7f0c2301f',\n",
              " 'https://api.springernature.com/meta/v2/pam?q=doi:10.1007/s12274-020-2991-6&p=2&api_key=d0fce19bf0a92a57dd448bd7f0c2301f',\n",
              " 'https://api.springernature.com/meta/v2/pam?q=doi:10.1007/s12613-020-2175-0&p=2&api_key=d0fce19bf0a92a57dd448bd7f0c2301f',\n",
              " 'https://api.springernature.com/meta/v2/pam?q=doi:10.1007/s12598-020-01509-y&p=2&api_key=d0fce19bf0a92a57dd448bd7f0c2301f',\n",
              " 'https://api.springernature.com/meta/v2/pam?q=doi:10.1007/s11581-020-03764-6&p=2&api_key=d0fce19bf0a92a57dd448bd7f0c2301f',\n",
              " 'https://api.springernature.com/meta/v2/pam?q=doi:10.1007/s11581-020-03746-8&p=2&api_key=d0fce19bf0a92a57dd448bd7f0c2301f',\n",
              " 'https://api.springernature.com/meta/v2/pam?q=doi:10.1007/s11581-020-03742-y&p=2&api_key=d0fce19bf0a92a57dd448bd7f0c2301f',\n",
              " 'https://api.springernature.com/meta/v2/pam?q=doi:10.1007/s11581-020-03771-7&p=2&api_key=d0fce19bf0a92a57dd448bd7f0c2301f',\n",
              " 'https://api.springernature.com/meta/v2/pam?q=doi:10.1007/s12274-020-3009-0&p=2&api_key=d0fce19bf0a92a57dd448bd7f0c2301f',\n",
              " 'https://api.springernature.com/meta/v2/pam?q=doi:10.1007/s11581-020-03741-z&p=2&api_key=d0fce19bf0a92a57dd448bd7f0c2301f',\n",
              " 'https://api.springernature.com/meta/v2/pam?q=doi:10.1007/s11581-020-03768-2&p=2&api_key=d0fce19bf0a92a57dd448bd7f0c2301f',\n",
              " 'https://api.springernature.com/meta/v2/pam?q=doi:10.1007/s10854-020-04826-1&p=2&api_key=d0fce19bf0a92a57dd448bd7f0c2301f',\n",
              " 'https://api.springernature.com/meta/v2/pam?q=doi:10.1007/s10853-020-05197-y&p=2&api_key=d0fce19bf0a92a57dd448bd7f0c2301f',\n",
              " 'https://api.springernature.com/meta/v2/pam?q=doi:10.1007/s11431-019-1539-6&p=2&api_key=d0fce19bf0a92a57dd448bd7f0c2301f',\n",
              " 'https://api.springernature.com/meta/v2/pam?q=doi:10.1007/s11581-020-03520-w&p=2&api_key=d0fce19bf0a92a57dd448bd7f0c2301f',\n",
              " 'https://api.springernature.com/meta/v2/pam?q=doi:10.1007/s42247-020-00140-y&p=2&api_key=d0fce19bf0a92a57dd448bd7f0c2301f',\n",
              " 'https://api.springernature.com/meta/v2/pam?q=doi:10.1007/s10934-020-00963-4&p=2&api_key=d0fce19bf0a92a57dd448bd7f0c2301f',\n",
              " 'https://api.springernature.com/meta/v2/pam?q=doi:10.1007/s11581-020-03751-x&p=2&api_key=d0fce19bf0a92a57dd448bd7f0c2301f',\n",
              " 'https://api.springernature.com/meta/v2/pam?q=doi:10.1007/s13204-020-01310-4&p=2&api_key=d0fce19bf0a92a57dd448bd7f0c2301f',\n",
              " 'https://api.springernature.com/meta/v2/pam?q=doi:10.1007/s11581-020-03738-8&p=2&api_key=d0fce19bf0a92a57dd448bd7f0c2301f',\n",
              " 'https://api.springernature.com/meta/v2/pam?q=doi:10.1007/s11581-020-03782-4&p=2&api_key=d0fce19bf0a92a57dd448bd7f0c2301f',\n",
              " 'https://api.springernature.com/meta/v2/pam?q=doi:10.1007/s11771-020-4570-0&p=2&api_key=d0fce19bf0a92a57dd448bd7f0c2301f',\n",
              " 'https://api.springernature.com/meta/v2/pam?q=doi:10.1007/s40843-020-1433-4&p=2&api_key=d0fce19bf0a92a57dd448bd7f0c2301f',\n",
              " 'https://api.springernature.com/meta/v2/pam?q=doi:10.1038/s41560-020-00734-0&p=2&api_key=d0fce19bf0a92a57dd448bd7f0c2301f',\n",
              " 'https://api.springernature.com/meta/v2/pam?q=doi:10.1007/s11705-020-1918-9&p=2&api_key=d0fce19bf0a92a57dd448bd7f0c2301f',\n",
              " 'https://api.springernature.com/meta/v2/pam?q=doi:10.1007/s11581-020-03758-4&p=2&api_key=d0fce19bf0a92a57dd448bd7f0c2301f',\n",
              " 'https://api.springernature.com/meta/v2/pam?q=doi:10.1007/s11664-020-08470-7&p=2&api_key=d0fce19bf0a92a57dd448bd7f0c2301f',\n",
              " 'https://api.springernature.com/meta/v2/pam?q=doi:10.1038/s41563-020-0729-1&p=2&api_key=d0fce19bf0a92a57dd448bd7f0c2301f',\n",
              " 'https://api.springernature.com/meta/v2/pam?q=doi:10.1007/s12649-019-00927-z&p=2&api_key=d0fce19bf0a92a57dd448bd7f0c2301f',\n",
              " 'https://api.springernature.com/meta/v2/pam?q=doi:10.1007/s40831-020-00314-2&p=2&api_key=d0fce19bf0a92a57dd448bd7f0c2301f',\n",
              " 'https://api.springernature.com/meta/v2/pam?q=doi:10.1007/s12613-020-2150-9&p=2&api_key=d0fce19bf0a92a57dd448bd7f0c2301f',\n",
              " 'https://api.springernature.com/meta/v2/pam?q=doi:10.1007/s11581-020-03781-5&p=2&api_key=d0fce19bf0a92a57dd448bd7f0c2301f',\n",
              " 'https://api.springernature.com/meta/v2/pam?q=doi:10.1007/s42823-020-00133-1&p=2&api_key=d0fce19bf0a92a57dd448bd7f0c2301f',\n",
              " 'https://api.springernature.com/meta/v2/pam?q=doi:10.1134/S1023193520120174&p=2&api_key=d0fce19bf0a92a57dd448bd7f0c2301f',\n",
              " 'https://api.springernature.com/meta/v2/pam?q=doi:10.1007/s11581-020-03762-8&p=2&api_key=d0fce19bf0a92a57dd448bd7f0c2301f',\n",
              " 'https://api.springernature.com/meta/v2/pam?q=doi:10.1007/s40831-020-00313-3&p=2&api_key=d0fce19bf0a92a57dd448bd7f0c2301f',\n",
              " 'https://api.springernature.com/meta/v2/pam?q=doi:10.1134/S0020168520120092&p=2&api_key=d0fce19bf0a92a57dd448bd7f0c2301f',\n",
              " 'https://api.springernature.com/meta/v2/pam?q=doi:10.1007/s11581-020-03747-7&p=2&api_key=d0fce19bf0a92a57dd448bd7f0c2301f',\n",
              " 'https://api.springernature.com/meta/v2/pam?q=doi:10.1007/s12649-019-00921-5&p=2&api_key=d0fce19bf0a92a57dd448bd7f0c2301f',\n",
              " 'https://api.springernature.com/meta/v2/pam?q=doi:10.1007/s12598-014-0316-1&p=2&api_key=d0fce19bf0a92a57dd448bd7f0c2301f',\n",
              " 'https://api.springernature.com/meta/v2/pam?q=doi:10.1007/s11581-020-03786-0&p=2&api_key=d0fce19bf0a92a57dd448bd7f0c2301f',\n",
              " 'https://api.springernature.com/meta/v2/pam?q=doi:10.1007/s12613-020-2026-z&p=2&api_key=d0fce19bf0a92a57dd448bd7f0c2301f',\n",
              " 'https://api.springernature.com/meta/v2/pam?q=doi:10.1007/s40145-020-0411-8&p=2&api_key=d0fce19bf0a92a57dd448bd7f0c2301f',\n",
              " 'https://api.springernature.com/meta/v2/pam?q=doi:10.1007/s10853-020-05221-1&p=2&api_key=d0fce19bf0a92a57dd448bd7f0c2301f',\n",
              " 'https://api.springernature.com/meta/v2/pam?q=doi:10.1007/s12274-020-3011-6&p=2&api_key=d0fce19bf0a92a57dd448bd7f0c2301f',\n",
              " 'https://api.springernature.com/meta/v2/pam?q=doi:10.1007/s12613-020-2080-6&p=2&api_key=d0fce19bf0a92a57dd448bd7f0c2301f',\n",
              " 'https://api.springernature.com/meta/v2/pam?q=doi:10.1007/s40843-020-1387-7&p=2&api_key=d0fce19bf0a92a57dd448bd7f0c2301f',\n",
              " 'https://api.springernature.com/meta/v2/pam?q=doi:10.1134/S0031918X20140173&p=2&api_key=d0fce19bf0a92a57dd448bd7f0c2301f',\n",
              " 'https://api.springernature.com/meta/v2/pam?q=doi:10.1007/s10854-020-04805-6&p=2&api_key=d0fce19bf0a92a57dd448bd7f0c2301f',\n",
              " 'https://api.springernature.com/meta/v2/pam?q=doi:10.1007/s11581-020-03772-6&p=2&api_key=d0fce19bf0a92a57dd448bd7f0c2301f']"
            ]
          },
          "metadata": {},
          "execution_count": 7
        }
      ]
    },
    {
      "cell_type": "code",
      "source": [
        "def download_doi(doi,num_list):\n",
        "    \"\"\"\n",
        "    :param doi: DOI\n",
        "    :return:\n",
        "    \"\"\"\n",
        "\n",
        "    save_list = []\n",
        "    WebContent = request.urlopen(doi).read()\n",
        "    with open(r'springer_{}.xml'.format(num_list), 'wb') as f:\n",
        "        save_list.append(WebContent)   \n",
        "        f.write(WebContent)\n",
        "        f.close()\n",
        "    return\n",
        "\n",
        "\n"
      ],
      "metadata": {
        "id": "NxhGeoGrVJBn"
      },
      "execution_count": 11,
      "outputs": []
    },
    {
      "cell_type": "code",
      "source": [
        ""
      ],
      "metadata": {
        "id": "3gAHb_z3_Hhk"
      },
      "execution_count": null,
      "outputs": []
    },
    {
      "cell_type": "code",
      "source": [
        "for i in range(100):\n",
        "  download_doi(url_doi[i],num_list[i])\n"
      ],
      "metadata": {
        "id": "lxVt51Sv5_XN"
      },
      "execution_count": 12,
      "outputs": []
    },
    {
      "cell_type": "markdown",
      "source": [
        "### read xml and process"
      ],
      "metadata": {
        "id": "EwDJp5i9Z7Ew"
      }
    },
    {
      "cell_type": "code",
      "source": [
        "!pip install -c chemdataextractor chemdataextractor"
      ],
      "metadata": {
        "colab": {
          "base_uri": "https://localhost:8080/"
        },
        "id": "YJCFFeuO60bi",
        "outputId": "501ccbfd-5888-4283-f081-e0ec6c158172"
      },
      "execution_count": 14,
      "outputs": [
        {
          "output_type": "stream",
          "name": "stdout",
          "text": [
            "\u001b[31mERROR: Could not open requirements file: [Errno 2] No such file or directory: 'chemdataextractor'\u001b[0m\n"
          ]
        }
      ]
    },
    {
      "cell_type": "code",
      "source": [
        "from google.colab import drive\n",
        "drive.mount('/content/drive')"
      ],
      "metadata": {
        "colab": {
          "base_uri": "https://localhost:8080/",
          "height": 335
        },
        "id": "6F2aE7CQCMHz",
        "outputId": "52e4e206-99d2-4a66-9c1f-411984e8754a"
      },
      "execution_count": 15,
      "outputs": [
        {
          "output_type": "error",
          "ename": "MessageError",
          "evalue": "ignored",
          "traceback": [
            "\u001b[0;31m---------------------------------------------------------------------------\u001b[0m",
            "\u001b[0;31mMessageError\u001b[0m                              Traceback (most recent call last)",
            "\u001b[0;32m<ipython-input-15-d5df0069828e>\u001b[0m in \u001b[0;36m<module>\u001b[0;34m()\u001b[0m\n\u001b[1;32m      1\u001b[0m \u001b[0;32mfrom\u001b[0m \u001b[0mgoogle\u001b[0m\u001b[0;34m.\u001b[0m\u001b[0mcolab\u001b[0m \u001b[0;32mimport\u001b[0m \u001b[0mdrive\u001b[0m\u001b[0;34m\u001b[0m\u001b[0;34m\u001b[0m\u001b[0m\n\u001b[0;32m----> 2\u001b[0;31m \u001b[0mdrive\u001b[0m\u001b[0;34m.\u001b[0m\u001b[0mmount\u001b[0m\u001b[0;34m(\u001b[0m\u001b[0;34m'/content/drive'\u001b[0m\u001b[0;34m)\u001b[0m\u001b[0;34m\u001b[0m\u001b[0;34m\u001b[0m\u001b[0m\n\u001b[0m",
            "\u001b[0;32m/usr/local/lib/python3.7/dist-packages/google/colab/drive.py\u001b[0m in \u001b[0;36mmount\u001b[0;34m(mountpoint, force_remount, timeout_ms, use_metadata_server)\u001b[0m\n\u001b[1;32m    113\u001b[0m       \u001b[0mforce_remount\u001b[0m\u001b[0;34m=\u001b[0m\u001b[0mforce_remount\u001b[0m\u001b[0;34m,\u001b[0m\u001b[0;34m\u001b[0m\u001b[0;34m\u001b[0m\u001b[0m\n\u001b[1;32m    114\u001b[0m       \u001b[0mtimeout_ms\u001b[0m\u001b[0;34m=\u001b[0m\u001b[0mtimeout_ms\u001b[0m\u001b[0;34m,\u001b[0m\u001b[0;34m\u001b[0m\u001b[0;34m\u001b[0m\u001b[0m\n\u001b[0;32m--> 115\u001b[0;31m       ephemeral=True)\n\u001b[0m\u001b[1;32m    116\u001b[0m \u001b[0;34m\u001b[0m\u001b[0m\n\u001b[1;32m    117\u001b[0m \u001b[0;34m\u001b[0m\u001b[0m\n",
            "\u001b[0;32m/usr/local/lib/python3.7/dist-packages/google/colab/drive.py\u001b[0m in \u001b[0;36m_mount\u001b[0;34m(mountpoint, force_remount, timeout_ms, use_metadata_server, ephemeral)\u001b[0m\n\u001b[1;32m    133\u001b[0m   \u001b[0;32mif\u001b[0m \u001b[0mephemeral\u001b[0m\u001b[0;34m:\u001b[0m\u001b[0;34m\u001b[0m\u001b[0;34m\u001b[0m\u001b[0m\n\u001b[1;32m    134\u001b[0m     _message.blocking_request(\n\u001b[0;32m--> 135\u001b[0;31m         'request_auth', request={'authType': 'dfs_ephemeral'}, timeout_sec=None)\n\u001b[0m\u001b[1;32m    136\u001b[0m \u001b[0;34m\u001b[0m\u001b[0m\n\u001b[1;32m    137\u001b[0m   \u001b[0mmountpoint\u001b[0m \u001b[0;34m=\u001b[0m \u001b[0m_os\u001b[0m\u001b[0;34m.\u001b[0m\u001b[0mpath\u001b[0m\u001b[0;34m.\u001b[0m\u001b[0mexpanduser\u001b[0m\u001b[0;34m(\u001b[0m\u001b[0mmountpoint\u001b[0m\u001b[0;34m)\u001b[0m\u001b[0;34m\u001b[0m\u001b[0;34m\u001b[0m\u001b[0m\n",
            "\u001b[0;32m/usr/local/lib/python3.7/dist-packages/google/colab/_message.py\u001b[0m in \u001b[0;36mblocking_request\u001b[0;34m(request_type, request, timeout_sec, parent)\u001b[0m\n\u001b[1;32m    173\u001b[0m   request_id = send_request(\n\u001b[1;32m    174\u001b[0m       request_type, request, parent=parent, expect_reply=True)\n\u001b[0;32m--> 175\u001b[0;31m   \u001b[0;32mreturn\u001b[0m \u001b[0mread_reply_from_input\u001b[0m\u001b[0;34m(\u001b[0m\u001b[0mrequest_id\u001b[0m\u001b[0;34m,\u001b[0m \u001b[0mtimeout_sec\u001b[0m\u001b[0;34m)\u001b[0m\u001b[0;34m\u001b[0m\u001b[0;34m\u001b[0m\u001b[0m\n\u001b[0m",
            "\u001b[0;32m/usr/local/lib/python3.7/dist-packages/google/colab/_message.py\u001b[0m in \u001b[0;36mread_reply_from_input\u001b[0;34m(message_id, timeout_sec)\u001b[0m\n\u001b[1;32m    104\u001b[0m         reply.get('colab_msg_id') == message_id):\n\u001b[1;32m    105\u001b[0m       \u001b[0;32mif\u001b[0m \u001b[0;34m'error'\u001b[0m \u001b[0;32min\u001b[0m \u001b[0mreply\u001b[0m\u001b[0;34m:\u001b[0m\u001b[0;34m\u001b[0m\u001b[0;34m\u001b[0m\u001b[0m\n\u001b[0;32m--> 106\u001b[0;31m         \u001b[0;32mraise\u001b[0m \u001b[0mMessageError\u001b[0m\u001b[0;34m(\u001b[0m\u001b[0mreply\u001b[0m\u001b[0;34m[\u001b[0m\u001b[0;34m'error'\u001b[0m\u001b[0;34m]\u001b[0m\u001b[0;34m)\u001b[0m\u001b[0;34m\u001b[0m\u001b[0;34m\u001b[0m\u001b[0m\n\u001b[0m\u001b[1;32m    107\u001b[0m       \u001b[0;32mreturn\u001b[0m \u001b[0mreply\u001b[0m\u001b[0;34m.\u001b[0m\u001b[0mget\u001b[0m\u001b[0;34m(\u001b[0m\u001b[0;34m'data'\u001b[0m\u001b[0;34m,\u001b[0m \u001b[0;32mNone\u001b[0m\u001b[0;34m)\u001b[0m\u001b[0;34m\u001b[0m\u001b[0;34m\u001b[0m\u001b[0m\n\u001b[1;32m    108\u001b[0m \u001b[0;34m\u001b[0m\u001b[0m\n",
            "\u001b[0;31mMessageError\u001b[0m: Error: credential propagation was unsuccessful"
          ]
        }
      ]
    },
    {
      "cell_type": "code",
      "source": [
        ""
      ],
      "metadata": {
        "id": "SFlseWNgKOJo"
      },
      "execution_count": null,
      "outputs": []
    }
  ]
}