{
  "nbformat": 4,
  "nbformat_minor": 0,
  "metadata": {
    "colab": {
      "name": "Topic_Modeling",
      "provenance": [],
      "authorship_tag": "ABX9TyMStxtJXX3DhskKem/7He0A",
      "include_colab_link": true
    },
    "kernelspec": {
      "name": "python3",
      "display_name": "Python 3"
    },
    "language_info": {
      "name": "python"
    }
  },
  "cells": [
    {
      "cell_type": "markdown",
      "metadata": {
        "id": "view-in-github",
        "colab_type": "text"
      },
      "source": [
        "<a href=\"https://colab.research.google.com/github/dani-lbnl/mudit/blob/main/Topic_Modeling.ipynb\" target=\"_parent\"><img src=\"https://colab.research.google.com/assets/colab-badge.svg\" alt=\"Open In Colab\"/></a>"
      ]
    },
    {
      "cell_type": "markdown",
      "source": [
        "### import packages"
      ],
      "metadata": {
        "id": "x3RE6Q-TVcXw"
      }
    },
    {
      "cell_type": "code",
      "execution_count": 1,
      "metadata": {
        "colab": {
          "base_uri": "https://localhost:8080/"
        },
        "id": "6LSRH-CtDQQg",
        "outputId": "a2df98c9-0408-4539-e5b6-4d7f0c781a71"
      },
      "outputs": [
        {
          "output_type": "stream",
          "name": "stdout",
          "text": [
            "Reading package lists... Done\n",
            "Building dependency tree       \n",
            "Reading state information... Done\n",
            "The following packages were automatically installed and are no longer required:\n",
            "  cuda-command-line-tools-10-0 cuda-command-line-tools-10-1\n",
            "  cuda-command-line-tools-11-0 cuda-compiler-10-0 cuda-compiler-10-1\n",
            "  cuda-compiler-11-0 cuda-cuobjdump-10-0 cuda-cuobjdump-10-1\n",
            "  cuda-cuobjdump-11-0 cuda-cupti-10-0 cuda-cupti-10-1 cuda-cupti-11-0\n",
            "  cuda-cupti-dev-11-0 cuda-documentation-10-0 cuda-documentation-10-1\n",
            "  cuda-documentation-11-0 cuda-documentation-11-1 cuda-gdb-10-0 cuda-gdb-10-1\n",
            "  cuda-gdb-11-0 cuda-gpu-library-advisor-10-0 cuda-gpu-library-advisor-10-1\n",
            "  cuda-libraries-10-0 cuda-libraries-10-1 cuda-libraries-11-0\n",
            "  cuda-memcheck-10-0 cuda-memcheck-10-1 cuda-memcheck-11-0 cuda-nsight-10-0\n",
            "  cuda-nsight-10-1 cuda-nsight-11-0 cuda-nsight-11-1 cuda-nsight-compute-10-0\n",
            "  cuda-nsight-compute-10-1 cuda-nsight-compute-11-0 cuda-nsight-compute-11-1\n",
            "  cuda-nsight-systems-10-1 cuda-nsight-systems-11-0 cuda-nsight-systems-11-1\n",
            "  cuda-nvcc-10-0 cuda-nvcc-10-1 cuda-nvcc-11-0 cuda-nvdisasm-10-0\n",
            "  cuda-nvdisasm-10-1 cuda-nvdisasm-11-0 cuda-nvml-dev-10-0 cuda-nvml-dev-10-1\n",
            "  cuda-nvml-dev-11-0 cuda-nvprof-10-0 cuda-nvprof-10-1 cuda-nvprof-11-0\n",
            "  cuda-nvprune-10-0 cuda-nvprune-10-1 cuda-nvprune-11-0 cuda-nvtx-10-0\n",
            "  cuda-nvtx-10-1 cuda-nvtx-11-0 cuda-nvvp-10-0 cuda-nvvp-10-1 cuda-nvvp-11-0\n",
            "  cuda-nvvp-11-1 cuda-samples-10-0 cuda-samples-10-1 cuda-samples-11-0\n",
            "  cuda-samples-11-1 cuda-sanitizer-11-0 cuda-sanitizer-api-10-1\n",
            "  cuda-toolkit-10-0 cuda-toolkit-10-1 cuda-toolkit-11-0 cuda-toolkit-11-1\n",
            "  cuda-tools-10-0 cuda-tools-10-1 cuda-tools-11-0 cuda-tools-11-1\n",
            "  cuda-visual-tools-10-0 cuda-visual-tools-10-1 cuda-visual-tools-11-0\n",
            "  cuda-visual-tools-11-1 default-jre dkms freeglut3 freeglut3-dev\n",
            "  keyboard-configuration libargon2-0 libcap2 libcryptsetup12\n",
            "  libdevmapper1.02.1 libfontenc1 libidn11 libip4tc0 libjansson4\n",
            "  libnvidia-cfg1-510 libnvidia-common-460 libnvidia-common-510\n",
            "  libnvidia-extra-510 libnvidia-fbc1-510 libnvidia-gl-510 libpam-systemd\n",
            "  libpolkit-agent-1-0 libpolkit-backend-1-0 libpolkit-gobject-1-0 libxfont2\n",
            "  libxi-dev libxkbfile1 libxmu-dev libxmu-headers libxnvctrl0\n",
            "  nsight-compute-2020.2.1 nsight-compute-2022.1.0 nsight-systems-2020.3.2\n",
            "  nsight-systems-2020.3.4 nsight-systems-2021.5.2 nvidia-dkms-510\n",
            "  nvidia-kernel-common-510 nvidia-kernel-source-510 nvidia-modprobe\n",
            "  nvidia-settings openjdk-11-jre policykit-1 policykit-1-gnome python3-xkit\n",
            "  screen-resolution-extra systemd systemd-sysv udev x11-xkb-utils\n",
            "  xserver-common xserver-xorg-core-hwe-18.04 xserver-xorg-video-nvidia-510\n",
            "Use 'apt autoremove' to remove them.\n",
            "The following additional packages will be installed:\n",
            "  chromium-browser chromium-browser-l10n chromium-codecs-ffmpeg-extra\n",
            "Suggested packages:\n",
            "  webaccounts-chromium-extension unity-chromium-extension\n",
            "The following NEW packages will be installed:\n",
            "  chromium-browser chromium-browser-l10n chromium-chromedriver\n",
            "  chromium-codecs-ffmpeg-extra\n",
            "0 upgraded, 4 newly installed, 0 to remove and 39 not upgraded.\n",
            "Need to get 95.3 MB of archives.\n",
            "After this operation, 327 MB of additional disk space will be used.\n",
            "Get:1 http://archive.ubuntu.com/ubuntu bionic-updates/universe amd64 chromium-codecs-ffmpeg-extra amd64 97.0.4692.71-0ubuntu0.18.04.1 [1,142 kB]\n",
            "Get:2 http://archive.ubuntu.com/ubuntu bionic-updates/universe amd64 chromium-browser amd64 97.0.4692.71-0ubuntu0.18.04.1 [84.7 MB]\n",
            "Get:3 http://archive.ubuntu.com/ubuntu bionic-updates/universe amd64 chromium-browser-l10n all 97.0.4692.71-0ubuntu0.18.04.1 [4,370 kB]\n",
            "Get:4 http://archive.ubuntu.com/ubuntu bionic-updates/universe amd64 chromium-chromedriver amd64 97.0.4692.71-0ubuntu0.18.04.1 [5,055 kB]\n",
            "Fetched 95.3 MB in 11s (8,831 kB/s)\n",
            "Selecting previously unselected package chromium-codecs-ffmpeg-extra.\n",
            "(Reading database ... 155113 files and directories currently installed.)\n",
            "Preparing to unpack .../chromium-codecs-ffmpeg-extra_97.0.4692.71-0ubuntu0.18.04.1_amd64.deb ...\n",
            "Unpacking chromium-codecs-ffmpeg-extra (97.0.4692.71-0ubuntu0.18.04.1) ...\n",
            "Selecting previously unselected package chromium-browser.\n",
            "Preparing to unpack .../chromium-browser_97.0.4692.71-0ubuntu0.18.04.1_amd64.deb ...\n",
            "Unpacking chromium-browser (97.0.4692.71-0ubuntu0.18.04.1) ...\n",
            "Selecting previously unselected package chromium-browser-l10n.\n",
            "Preparing to unpack .../chromium-browser-l10n_97.0.4692.71-0ubuntu0.18.04.1_all.deb ...\n",
            "Unpacking chromium-browser-l10n (97.0.4692.71-0ubuntu0.18.04.1) ...\n",
            "Selecting previously unselected package chromium-chromedriver.\n",
            "Preparing to unpack .../chromium-chromedriver_97.0.4692.71-0ubuntu0.18.04.1_amd64.deb ...\n",
            "Unpacking chromium-chromedriver (97.0.4692.71-0ubuntu0.18.04.1) ...\n",
            "Setting up chromium-codecs-ffmpeg-extra (97.0.4692.71-0ubuntu0.18.04.1) ...\n",
            "Setting up chromium-browser (97.0.4692.71-0ubuntu0.18.04.1) ...\n",
            "update-alternatives: using /usr/bin/chromium-browser to provide /usr/bin/x-www-browser (x-www-browser) in auto mode\n",
            "update-alternatives: using /usr/bin/chromium-browser to provide /usr/bin/gnome-www-browser (gnome-www-browser) in auto mode\n",
            "Setting up chromium-chromedriver (97.0.4692.71-0ubuntu0.18.04.1) ...\n",
            "Setting up chromium-browser-l10n (97.0.4692.71-0ubuntu0.18.04.1) ...\n",
            "Processing triggers for man-db (2.8.3-2ubuntu0.1) ...\n",
            "Processing triggers for hicolor-icon-theme (0.17-2) ...\n",
            "Processing triggers for mime-support (3.60ubuntu1) ...\n",
            "Processing triggers for libc-bin (2.27-3ubuntu1.3) ...\n",
            "/sbin/ldconfig.real: /usr/local/lib/python3.7/dist-packages/ideep4py/lib/libmkldnn.so.0 is not a symbolic link\n",
            "\n",
            "cp: '/usr/lib/chromium-browser/chromedriver' and '/usr/bin/chromedriver' are the same file\n",
            "Collecting selenium\n",
            "  Downloading selenium-4.1.0-py3-none-any.whl (958 kB)\n",
            "\u001b[K     |████████████████████████████████| 958 kB 4.3 MB/s \n",
            "\u001b[?25hCollecting urllib3[secure]~=1.26\n",
            "  Downloading urllib3-1.26.8-py2.py3-none-any.whl (138 kB)\n",
            "\u001b[K     |████████████████████████████████| 138 kB 53.1 MB/s \n",
            "\u001b[?25hCollecting trio-websocket~=0.9\n",
            "  Downloading trio_websocket-0.9.2-py3-none-any.whl (16 kB)\n",
            "Collecting trio~=0.17\n",
            "  Downloading trio-0.19.0-py3-none-any.whl (356 kB)\n",
            "\u001b[K     |████████████████████████████████| 356 kB 62.7 MB/s \n",
            "\u001b[?25hRequirement already satisfied: attrs>=19.2.0 in /usr/local/lib/python3.7/dist-packages (from trio~=0.17->selenium) (21.4.0)\n",
            "Requirement already satisfied: sortedcontainers in /usr/local/lib/python3.7/dist-packages (from trio~=0.17->selenium) (2.4.0)\n",
            "Collecting outcome\n",
            "  Downloading outcome-1.1.0-py2.py3-none-any.whl (9.7 kB)\n",
            "Collecting async-generator>=1.9\n",
            "  Downloading async_generator-1.10-py3-none-any.whl (18 kB)\n",
            "Collecting sniffio\n",
            "  Downloading sniffio-1.2.0-py3-none-any.whl (10 kB)\n",
            "Requirement already satisfied: idna in /usr/local/lib/python3.7/dist-packages (from trio~=0.17->selenium) (2.10)\n",
            "Collecting wsproto>=0.14\n",
            "  Downloading wsproto-1.0.0-py3-none-any.whl (24 kB)\n",
            "Collecting cryptography>=1.3.4\n",
            "  Downloading cryptography-36.0.1-cp36-abi3-manylinux_2_24_x86_64.whl (3.6 MB)\n",
            "\u001b[K     |████████████████████████████████| 3.6 MB 49.5 MB/s \n",
            "\u001b[?25hRequirement already satisfied: certifi in /usr/local/lib/python3.7/dist-packages (from urllib3[secure]~=1.26->selenium) (2021.10.8)\n",
            "Collecting pyOpenSSL>=0.14\n",
            "  Downloading pyOpenSSL-22.0.0-py2.py3-none-any.whl (55 kB)\n",
            "\u001b[K     |████████████████████████████████| 55 kB 4.0 MB/s \n",
            "\u001b[?25hRequirement already satisfied: cffi>=1.12 in /usr/local/lib/python3.7/dist-packages (from cryptography>=1.3.4->urllib3[secure]~=1.26->selenium) (1.15.0)\n",
            "Requirement already satisfied: pycparser in /usr/local/lib/python3.7/dist-packages (from cffi>=1.12->cryptography>=1.3.4->urllib3[secure]~=1.26->selenium) (2.21)\n",
            "Collecting h11<1,>=0.9.0\n",
            "  Downloading h11-0.13.0-py3-none-any.whl (58 kB)\n",
            "\u001b[K     |████████████████████████████████| 58 kB 5.8 MB/s \n",
            "\u001b[?25hRequirement already satisfied: typing-extensions in /usr/local/lib/python3.7/dist-packages (from h11<1,>=0.9.0->wsproto>=0.14->trio-websocket~=0.9->selenium) (3.10.0.2)\n",
            "Installing collected packages: sniffio, outcome, h11, cryptography, async-generator, wsproto, urllib3, trio, pyOpenSSL, trio-websocket, selenium\n",
            "  Attempting uninstall: urllib3\n",
            "    Found existing installation: urllib3 1.24.3\n",
            "    Uninstalling urllib3-1.24.3:\n",
            "      Successfully uninstalled urllib3-1.24.3\n",
            "\u001b[31mERROR: pip's dependency resolver does not currently take into account all the packages that are installed. This behaviour is the source of the following dependency conflicts.\n",
            "requests 2.23.0 requires urllib3!=1.25.0,!=1.25.1,<1.26,>=1.21.1, but you have urllib3 1.26.8 which is incompatible.\n",
            "datascience 0.10.6 requires folium==0.2.1, but you have folium 0.8.3 which is incompatible.\u001b[0m\n",
            "Successfully installed async-generator-1.10 cryptography-36.0.1 h11-0.13.0 outcome-1.1.0 pyOpenSSL-22.0.0 selenium-4.1.0 sniffio-1.2.0 trio-0.19.0 trio-websocket-0.9.2 urllib3-1.26.8 wsproto-1.0.0\n"
          ]
        }
      ],
      "source": [
        "!apt install chromium-chromedriver\n",
        "!cp /usr/lib/chromium-browser/chromedriver /usr/bin\n",
        "!pip install selenium"
      ]
    },
    {
      "cell_type": "code",
      "source": [
        "from selenium import webdriver\n",
        "from selenium.webdriver.chrome.options import Options\n",
        "from selenium.webdriver.support.ui import Select\n",
        "from gensim.utils import simple_preprocess\n",
        "import nltk\n",
        "nltk.download('stopwords')\n",
        "from nltk.corpus import stopwords\n",
        "import gensim.corpora as corpora\n",
        "import gensim\n",
        "from bs4 import BeautifulSoup\n",
        "from sklearn.metrics.pairwise import cosine_similarity\n",
        "import matplotlib.pyplot as plt\n",
        "import numpy as np"
      ],
      "metadata": {
        "colab": {
          "base_uri": "https://localhost:8080/"
        },
        "id": "8msd1RKvGPfy",
        "outputId": "067cf244-4946-45dd-f5fd-30395a758c7b"
      },
      "execution_count": 2,
      "outputs": [
        {
          "output_type": "stream",
          "name": "stderr",
          "text": [
            "/usr/local/lib/python3.7/dist-packages/requests/__init__.py:91: RequestsDependencyWarning: urllib3 (1.26.8) or chardet (3.0.4) doesn't match a supported version!\n",
            "  RequestsDependencyWarning)\n"
          ]
        },
        {
          "output_type": "stream",
          "name": "stdout",
          "text": [
            "[nltk_data] Downloading package stopwords to /root/nltk_data...\n",
            "[nltk_data]   Unzipping corpora/stopwords.zip.\n"
          ]
        }
      ]
    },
    {
      "cell_type": "code",
      "source": [
        "def get_driver():\n",
        "  options = webdriver.ChromeOptions()\n",
        "  options.add_argument('--headless')\n",
        "  options.add_argument('--no-sandbox')\n",
        "  options.add_argument('--disable-dev-shm-usage')\n",
        "  options.add_argument(\"--disable-infobars\")\n",
        "  # open it, go to a website, and get results\n",
        "  wd = webdriver.Chrome('chromedriver',options=options)\n",
        "  return wd"
      ],
      "metadata": {
        "id": "eXa9aYxrGRbf"
      },
      "execution_count": 3,
      "outputs": []
    },
    {
      "cell_type": "code",
      "source": [
        ""
      ],
      "metadata": {
        "id": "338_I6pSHOq1"
      },
      "execution_count": null,
      "outputs": []
    },
    {
      "cell_type": "markdown",
      "source": [
        "### import and process data from pubs.xlsx"
      ],
      "metadata": {
        "id": "hSsG-TduHUKU"
      }
    },
    {
      "cell_type": "code",
      "source": [
        "def preprocess_lda(data):\n",
        "  stop_words = stopwords.words('english')\n",
        "\n",
        "  def remove_stopwords(texts):\n",
        "      return [[word for word in simple_preprocess(str(doc)) if word not in stop_words] for doc in texts]\n",
        "\n",
        "  data_words_nostops = remove_stopwords(data)\n",
        "\n",
        "  # Create Dictionary \n",
        "  id2word = corpora.Dictionary(data_words_nostops)  \n",
        "  # Create Corpus \n",
        "  texts = data_words_nostops  \n",
        "  # Term Document Frequency \n",
        "  corpus = [id2word.doc2bow(text) for text in texts]  \n",
        "\n",
        "  words = []\n",
        "  for word in texts:\n",
        "    words.extend(word)\n",
        "\n",
        "  return corpus, id2word, words"
      ],
      "metadata": {
        "id": "bgbWrT_kHftF"
      },
      "execution_count": 5,
      "outputs": []
    },
    {
      "cell_type": "code",
      "source": [
        "from google.colab import drive\n",
        "drive.mount('/content/drive')"
      ],
      "metadata": {
        "colab": {
          "base_uri": "https://localhost:8080/"
        },
        "id": "7UucldwpIZQf",
        "outputId": "24b9aa71-e206-47bf-aca2-b0ccc149fe66"
      },
      "execution_count": 7,
      "outputs": [
        {
          "output_type": "stream",
          "name": "stdout",
          "text": [
            "Mounted at /content/drive\n"
          ]
        }
      ]
    },
    {
      "cell_type": "code",
      "source": [
        "import pandas as pd\n",
        "df = pd.read_table('/content/drive/MyDrive/LBNL/Pubs.xls')\n",
        "abstracts = list(df[~df['Abstract'].isna()]['Abstract'])\n",
        "\n",
        "corpus_abs, id2word_abs, words_abs = preprocess_lda(abstracts)"
      ],
      "metadata": {
        "id": "QVIabO5AHGnR"
      },
      "execution_count": 8,
      "outputs": []
    },
    {
      "cell_type": "markdown",
      "source": [
        "### Word2Vec model for something"
      ],
      "metadata": {
        "id": "lMuevrlWVUY5"
      }
    },
    {
      "cell_type": "code",
      "source": [
        "from gensim.models import KeyedVectors\n",
        "# Load vectors directly from the file\n",
        "model = KeyedVectors.load_word2vec_format('drive/MyDrive/LBNL/GoogleNews-vectors-negative300.bin', binary=True)\n",
        "# Access vectors for specific words with a keyed lookup:\n",
        "vector = model['easy']\n",
        "vector.shape"
      ],
      "metadata": {
        "colab": {
          "base_uri": "https://localhost:8080/"
        },
        "id": "mKyOTsvxVT8K",
        "outputId": "24b1f93a-5096-4bfe-81fb-82d6b31e82ec"
      },
      "execution_count": 14,
      "outputs": [
        {
          "output_type": "execute_result",
          "data": {
            "text/plain": [
              "(300,)"
            ]
          },
          "metadata": {},
          "execution_count": 14
        }
      ]
    },
    {
      "cell_type": "markdown",
      "source": [
        "### using similarity for something"
      ],
      "metadata": {
        "id": "F4B2_VgsI7Xx"
      }
    },
    {
      "cell_type": "code",
      "source": [
        "def get_sim(num_topics):\n",
        "\n",
        "  # create lda model\n",
        "  lda_model = gensim.models.ldamodel.LdaModel(corpus=corpus_abs,\n",
        "                                            id2word=id2word_abs,\n",
        "                                            num_topics=num_topics, \n",
        "                                            random_state=100,\n",
        "                                            update_every=1,\n",
        "                                            #  chunksize=100,\n",
        "                                            passes=30,\n",
        "                                            alpha='auto',\n",
        "                                            per_word_topics=True)\n",
        "\n",
        "  # initialise similarity list \n",
        "  similarity_list = []\n",
        "\n",
        "  for i in range(num_topics):\n",
        "    terms_1 = [id2word_abs[term[0]] for term in lda_model.get_topic_terms(i)]\n",
        "    for j in range(i,num_topics):\n",
        "      terms_2 = [id2word_abs[term[0]] for term in lda_model.get_topic_terms(j)]\n",
        "      cs = 0\n",
        "      count = 0\n",
        "      # print(terms_1, terms_2)\n",
        "      for val1 in terms_1:\n",
        "        for val2 in terms_2:\n",
        "          # print(val1,val2)\n",
        "          if(val1 in model and val2 in model):\n",
        "            count += 1\n",
        "            cs += cosine_similarity(model[[val1]],model[[val2]])[0][0]\n",
        "      cs = cs/count\n",
        "      similarity_list.append(cs)\n",
        "      # print(count)\n",
        "\n",
        "  return np.array(similarity_list).mean()\n",
        "\n",
        "x = range(5,50,5)\n",
        "topic_sim_num = []\n",
        "\n",
        "for i in x:\n",
        "  a = get_sim(i)\n",
        "  print(a)\n",
        "  topic_sim_num.append(a)"
      ],
      "metadata": {
        "colab": {
          "base_uri": "https://localhost:8080/"
        },
        "id": "F4-Hc0-3IvS2",
        "outputId": "5d2e055a-041e-49c1-e909-968544dd110a"
      },
      "execution_count": 15,
      "outputs": [
        {
          "output_type": "stream",
          "name": "stdout",
          "text": [
            "0.14347996662630855\n",
            "0.1331232863701999\n",
            "0.1282598894481103\n",
            "0.12348910123845083\n",
            "0.1222129035972635\n",
            "0.12174680032493819\n",
            "0.124699498956117\n",
            "0.11900004271030581\n",
            "0.11862458619543913\n"
          ]
        }
      ]
    },
    {
      "cell_type": "code",
      "source": [
        "plt.plot(x,topic_sim_num)\n",
        "plt.title(\"Topic similarity Vs Number of Topics - Abstracts\")\n",
        "plt.xlabel(\"Number of topics\")\n",
        "plt.ylabel(\"Topic similarity (Cosine)\")"
      ],
      "metadata": {
        "colab": {
          "base_uri": "https://localhost:8080/",
          "height": 313
        },
        "id": "jcsmRr2RU_u-",
        "outputId": "1ee1d3bd-53c8-451d-ebe0-fcfbddd06050"
      },
      "execution_count": 16,
      "outputs": [
        {
          "output_type": "execute_result",
          "data": {
            "text/plain": [
              "Text(0, 0.5, 'Topic similarity (Cosine)')"
            ]
          },
          "metadata": {},
          "execution_count": 16
        },
        {
          "output_type": "display_data",
          "data": {
            "image/png": "[encoded data removed]",
            "text/plain": [
              "<Figure size 432x288 with 1 Axes>"
            ]
          },
          "metadata": {
            "needs_background": "light"
          }
        }
      ]
    },
    {
      "cell_type": "markdown",
      "source": [
        "#### Iteration 1 - on just abstract"
      ],
      "metadata": {
        "id": "gfJ2A80lYnjm"
      }
    },
    {
      "cell_type": "code",
      "source": [
        "lda_model_abs = gensim.models.ldamodel.LdaModel(corpus=corpus_abs,\n",
        "                                           id2word=id2word_abs,\n",
        "                                           num_topics=25, \n",
        "                                           random_state=100,\n",
        "                                           update_every=1,\n",
        "                                          #  chunksize=100,\n",
        "                                           passes=30,\n",
        "                                           alpha='auto',\n",
        "                                           per_word_topics=True)"
      ],
      "metadata": {
        "id": "jPxR005KY075"
      },
      "execution_count": 17,
      "outputs": []
    },
    {
      "cell_type": "code",
      "source": [
        "for i in range(25):\n",
        "  terms = lda_model_abs.get_topic_terms(i)\n",
        "  print([id2word_abs[term[0]] for term in terms])"
      ],
      "metadata": {
        "colab": {
          "base_uri": "https://localhost:8080/"
        },
        "id": "83NziNLRY7Ao",
        "outputId": "3f26ecfa-5e70-4f4f-bb4f-f93e977788b3"
      },
      "execution_count": 18,
      "outputs": [
        {
          "output_type": "stream",
          "name": "stdout",
          "text": [
            "['scaffolds', 'ash', 'conversion', 'fuel', 'char', 'mechanical', 'properties', 'formation', 'new', 'fuels']\n",
            "['sup', 'phase', 'ray', 'eruption', 'using', 'rate', 'plant', 'samples', 'pumice', 'may']\n",
            "['bone', 'water', 'starch', 'collagen', 'mass', 'hydraulic', 'bark', 'flowers', 'xylem', 'ray']\n",
            "['ray', 'ct', 'high', 'study', 'tomography', 'three', 'cement', 'fiber', 'cracks', 'evolution']\n",
            "['vessel', 'flow', 'xylem', 'vessels', 'water', 'transport', 'connections', 'roots', 'dm', 'sap']\n",
            "['flow', 'water', 'hydraulic', 'sup', 'root', 'function', 'matrix', 'properties', 'tissue', 'conductivity']\n",
            "['sup', 'inf', 'columns', 'nb', 'calcite', 'fe', 'zr', 'solutions', 'performance', 'experiments']\n",
            "['inf', 'rates', 'surface', 'carbonate', 'data', 'ray', 'experiments', 'wall', 'based', 'model']\n",
            "['bone', 'scales', 'collagen', 'fracture', 'electrode', 'structural', 'ray', 'changes', 'structure', 'resistance']\n",
            "['inf', 'sup', 'leaf', 'high', 'xylem', 'ias', 'water', 'pore', 'hydraulic', 'conductivity']\n",
            "['lattice', 'pore', 'foam', 'strength', 'scale', 'inf', 'structures', 'composite', 'gt', 'foams']\n",
            "['crack', 'toughness', 'bone', 'age', 'fracture', 'growth', 'cortical', 'resistance', 'human', 'effect']\n",
            "['data', 'inf', 'tomography', 'source', 'using', 'energy', 'plant', 'users', 'high', 'performance']\n",
            "['magma', 'particles', 'eruption', 'pyc', 'clasts', 'pumice', 'conduit', 'bubbles', 'mixing', 'vent']\n",
            "['species', 'xylem', 'embolism', 'drought', 'selection', 'champinii', 'repair', 'plants', 'formation', 'vitamin']\n",
            "['area', 'grain', 'inf', 'high', 'mineral', 'porous', 'composite', 'shear', 'phase', 'surface']\n",
            "['water', 'xylem', 'vessel', 'vessels', 'embolism', 'transport', 'inf', 'drought', 'within', 'stem']\n",
            "['materials', 'porous', 'transport', 'quenching', 'fracture', 'effective', 'permeability', 'used', 'water', 'pumice']\n",
            "['bone', 'strength', 'scaffolds', 'porosity', 'properties', 'gcs', 'power', 'glass', 'times', 'results']\n",
            "['porosity', 'transport', 'effective', 'oxygen', 'inf', 'electrolyzer', 'model', 'current', 'tomography', 'data']\n",
            "['image', 'area', 'analysis', 'surface', 'estimates', 'solid', 'micro', 'data', 'using', 'interfacial']\n",
            "['pore', 'ray', 'data', 'co', 'resolution', 'dissolution', 'sample', 'images', 'reactive', 'flow']\n",
            "['lithium', 'density', 'batteries', 'electrolyte', 'cells', 'metal', 'dendrite', 'electrolytes', 'ray', 'solid']\n",
            "['study', 'laser', 'image', 'algorithm', 'parallel', 'experiments', 'framework', 'mrf', 'ray', 'given']\n",
            "['bone', 'energy', 'properties', 'mechanical', 'structure', 'materials', 'fracture', 'toughness', 'different', 'ray']\n"
          ]
        }
      ]
    },
    {
      "cell_type": "markdown",
      "source": [
        "#### Iteration 2 - on combined title and abstract"
      ],
      "metadata": {
        "id": "DNbLpzbHaoVL"
      }
    },
    {
      "cell_type": "code",
      "source": [
        "# set all nulls to blanks - not sure of the reason?\n",
        "\n",
        "# for title\n",
        "indices = df['Title'].isna()\n",
        "df.loc[indices,'Title'] = \"\"\n",
        "\n",
        "# for abstract\n",
        "indices = df['Abstract'].isna()\n",
        "df.loc[indices,'Abstract'] = \"\"\n",
        "\n",
        "# combined - title + abstract\n",
        "df['Combined'] = df['Title'] + \" \" + df['Abstract']\n",
        "combined = list(df['Combined'])"
      ],
      "metadata": {
        "id": "yKhB3Qx4ZFvK"
      },
      "execution_count": 22,
      "outputs": []
    },
    {
      "cell_type": "code",
      "source": [
        "# lda on combined data (title + abstract)\n",
        "\n",
        "corpus_comb, id2word_comb, words_comb = preprocess_lda(combined)\n",
        "\n",
        "lda_model_comb = gensim.models.ldamodel.LdaModel(corpus=corpus_comb,\n",
        "                                           id2word=id2word_comb,\n",
        "                                           num_topics=25, \n",
        "                                           random_state=100,\n",
        "                                           update_every=1,\n",
        "                                          #  chunksize=100,\n",
        "                                           passes=30,\n",
        "                                           alpha='auto',\n",
        "                                           per_word_topics=True)"
      ],
      "metadata": {
        "id": "Qv08KHk1ZSzT"
      },
      "execution_count": 23,
      "outputs": []
    },
    {
      "cell_type": "code",
      "source": [
        "lda_model_comb.get_topic_terms(0)"
      ],
      "metadata": {
        "colab": {
          "base_uri": "https://localhost:8080/"
        },
        "id": "h3LdT3qwbFoz",
        "outputId": "6c317cb4-a829-4492-ad76-ed899916a58f"
      },
      "execution_count": 32,
      "outputs": [
        {
          "output_type": "execute_result",
          "data": {
            "text/plain": [
              "[(818, 0.026201189),\n",
              " (1051, 0.020536674),\n",
              " (387, 0.01201322),\n",
              " (6, 0.011775383),\n",
              " (381, 0.010277768),\n",
              " (8, 0.009944911),\n",
              " (380, 0.00915525),\n",
              " (1063, 0.008562411),\n",
              " (1056, 0.0084965965),\n",
              " (759, 0.008154762)]"
            ]
          },
          "metadata": {},
          "execution_count": 32
        }
      ]
    },
    {
      "cell_type": "code",
      "source": [
        "# print words \n",
        "\n",
        "for i in range(25):\n",
        "  terms = lda_model_comb.get_topic_terms(i)\n",
        "  print(terms)\n",
        "  print([id2word_comb[term[0]] for term in terms])"
      ],
      "metadata": {
        "colab": {
          "base_uri": "https://localhost:8080/"
        },
        "id": "P3aIDV7ga15q",
        "outputId": "d3a4a7b1-864e-4365-8fb8-01cdb1be5d44"
      },
      "execution_count": 29,
      "outputs": [
        {
          "output_type": "stream",
          "name": "stdout",
          "text": [
            "[(818, 0.026201189), (1051, 0.020536674), (387, 0.01201322), (6, 0.011775383), (381, 0.010277768), (8, 0.009944911), (380, 0.00915525), (1063, 0.008562411), (1056, 0.0084965965), (759, 0.008154762)]\n",
            "['water', 'transport', 'scale', 'ray', 'porous', 'tomography', 'pore', 'layers', 'gas', 'diffusion']\n",
            "[(1532, 0.023579532), (1539, 0.0122423535), (1533, 0.011625821), (1518, 0.011477367), (8, 0.009666413), (6, 0.009347822), (2013, 0.0087080505), (81, 0.00820299), (1526, 0.006801184), (818, 0.00627637)]\n",
            "['vessel', 'xylem', 'vessels', 'plant', 'tomography', 'ray', 'connections', 'using', 'species', 'water']\n",
            "[(1285, 0.019892845), (16, 0.019068342), (846, 0.012227126), (1600, 0.010997915), (6063, 0.008838116), (5644, 0.008160315), (380, 0.008160152), (1243, 0.008160045), (391, 0.007559782), (1525, 0.0075135515)]\n",
            "['scaffolds', 'bone', 'inf', 'glass', 'nb', 'zr', 'pore', 'bioactive', 'structures', 'repair']\n",
            "[(564, 0.012848501), (571, 0.009710371), (44, 0.008574149), (466, 0.008296015), (324, 0.007823473), (392, 0.0077931685), (568, 0.0075322455), (738, 0.0075297095), (207, 0.0073973252), (98, 0.0062618204)]\n",
            "['advanced', 'source', 'experiments', 'data', 'volume', 'synchrotron', 'light', 'algorithms', 'new', 'dentin']\n",
            "[(224, 0.014873196), (6, 0.014154521), (392, 0.008089494), (81, 0.008088175), (415, 0.007532959), (1526, 0.0074104145), (8, 0.0068880506), (117, 0.0065530767), (439, 0.0065031787), (732, 0.0064889663)]\n",
            "['sup', 'ray', 'synchrotron', 'using', 'formation', 'species', 'tomography', 'high', 'pressure', 'eruption']\n",
            "[(1136, 0.014539091), (466, 0.0106067145), (2080, 0.010584054), (8, 0.009425435), (2089, 0.008149018), (1137, 0.00814792), (1661, 0.007935729), (1133, 0.0072203483), (645, 0.0071388315), (2120, 0.006525706)]\n",
            "['textile', 'data', 'nzvi', 'tomography', 'pd', 'tow', 'carbon', 'stochastic', 'specimens', 'solder']\n",
            "[(770, 0.020156914), (739, 0.012548898), (741, 0.011763586), (81, 0.0114288675), (737, 0.010635201), (466, 0.009174459), (738, 0.008852833), (74, 0.008248757), (765, 0.008155046), (376, 0.008045568)]\n",
            "['image', 'analysis', 'area', 'using', 'algorithm', 'data', 'algorithms', 'study', 'estimates', 'parallel']\n",
            "[(6, 0.007820909), (380, 0.0073008593), (357, 0.0070182225), (466, 0.0068393284), (377, 0.006551459), (74, 0.0061085774), (81, 0.0059259157), (814, 0.0056840777), (448, 0.005571007), (392, 0.0053817616)]\n",
            "['ray', 'pore', 'flow', 'data', 'permeability', 'study', 'using', 'used', 'temperature', 'synchrotron']\n",
            "[(1318, 0.015655367), (2697, 0.009658039), (3465, 0.009655975), (466, 0.009436156), (3443, 0.008451686), (795, 0.0076204557), (485, 0.007255965), (4045, 0.007255704), (4042, 0.0060545136), (3448, 0.0060515287)]\n",
            "['magma', 'host', 'mixing', 'data', 'dike', 'phase', 'genes', 'latent', 'inoculated', 'enclaves']\n",
            "[(846, 0.025372587), (1539, 0.021278687), (818, 0.017795006), (1182, 0.01606074), (382, 0.01366376), (357, 0.011622783), (224, 0.010277998), (1499, 0.01024763), (2145, 0.00876455), (44, 0.006953057)]\n",
            "['inf', 'xylem', 'water', 'hydraulic', 'pumice', 'flow', 'sup', 'embolism', 'drought', 'experiments']\n",
            "[(16, 0.03315841), (48, 0.019004712), (21, 0.015909545), (78, 0.015074764), (1341, 0.010729891), (700, 0.010036305), (6, 0.009740938), (70, 0.009113225), (19, 0.009108649), (65, 0.008891887)]\n",
            "['bone', 'fracture', 'crack', 'toughness', 'collagen', 'scales', 'ray', 'resistance', 'cortical', 'properties']\n",
            "[(466, 0.012349245), (2508, 0.011517624), (198, 0.009387968), (8, 0.008751206), (6, 0.0071458383), (1031, 0.0065603987), (2597, 0.0065601603), (117, 0.0061507984), (1310, 0.005744547), (2192, 0.005744193)]\n",
            "['data', 'bubbles', 'lattice', 'tomography', 'ray', 'strain', 'users', 'high', 'fragmentation', 'foam']\n",
            "[(16, 0.021563763), (65, 0.01322886), (1293, 0.008252004), (213, 0.00758168), (369, 0.007386365), (2975, 0.0062553235), (2969, 0.0062553063), (3146, 0.0060712597), (162, 0.0057402123), (392, 0.005502236)]\n",
            "['bone', 'properties', 'tissue', 'power', 'material', 'osteogenesis', 'imperfecta', 'parts', 'matrix', 'synchrotron']\n",
            "[(6, 0.009792351), (8, 0.008836624), (4872, 0.008047023), (809, 0.007676467), (5636, 0.007239076), (117, 0.006981678), (5400, 0.0068978565), (1051, 0.0066803475), (3, 0.0066778413), (350, 0.006288807)]\n",
            "['ray', 'tomography', 'oxygen', 'solid', 'llzo', 'high', 'electrolyzer', 'transport', 'fiber', 'current']\n",
            "[(5608, 0.010020051), (439, 0.009235179), (4502, 0.009021681), (117, 0.00749445), (984, 0.0070258747), (150, 0.0068362476), (818, 0.006320405), (358, 0.006241659), (203, 0.006074913), (1018, 0.0060278433)]\n",
            "['crystallization', 'pressure', 'flowers', 'high', 'deformation', 'stress', 'water', 'fluid', 'measurements', 'preferred']\n",
            "[(566, 0.013790257), (1166, 0.010315512), (3345, 0.008795377), (2708, 0.008276864), (941, 0.00824777), (373, 0.0073363185), (6, 0.0069677043), (224, 0.0064253793), (332, 0.005944998), (1520, 0.005666263)]\n",
            "['cement', 'reaction', 'alteration', 'wellbore', 'geochemical', 'model', 'ray', 'sup', 'chemical', 'processes']\n",
            "[(846, 0.012620993), (48, 0.010263777), (1051, 0.010247926), (551, 0.008072425), (1520, 0.007868457), (1189, 0.0075991284), (311, 0.007532759), (720, 0.007390353), (5803, 0.006594062), (533, 0.0065411907)]\n",
            "['inf', 'fracture', 'transport', 'carbonate', 'processes', 'modeling', 'strength', 'precipitation', 'proppant', 'micro']\n",
            "[(224, 0.015162613), (846, 0.012062571), (16, 0.010754189), (311, 0.008724427), (6, 0.007096935), (4741, 0.006948125), (8, 0.0063809166), (117, 0.0061838054), (1637, 0.006081744), (127, 0.0056821723)]\n",
            "['sup', 'inf', 'bone', 'strength', 'ray', 'ias', 'tomography', 'high', 'particles', 'mechanical']\n",
            "[(846, 0.017735278), (466, 0.011306952), (551, 0.010639251), (1047, 0.010337933), (377, 0.0102023), (835, 0.0101370355), (862, 0.008077488), (1539, 0.0076024933), (44, 0.0070480756), (1067, 0.0066752904)]\n",
            "['inf', 'data', 'carbonate', 'co', 'permeability', 'dissolution', 'solution', 'xylem', 'experiments', 'sample']\n",
            "[(4441, 0.017933901), (1869, 0.01409902), (3531, 0.009602962), (6, 0.0094335275), (4615, 0.0089841075), (415, 0.007926237), (16, 0.007746791), (556, 0.007030109), (621, 0.0064247083), (373, 0.006333634)]\n",
            "['ash', 'conversion', 'fuel', 'ray', 'char', 'formation', 'bone', 'based', 'gcs', 'model']\n",
            "[(811, 0.008706737), (1305, 0.0075031356), (151, 0.007165566), (130, 0.006934918), (741, 0.006259753), (387, 0.0058236737), (380, 0.005739112), (1049, 0.0054835365), (1526, 0.005442505), (929, 0.005377456)]\n",
            "['surface', 'energy', 'structure', 'mineral', 'area', 'scale', 'pore', 'reactive', 'species', 'areas']\n",
            "[(16, 0.018596455), (224, 0.012475338), (201, 0.009055373), (127, 0.008836177), (233, 0.008053711), (164, 0.0070517296), (886, 0.007027013), (65, 0.0064641936), (3908, 0.006050253), (831, 0.0060031335)]\n",
            "['bone', 'sup', 'mass', 'mechanical', 'trabecular', 'tgf', 'effects', 'properties', 'multilayer', 'columns']\n",
            "[(16, 0.035204664), (48, 0.01616745), (1579, 0.011835616), (19, 0.011777428), (127, 0.009901254), (370, 0.009813928), (78, 0.009632681), (2975, 0.0068176305), (2969, 0.006817168), (1341, 0.006102614)]\n",
            "['bone', 'fracture', 'mode', 'cortical', 'mechanical', 'materials', 'toughness', 'osteogenesis', 'imperfecta', 'collagen']\n",
            "[(162, 0.014845807), (6, 0.0139032295), (117, 0.013808915), (7, 0.012684994), (4116, 0.008907396), (3, 0.008445639), (980, 0.008260668), (814, 0.00804524), (8, 0.007911345), (989, 0.007681671)]\n",
            "['matrix', 'ray', 'high', 'situ', 'sic', 'fiber', 'composites', 'used', 'tomography', 'evolution']\n",
            "[(3515, 0.03383954), (3510, 0.014713954), (3508, 0.012500835), (3498, 0.012195548), (849, 0.0113879815), (258, 0.011089241), (464, 0.009660339), (3504, 0.008911848), (3511, 0.008584478), (846, 0.008490707)]\n",
            "['lithium', 'electrolyte', 'electrode', 'batteries', 'metal', 'density', 'cells', 'dendrite', 'electrolytes', 'inf']\n"
          ]
        }
      ]
    },
    {
      "cell_type": "code",
      "source": [
        ""
      ],
      "metadata": {
        "id": "gJh9_i0XbW6i"
      },
      "execution_count": null,
      "outputs": []
    }
  ]
}