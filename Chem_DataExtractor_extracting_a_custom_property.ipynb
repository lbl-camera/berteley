{
  "cells": [
    {
      "cell_type": "markdown",
      "metadata": {
        "id": "view-in-github",
        "colab_type": "text"
      },
      "source": [
        "<a href=\"https://colab.research.google.com/github/dani-lbnl/mudit/blob/main/Chem_DataExtractor_extracting_a_custom_property.ipynb\" target=\"_parent\"><img src=\"https://colab.research.google.com/assets/colab-badge.svg\" alt=\"Open In Colab\"/></a>"
      ]
    },
    {
      "cell_type": "markdown",
      "metadata": {
        "id": "LK5lBqZhkt0k"
      },
      "source": [
        "# Extracting a Custom Property"
      ]
    },
    {
      "cell_type": "code",
      "source": [
        "!pip install chemdataextractor"
      ],
      "metadata": {
        "colab": {
          "base_uri": "https://localhost:8080/"
        },
        "id": "D7FW4bkNlmlV",
        "outputId": "1b7bdec1-434f-4e39-9798-264ea36a27f1"
      },
      "execution_count": 2,
      "outputs": [
        {
          "output_type": "stream",
          "name": "stdout",
          "text": [
            "Collecting chemdataextractor\n",
            "  Downloading ChemDataExtractor-1.3.0-py3-none-any.whl (182 kB)\n",
            "\u001b[?25l\r\u001b[K     |█▉                              | 10 kB 20.2 MB/s eta 0:00:01\r\u001b[K     |███▋                            | 20 kB 23.4 MB/s eta 0:00:01\r\u001b[K     |█████▍                          | 30 kB 11.3 MB/s eta 0:00:01\r\u001b[K     |███████▏                        | 40 kB 3.9 MB/s eta 0:00:01\r\u001b[K     |█████████                       | 51 kB 3.9 MB/s eta 0:00:01\r\u001b[K     |██████████▊                     | 61 kB 4.5 MB/s eta 0:00:01\r\u001b[K     |████████████▌                   | 71 kB 4.8 MB/s eta 0:00:01\r\u001b[K     |██████████████▍                 | 81 kB 4.7 MB/s eta 0:00:01\r\u001b[K     |████████████████▏               | 92 kB 5.2 MB/s eta 0:00:01\r\u001b[K     |██████████████████              | 102 kB 4.4 MB/s eta 0:00:01\r\u001b[K     |███████████████████▊            | 112 kB 4.4 MB/s eta 0:00:01\r\u001b[K     |█████████████████████▌          | 122 kB 4.4 MB/s eta 0:00:01\r\u001b[K     |███████████████████████▎        | 133 kB 4.4 MB/s eta 0:00:01\r\u001b[K     |█████████████████████████       | 143 kB 4.4 MB/s eta 0:00:01\r\u001b[K     |██████████████████████████▉     | 153 kB 4.4 MB/s eta 0:00:01\r\u001b[K     |████████████████████████████▊   | 163 kB 4.4 MB/s eta 0:00:01\r\u001b[K     |██████████████████████████████▌ | 174 kB 4.4 MB/s eta 0:00:01\r\u001b[K     |████████████████████████████████| 182 kB 4.4 MB/s \n",
            "\u001b[?25hRequirement already satisfied: lxml in /usr/local/lib/python3.7/dist-packages (from chemdataextractor) (4.2.6)\n",
            "Requirement already satisfied: nltk in /usr/local/lib/python3.7/dist-packages (from chemdataextractor) (3.2.5)\n",
            "Collecting cssselect\n",
            "  Downloading cssselect-1.1.0-py2.py3-none-any.whl (16 kB)\n",
            "Requirement already satisfied: appdirs in /usr/local/lib/python3.7/dist-packages (from chemdataextractor) (1.4.4)\n",
            "Collecting python-crfsuite\n",
            "  Downloading python_crfsuite-0.9.7-cp37-cp37m-manylinux1_x86_64.whl (743 kB)\n",
            "\u001b[K     |████████████████████████████████| 743 kB 44.7 MB/s \n",
            "\u001b[?25hRequirement already satisfied: beautifulsoup4 in /usr/local/lib/python3.7/dist-packages (from chemdataextractor) (4.6.3)\n",
            "Requirement already satisfied: python-dateutil in /usr/local/lib/python3.7/dist-packages (from chemdataextractor) (2.8.2)\n",
            "Requirement already satisfied: six in /usr/local/lib/python3.7/dist-packages (from chemdataextractor) (1.15.0)\n",
            "Collecting DAWG\n",
            "  Downloading DAWG-0.8.0.tar.gz (371 kB)\n",
            "\u001b[K     |████████████████████████████████| 371 kB 41.2 MB/s \n",
            "\u001b[?25hRequirement already satisfied: PyYAML in /usr/local/lib/python3.7/dist-packages (from chemdataextractor) (3.13)\n",
            "Requirement already satisfied: requests in /usr/local/lib/python3.7/dist-packages (from chemdataextractor) (2.23.0)\n",
            "Collecting pdfminer.six\n",
            "  Downloading pdfminer.six-20211012-py3-none-any.whl (5.6 MB)\n",
            "\u001b[K     |████████████████████████████████| 5.6 MB 35.5 MB/s \n",
            "\u001b[?25hRequirement already satisfied: click in /usr/local/lib/python3.7/dist-packages (from chemdataextractor) (7.1.2)\n",
            "Collecting cryptography\n",
            "  Downloading cryptography-36.0.1-cp36-abi3-manylinux_2_24_x86_64.whl (3.6 MB)\n",
            "\u001b[K     |████████████████████████████████| 3.6 MB 35.6 MB/s \n",
            "\u001b[?25hRequirement already satisfied: chardet in /usr/local/lib/python3.7/dist-packages (from pdfminer.six->chemdataextractor) (3.0.4)\n",
            "Requirement already satisfied: cffi>=1.12 in /usr/local/lib/python3.7/dist-packages (from cryptography->pdfminer.six->chemdataextractor) (1.15.0)\n",
            "Requirement already satisfied: pycparser in /usr/local/lib/python3.7/dist-packages (from cffi>=1.12->cryptography->pdfminer.six->chemdataextractor) (2.21)\n",
            "Requirement already satisfied: urllib3!=1.25.0,!=1.25.1,<1.26,>=1.21.1 in /usr/local/lib/python3.7/dist-packages (from requests->chemdataextractor) (1.24.3)\n",
            "Requirement already satisfied: idna<3,>=2.5 in /usr/local/lib/python3.7/dist-packages (from requests->chemdataextractor) (2.10)\n",
            "Requirement already satisfied: certifi>=2017.4.17 in /usr/local/lib/python3.7/dist-packages (from requests->chemdataextractor) (2021.10.8)\n",
            "Building wheels for collected packages: DAWG\n",
            "  Building wheel for DAWG (setup.py) ... \u001b[?25l\u001b[?25hdone\n",
            "  Created wheel for DAWG: filename=DAWG-0.8.0-cp37-cp37m-linux_x86_64.whl size=857845 sha256=4765c9a3ed0c6e84f6c9a20908c47b31bb91c4a3969eabb4980136230a27c506\n",
            "  Stored in directory: /root/.cache/pip/wheels/85/51/a4/2de41ff197786537075027c27b479a38da92f50abc86634445\n",
            "Successfully built DAWG\n",
            "Installing collected packages: cryptography, python-crfsuite, pdfminer.six, DAWG, cssselect, chemdataextractor\n",
            "Successfully installed DAWG-0.8.0 chemdataextractor-1.3.0 cryptography-36.0.1 cssselect-1.1.0 pdfminer.six-20211012 python-crfsuite-0.9.7\n"
          ]
        }
      ]
    },
    {
      "cell_type": "code",
      "source": [
        "from chemdataextractor import Document\n",
        "from chemdataextractor.model import Compound\n",
        "from chemdataextractor.doc import Paragraph, Heading"
      ],
      "metadata": {
        "id": "G45k6eWumAhV"
      },
      "execution_count": 4,
      "outputs": []
    },
    {
      "cell_type": "code",
      "source": [
        ""
      ],
      "metadata": {
        "id": "F-25knFBmEqR"
      },
      "execution_count": null,
      "outputs": []
    },
    {
      "cell_type": "markdown",
      "source": [
        "## read file"
      ],
      "metadata": {
        "id": "Tr13Fi7emB-0"
      }
    },
    {
      "cell_type": "code",
      "source": [
        "from chemdataextractor import Document\n",
        "f = open('j.jnoncrysol.2017.07.006.xml', 'rb')\n",
        "doc = Document.from_file(f)"
      ],
      "metadata": {
        "colab": {
          "base_uri": "https://localhost:8080/",
          "height": 346
        },
        "id": "2zooCRFJmFMc",
        "outputId": "acb3f257-dd9c-40ab-ef88-d89c52dbb036"
      },
      "execution_count": 6,
      "outputs": [
        {
          "output_type": "error",
          "ename": "IndexError",
          "evalue": "ignored",
          "traceback": [
            "\u001b[0;31m---------------------------------------------------------------------------\u001b[0m",
            "\u001b[0;31mIndexError\u001b[0m                                Traceback (most recent call last)",
            "\u001b[0;32m<ipython-input-6-654d939744be>\u001b[0m in \u001b[0;36m<module>\u001b[0;34m()\u001b[0m\n\u001b[1;32m      1\u001b[0m \u001b[0;32mfrom\u001b[0m \u001b[0mchemdataextractor\u001b[0m \u001b[0;32mimport\u001b[0m \u001b[0mDocument\u001b[0m\u001b[0;34m\u001b[0m\u001b[0;34m\u001b[0m\u001b[0m\n\u001b[1;32m      2\u001b[0m \u001b[0mf\u001b[0m \u001b[0;34m=\u001b[0m \u001b[0mopen\u001b[0m\u001b[0;34m(\u001b[0m\u001b[0;34m'j.jnoncrysol.2017.07.006.xml'\u001b[0m\u001b[0;34m,\u001b[0m \u001b[0;34m'rb'\u001b[0m\u001b[0;34m)\u001b[0m\u001b[0;34m\u001b[0m\u001b[0;34m\u001b[0m\u001b[0m\n\u001b[0;32m----> 3\u001b[0;31m \u001b[0mdoc\u001b[0m \u001b[0;34m=\u001b[0m \u001b[0mDocument\u001b[0m\u001b[0;34m.\u001b[0m\u001b[0mfrom_file\u001b[0m\u001b[0;34m(\u001b[0m\u001b[0mf\u001b[0m\u001b[0;34m)\u001b[0m\u001b[0;34m\u001b[0m\u001b[0;34m\u001b[0m\u001b[0m\n\u001b[0m",
            "\u001b[0;32m/usr/local/lib/python3.7/dist-packages/chemdataextractor/doc/document.py\u001b[0m in \u001b[0;36mfrom_file\u001b[0;34m(cls, f, fname, readers)\u001b[0m\n\u001b[1;32m    105\u001b[0m         \u001b[0;32mif\u001b[0m \u001b[0;32mnot\u001b[0m \u001b[0mfname\u001b[0m \u001b[0;32mand\u001b[0m \u001b[0mhasattr\u001b[0m\u001b[0;34m(\u001b[0m\u001b[0mf\u001b[0m\u001b[0;34m,\u001b[0m \u001b[0;34m'name'\u001b[0m\u001b[0;34m)\u001b[0m\u001b[0;34m:\u001b[0m\u001b[0;34m\u001b[0m\u001b[0;34m\u001b[0m\u001b[0m\n\u001b[1;32m    106\u001b[0m             \u001b[0mfname\u001b[0m \u001b[0;34m=\u001b[0m \u001b[0mf\u001b[0m\u001b[0;34m.\u001b[0m\u001b[0mname\u001b[0m\u001b[0;34m\u001b[0m\u001b[0;34m\u001b[0m\u001b[0m\n\u001b[0;32m--> 107\u001b[0;31m         \u001b[0;32mreturn\u001b[0m \u001b[0mcls\u001b[0m\u001b[0;34m.\u001b[0m\u001b[0mfrom_string\u001b[0m\u001b[0;34m(\u001b[0m\u001b[0mf\u001b[0m\u001b[0;34m.\u001b[0m\u001b[0mread\u001b[0m\u001b[0;34m(\u001b[0m\u001b[0;34m)\u001b[0m\u001b[0;34m,\u001b[0m \u001b[0mfname\u001b[0m\u001b[0;34m=\u001b[0m\u001b[0mfname\u001b[0m\u001b[0;34m,\u001b[0m \u001b[0mreaders\u001b[0m\u001b[0;34m=\u001b[0m\u001b[0mreaders\u001b[0m\u001b[0;34m)\u001b[0m\u001b[0;34m\u001b[0m\u001b[0;34m\u001b[0m\u001b[0m\n\u001b[0m\u001b[1;32m    108\u001b[0m \u001b[0;34m\u001b[0m\u001b[0m\n\u001b[1;32m    109\u001b[0m     \u001b[0;34m@\u001b[0m\u001b[0mclassmethod\u001b[0m\u001b[0;34m\u001b[0m\u001b[0;34m\u001b[0m\u001b[0m\n",
            "\u001b[0;32m/usr/local/lib/python3.7/dist-packages/chemdataextractor/doc/document.py\u001b[0m in \u001b[0;36mfrom_string\u001b[0;34m(cls, fstring, fname, readers)\u001b[0m\n\u001b[1;32m    136\u001b[0m                 \u001b[0;32mcontinue\u001b[0m\u001b[0;34m\u001b[0m\u001b[0;34m\u001b[0m\u001b[0m\n\u001b[1;32m    137\u001b[0m             \u001b[0;32mtry\u001b[0m\u001b[0;34m:\u001b[0m\u001b[0;34m\u001b[0m\u001b[0;34m\u001b[0m\u001b[0m\n\u001b[0;32m--> 138\u001b[0;31m                 \u001b[0md\u001b[0m \u001b[0;34m=\u001b[0m \u001b[0mreader\u001b[0m\u001b[0;34m.\u001b[0m\u001b[0mreadstring\u001b[0m\u001b[0;34m(\u001b[0m\u001b[0mfstring\u001b[0m\u001b[0;34m)\u001b[0m\u001b[0;34m\u001b[0m\u001b[0;34m\u001b[0m\u001b[0m\n\u001b[0m\u001b[1;32m    139\u001b[0m                 \u001b[0mlog\u001b[0m\u001b[0;34m.\u001b[0m\u001b[0mdebug\u001b[0m\u001b[0;34m(\u001b[0m\u001b[0;34m'Parsed document with %s'\u001b[0m \u001b[0;34m%\u001b[0m \u001b[0mreader\u001b[0m\u001b[0;34m.\u001b[0m\u001b[0m__class__\u001b[0m\u001b[0;34m.\u001b[0m\u001b[0m__name__\u001b[0m\u001b[0;34m)\u001b[0m\u001b[0;34m\u001b[0m\u001b[0;34m\u001b[0m\u001b[0m\n\u001b[1;32m    140\u001b[0m                 \u001b[0;32mreturn\u001b[0m \u001b[0md\u001b[0m\u001b[0;34m\u001b[0m\u001b[0;34m\u001b[0m\u001b[0m\n",
            "\u001b[0;32m/usr/local/lib/python3.7/dist-packages/chemdataextractor/reader/base.py\u001b[0m in \u001b[0;36mreadstring\u001b[0;34m(self, fstring)\u001b[0m\n\u001b[1;32m     39\u001b[0m     \u001b[0;32mdef\u001b[0m \u001b[0mreadstring\u001b[0m\u001b[0;34m(\u001b[0m\u001b[0mself\u001b[0m\u001b[0;34m,\u001b[0m \u001b[0mfstring\u001b[0m\u001b[0;34m)\u001b[0m\u001b[0;34m:\u001b[0m\u001b[0;34m\u001b[0m\u001b[0;34m\u001b[0m\u001b[0m\n\u001b[1;32m     40\u001b[0m         \u001b[0;34m\"\"\"Read a file string and return a Document.\"\"\"\u001b[0m\u001b[0;34m\u001b[0m\u001b[0;34m\u001b[0m\u001b[0m\n\u001b[0;32m---> 41\u001b[0;31m         \u001b[0;32mreturn\u001b[0m \u001b[0mself\u001b[0m\u001b[0;34m.\u001b[0m\u001b[0mparse\u001b[0m\u001b[0;34m(\u001b[0m\u001b[0mfstring\u001b[0m\u001b[0;34m)\u001b[0m\u001b[0;34m\u001b[0m\u001b[0;34m\u001b[0m\u001b[0m\n\u001b[0m",
            "\u001b[0;32m/usr/local/lib/python3.7/dist-packages/chemdataextractor/reader/markup.py\u001b[0m in \u001b[0;36mparse\u001b[0;34m(self, fstring)\u001b[0m\n\u001b[1;32m    206\u001b[0m         \u001b[0;32mif\u001b[0m \u001b[0mroot\u001b[0m \u001b[0;32mis\u001b[0m \u001b[0;32mNone\u001b[0m\u001b[0;34m:\u001b[0m\u001b[0;34m\u001b[0m\u001b[0;34m\u001b[0m\u001b[0m\n\u001b[1;32m    207\u001b[0m             \u001b[0;32mraise\u001b[0m \u001b[0mReaderError\u001b[0m\u001b[0;34m\u001b[0m\u001b[0;34m\u001b[0m\u001b[0m\n\u001b[0;32m--> 208\u001b[0;31m         \u001b[0mroot\u001b[0m \u001b[0;34m=\u001b[0m \u001b[0mself\u001b[0m\u001b[0;34m.\u001b[0m\u001b[0m_css\u001b[0m\u001b[0;34m(\u001b[0m\u001b[0mself\u001b[0m\u001b[0;34m.\u001b[0m\u001b[0mroot_css\u001b[0m\u001b[0;34m,\u001b[0m \u001b[0mroot\u001b[0m\u001b[0;34m)\u001b[0m\u001b[0;34m[\u001b[0m\u001b[0;36m0\u001b[0m\u001b[0;34m]\u001b[0m\u001b[0;34m\u001b[0m\u001b[0;34m\u001b[0m\u001b[0m\n\u001b[0m\u001b[1;32m    209\u001b[0m         \u001b[0;32mfor\u001b[0m \u001b[0mcleaner\u001b[0m \u001b[0;32min\u001b[0m \u001b[0mself\u001b[0m\u001b[0;34m.\u001b[0m\u001b[0mcleaners\u001b[0m\u001b[0;34m:\u001b[0m\u001b[0;34m\u001b[0m\u001b[0;34m\u001b[0m\u001b[0m\n\u001b[1;32m    210\u001b[0m             \u001b[0mcleaner\u001b[0m\u001b[0;34m(\u001b[0m\u001b[0mroot\u001b[0m\u001b[0;34m)\u001b[0m\u001b[0;34m\u001b[0m\u001b[0;34m\u001b[0m\u001b[0m\n",
            "\u001b[0;31mIndexError\u001b[0m: list index out of range"
          ]
        }
      ]
    },
    {
      "cell_type": "code",
      "source": [
        ""
      ],
      "metadata": {
        "id": "MY8ChZn5mSqw"
      },
      "execution_count": null,
      "outputs": []
    },
    {
      "cell_type": "markdown",
      "metadata": {
        "id": "x5cnLNU-kt0q"
      },
      "source": [
        "## Example Document"
      ]
    },
    {
      "cell_type": "markdown",
      "metadata": {
        "id": "3i7BRSMxkt0q"
      },
      "source": [
        "Let's create a simple example document with a single heading followed by a single paragraph:"
      ]
    },
    {
      "cell_type": "code",
      "execution_count": null,
      "metadata": {
        "id": "0zDlcCqGkt0q"
      },
      "outputs": [],
      "source": [
        "d = Document(\n",
        "    Heading(u'Synthesis of 2,4,6-trinitrotoluene (3a)'),\n",
        "    Paragraph(u'The procedure was followed to yield a pale yellow solid (b.p. 240 °C)')\n",
        ")"
      ]
    },
    {
      "cell_type": "markdown",
      "metadata": {
        "id": "PL6Riaoikt0r"
      },
      "source": [
        "What does this look like:"
      ]
    },
    {
      "cell_type": "code",
      "execution_count": null,
      "metadata": {
        "id": "EADLfOaPkt0r",
        "outputId": "9dcc9ad6-5f20-4205-d8f2-0c33259f0e55"
      },
      "outputs": [
        {
          "data": {
            "text/html": [
              "<div class=\"cde-document\">\n",
              "<h2 class=\"cde-title\">Synthesis of 2,4,6-trinitrotoluene (3a)</h2>\n",
              "<p class=\"cde-paragraph\">The procedure was followed to yield a pale yellow solid (b.p. 240 °C)</p>\n",
              "</div>"
            ],
            "text/plain": [
              "<Document: 2 elements>"
            ]
          },
          "execution_count": 3,
          "metadata": {},
          "output_type": "execute_result"
        }
      ],
      "source": [
        "d"
      ]
    },
    {
      "cell_type": "markdown",
      "metadata": {
        "id": "s5MVFUL4kt0s"
      },
      "source": [
        "## Default Parsers\n",
        "\n",
        "By default, ChemDataExtractor won't extract the boiling point property:"
      ]
    },
    {
      "cell_type": "code",
      "execution_count": null,
      "metadata": {
        "id": "lMeNmSdDkt0t",
        "outputId": "1b84f2da-55ed-44d5-c073-89be0f7e46b9"
      },
      "outputs": [
        {
          "data": {
            "text/plain": [
              "[{'labels': ['3a'], 'names': ['2,4,6-trinitrotoluene'], 'roles': ['product']}]"
            ]
          },
          "execution_count": 4,
          "metadata": {},
          "output_type": "execute_result"
        }
      ],
      "source": [
        "d.records.serialize()"
      ]
    },
    {
      "cell_type": "markdown",
      "metadata": {
        "id": "IPqAKtUekt0t"
      },
      "source": [
        "## Defining a New Property Model\n",
        "\n",
        "The first task is to define the schema of a new property, and add it to the `Compound` model:"
      ]
    },
    {
      "cell_type": "code",
      "execution_count": null,
      "metadata": {
        "id": "gEBiqMDNkt0u"
      },
      "outputs": [],
      "source": [
        "from chemdataextractor.model import BaseModel, StringType, ListType, ModelType\n",
        "\n",
        "class BoilingPoint(BaseModel):\n",
        "    value = StringType()\n",
        "    units = StringType()\n",
        "    \n",
        "Compound.boiling_points = ListType(ModelType(BoilingPoint))"
      ]
    },
    {
      "cell_type": "markdown",
      "metadata": {
        "id": "Rs39pVu5kt0u"
      },
      "source": [
        "## Writing a New Parser\n",
        "\n",
        "Next, define parsing rules that define how to interpret text and convert it into the model:"
      ]
    },
    {
      "cell_type": "code",
      "execution_count": null,
      "metadata": {
        "id": "PTGgVjWCkt0u"
      },
      "outputs": [],
      "source": [
        "import re\n",
        "from chemdataextractor.parse import R, I, W, Optional, merge\n",
        "\n",
        "prefix = (R(u'^b\\.?p\\.?$', re.I) | I(u'boiling') + I(u'point')).hide()\n",
        "units = (W(u'°') + Optional(R(u'^[CFK]\\.?$')))(u'units').add_action(merge)\n",
        "value = R(u'^\\d+(\\.\\d+)?$')(u'value')\n",
        "bp = (prefix + value + units)(u'bp')"
      ]
    },
    {
      "cell_type": "code",
      "execution_count": null,
      "metadata": {
        "id": "pJ1tXH00kt0v"
      },
      "outputs": [],
      "source": [
        "from chemdataextractor.parse.base import BaseParser\n",
        "from chemdataextractor.utils import first\n",
        "\n",
        "class BpParser(BaseParser):\n",
        "    root = bp\n",
        "\n",
        "    def interpret(self, result, start, end):\n",
        "        compound = Compound(\n",
        "            boiling_points=[\n",
        "                BoilingPoint(\n",
        "                    value=first(result.xpath('./value/text()')),\n",
        "                    units=first(result.xpath('./units/text()'))\n",
        "                )\n",
        "            ]\n",
        "        )\n",
        "        yield compound\n"
      ]
    },
    {
      "cell_type": "code",
      "execution_count": null,
      "metadata": {
        "id": "MFMH2fKCkt0v"
      },
      "outputs": [],
      "source": [
        "Paragraph.parsers = [BpParser()]"
      ]
    },
    {
      "cell_type": "markdown",
      "metadata": {
        "id": "efdBUGD0kt0v"
      },
      "source": [
        "## Running the New Parser"
      ]
    },
    {
      "cell_type": "code",
      "execution_count": null,
      "metadata": {
        "id": "u0nPw0S3kt0w",
        "outputId": "b33874ec-0da7-43fe-eeae-17b5b73e7e08"
      },
      "outputs": [
        {
          "data": {
            "text/plain": [
              "[{'boiling_points': [{'units': '°C', 'value': '240'}],\n",
              "  'labels': ['3a'],\n",
              "  'names': ['2,4,6-trinitrotoluene'],\n",
              "  'roles': ['product']}]"
            ]
          },
          "execution_count": 9,
          "metadata": {},
          "output_type": "execute_result"
        }
      ],
      "source": [
        "d = Document(\n",
        "    Heading(u'Synthesis of 2,4,6-trinitrotoluene (3a)'),\n",
        "    Paragraph(u'The procedure was followed to yield a pale yellow solid (b.p. 240 °C)')\n",
        ")\n",
        "\n",
        "d.records.serialize()"
      ]
    }
  ],
  "metadata": {
    "kernelspec": {
      "display_name": "Python 3",
      "language": "python",
      "name": "python3"
    },
    "language_info": {
      "codemirror_mode": {
        "name": "ipython",
        "version": 3
      },
      "file_extension": ".py",
      "mimetype": "text/x-python",
      "name": "python",
      "nbconvert_exporter": "python",
      "pygments_lexer": "ipython3",
      "version": "3.5.2"
    },
    "colab": {
      "name": "extracting_a_custom_property.ipynb",
      "provenance": [],
      "include_colab_link": true
    }
  },
  "nbformat": 4,
  "nbformat_minor": 0
}