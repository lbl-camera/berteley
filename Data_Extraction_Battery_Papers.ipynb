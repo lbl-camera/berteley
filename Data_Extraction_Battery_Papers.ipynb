{
  "nbformat": 4,
  "nbformat_minor": 0,
  "metadata": {
    "colab": {
      "name": "Data_Extraction_Battery_Papers.ipynb",
      "provenance": [],
      "authorship_tag": "ABX9TyNVHn7su+hibOxA7EDGVZ0s",
      "include_colab_link": true
    },
    "kernelspec": {
      "name": "python3",
      "display_name": "Python 3"
    },
    "language_info": {
      "name": "python"
    }
  },
  "cells": [
    {
      "cell_type": "markdown",
      "metadata": {
        "id": "view-in-github",
        "colab_type": "text"
      },
      "source": [
        "<a href=\"https://colab.research.google.com/github/dani-lbnl/mudit/blob/main/Data_Extraction_Battery_Papers.ipynb\" target=\"_parent\"><img src=\"https://colab.research.google.com/assets/colab-badge.svg\" alt=\"Open In Colab\"/></a>"
      ]
    },
    {
      "cell_type": "code",
      "source": [
        "!pip install PyPDF2\n",
        "!pip install pdfminer"
      ],
      "metadata": {
        "colab": {
          "base_uri": "https://localhost:8080/"
        },
        "id": "wEuMFNr-8nWJ",
        "outputId": "d3e7efc4-178b-4c83-e393-c4dbf7bee81b"
      },
      "execution_count": 2,
      "outputs": [
        {
          "output_type": "stream",
          "name": "stdout",
          "text": [
            "Collecting PyPDF2\n",
            "  Downloading PyPDF2-1.26.0.tar.gz (77 kB)\n",
            "\u001b[?25l\r\u001b[K     |████▎                           | 10 kB 20.5 MB/s eta 0:00:01\r\u001b[K     |████████▌                       | 20 kB 27.6 MB/s eta 0:00:01\r\u001b[K     |████████████▊                   | 30 kB 14.1 MB/s eta 0:00:01\r\u001b[K     |█████████████████               | 40 kB 10.9 MB/s eta 0:00:01\r\u001b[K     |█████████████████████▏          | 51 kB 5.9 MB/s eta 0:00:01\r\u001b[K     |█████████████████████████▍      | 61 kB 7.0 MB/s eta 0:00:01\r\u001b[K     |█████████████████████████████▋  | 71 kB 7.8 MB/s eta 0:00:01\r\u001b[K     |████████████████████████████████| 77 kB 4.2 MB/s \n",
            "\u001b[?25hBuilding wheels for collected packages: PyPDF2\n",
            "  Building wheel for PyPDF2 (setup.py) ... \u001b[?25l\u001b[?25hdone\n",
            "  Created wheel for PyPDF2: filename=PyPDF2-1.26.0-py3-none-any.whl size=61102 sha256=8a585ed9eb0db8cbbdd6f98160b8f3c341435147be507b76f6ec56922e06be69\n",
            "  Stored in directory: /root/.cache/pip/wheels/80/1a/24/648467ade3a77ed20f35cfd2badd32134e96dd25ca811e64b3\n",
            "Successfully built PyPDF2\n",
            "Installing collected packages: PyPDF2\n",
            "Successfully installed PyPDF2-1.26.0\n",
            "Collecting pdfminer\n",
            "  Downloading pdfminer-20191125.tar.gz (4.2 MB)\n",
            "\u001b[K     |████████████████████████████████| 4.2 MB 8.3 MB/s \n",
            "\u001b[?25hCollecting pycryptodome\n",
            "  Downloading pycryptodome-3.14.1-cp35-abi3-manylinux2010_x86_64.whl (2.0 MB)\n",
            "\u001b[K     |████████████████████████████████| 2.0 MB 41.6 MB/s \n",
            "\u001b[?25hBuilding wheels for collected packages: pdfminer\n",
            "  Building wheel for pdfminer (setup.py) ... \u001b[?25l\u001b[?25hdone\n",
            "  Created wheel for pdfminer: filename=pdfminer-20191125-py3-none-any.whl size=6140090 sha256=eb49d44823c65a97d9c40b0e432a974a097109200ee7e954e89f0003a62c1404\n",
            "  Stored in directory: /root/.cache/pip/wheels/e3/5e/f4/d210b46e9e4a28229ea070ed5b3efa92c3c29d1a7918dd4b97\n",
            "Successfully built pdfminer\n",
            "Installing collected packages: pycryptodome, pdfminer\n",
            "Successfully installed pdfminer-20191125 pycryptodome-3.14.1\n"
          ]
        }
      ]
    },
    {
      "cell_type": "code",
      "execution_count": 3,
      "metadata": {
        "id": "g9YRmzmr63gy"
      },
      "outputs": [],
      "source": [
        "import requests \n",
        "from io import BytesIO\n",
        "import re \n",
        "import PyPDF2\n",
        "import os"
      ]
    },
    {
      "cell_type": "markdown",
      "source": [
        "### using Elsevier"
      ],
      "metadata": {
        "id": "-tD5APdL9qw1"
      }
    },
    {
      "cell_type": "code",
      "source": [
        "pip install elsapy"
      ],
      "metadata": {
        "colab": {
          "base_uri": "https://localhost:8080/"
        },
        "id": "ig54evKb9tqX",
        "outputId": "c675434c-f57a-42ef-de37-c139891eaf28"
      },
      "execution_count": 4,
      "outputs": [
        {
          "output_type": "stream",
          "name": "stdout",
          "text": [
            "Collecting elsapy\n",
            "  Downloading elsapy-0.5.0-py3-none-any.whl (12 kB)\n",
            "Requirement already satisfied: requests in /usr/local/lib/python3.7/dist-packages (from elsapy) (2.23.0)\n",
            "Requirement already satisfied: chardet<4,>=3.0.2 in /usr/local/lib/python3.7/dist-packages (from requests->elsapy) (3.0.4)\n",
            "Requirement already satisfied: urllib3!=1.25.0,!=1.25.1,<1.26,>=1.21.1 in /usr/local/lib/python3.7/dist-packages (from requests->elsapy) (1.24.3)\n",
            "Requirement already satisfied: idna<3,>=2.5 in /usr/local/lib/python3.7/dist-packages (from requests->elsapy) (2.10)\n",
            "Requirement already satisfied: certifi>=2017.4.17 in /usr/local/lib/python3.7/dist-packages (from requests->elsapy) (2021.10.8)\n",
            "Installing collected packages: elsapy\n",
            "Successfully installed elsapy-0.5.0\n"
          ]
        }
      ]
    },
    {
      "cell_type": "code",
      "source": [
        "from elsapy.elsclient import ElsClient\n",
        "from elsapy.elsprofile import ElsAuthor, ElsAffil\n",
        "from elsapy.elsdoc import FullDoc, AbsDoc\n",
        "from elsapy.elssearch import ElsSearch\n",
        "import json"
      ],
      "metadata": {
        "id": "tzMFBBCW_n76"
      },
      "execution_count": 5,
      "outputs": []
    },
    {
      "cell_type": "code",
      "source": [
        "# create config.json\n",
        "dict_api =    {\n",
        "\t    \"apikey\": \"856d163d12a1f149d801ee44e166857e\",\n",
        "\t    \"insttoken\": \"\"\n",
        "    }\n",
        "\n",
        "api_json = json.dumps(dict_api)\n",
        "print(api_json)  "
      ],
      "metadata": {
        "colab": {
          "base_uri": "https://localhost:8080/"
        },
        "id": "_Uk2UMztKC3c",
        "outputId": "305616d8-a962-4461-a3b9-75cd53ec412a"
      },
      "execution_count": 23,
      "outputs": [
        {
          "output_type": "stream",
          "name": "stdout",
          "text": [
            "{\"apikey\": \"856d163d12a1f149d801ee44e166857e\", \"insttoken\": \"\"}\n"
          ]
        }
      ]
    },
    {
      "cell_type": "code",
      "source": [
        "my_file = r'config.json'\n",
        "with open(my_file, 'w', encoding='utf-8') as file:\n",
        "    file.write(api_json)"
      ],
      "metadata": {
        "id": "Ygnybwl4KkCh"
      },
      "execution_count": 28,
      "outputs": []
    },
    {
      "cell_type": "code",
      "source": [
        "  ## Load configuration\n",
        "con_file = open(\"config.json\")\n",
        "config = json.load(con_file)\n",
        "con_file.close()\n",
        "\n",
        "## Initialize client\n",
        "client = ElsClient(config['apikey'])\n",
        "client.inst_token = config['insttoken']"
      ],
      "metadata": {
        "id": "St0UnOBhHpkn"
      },
      "execution_count": 29,
      "outputs": []
    },
    {
      "cell_type": "code",
      "source": [
        "# # setup client\n",
        "# myCl = ElsClient('[856d163d12a1f149d801ee44e166857e]')"
      ],
      "metadata": {
        "id": "Zdv2V6XvCIAP"
      },
      "execution_count": 21,
      "outputs": []
    },
    {
      "cell_type": "code",
      "source": [
        "## Initialize doc search object using ScienceDirect and execute search, \n",
        "#   retrieving all results\n",
        "doc_srch = ElsSearch(\"battery\",'scopus')\n",
        "doc_srch.execute(client, get_all = False)\n",
        "print (\"doc_srch has\", len(doc_srch.results), \"results.\")"
      ],
      "metadata": {
        "colab": {
          "base_uri": "https://localhost:8080/"
        },
        "id": "KUoQWwZ4CoRU",
        "outputId": "84fd2e07-9697-42a7-fef6-452cbd451c74"
      },
      "execution_count": 37,
      "outputs": [
        {
          "output_type": "stream",
          "name": "stdout",
          "text": [
            "doc_srch has 25 results.\n"
          ]
        }
      ]
    },
    {
      "cell_type": "code",
      "source": [
        "\n",
        "#   retrieving all results\n",
        "doc_srch = ElsSearch(\"TITLE-ABS-KEY(rechargeable lithium metal)\",'scopus')\n",
        "doc_srch.execute(client, get_all = False)\n",
        "print (\"doc_srch has\", len(doc_srch.results), \"results.\")"
      ],
      "metadata": {
        "colab": {
          "base_uri": "https://localhost:8080/"
        },
        "id": "3wnC2fyoO5QB",
        "outputId": "6f641be8-6325-44d3-db88-dfbf6177b0af"
      },
      "execution_count": 42,
      "outputs": [
        {
          "output_type": "stream",
          "name": "stdout",
          "text": [
            "doc_srch has 25 results.\n"
          ]
        }
      ]
    },
    {
      "cell_type": "code",
      "source": [
        "doc_srch.results[1]"
      ],
      "metadata": {
        "colab": {
          "base_uri": "https://localhost:8080/"
        },
        "id": "lvutvXnlWDzU",
        "outputId": "e20c7eb9-ba6c-423c-a461-a94a553ef34f"
      },
      "execution_count": 58,
      "outputs": [
        {
          "output_type": "execute_result",
          "data": {
            "text/plain": [
              "{'@_fa': 'true',\n",
              " 'affiliation': [{'@_fa': 'true',\n",
              "   'affiliation-city': 'Guangzhou',\n",
              "   'affiliation-country': 'China',\n",
              "   'affilname': 'South China University of Technology'},\n",
              "  {'@_fa': 'true',\n",
              "   'affiliation-city': 'Dongguan',\n",
              "   'affiliation-country': 'China',\n",
              "   'affilname': 'South China Institute of Collaborative Innovation'}],\n",
              " 'article-number': '135445',\n",
              " 'citedby-count': '0',\n",
              " 'dc:creator': 'Chen S.',\n",
              " 'dc:identifier': 'SCOPUS_ID:85125818361',\n",
              " 'dc:title': 'Novel multi-valent rechargeable ion battery: An organic nickel ion battery with Li<inf>3</inf>V<inf>2</inf>(PO<inf>4</inf>)<inf>3</inf> cathode',\n",
              " 'eid': '2-s2.0-85125818361',\n",
              " 'link': [{'@_fa': 'true',\n",
              "   '@href': 'https://api.elsevier.com/content/abstract/scopus_id/85125818361',\n",
              "   '@ref': 'self'},\n",
              "  {'@_fa': 'true',\n",
              "   '@href': 'https://api.elsevier.com/content/abstract/scopus_id/85125818361?field=author,affiliation',\n",
              "   '@ref': 'author-affiliation'},\n",
              "  {'@_fa': 'true',\n",
              "   '@href': 'https://www.scopus.com/inward/record.uri?partnerID=HzOxMe3b&scp=85125818361&origin=inward',\n",
              "   '@ref': 'scopus'},\n",
              "  {'@_fa': 'true',\n",
              "   '@href': 'https://www.scopus.com/inward/citedby.uri?partnerID=HzOxMe3b&scp=85125818361&origin=inward',\n",
              "   '@ref': 'scopus-citedby'},\n",
              "  {'@_fa': 'true',\n",
              "   '@href': 'https://api.elsevier.com/content/article/eid/1-s2.0-S1385894722009482',\n",
              "   '@ref': 'full-text'}],\n",
              " 'openaccess': '0',\n",
              " 'openaccessFlag': False,\n",
              " 'pii': 'S1385894722009482',\n",
              " 'prism:aggregationType': 'Journal',\n",
              " 'prism:coverDate': '2022-06-15',\n",
              " 'prism:coverDisplayDate': '15 June 2022',\n",
              " 'prism:doi': '10.1016/j.cej.2022.135445',\n",
              " 'prism:issn': '13858947',\n",
              " 'prism:pageRange': None,\n",
              " 'prism:publicationName': 'Chemical Engineering Journal',\n",
              " 'prism:url': 'https://api.elsevier.com/content/abstract/scopus_id/85125818361',\n",
              " 'prism:volume': '438',\n",
              " 'source-id': '16398',\n",
              " 'subtype': 'ar',\n",
              " 'subtypeDescription': 'Article'}"
            ]
          },
          "metadata": {},
          "execution_count": 58
        }
      ]
    },
    {
      "cell_type": "code",
      "source": [
        "doc_srch.results_df.columns"
      ],
      "metadata": {
        "colab": {
          "base_uri": "https://localhost:8080/"
        },
        "id": "tF1duJW9TySn",
        "outputId": "fd2fc247-ec69-47cd-d951-6ef351890ae5"
      },
      "execution_count": 50,
      "outputs": [
        {
          "output_type": "execute_result",
          "data": {
            "text/plain": [
              "Index(['@_fa', 'link', 'prism:url', 'dc:identifier', 'eid', 'dc:title',\n",
              "       'dc:creator', 'prism:publicationName', 'prism:issn', 'prism:volume',\n",
              "       'prism:pageRange', 'prism:coverDate', 'prism:coverDisplayDate',\n",
              "       'prism:doi', 'pii', 'citedby-count', 'affiliation',\n",
              "       'prism:aggregationType', 'subtype', 'subtypeDescription',\n",
              "       'article-number', 'source-id', 'openaccess', 'openaccessFlag',\n",
              "       'prism:eIssn', 'prism:issueIdentifier', 'pubmed-id'],\n",
              "      dtype='object')"
            ]
          },
          "metadata": {},
          "execution_count": 50
        }
      ]
    },
    {
      "cell_type": "code",
      "source": [
        "# get scopus ID\n",
        "scopus_id = []\n",
        "for p in doc_srch.results:\n",
        "  scopus_id.append(p['dc:identifier'])\n"
      ],
      "metadata": {
        "id": "fj5wAiW8W8cR"
      },
      "execution_count": 59,
      "outputs": []
    },
    {
      "cell_type": "code",
      "source": [
        "scopus_id"
      ],
      "metadata": {
        "colab": {
          "base_uri": "https://localhost:8080/"
        },
        "id": "MvTxBYs4X-rm",
        "outputId": "a26de801-3e71-4e0d-a677-72ee69842804"
      },
      "execution_count": 60,
      "outputs": [
        {
          "output_type": "execute_result",
          "data": {
            "text/plain": [
              "['SCOPUS_ID:85125699934',\n",
              " 'SCOPUS_ID:85125818361',\n",
              " 'SCOPUS_ID:85125644974',\n",
              " 'SCOPUS_ID:85125383871',\n",
              " 'SCOPUS_ID:85124869383',\n",
              " 'SCOPUS_ID:85124841329',\n",
              " 'SCOPUS_ID:85124668848',\n",
              " 'SCOPUS_ID:85124666752',\n",
              " 'SCOPUS_ID:85123834085',\n",
              " 'SCOPUS_ID:85123613104',\n",
              " 'SCOPUS_ID:85124615370',\n",
              " 'SCOPUS_ID:85123804499',\n",
              " 'SCOPUS_ID:85123735737',\n",
              " 'SCOPUS_ID:85126144747',\n",
              " 'SCOPUS_ID:85125624637',\n",
              " 'SCOPUS_ID:85125621147',\n",
              " 'SCOPUS_ID:85125222785',\n",
              " 'SCOPUS_ID:85124404046',\n",
              " 'SCOPUS_ID:85124217794',\n",
              " 'SCOPUS_ID:85123909181',\n",
              " 'SCOPUS_ID:85124497405',\n",
              " 'SCOPUS_ID:85122632679',\n",
              " 'SCOPUS_ID:85125501812',\n",
              " 'SCOPUS_ID:85123692504',\n",
              " 'SCOPUS_ID:85123403310']"
            ]
          },
          "metadata": {},
          "execution_count": 60
        }
      ]
    },
    {
      "cell_type": "markdown",
      "source": [
        "#### using the code in battery paper "
      ],
      "metadata": {
        "id": "oBi3-B9NTtLd"
      }
    },
    {
      "cell_type": "code",
      "source": [
        "\"\"\"\n",
        "Elsevier web-scraper. PLEASE use your own API key.\n",
        "\"\"\"\n",
        "\n",
        "# __author__ = \"Shu Huang\"\n",
        "# __email__ = \"sh2009@cam.ac.uk\"\n",
        "\n",
        "import json\n",
        "import requests\n",
        "import numpy as np\n",
        "\n",
        "API_KEY = \"856d163d12a1f149d801ee44e166857e\"\n",
        "query = \"battery materials\"\n",
        "base_url = 'https://api.elsevier.com/content/search/scopus'\n",
        "\n",
        "data = {\"qs\": query,\n",
        "        \"date\": 2021,\n",
        "        # \"volume\": 0,\n",
        "        \"display\": {\n",
        "            \"show\": 10,\n",
        "            \"offset\": 0\n",
        "        }}\n",
        "\n",
        "headers = {'x-els-apikey': API_KEY,\n",
        "           'Content-Type': 'application/json',\n",
        "           'Accept': 'application/json'}\n",
        "\n",
        "\n",
        "def get_response(url, data, headers):\n",
        "    \"\"\"\n",
        "    Return the response from Elsevier\n",
        "    :param url: <str> base_url\n",
        "    :param data: <dict> data parameters\n",
        "    :param headers: <dict> headers\n",
        "    :return: response\n",
        "    \"\"\"\n",
        "    response = requests.put(url, data=json.dumps(data), headers=headers)\n",
        "    response = response.text.replace('false', 'False').replace('true', 'True')\n",
        "    try:\n",
        "        response = eval(response)\n",
        "    except BaseException:\n",
        "        print(response)\n",
        "    return response\n",
        "\n",
        "\n",
        "def get_doi(data, volume, year):\n",
        "    \"\"\"\n",
        "    Get DOIs\n",
        "    :param data: <dict> data parameters\n",
        "    :param volume: <int> the volume index\n",
        "    :param year: <int> the year index\n",
        "    :return: <list> of <str> list of DOIs\n",
        "    \"\"\"\n",
        "    dois = []\n",
        "    data['volume'] = volume\n",
        "    data[\"date\"] = year\n",
        "    response = get_response(base_url, data, headers)\n",
        "    if 'resultsFound' in response.keys():\n",
        "        n = int(np.ceil(response['resultsFound'] / 100))\n",
        "    else:\n",
        "        n = 60\n",
        "    for offset in range(n + 1):\n",
        "        data[\"display\"][\"offset\"] = offset\n",
        "        response = get_response(base_url, data, headers)\n",
        "        if 'results' in response.keys():\n",
        "            results = response['results']\n",
        "            for result in results:\n",
        "                if 'doi' in result:\n",
        "                    dois.append(result['doi'])\n",
        "    return dois\n",
        "\n",
        "\n",
        "def download_doi(doi):\n",
        "    \"\"\"\n",
        "    Download the paper according to the DOI\n",
        "    :param doi: <str> DOI\n",
        "    \"\"\"\n",
        "    with open(str(doi) + '.xml', 'w', encoding='utf-8') as f:\n",
        "        request_url = 'https://api.elsevier.com/content/article/scopus_id/{}?apiKey={}&httpAccept=text%2Fxml'.format(\n",
        "            doi, API_KEY)\n",
        "        text = requests.get(request_url).text\n",
        "        f.write(text)\n",
        "    return"
      ],
      "metadata": {
        "id": "85nadZOATy9v"
      },
      "execution_count": 61,
      "outputs": []
    },
    {
      "cell_type": "code",
      "source": [
        "get_response(base_url,data,headers)"
      ],
      "metadata": {
        "colab": {
          "base_uri": "https://localhost:8080/"
        },
        "id": "0YP1UALPUytu",
        "outputId": "ae09c3f2-c8a1-4b35-c418-4ae330abbdbf"
      },
      "execution_count": 48,
      "outputs": [
        {
          "output_type": "execute_result",
          "data": {
            "text/plain": [
              "{'service-error': {'status': {'statusCode': 'INVALID_INPUT',\n",
              "   'statusText': 'HTTP Method PUT is not valid for this service'}}}"
            ]
          },
          "metadata": {},
          "execution_count": 48
        }
      ]
    },
    {
      "cell_type": "code",
      "source": [
        "for art in scopus_id:\n",
        "  download_doi(art)"
      ],
      "metadata": {
        "id": "84mttyL5Vb8z"
      },
      "execution_count": 64,
      "outputs": []
    },
    {
      "cell_type": "code",
      "source": [
        "test_paper = open(\"SCOPUS_ID:85122632679.xml\")"
      ],
      "metadata": {
        "id": "D_F-PbcsYk8k"
      },
      "execution_count": 65,
      "outputs": []
    },
    {
      "cell_type": "code",
      "source": [
        "from bs4 import BeautifulSoup\n",
        " \n",
        " \n",
        "# Reading the data inside the xml\n",
        "# file to a variable under the name\n",
        "# data\n",
        "with open(\"SCOPUS_ID:85122632679.xml\", 'r') as f:\n",
        "    data = f.read()"
      ],
      "metadata": {
        "id": "vpDbj977Y2BN"
      },
      "execution_count": 68,
      "outputs": []
    },
    {
      "cell_type": "code",
      "source": [
        "Bs_data"
      ],
      "metadata": {
        "colab": {
          "base_uri": "https://localhost:8080/"
        },
        "id": "JWngtkz2ZPlU",
        "outputId": "917d5a10-c18c-4cb0-bd27-d73bc48dfcf3"
      },
      "execution_count": 71,
      "outputs": [
        {
          "output_type": "execute_result",
          "data": {
            "text/plain": [
              "<?xml version=\"1.0\" encoding=\"utf-8\"?>\n",
              "<full-text-retrieval-response xmlns=\"http://www.elsevier.com/xml/svapi/article/dtd\" xmlns:bk=\"http://www.elsevier.com/xml/bk/dtd\" xmlns:cals=\"http://www.elsevier.com/xml/common/cals/dtd\" xmlns:ce=\"http://www.elsevier.com/xml/common/dtd\" xmlns:dc=\"http://purl.org/dc/elements/1.1/\" xmlns:dcterms=\"http://purl.org/dc/terms/\" xmlns:ja=\"http://www.elsevier.com/xml/ja/dtd\" xmlns:mml=\"http://www.w3.org/1998/Math/MathML\" xmlns:prism=\"http://prismstandard.org/namespaces/basic/2.0/\" xmlns:sa=\"http://www.elsevier.com/xml/common/struct-aff/dtd\" xmlns:sb=\"http://www.elsevier.com/xml/common/struct-bib/dtd\" xmlns:tb=\"http://www.elsevier.com/xml/common/table/dtd\" xmlns:xlink=\"http://www.w3.org/1999/xlink\" xmlns:xocs=\"http://www.elsevier.com/xml/xocs/dtd\" xmlns:xsi=\"http://www.w3.org/2001/XMLSchema-instance\"><coredata><prism:url>https://api.elsevier.com/content/article/pii/S0925838822000949</prism:url><dc:identifier>doi:10.1016/j.jallcom.2022.163703</dc:identifier><eid>1-s2.0-S0925838822000949</eid><prism:doi>10.1016/j.jallcom.2022.163703</prism:doi><pii>S0925-8388(22)00094-9</pii><dc:title>NiSe2@NiO heterostructure with optimized electronic structure as efficient electrocatalyst for lithium-oxygen batteries </dc:title><prism:publicationName>Journal of Alloys and Compounds</prism:publicationName><prism:aggregationType>Journal</prism:aggregationType><pubType>fla</pubType><prism:issn>09258388</prism:issn><prism:volume>901</prism:volume><prism:startingPage>163703</prism:startingPage><prism:pageRange>163703</prism:pageRange><articleNumber>163703</articleNumber><dc:format>text/xml</dc:format><prism:coverDate>2022-04-25</prism:coverDate><prism:coverDisplayDate>25 April 2022</prism:coverDisplayDate><prism:copyright>© 2022 Elsevier B.V. All rights reserved.</prism:copyright><prism:publisher>Elsevier B.V.</prism:publisher><dc:creator>Wen, Xiaojuan</dc:creator><dc:creator>Ran, Zhiqun</dc:creator><dc:creator>Zheng, Ruixin</dc:creator><dc:creator>Du, Dayue</dc:creator><dc:creator>Zhao, Chuan</dc:creator><dc:creator>Li, Runjing</dc:creator><dc:creator>Xu, Haoyang</dc:creator><dc:creator>Zeng, Ting</dc:creator><dc:creator>Shu, Chaozhu</dc:creator><dc:description>\n",
              "                  With high theoretical energy density, rechargeable lithium-oxygen (Li-O2) batteries are considered to be the most promising energy storage and conversion system. However, its development is seriously hampered by the sluggish kinetics of oxygen reduction reaction (ORR) and oxygen evolution reaction (OER), resulting in notorious overpotential and mediocre cycle stability. Here, we elaborately design the free-standing NiSe2 @NiO heterostructure on conductive carbon cloth as oxygen electrode for Li-O2 batteries. The electronic redistribution at the interface between NiSe2 and NiO caused by the strong electronic interaction can strengthen electron transfer and optimize the adsorption energy of reaction intermediates, thereby immensely boosting the ORR/OER kinetics. Therefore, Li-O2 batteries with NiSe2 @NiO oxygen electrodes show the highly discharge capacity of 11512 mAh g−1 at 500 mA g−1 and outstanding stability of over 360 h. This work enriches the understanding on the influence of electronic structure modulation of heterostructural transition metal dichalcogenides on their catalytic activity towards oxygen electrode reactions in Li-O2 batteries.\n",
              "               </dc:description><openaccess>0</openaccess><openaccessArticle>false</openaccessArticle><openaccessType/><openArchiveArticle>false</openArchiveArticle><openaccessSponsorName/><openaccessSponsorType/><openaccessUserLicense/><dcterms:subject>Li-O2 batteries</dcterms:subject><dcterms:subject>Electrocatalyst</dcterms:subject><dcterms:subject>NiSe2@NiO heterostructure</dcterms:subject><dcterms:subject>Interface</dcterms:subject><dcterms:subject>Optimized electron structure</dcterms:subject><link href=\"https://api.elsevier.com/content/article/pii/S0925838822000949\" rel=\"self\"/><link href=\"https://www.sciencedirect.com/science/article/pii/S0925838822000949\" rel=\"scidir\"/></coredata><scopus-id>85122632679</scopus-id><scopus-eid>2-s2.0-85122632679</scopus-eid><link href=\"https://api.elsevier.com/content/abstract/scopus_id/85122632679\" rel=\"abstract\"/><originalText><xocs:doc><xocs:meta><xocs:open-access xmlns:xocs=\"http://www.elsevier.com/xml/xocs/dtd\" xmlns:xoe=\"http://www.elsevier.com/xml/xoe/dtd\" xmlns:xsi=\"http://www.w3.org/2001/XMLSchema-instance\">\n",
              "<xocs:oa-article-status is-open-access=\"0\" is-open-archive=\"0\"/>\n",
              "</xocs:open-access><xocs:available-online-date xmlns:xoe=\"http://www.elsevier.com/xml/xoe/dtd\" yyyymmdd=\"20220108\">2022-01-08</xocs:available-online-date></xocs:meta></xocs:doc></originalText></full-text-retrieval-response>"
            ]
          },
          "metadata": {},
          "execution_count": 71
        }
      ]
    },
    {
      "cell_type": "code",
      "source": [
        "# Passing the stored data inside\n",
        "# the beautifulsoup parser, storing\n",
        "# the returned object\n",
        "Bs_data = BeautifulSoup(data, \"xml\")\n",
        " \n",
        "# Finding all instances of tag\n",
        "# `unique`\n",
        "b_unique = Bs_data.find_all('unique')\n",
        " \n",
        "print(b_unique)\n",
        " \n",
        "# # Using find() to extract attributes\n",
        "# # of the first instance of the tag\n",
        "# b_name = Bs_data.find('child', {'name':'Frank'})\n",
        " \n",
        "# print(b_name)\n",
        " \n",
        "# # Extracting the data stored in a\n",
        "# # specific attribute of the\n",
        "# # `child` tag\n",
        "# value = b_name.get('test')\n",
        " \n",
        "# print(value)"
      ],
      "metadata": {
        "colab": {
          "base_uri": "https://localhost:8080/"
        },
        "id": "5rggFlHhZF55",
        "outputId": "7565cac5-39cc-4e8e-eb03-26a45bd0aeeb"
      },
      "execution_count": 70,
      "outputs": [
        {
          "output_type": "stream",
          "name": "stdout",
          "text": [
            "[]\n"
          ]
        }
      ]
    },
    {
      "cell_type": "markdown",
      "source": [
        "### using OSTI"
      ],
      "metadata": {
        "id": "1XebViPLCys2"
      }
    },
    {
      "cell_type": "code",
      "source": [
        "# api-endpoint \n",
        "URL = \"https://www.osti.gov/api/v1/records\"\n",
        "  \n",
        "# defining a params dict for the parameters to be sent to the API \n",
        "# PARAMS = {'research_org':\"Argonne National Laboratory ANL\",\"rows\":3200} \n",
        "# PARAMS = {'research_org':\"Advanced Light Source ALS\",\"rows\":3200} \n",
        "PARAMS = {'research_org':\"Lawrence Berkeley National Lab\",\"rows\":3200}\n",
        "\n",
        "# sending get request and saving the response as response object \n",
        "r = requests.get(url = URL, params = PARAMS) \n",
        "  \n",
        "# extracting data in json format \n",
        "data = r.json() osti api"
      ],
      "metadata": {
        "id": "vq7kKVRi6-t1"
      },
      "execution_count": null,
      "outputs": []
    },
    {
      "cell_type": "code",
      "source": [
        ""
      ],
      "metadata": {
        "id": "V70egjHq8fkn"
      },
      "execution_count": null,
      "outputs": []
    }
  ]
}