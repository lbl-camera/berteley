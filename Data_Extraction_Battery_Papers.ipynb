{
  "nbformat": 4,
  "nbformat_minor": 0,
  "metadata": {
    "colab": {
      "name": "Data_Extraction_Battery_Papers.ipynb",
      "provenance": [],
      "authorship_tag": "ABX9TyNH1tcuvW78KfZSaiQJL2FK",
      "include_colab_link": true
    },
    "kernelspec": {
      "name": "python3",
      "display_name": "Python 3"
    },
    "language_info": {
      "name": "python"
    }
  },
  "cells": [
    {
      "cell_type": "markdown",
      "metadata": {
        "id": "view-in-github",
        "colab_type": "text"
      },
      "source": [
        "<a href=\"https://colab.research.google.com/github/dani-lbnl/mudit/blob/main/Data_Extraction_Battery_Papers.ipynb\" target=\"_parent\"><img src=\"https://colab.research.google.com/assets/colab-badge.svg\" alt=\"Open In Colab\"/></a>"
      ]
    },
    {
      "cell_type": "code",
      "source": [
        "!pip install PyPDF2\n",
        "!pip install pdfminer"
      ],
      "metadata": {
        "colab": {
          "base_uri": "https://localhost:8080/"
        },
        "id": "wEuMFNr-8nWJ",
        "outputId": "38cd5b39-834a-4844-c6eb-b9a598cc761a"
      },
      "execution_count": 3,
      "outputs": [
        {
          "output_type": "stream",
          "name": "stdout",
          "text": [
            "Collecting PyPDF2\n",
            "  Downloading PyPDF2-1.26.0.tar.gz (77 kB)\n",
            "\u001b[?25l\r\u001b[K     |████▎                           | 10 kB 23.7 MB/s eta 0:00:01\r\u001b[K     |████████▌                       | 20 kB 29.7 MB/s eta 0:00:01\r\u001b[K     |████████████▊                   | 30 kB 36.1 MB/s eta 0:00:01\r\u001b[K     |█████████████████               | 40 kB 14.4 MB/s eta 0:00:01\r\u001b[K     |█████████████████████▏          | 51 kB 11.5 MB/s eta 0:00:01\r\u001b[K     |█████████████████████████▍      | 61 kB 13.0 MB/s eta 0:00:01\r\u001b[K     |█████████████████████████████▋  | 71 kB 14.6 MB/s eta 0:00:01\r\u001b[K     |████████████████████████████████| 77 kB 3.6 MB/s \n",
            "\u001b[?25hBuilding wheels for collected packages: PyPDF2\n",
            "  Building wheel for PyPDF2 (setup.py) ... \u001b[?25l\u001b[?25hdone\n",
            "  Created wheel for PyPDF2: filename=PyPDF2-1.26.0-py3-none-any.whl size=61102 sha256=ce8fc17f8bea892752d1266da6a12833d76e5d75c0bc80b67098d3927d5e776a\n",
            "  Stored in directory: /root/.cache/pip/wheels/80/1a/24/648467ade3a77ed20f35cfd2badd32134e96dd25ca811e64b3\n",
            "Successfully built PyPDF2\n",
            "Installing collected packages: PyPDF2\n",
            "Successfully installed PyPDF2-1.26.0\n",
            "Collecting pdfminer\n",
            "  Downloading pdfminer-20191125.tar.gz (4.2 MB)\n",
            "\u001b[K     |████████████████████████████████| 4.2 MB 13.8 MB/s \n",
            "\u001b[?25hCollecting pycryptodome\n",
            "  Downloading pycryptodome-3.14.1-cp35-abi3-manylinux2010_x86_64.whl (2.0 MB)\n",
            "\u001b[K     |████████████████████████████████| 2.0 MB 54.5 MB/s \n",
            "\u001b[?25hBuilding wheels for collected packages: pdfminer\n",
            "  Building wheel for pdfminer (setup.py) ... \u001b[?25l\u001b[?25hdone\n",
            "  Created wheel for pdfminer: filename=pdfminer-20191125-py3-none-any.whl size=6140088 sha256=c552cd2095129c5db440b2ca3b7a034bbe621248bfb777765e607f043985dbb2\n",
            "  Stored in directory: /root/.cache/pip/wheels/e3/5e/f4/d210b46e9e4a28229ea070ed5b3efa92c3c29d1a7918dd4b97\n",
            "Successfully built pdfminer\n",
            "Installing collected packages: pycryptodome, pdfminer\n",
            "Successfully installed pdfminer-20191125 pycryptodome-3.14.1\n"
          ]
        }
      ]
    },
    {
      "cell_type": "code",
      "execution_count": 4,
      "metadata": {
        "id": "g9YRmzmr63gy"
      },
      "outputs": [],
      "source": [
        "import requests \n",
        "from io import BytesIO\n",
        "import re \n",
        "import PyPDF2\n",
        "import os"
      ]
    },
    {
      "cell_type": "markdown",
      "source": [
        "### using Elsevier"
      ],
      "metadata": {
        "id": "-tD5APdL9qw1"
      }
    },
    {
      "cell_type": "code",
      "source": [
        "pip install elsapy"
      ],
      "metadata": {
        "colab": {
          "base_uri": "https://localhost:8080/"
        },
        "id": "ig54evKb9tqX",
        "outputId": "4029b9d7-c8d7-434f-9d02-f6bde2846a9c"
      },
      "execution_count": null,
      "outputs": [
        {
          "output_type": "stream",
          "name": "stdout",
          "text": [
            "Collecting elsapy\n",
            "  Downloading elsapy-0.5.0-py3-none-any.whl (12 kB)\n",
            "Requirement already satisfied: requests in /usr/local/lib/python3.7/dist-packages (from elsapy) (2.23.0)\n",
            "Requirement already satisfied: idna<3,>=2.5 in /usr/local/lib/python3.7/dist-packages (from requests->elsapy) (2.10)\n",
            "Requirement already satisfied: certifi>=2017.4.17 in /usr/local/lib/python3.7/dist-packages (from requests->elsapy) (2021.10.8)\n",
            "Requirement already satisfied: urllib3!=1.25.0,!=1.25.1,<1.26,>=1.21.1 in /usr/local/lib/python3.7/dist-packages (from requests->elsapy) (1.24.3)\n",
            "Requirement already satisfied: chardet<4,>=3.0.2 in /usr/local/lib/python3.7/dist-packages (from requests->elsapy) (3.0.4)\n",
            "Installing collected packages: elsapy\n",
            "Successfully installed elsapy-0.5.0\n"
          ]
        }
      ]
    },
    {
      "cell_type": "code",
      "source": [
        "from elsapy.elsclient import ElsClient\n",
        "from elsapy.elsprofile import ElsAuthor, ElsAffil\n",
        "from elsapy.elsdoc import FullDoc, AbsDoc\n",
        "from elsapy.elssearch import ElsSearch\n",
        "import json"
      ],
      "metadata": {
        "id": "tzMFBBCW_n76"
      },
      "execution_count": null,
      "outputs": []
    },
    {
      "cell_type": "code",
      "source": [
        "# create config.json\n",
        "dict_api =    {\n",
        "\t    \"apikey\": \"856d163d12a1f149d801ee44e166857e\",\n",
        "\t    \"insttoken\": \"\"\n",
        "    }\n",
        "\n",
        "api_json = json.dumps(dict_api)\n",
        "print(api_json)  "
      ],
      "metadata": {
        "colab": {
          "base_uri": "https://localhost:8080/"
        },
        "id": "_Uk2UMztKC3c",
        "outputId": "ee2dcca8-ae06-4b9d-9e14-183439cf68f9"
      },
      "execution_count": null,
      "outputs": [
        {
          "output_type": "stream",
          "name": "stdout",
          "text": [
            "{\"apikey\": \"856d163d12a1f149d801ee44e166857e\", \"insttoken\": \"\"}\n"
          ]
        }
      ]
    },
    {
      "cell_type": "code",
      "source": [
        "my_file = r'config.json'\n",
        "with open(my_file, 'w', encoding='utf-8') as file:\n",
        "    file.write(api_json)"
      ],
      "metadata": {
        "id": "Ygnybwl4KkCh"
      },
      "execution_count": null,
      "outputs": []
    },
    {
      "cell_type": "code",
      "source": [
        "## Load configuration\n",
        "con_file = open(\"config.json\")\n",
        "config = json.load(con_file)\n",
        "con_file.close()\n",
        "\n",
        "## Initialize client\n",
        "client = ElsClient(config['apikey'])\n",
        "client.inst_token = config['insttoken']"
      ],
      "metadata": {
        "id": "St0UnOBhHpkn"
      },
      "execution_count": null,
      "outputs": []
    },
    {
      "cell_type": "code",
      "source": [
        "# # setup client\n",
        "# myCl = ElsClient('[856d163d12a1f149d801ee44e166857e]')"
      ],
      "metadata": {
        "id": "Zdv2V6XvCIAP"
      },
      "execution_count": null,
      "outputs": []
    },
    {
      "cell_type": "code",
      "source": [
        "## Initialize doc search object using ScienceDirect and execute search, \n",
        "#   retrieving all results\n",
        "doc_srch = ElsSearch(\"battery\",'scopus')\n",
        "doc_srch.execute(client, get_all = False)\n",
        "print (\"doc_srch has\", len(doc_srch.results), \"results.\")"
      ],
      "metadata": {
        "colab": {
          "base_uri": "https://localhost:8080/"
        },
        "id": "KUoQWwZ4CoRU",
        "outputId": "2ff637bc-78d2-4b14-8434-02402e60540c"
      },
      "execution_count": null,
      "outputs": [
        {
          "output_type": "stream",
          "name": "stdout",
          "text": [
            "doc_srch has 25 results.\n"
          ]
        }
      ]
    },
    {
      "cell_type": "code",
      "source": [
        "#   retrieving all results\n",
        "doc_srch = ElsSearch(\"TITLE-ABS-KEY(rechargeable lithium metal)\",'scopus')\n",
        "doc_srch.execute(client, get_all = False)\n",
        "print (\"doc_srch has\", len(doc_srch.results), \"results.\")"
      ],
      "metadata": {
        "colab": {
          "base_uri": "https://localhost:8080/"
        },
        "id": "3wnC2fyoO5QB",
        "outputId": "1de46a93-ef35-43d7-d89f-ccd097befadd"
      },
      "execution_count": null,
      "outputs": [
        {
          "output_type": "stream",
          "name": "stdout",
          "text": [
            "doc_srch has 25 results.\n"
          ]
        }
      ]
    },
    {
      "cell_type": "code",
      "source": [
        "doc_srch.results[1]"
      ],
      "metadata": {
        "colab": {
          "base_uri": "https://localhost:8080/"
        },
        "id": "lvutvXnlWDzU",
        "outputId": "571df6ac-ea8f-4310-f4e8-7ac21359d236"
      },
      "execution_count": 22,
      "outputs": [
        {
          "output_type": "execute_result",
          "data": {
            "text/plain": [
              "{'@_fa': 'true',\n",
              " 'affiliation': [{'@_fa': 'true',\n",
              "   'affiliation-city': 'Seoul',\n",
              "   'affiliation-country': 'South Korea',\n",
              "   'affilname': 'Dankook University'}],\n",
              " 'article-number': '152935',\n",
              " 'citedby-count': '0',\n",
              " 'dc:creator': 'Song M.k.',\n",
              " 'dc:identifier': 'SCOPUS_ID:85125699934',\n",
              " 'dc:title': 'A carbon cloth with a coating layer containing aluminum fluoride as an interlayer for lithium metal batteries',\n",
              " 'eid': '2-s2.0-85125699934',\n",
              " 'link': [{'@_fa': 'true',\n",
              "   '@href': 'https://api.elsevier.com/content/abstract/scopus_id/85125699934',\n",
              "   '@ref': 'self'},\n",
              "  {'@_fa': 'true',\n",
              "   '@href': 'https://api.elsevier.com/content/abstract/scopus_id/85125699934?field=author,affiliation',\n",
              "   '@ref': 'author-affiliation'},\n",
              "  {'@_fa': 'true',\n",
              "   '@href': 'https://www.scopus.com/inward/record.uri?partnerID=HzOxMe3b&scp=85125699934&origin=inward',\n",
              "   '@ref': 'scopus'},\n",
              "  {'@_fa': 'true',\n",
              "   '@href': 'https://www.scopus.com/inward/citedby.uri?partnerID=HzOxMe3b&scp=85125699934&origin=inward',\n",
              "   '@ref': 'scopus-citedby'},\n",
              "  {'@_fa': 'true',\n",
              "   '@href': 'https://api.elsevier.com/content/article/eid/1-s2.0-S0169433222005074',\n",
              "   '@ref': 'full-text'}],\n",
              " 'openaccess': '0',\n",
              " 'openaccessFlag': False,\n",
              " 'pii': 'S0169433222005074',\n",
              " 'prism:aggregationType': 'Journal',\n",
              " 'prism:coverDate': '2022-06-30',\n",
              " 'prism:coverDisplayDate': '30 June 2022',\n",
              " 'prism:doi': '10.1016/j.apsusc.2022.152935',\n",
              " 'prism:issn': '01694332',\n",
              " 'prism:pageRange': None,\n",
              " 'prism:publicationName': 'Applied Surface Science',\n",
              " 'prism:url': 'https://api.elsevier.com/content/abstract/scopus_id/85125699934',\n",
              " 'prism:volume': '588',\n",
              " 'source-id': '28983',\n",
              " 'subtype': 'ar',\n",
              " 'subtypeDescription': 'Article'}"
            ]
          },
          "metadata": {},
          "execution_count": 22
        }
      ]
    },
    {
      "cell_type": "code",
      "source": [
        "doc_srch.results_df.columns"
      ],
      "metadata": {
        "colab": {
          "base_uri": "https://localhost:8080/"
        },
        "id": "tF1duJW9TySn",
        "outputId": "0684c869-10fc-49e7-f72d-98d38b774fc9"
      },
      "execution_count": null,
      "outputs": [
        {
          "output_type": "execute_result",
          "data": {
            "text/plain": [
              "Index(['@_fa', 'link', 'prism:url', 'dc:identifier', 'eid', 'dc:title',\n",
              "       'dc:creator', 'prism:publicationName', 'prism:issn', 'prism:volume',\n",
              "       'prism:pageRange', 'prism:coverDate', 'prism:coverDisplayDate',\n",
              "       'prism:doi', 'pii', 'citedby-count', 'affiliation',\n",
              "       'prism:aggregationType', 'subtype', 'subtypeDescription', 'source-id',\n",
              "       'openaccess', 'openaccessFlag', 'article-number', 'prism:eIssn',\n",
              "       'prism:issueIdentifier', 'pubmed-id'],\n",
              "      dtype='object')"
            ]
          },
          "metadata": {},
          "execution_count": 11
        }
      ]
    },
    {
      "cell_type": "code",
      "source": [
        "# get scopus ID\n",
        "scopus_id = []\n",
        "for p in doc_srch.results:\n",
        "  scopus_id.append(p['dc:identifier'])\n"
      ],
      "metadata": {
        "id": "fj5wAiW8W8cR"
      },
      "execution_count": null,
      "outputs": []
    },
    {
      "cell_type": "code",
      "source": [
        "scopus_id"
      ],
      "metadata": {
        "colab": {
          "base_uri": "https://localhost:8080/"
        },
        "id": "MvTxBYs4X-rm",
        "outputId": "8ea4a9c9-0074-405b-dfb4-13172a195bc2"
      },
      "execution_count": null,
      "outputs": [
        {
          "output_type": "execute_result",
          "data": {
            "text/plain": [
              "['SCOPUS_ID:85126268495',\n",
              " 'SCOPUS_ID:85125699934',\n",
              " 'SCOPUS_ID:85125818361',\n",
              " 'SCOPUS_ID:85125644974',\n",
              " 'SCOPUS_ID:85125383871',\n",
              " 'SCOPUS_ID:85124869383',\n",
              " 'SCOPUS_ID:85124841329',\n",
              " 'SCOPUS_ID:85124668848',\n",
              " 'SCOPUS_ID:85124666752',\n",
              " 'SCOPUS_ID:85123834085',\n",
              " 'SCOPUS_ID:85123613104',\n",
              " 'SCOPUS_ID:85124615370',\n",
              " 'SCOPUS_ID:85123804499',\n",
              " 'SCOPUS_ID:85123735737',\n",
              " 'SCOPUS_ID:85126144747',\n",
              " 'SCOPUS_ID:85125624637',\n",
              " 'SCOPUS_ID:85125621147',\n",
              " 'SCOPUS_ID:85125222785',\n",
              " 'SCOPUS_ID:85124404046',\n",
              " 'SCOPUS_ID:85124217794',\n",
              " 'SCOPUS_ID:85123909181',\n",
              " 'SCOPUS_ID:85124497405',\n",
              " 'SCOPUS_ID:85123984388',\n",
              " 'SCOPUS_ID:85122632679',\n",
              " 'SCOPUS_ID:85125501812']"
            ]
          },
          "metadata": {},
          "execution_count": 13
        }
      ]
    },
    {
      "cell_type": "markdown",
      "source": [
        "#### using the code in battery paper "
      ],
      "metadata": {
        "id": "oBi3-B9NTtLd"
      }
    },
    {
      "cell_type": "code",
      "source": [
        "\"\"\"\n",
        "Elsevier web-scraper. PLEASE use your own API key.\n",
        "\"\"\"\n",
        "\n",
        "# __author__ = \"Shu Huang\"\n",
        "# __email__ = \"sh2009@cam.ac.uk\"\n",
        "\n",
        "import json\n",
        "import requests\n",
        "import numpy as np\n",
        "\n",
        "API_KEY = \"856d163d12a1f149d801ee44e166857e\"\n",
        "query = \"battery materials\"\n",
        "base_url = 'https://api.elsevier.com/content/search/scopus'\n",
        "\n",
        "data = {\"qs\": query,\n",
        "        \"date\": 2021,\n",
        "        # \"volume\": 0,\n",
        "        \"display\": {\n",
        "            \"show\": 10,\n",
        "            \"offset\": 0\n",
        "        }}\n",
        "\n",
        "headers = {'x-els-apikey': API_KEY,\n",
        "           'Content-Type': 'application/json',\n",
        "           'Accept': 'application/json'}\n",
        "\n",
        "\n",
        "def get_response(url, data, headers):\n",
        "    \"\"\"\n",
        "    Return the response from Elsevier\n",
        "    :param url: <str> base_url\n",
        "    :param data: <dict> data parameters\n",
        "    :param headers: <dict> headers\n",
        "    :return: response\n",
        "    \"\"\"\n",
        "    response = requests.put(url, data=json.dumps(data), headers=headers)\n",
        "    response = response.text.replace('false', 'False').replace('true', 'True')\n",
        "    try:\n",
        "        response = eval(response)\n",
        "    except BaseException:\n",
        "        print(response)\n",
        "    return response\n",
        "\n",
        "\n",
        "def get_doi(data, volume, year):\n",
        "    \"\"\"\n",
        "    Get DOIs\n",
        "    :param data: <dict> data parameters\n",
        "    :param volume: <int> the volume index\n",
        "    :param year: <int> the year index\n",
        "    :return: <list> of <str> list of DOIs\n",
        "    \"\"\"\n",
        "    dois = []\n",
        "    data['volume'] = volume\n",
        "    data[\"date\"] = year\n",
        "    response = get_response(base_url, data, headers)\n",
        "    if 'resultsFound' in response.keys():\n",
        "        n = int(np.ceil(response['resultsFound'] / 100))\n",
        "    else:\n",
        "        n = 60\n",
        "    for offset in range(n + 1):\n",
        "        data[\"display\"][\"offset\"] = offset\n",
        "        response = get_response(base_url, data, headers)\n",
        "        if 'results' in response.keys():\n",
        "            results = response['results']\n",
        "            for result in results:\n",
        "                if 'doi' in result:\n",
        "                    dois.append(result['doi'])\n",
        "    return dois\n",
        "\n",
        "\n",
        "def download_doi(doi):\n",
        "    \"\"\"\n",
        "    Download the paper according to the DOI\n",
        "    :param doi: <str> DOI\n",
        "    \"\"\"\n",
        "    with open(str(doi) + '.xml', 'w', encoding='utf-8') as f:\n",
        "        request_url = 'https://api.elsevier.com/content/article/scopus_id/{}?apiKey={}&httpAccept=text%2Fxml'.format(\n",
        "            doi, API_KEY)\n",
        "        text = requests.get(request_url).text\n",
        "        f.write(text)\n",
        "    return"
      ],
      "metadata": {
        "id": "85nadZOATy9v"
      },
      "execution_count": null,
      "outputs": []
    },
    {
      "cell_type": "code",
      "source": [
        "for art in scopus_id:\n",
        "  download_doi(art)"
      ],
      "metadata": {
        "id": "84mttyL5Vb8z"
      },
      "execution_count": null,
      "outputs": []
    },
    {
      "cell_type": "code",
      "source": [
        "test_paper = open(\"SCOPUS_ID:85122632679.xml\")"
      ],
      "metadata": {
        "id": "D_F-PbcsYk8k"
      },
      "execution_count": null,
      "outputs": []
    },
    {
      "cell_type": "code",
      "source": [
        "from bs4 import BeautifulSoup\n",
        " \n",
        " \n",
        "# Reading the data inside the xml\n",
        "# file to a variable under the name\n",
        "# data\n",
        "with open(\"SCOPUS_ID:85123804499.xml\", 'r') as f:\n",
        "    data = f.read()"
      ],
      "metadata": {
        "id": "vpDbj977Y2BN"
      },
      "execution_count": null,
      "outputs": []
    },
    {
      "cell_type": "code",
      "source": [
        "data"
      ],
      "metadata": {
        "colab": {
          "base_uri": "https://localhost:8080/",
          "height": 105
        },
        "id": "PS5oMgtByP-U",
        "outputId": "63a6b2a5-0722-4d22-b851-bd6db842f1bd"
      },
      "execution_count": null,
      "outputs": [
        {
          "output_type": "execute_result",
          "data": {
            "text/plain": [
              "'<full-text-retrieval-response xmlns=\"http://www.elsevier.com/xml/svapi/article/dtd\" xmlns:bk=\"http://www.elsevier.com/xml/bk/dtd\" xmlns:cals=\"http://www.elsevier.com/xml/common/cals/dtd\" xmlns:ce=\"http://www.elsevier.com/xml/common/dtd\" xmlns:ja=\"http://www.elsevier.com/xml/ja/dtd\" xmlns:mml=\"http://www.w3.org/1998/Math/MathML\" xmlns:sa=\"http://www.elsevier.com/xml/common/struct-aff/dtd\" xmlns:sb=\"http://www.elsevier.com/xml/common/struct-bib/dtd\" xmlns:tb=\"http://www.elsevier.com/xml/common/table/dtd\" xmlns:xlink=\"http://www.w3.org/1999/xlink\" xmlns:xocs=\"http://www.elsevier.com/xml/xocs/dtd\" xmlns:dc=\"http://purl.org/dc/elements/1.1/\" xmlns:dcterms=\"http://purl.org/dc/terms/\" xmlns:prism=\"http://prismstandard.org/namespaces/basic/2.0/\" xmlns:xsi=\"http://www.w3.org/2001/XMLSchema-instance\"><coredata><prism:url>https://api.elsevier.com/content/article/pii/S0169433222001210</prism:url><dc:identifier>doi:10.1016/j.apsusc.2022.152537</dc:identifier><eid>1-s2.0-S0169433222001210</eid><prism:doi>10.1016/j.apsusc.2022.152537</prism:doi><pii>S0169-4332(22)00121-0</pii><dc:title>1T-MoS2 monolayer as a promising anode material for (Li/Na/Mg)-ion batteries </dc:title><prism:publicationName>Applied Surface Science</prism:publicationName><prism:aggregationType>Journal</prism:aggregationType><pubType>fla</pubType><prism:issn>01694332</prism:issn><prism:volume>584</prism:volume><prism:startingPage>152537</prism:startingPage><prism:pageRange>152537</prism:pageRange><articleNumber>152537</articleNumber><dc:format>text/xml</dc:format><prism:coverDate>2022-05-15</prism:coverDate><prism:coverDisplayDate>15 May 2022</prism:coverDisplayDate><prism:copyright>© 2022 Elsevier B.V. All rights reserved.</prism:copyright><prism:publisher>Elsevier B.V.</prism:publisher><dc:creator>He, Xiaojie</dc:creator><dc:creator>Wang, Ruichen</dc:creator><dc:creator>Yin, Huimin</dc:creator><dc:creator>Zhang, Yongfan</dc:creator><dc:creator>Chen, Wenkai</dc:creator><dc:creator>Huang, Shuping</dc:creator><dc:description>\\n                  Transition metal sulfide with high electrical conductivity and thermal stability has been considered as a promising anode candidate for rechargeable batteries. Among them, 1T-MoS2 nanosheet with a honeycomb structure like graphene, has attracted increasing attention recently due to its excellent electrochemical performance. In this paper, the density functional theory calculations have been employed to investigate and compare the interaction of Li, Na, K, Mg, and Al with the 1T-MoS2 monolayer, including the geometry configurations, electronic structures, ions diffusion properties, open-circuit voltages, and specific theoretical capacities. All metal atoms adsorbed on 1T-MoS2 monolayer with negative adsorption energies, indicating strong binding between metals and 1T-MoS2 monolayer and in favor of battery application. The diffusion barriers of all metal ions are less than 0.2\\xa0eV, indicating good charge–discharge rates. The OCV range of 1T-MoS2 as Li-ion, Na-ion and Mg-ion batteries anodes is around 0.2\\xa0∼\\xa00.8\\xa0V, and the specific capacities are 1172, 335, and 670 mAh/g, respectively. Our results indicate that the high capacity, low open-circuit voltage, and ultrahigh ion diffusion kinetics make the 1T-MoS2 an excellent candidate as anode material for Li-ion batteries, Na-ion batteries and Mg-ion batteries.\\n               </dc:description><openaccess>0</openaccess><openaccessArticle>false</openaccessArticle><openaccessType/><openArchiveArticle>false</openArchiveArticle><openaccessSponsorName/><openaccessSponsorType/><openaccessUserLicense/><dcterms:subject>Anode</dcterms:subject><dcterms:subject>2D material</dcterms:subject><dcterms:subject>1T MoS2\\n                  </dcterms:subject><dcterms:subject>Rechargeable batteries</dcterms:subject><dcterms:subject>Density functional theory</dcterms:subject><link href=\"https://api.elsevier.com/content/article/pii/S0169433222001210\" rel=\"self\"/><link href=\"https://www.sciencedirect.com/science/article/pii/S0169433222001210\" rel=\"scidir\"/></coredata><scopus-id>85123804499</scopus-id><scopus-eid>2-s2.0-85123804499</scopus-eid><link href=\"https://api.elsevier.com/content/abstract/scopus_id/85123804499\" rel=\"abstract\"/><originalText><xocs:doc><xocs:meta><xocs:open-access xmlns:xocs=\"http://www.elsevier.com/xml/xocs/dtd\"\\n                  xmlns:xsi=\"http://www.w3.org/2001/XMLSchema-instance\"\\n                  xmlns:xoe=\"http://www.elsevier.com/xml/xoe/dtd\">\\n   <xocs:oa-article-status is-open-access=\"0\" is-open-archive=\"0\"/>\\n</xocs:open-access><xocs:available-online-date xmlns:xoe=\"http://www.elsevier.com/xml/xoe/dtd\" yyyymmdd=\"20220129\">2022-01-29</xocs:available-online-date></xocs:meta></xocs:doc></originalText></full-text-retrieval-response>'"
            ],
            "application/vnd.google.colaboratory.intrinsic+json": {
              "type": "string"
            }
          },
          "metadata": {},
          "execution_count": 18
        }
      ]
    },
    {
      "cell_type": "code",
      "source": [
        "Bs_data"
      ],
      "metadata": {
        "colab": {
          "base_uri": "https://localhost:8080/",
          "height": 166
        },
        "id": "JWngtkz2ZPlU",
        "outputId": "6f4479d4-108f-412c-913c-bed6da345269"
      },
      "execution_count": null,
      "outputs": [
        {
          "output_type": "error",
          "ename": "NameError",
          "evalue": "ignored",
          "traceback": [
            "\u001b[0;31m---------------------------------------------------------------------------\u001b[0m",
            "\u001b[0;31mNameError\u001b[0m                                 Traceback (most recent call last)",
            "\u001b[0;32m<ipython-input-19-e9e4af58d62b>\u001b[0m in \u001b[0;36m<module>\u001b[0;34m()\u001b[0m\n\u001b[0;32m----> 1\u001b[0;31m \u001b[0mBs_data\u001b[0m\u001b[0;34m\u001b[0m\u001b[0;34m\u001b[0m\u001b[0m\n\u001b[0m",
            "\u001b[0;31mNameError\u001b[0m: name 'Bs_data' is not defined"
          ]
        }
      ]
    },
    {
      "cell_type": "code",
      "source": [
        "import xml.etree.ElementTree as ET\n",
        "tree = ET.parse(\"SCOPUS_ID:85122632679.xml\")\n",
        "root = tree.getroot()\n",
        "\n",
        "# all items data\n",
        "print('Expertise Data:')\n",
        "\n",
        "for elem in root:\n",
        "   for subelem in elem:\n",
        "      print(subelem.text)"
      ],
      "metadata": {
        "colab": {
          "base_uri": "https://localhost:8080/"
        },
        "id": "5rggFlHhZF55",
        "outputId": "47afce04-79c9-4502-eee6-ab31476e13e6"
      },
      "execution_count": null,
      "outputs": [
        {
          "output_type": "stream",
          "name": "stdout",
          "text": [
            "Expertise Data:\n",
            "https://api.elsevier.com/content/article/pii/S0925838822000949\n",
            "doi:10.1016/j.jallcom.2022.163703\n",
            "1-s2.0-S0925838822000949\n",
            "10.1016/j.jallcom.2022.163703\n",
            "S0925-8388(22)00094-9\n",
            "NiSe2@NiO heterostructure with optimized electronic structure as efficient electrocatalyst for lithium-oxygen batteries \n",
            "Journal of Alloys and Compounds\n",
            "Journal\n",
            "fla\n",
            "09258388\n",
            "901\n",
            "163703\n",
            "163703\n",
            "163703\n",
            "text/xml\n",
            "2022-04-25\n",
            "25 April 2022\n",
            "© 2022 Elsevier B.V. All rights reserved.\n",
            "Elsevier B.V.\n",
            "Wen, Xiaojuan\n",
            "Ran, Zhiqun\n",
            "Zheng, Ruixin\n",
            "Du, Dayue\n",
            "Zhao, Chuan\n",
            "Li, Runjing\n",
            "Xu, Haoyang\n",
            "Zeng, Ting\n",
            "Shu, Chaozhu\n",
            "\n",
            "                  With high theoretical energy density, rechargeable lithium-oxygen (Li-O2) batteries are considered to be the most promising energy storage and conversion system. However, its development is seriously hampered by the sluggish kinetics of oxygen reduction reaction (ORR) and oxygen evolution reaction (OER), resulting in notorious overpotential and mediocre cycle stability. Here, we elaborately design the free-standing NiSe2 @NiO heterostructure on conductive carbon cloth as oxygen electrode for Li-O2 batteries. The electronic redistribution at the interface between NiSe2 and NiO caused by the strong electronic interaction can strengthen electron transfer and optimize the adsorption energy of reaction intermediates, thereby immensely boosting the ORR/OER kinetics. Therefore, Li-O2 batteries with NiSe2 @NiO oxygen electrodes show the highly discharge capacity of 11512 mAh g−1 at 500 mA g−1 and outstanding stability of over 360 h. This work enriches the understanding on the influence of electronic structure modulation of heterostructural transition metal dichalcogenides on their catalytic activity towards oxygen electrode reactions in Li-O2 batteries.\n",
            "               \n",
            "0\n",
            "false\n",
            "None\n",
            "false\n",
            "None\n",
            "None\n",
            "None\n",
            "Li-O2 batteries\n",
            "Electrocatalyst\n",
            "NiSe2@NiO heterostructure\n",
            "Interface\n",
            "Optimized electron structure\n",
            "None\n",
            "None\n",
            "None\n"
          ]
        }
      ]
    },
    {
      "cell_type": "code",
      "source": [
        ""
      ],
      "metadata": {
        "id": "Nk-rZkuyzfUD"
      },
      "execution_count": null,
      "outputs": []
    },
    {
      "cell_type": "markdown",
      "source": [
        "### Science Direct"
      ],
      "metadata": {
        "id": "TZq8sUepzcf9"
      }
    },
    {
      "cell_type": "code",
      "source": [
        "#   retrieving all results\n",
        "doc_srch = ElsSearch(\"rechargeable lithium metal\")\n",
        "doc_srch.execute(client, get_all = False)\n",
        "print (\"doc_srch has\", len(doc_srch.results), \"results.\")"
      ],
      "metadata": {
        "colab": {
          "base_uri": "https://localhost:8080/",
          "height": 222
        },
        "id": "gJR9SFAtzf4P",
        "outputId": "21c0f72f-53d9-4983-ecb2-659780160b4b"
      },
      "execution_count": 27,
      "outputs": [
        {
          "output_type": "error",
          "ename": "TypeError",
          "evalue": "ignored",
          "traceback": [
            "\u001b[0;31m---------------------------------------------------------------------------\u001b[0m",
            "\u001b[0;31mTypeError\u001b[0m                                 Traceback (most recent call last)",
            "\u001b[0;32m<ipython-input-27-1c03eb50f795>\u001b[0m in \u001b[0;36m<module>\u001b[0;34m()\u001b[0m\n\u001b[1;32m      1\u001b[0m \u001b[0;31m#   retrieving all results\u001b[0m\u001b[0;34m\u001b[0m\u001b[0;34m\u001b[0m\u001b[0;34m\u001b[0m\u001b[0m\n\u001b[0;32m----> 2\u001b[0;31m \u001b[0mdoc_srch\u001b[0m \u001b[0;34m=\u001b[0m \u001b[0mElsSearch\u001b[0m\u001b[0;34m(\u001b[0m\u001b[0;34m\"rechargeable lithium metal\"\u001b[0m\u001b[0;34m)\u001b[0m\u001b[0;34m\u001b[0m\u001b[0;34m\u001b[0m\u001b[0m\n\u001b[0m\u001b[1;32m      3\u001b[0m \u001b[0mdoc_srch\u001b[0m\u001b[0;34m.\u001b[0m\u001b[0mexecute\u001b[0m\u001b[0;34m(\u001b[0m\u001b[0mclient\u001b[0m\u001b[0;34m,\u001b[0m \u001b[0mget_all\u001b[0m \u001b[0;34m=\u001b[0m \u001b[0;32mFalse\u001b[0m\u001b[0;34m)\u001b[0m\u001b[0;34m\u001b[0m\u001b[0;34m\u001b[0m\u001b[0m\n\u001b[1;32m      4\u001b[0m \u001b[0mprint\u001b[0m \u001b[0;34m(\u001b[0m\u001b[0;34m\"doc_srch has\"\u001b[0m\u001b[0;34m,\u001b[0m \u001b[0mlen\u001b[0m\u001b[0;34m(\u001b[0m\u001b[0mdoc_srch\u001b[0m\u001b[0;34m.\u001b[0m\u001b[0mresults\u001b[0m\u001b[0;34m)\u001b[0m\u001b[0;34m,\u001b[0m \u001b[0;34m\"results.\"\u001b[0m\u001b[0;34m)\u001b[0m\u001b[0;34m\u001b[0m\u001b[0;34m\u001b[0m\u001b[0m\n",
            "\u001b[0;31mTypeError\u001b[0m: __init__() missing 1 required positional argument: 'index'"
          ]
        }
      ]
    },
    {
      "cell_type": "code",
      "source": [
        "def download_doi(doi):\n",
        "    \"\"\"\n",
        "    Download the paper according to the DOI\n",
        "    :param doi: <str> DOI\n",
        "    \"\"\"\n",
        "    with open(str(doi) + '.xml', 'w', encoding='utf-8') as f:\n",
        "        request_url = 'https://api.elsevier.com/content/article/doi/{}?apiKey={}&httpAccept=text%2Fxml'.format(\n",
        "            doi, API_KEY)\n",
        "        text = requests.get(request_url).text\n",
        "        f.write(text)\n",
        "    return"
      ],
      "metadata": {
        "id": "CLhtTdHW0QjO"
      },
      "execution_count": 33,
      "outputs": []
    },
    {
      "cell_type": "code",
      "source": [
        "text"
      ],
      "metadata": {
        "colab": {
          "base_uri": "https://localhost:8080/",
          "height": 767
        },
        "id": "lN3SxzlD3Nb1",
        "outputId": "48857f8f-60fe-4a5c-b61c-1c6bc0c6c3a2"
      },
      "execution_count": 36,
      "outputs": [
        {
          "output_type": "execute_result",
          "data": {
            "text/plain": [
              "'<full-text-retrieval-response xmlns=\"http://www.elsevier.com/xml/svapi/article/dtd\" xmlns:bk=\"http://www.elsevier.com/xml/bk/dtd\" xmlns:cals=\"http://www.elsevier.com/xml/common/cals/dtd\" xmlns:ce=\"http://www.elsevier.com/xml/common/dtd\" xmlns:ja=\"http://www.elsevier.com/xml/ja/dtd\" xmlns:mml=\"http://www.w3.org/1998/Math/MathML\" xmlns:sa=\"http://www.elsevier.com/xml/common/struct-aff/dtd\" xmlns:sb=\"http://www.elsevier.com/xml/common/struct-bib/dtd\" xmlns:tb=\"http://www.elsevier.com/xml/common/table/dtd\" xmlns:xlink=\"http://www.w3.org/1999/xlink\" xmlns:xocs=\"http://www.elsevier.com/xml/xocs/dtd\" xmlns:dc=\"http://purl.org/dc/elements/1.1/\" xmlns:dcterms=\"http://purl.org/dc/terms/\" xmlns:prism=\"http://prismstandard.org/namespaces/basic/2.0/\" xmlns:xsi=\"http://www.w3.org/2001/XMLSchema-instance\"><coredata><prism:url>https://api.elsevier.com/content/article/pii/S1525157810605715</prism:url><dc:identifier>doi:10.1016/S1525-1578(10)60571-5</dc:identifier><eid>1-s2.0-S1525157810605715</eid><prism:doi>10.1016/S1525-1578(10)60571-5</prism:doi><pii>S1525-1578(10)60571-5</pii><dc:title>Sensitive Sequencing Method for KRAS Mutation Detection by Pyrosequencing </dc:title><prism:publicationName>The Journal of Molecular Diagnostics</prism:publicationName><prism:aggregationType>Journal</prism:aggregationType><pubType>fla</pubType><prism:issn>15251578</prism:issn><prism:volume>7</prism:volume><prism:issueIdentifier>3</prism:issueIdentifier><prism:startingPage>413</prism:startingPage><prism:endingPage>421</prism:endingPage><prism:pageRange>413-421</prism:pageRange><prism:number>3</prism:number><dc:format>text/xml</dc:format><prism:coverDate>2005-08-31</prism:coverDate><prism:coverDisplayDate>August 2005</prism:coverDisplayDate><prism:copyright>Copyright © 2005 American Society for Investigative Pathology and Association for Molecular Pathology. Published by Elsevier Inc. All rights reserved.</prism:copyright><prism:publisher>American Society for Investigative Pathology and Association for Molecular Pathology. Published by Elsevier Inc.</prism:publisher><dc:creator>Ogino, Shuji</dc:creator><dc:creator>Kawasaki, Takako</dc:creator><dc:creator>Brahmandam, Mohan</dc:creator><dc:creator>Yan, Liying</dc:creator><dc:creator>Cantor, Mami</dc:creator><dc:creator>Namgyal, Chungdak</dc:creator><dc:creator>Mino-Kenudson, Mari</dc:creator><dc:creator>Lauwers, Gregory Y.</dc:creator><dc:creator>Loda, Massimo</dc:creator><dc:creator>Fuchs, Charles S.</dc:creator><dc:description>\\n                  Both benign and malignant tumors represent heterogenous tissue containing tumor cells and non-neoplastic mesenchymal and inflammatory cells. To detect a minority of mutant KRAS alleles among abundant wild-type alleles, we developed a sensitive DNA sequencing assay using Pyrosequencing, ie, nucleotide extension sequencing with an allele quantification capability. We designed our Pyrosequencing assay for use with whole-genome-amplified DNA from paraffin-embedded tissue. Assessing various mixtures of DNA from mutant KRAS cell lines and DNA from a wild-type KRAS cell line, we found that mutation detection rates for Pyrosequencing were superior to dideoxy sequencing. In addition, Pyrosequencing proved superior to dideoxy sequencing in the detection of KRAS mutations from DNA mixtures of paraffin-embedded colon cancer and normal tissue as well as from paraffin-embedded pancreatic cancers. Quantification of mutant alleles by Pyrosequencing was precise and useful for assay validation, monitoring, and quality assurance. Our Pyrosequencing method is simple, robust, and sensitive, with a detection limit of approximately 5% mutant alleles. It is particularly useful for tumors containing abundant non-neoplastic cells. In addition, the applicability of this assay for DNA amplified by whole-genome amplification technique provides an expanded source of DNA for large-scale studies.\\n               </dc:description><openaccess>0</openaccess><openaccessArticle>false</openaccessArticle><openaccessType/><openArchiveArticle>false</openArchiveArticle><openaccessSponsorName/><openaccessSponsorType/><openaccessUserLicense/><link href=\"https://api.elsevier.com/content/article/pii/S1525157810605715\" rel=\"self\"/><link href=\"https://www.sciencedirect.com/science/article/pii/S1525157810605715\" rel=\"scidir\"/></coredata><scopus-id>23844497341</scopus-id><scopus-eid>2-s2.0-23844497341</scopus-eid><pubmed-id>16049314</pubmed-id><link href=\"https://api.elsevier.com/content/abstract/scopus_id/23844497341\" rel=\"abstract\"/><originalText><xocs:doc><xocs:meta><xocs:open-access xmlns:xocs=\"http://www.elsevier.com/xml/xocs/dtd\"\\n                  xmlns:xsi=\"http://www.w3.org/2001/XMLSchema-instance\"\\n                  xmlns:xoe=\"http://www.elsevier.com/xml/xoe/dtd\">\\n   <xocs:oa-article-status is-open-access=\"0\" is-open-archive=\"0\"/>\\n</xocs:open-access><xocs:available-online-date xmlns:xoe=\"http://www.elsevier.com/xml/xoe/dtd\" yyyymmdd=\"20101231\">2010-12-31</xocs:available-online-date></xocs:meta></xocs:doc></originalText></full-text-retrieval-response>'"
            ],
            "application/vnd.google.colaboratory.intrinsic+json": {
              "type": "string"
            }
          },
          "metadata": {},
          "execution_count": 36
        }
      ]
    },
    {
      "cell_type": "code",
      "source": [
        " request_url = 'https://api.elsevier.com/content/article/doi/{}?apiKey={}&httpAccept=text%2Fxml'.format(\n",
        "            '1`0.1016/S1525-1578(10)60571-5', API_KEY)\n",
        "text = requests.get(request_url).text"
      ],
      "metadata": {
        "id": "G4BQAMEy3JRQ"
      },
      "execution_count": 35,
      "outputs": []
    },
    {
      "cell_type": "code",
      "source": [
        "import xml.etree.ElementTree as ET\n",
        "tree = ET.parse(text)\n",
        "root = tree.getroot()\n",
        "\n",
        "# all items data\n",
        "print('Expertise Data:')\n",
        "\n",
        "for elem in root:\n",
        "   for subelem in elem:\n",
        "      print(subelem.text)"
      ],
      "metadata": {
        "colab": {
          "base_uri": "https://localhost:8080/",
          "height": 639
        },
        "id": "fD0Ggfsc0ZT4",
        "outputId": "45e0196c-c738-4c73-ad0f-e241cf8d4ea0"
      },
      "execution_count": 37,
      "outputs": [
        {
          "output_type": "error",
          "ename": "OSError",
          "evalue": "ignored",
          "traceback": [
            "\u001b[0;31m---------------------------------------------------------------------------\u001b[0m",
            "\u001b[0;31mOSError\u001b[0m                                   Traceback (most recent call last)",
            "\u001b[0;32m<ipython-input-37-6085a51fd7b7>\u001b[0m in \u001b[0;36m<module>\u001b[0;34m()\u001b[0m\n\u001b[1;32m      1\u001b[0m \u001b[0;32mimport\u001b[0m \u001b[0mxml\u001b[0m\u001b[0;34m.\u001b[0m\u001b[0metree\u001b[0m\u001b[0;34m.\u001b[0m\u001b[0mElementTree\u001b[0m \u001b[0;32mas\u001b[0m \u001b[0mET\u001b[0m\u001b[0;34m\u001b[0m\u001b[0;34m\u001b[0m\u001b[0m\n\u001b[0;32m----> 2\u001b[0;31m \u001b[0mtree\u001b[0m \u001b[0;34m=\u001b[0m \u001b[0mET\u001b[0m\u001b[0;34m.\u001b[0m\u001b[0mparse\u001b[0m\u001b[0;34m(\u001b[0m\u001b[0mtext\u001b[0m\u001b[0;34m)\u001b[0m\u001b[0;34m\u001b[0m\u001b[0;34m\u001b[0m\u001b[0m\n\u001b[0m\u001b[1;32m      3\u001b[0m \u001b[0mroot\u001b[0m \u001b[0;34m=\u001b[0m \u001b[0mtree\u001b[0m\u001b[0;34m.\u001b[0m\u001b[0mgetroot\u001b[0m\u001b[0;34m(\u001b[0m\u001b[0;34m)\u001b[0m\u001b[0;34m\u001b[0m\u001b[0;34m\u001b[0m\u001b[0m\n\u001b[1;32m      4\u001b[0m \u001b[0;34m\u001b[0m\u001b[0m\n\u001b[1;32m      5\u001b[0m \u001b[0;31m# all items data\u001b[0m\u001b[0;34m\u001b[0m\u001b[0;34m\u001b[0m\u001b[0;34m\u001b[0m\u001b[0m\n",
            "\u001b[0;32m/usr/lib/python3.7/xml/etree/ElementTree.py\u001b[0m in \u001b[0;36mparse\u001b[0;34m(source, parser)\u001b[0m\n\u001b[1;32m   1195\u001b[0m     \"\"\"\n\u001b[1;32m   1196\u001b[0m     \u001b[0mtree\u001b[0m \u001b[0;34m=\u001b[0m \u001b[0mElementTree\u001b[0m\u001b[0;34m(\u001b[0m\u001b[0;34m)\u001b[0m\u001b[0;34m\u001b[0m\u001b[0;34m\u001b[0m\u001b[0m\n\u001b[0;32m-> 1197\u001b[0;31m     \u001b[0mtree\u001b[0m\u001b[0;34m.\u001b[0m\u001b[0mparse\u001b[0m\u001b[0;34m(\u001b[0m\u001b[0msource\u001b[0m\u001b[0;34m,\u001b[0m \u001b[0mparser\u001b[0m\u001b[0;34m)\u001b[0m\u001b[0;34m\u001b[0m\u001b[0;34m\u001b[0m\u001b[0m\n\u001b[0m\u001b[1;32m   1198\u001b[0m     \u001b[0;32mreturn\u001b[0m \u001b[0mtree\u001b[0m\u001b[0;34m\u001b[0m\u001b[0;34m\u001b[0m\u001b[0m\n\u001b[1;32m   1199\u001b[0m \u001b[0;34m\u001b[0m\u001b[0m\n",
            "\u001b[0;32m/usr/lib/python3.7/xml/etree/ElementTree.py\u001b[0m in \u001b[0;36mparse\u001b[0;34m(self, source, parser)\u001b[0m\n\u001b[1;32m    585\u001b[0m         \u001b[0mclose_source\u001b[0m \u001b[0;34m=\u001b[0m \u001b[0;32mFalse\u001b[0m\u001b[0;34m\u001b[0m\u001b[0;34m\u001b[0m\u001b[0m\n\u001b[1;32m    586\u001b[0m         \u001b[0;32mif\u001b[0m \u001b[0;32mnot\u001b[0m \u001b[0mhasattr\u001b[0m\u001b[0;34m(\u001b[0m\u001b[0msource\u001b[0m\u001b[0;34m,\u001b[0m \u001b[0;34m\"read\"\u001b[0m\u001b[0;34m)\u001b[0m\u001b[0;34m:\u001b[0m\u001b[0;34m\u001b[0m\u001b[0;34m\u001b[0m\u001b[0m\n\u001b[0;32m--> 587\u001b[0;31m             \u001b[0msource\u001b[0m \u001b[0;34m=\u001b[0m \u001b[0mopen\u001b[0m\u001b[0;34m(\u001b[0m\u001b[0msource\u001b[0m\u001b[0;34m,\u001b[0m \u001b[0;34m\"rb\"\u001b[0m\u001b[0;34m)\u001b[0m\u001b[0;34m\u001b[0m\u001b[0;34m\u001b[0m\u001b[0m\n\u001b[0m\u001b[1;32m    588\u001b[0m             \u001b[0mclose_source\u001b[0m \u001b[0;34m=\u001b[0m \u001b[0;32mTrue\u001b[0m\u001b[0;34m\u001b[0m\u001b[0;34m\u001b[0m\u001b[0m\n\u001b[1;32m    589\u001b[0m         \u001b[0;32mtry\u001b[0m\u001b[0;34m:\u001b[0m\u001b[0;34m\u001b[0m\u001b[0;34m\u001b[0m\u001b[0m\n",
            "\u001b[0;31mOSError\u001b[0m: [Errno 36] File name too long: '<full-text-retrieval-response xmlns=\"http://www.elsevier.com/xml/svapi/article/dtd\" xmlns:bk=\"http://www.elsevier.com/xml/bk/dtd\" xmlns:cals=\"http://www.elsevier.com/xml/common/cals/dtd\" xmlns:ce=\"http://www.elsevier.com/xml/common/dtd\" xmlns:ja=\"http://www.elsevier.com/xml/ja/dtd\" xmlns:mml=\"http://www.w3.org/1998/Math/MathML\" xmlns:sa=\"http://www.elsevier.com/xml/common/struct-aff/dtd\" xmlns:sb=\"http://www.elsevier.com/xml/common/struct-bib/dtd\" xmlns:tb=\"http://www.elsevier.com/xml/common/table/dtd\" xmlns:xlink=\"http://www.w3.org/1999/xlink\" xmlns:xocs=\"http://www.elsevier.com/xml/xocs/dtd\" xmlns:dc=\"http://purl.org/dc/elements/1.1/\" xmlns:dcterms=\"http://purl.org/dc/terms/\" xmlns:prism=\"http://prismstandard.org/namespaces/basic/2.0/\" xmlns:xsi=\"http://www.w3.org/2001/XMLSchema-instance\"><coredata><prism:url>https://api.elsevier.com/content/article/pii/S1525157810605715</prism:url><dc:identifier>doi:10.1016/S1525-1578(10)60571-5</dc:identifier><eid>1-s2.0-S1525157810605715</eid><prism:doi>10.1016/S1525-1578(10)60571-5</prism:doi><pii>S1525-1578(10)60571-5</pii><dc:title>Sensitive Sequencing Method for KRAS Mutation Detection by Pyrosequencing </dc:title><prism:publicationName>The Journal of Molecular Diagnostics</prism:publicationName><prism:aggregationType>Journal</prism:aggregationType><pubType>fla</pubType><prism:issn>15251578</prism:issn><prism:volume>7</prism:volume><prism:issueIdentifier>3</prism:issueIdentifier>..."
          ]
        }
      ]
    },
    {
      "cell_type": "code",
      "source": [
        ""
      ],
      "metadata": {
        "id": "VYndcEHD3tUw"
      },
      "execution_count": null,
      "outputs": []
    },
    {
      "cell_type": "markdown",
      "source": [
        "### using OSTI"
      ],
      "metadata": {
        "id": "1XebViPLCys2"
      }
    },
    {
      "cell_type": "code",
      "source": [
        "# api-endpoint \n",
        "URL = \"https://www.osti.gov/api/v1/records\"\n",
        "  \n",
        "# defining a params dict for the parameters to be sent to the API \n",
        "# PARAMS = {'research_org':\"Argonne National Laboratory ANL\",\"rows\":3200} \n",
        "# PARAMS = {'research_org':\"Advanced Light Source ALS\",\"rows\":3200} \n",
        "PARAMS = {'research_org':\"Lawrence Berkeley National Lab\",\"rows\":3200}\n",
        "\n",
        "# sending get request and saving the response as response object \n",
        "r = requests.get(url = URL, params = PARAMS) \n",
        "  \n",
        "# extracting data in json format \n",
        "data = r.json() osti api"
      ],
      "metadata": {
        "id": "vq7kKVRi6-t1"
      },
      "execution_count": null,
      "outputs": []
    },
    {
      "cell_type": "markdown",
      "source": [
        "### new"
      ],
      "metadata": {
        "id": "V70egjHq8fkn"
      }
    },
    {
      "cell_type": "code",
      "source": [
        "## ScienceDirect (full-text) document example using DOI\n",
        "doi_doc = FullDoc(doi = '10.1016/S1525-1578(10)60571-5')\n",
        "if doi_doc.read(client):\n",
        "    print (\"doi_doc.title: \", doi_doc.title)\n",
        "    print(doi_doc)\n",
        "else:\n",
        "    print (\"Read document failed.\")"
      ],
      "metadata": {
        "colab": {
          "base_uri": "https://localhost:8080/",
          "height": 240
        },
        "id": "jcj8Uh693wbF",
        "outputId": "2f1cee60-0a39-4314-cc62-1d348b0ac45a"
      },
      "execution_count": 1,
      "outputs": [
        {
          "output_type": "error",
          "ename": "NameError",
          "evalue": "ignored",
          "traceback": [
            "\u001b[0;31m---------------------------------------------------------------------------\u001b[0m",
            "\u001b[0;31mNameError\u001b[0m                                 Traceback (most recent call last)",
            "\u001b[0;32m<ipython-input-1-8f535ec6471c>\u001b[0m in \u001b[0;36m<module>\u001b[0;34m()\u001b[0m\n\u001b[1;32m      1\u001b[0m \u001b[0;31m## ScienceDirect (full-text) document example using DOI\u001b[0m\u001b[0;34m\u001b[0m\u001b[0;34m\u001b[0m\u001b[0;34m\u001b[0m\u001b[0m\n\u001b[0;32m----> 2\u001b[0;31m \u001b[0mdoi_doc\u001b[0m \u001b[0;34m=\u001b[0m \u001b[0mFullDoc\u001b[0m\u001b[0;34m(\u001b[0m\u001b[0mdoi\u001b[0m \u001b[0;34m=\u001b[0m \u001b[0;34m'10.1016/S1525-1578(10)60571-5'\u001b[0m\u001b[0;34m)\u001b[0m\u001b[0;34m\u001b[0m\u001b[0;34m\u001b[0m\u001b[0m\n\u001b[0m\u001b[1;32m      3\u001b[0m \u001b[0;32mif\u001b[0m \u001b[0mdoi_doc\u001b[0m\u001b[0;34m.\u001b[0m\u001b[0mread\u001b[0m\u001b[0;34m(\u001b[0m\u001b[0mclient\u001b[0m\u001b[0;34m)\u001b[0m\u001b[0;34m:\u001b[0m\u001b[0;34m\u001b[0m\u001b[0;34m\u001b[0m\u001b[0m\n\u001b[1;32m      4\u001b[0m     \u001b[0mprint\u001b[0m \u001b[0;34m(\u001b[0m\u001b[0;34m\"doi_doc.title: \"\u001b[0m\u001b[0;34m,\u001b[0m \u001b[0mdoi_doc\u001b[0m\u001b[0;34m.\u001b[0m\u001b[0mtitle\u001b[0m\u001b[0;34m)\u001b[0m\u001b[0;34m\u001b[0m\u001b[0;34m\u001b[0m\u001b[0m\n\u001b[1;32m      5\u001b[0m     \u001b[0mprint\u001b[0m\u001b[0;34m(\u001b[0m\u001b[0mdoi_doc\u001b[0m\u001b[0;34m)\u001b[0m\u001b[0;34m\u001b[0m\u001b[0;34m\u001b[0m\u001b[0m\n",
            "\u001b[0;31mNameError\u001b[0m: name 'FullDoc' is not defined"
          ]
        }
      ]
    },
    {
      "cell_type": "code",
      "source": [
        "doi_doc.write()"
      ],
      "metadata": {
        "colab": {
          "base_uri": "https://localhost:8080/"
        },
        "id": "fzotFRHv3zXW",
        "outputId": "fd3dbeb6-c353-4ae4-ff77-014ea66dbe13"
      },
      "execution_count": 40,
      "outputs": [
        {
          "output_type": "execute_result",
          "data": {
            "text/plain": [
              "True"
            ]
          },
          "metadata": {},
          "execution_count": 40
        }
      ]
    },
    {
      "cell_type": "code",
      "source": [
        "with open('readme.txt', 'w') as f:\n",
        "    doi_doc.write()"
      ],
      "metadata": {
        "id": "vMJrwsri3434"
      },
      "execution_count": 41,
      "outputs": []
    },
    {
      "cell_type": "code",
      "source": [
        "http://api.elsevier.com/content/article/entitlement/pii/S0049-3848(14)00284-9?apiKey=[856d163d12a1f149d801ee44e166857e]\n"
      ],
      "metadata": {
        "id": "jsHMbmpP4Nk7"
      },
      "execution_count": null,
      "outputs": []
    },
    {
      "cell_type": "markdown",
      "source": [
        "### RSC API CALL"
      ],
      "metadata": {
        "id": "lk-pri6xYuZd"
      }
    },
    {
      "cell_type": "code",
      "source": [
        "!pip install chemdataextractor"
      ],
      "metadata": {
        "colab": {
          "base_uri": "https://localhost:8080/"
        },
        "id": "PaxOIpCCY0Vq",
        "outputId": "7ea4985c-4b3c-48ac-9c99-39b41cea7e51"
      },
      "execution_count": 5,
      "outputs": [
        {
          "output_type": "stream",
          "name": "stdout",
          "text": [
            "Collecting chemdataextractor\n",
            "  Downloading ChemDataExtractor-1.3.0-py3-none-any.whl (182 kB)\n",
            "\u001b[?25l\r\u001b[K     |█▉                              | 10 kB 29.0 MB/s eta 0:00:01\r\u001b[K     |███▋                            | 20 kB 25.9 MB/s eta 0:00:01\r\u001b[K     |█████▍                          | 30 kB 31.6 MB/s eta 0:00:01\r\u001b[K     |███████▏                        | 40 kB 13.5 MB/s eta 0:00:01\r\u001b[K     |█████████                       | 51 kB 12.3 MB/s eta 0:00:01\r\u001b[K     |██████████▊                     | 61 kB 13.7 MB/s eta 0:00:01\r\u001b[K     |████████████▌                   | 71 kB 11.6 MB/s eta 0:00:01\r\u001b[K     |██████████████▍                 | 81 kB 12.6 MB/s eta 0:00:01\r\u001b[K     |████████████████▏               | 92 kB 13.8 MB/s eta 0:00:01\r\u001b[K     |██████████████████              | 102 kB 13.4 MB/s eta 0:00:01\r\u001b[K     |███████████████████▊            | 112 kB 13.4 MB/s eta 0:00:01\r\u001b[K     |█████████████████████▌          | 122 kB 13.4 MB/s eta 0:00:01\r\u001b[K     |███████████████████████▎        | 133 kB 13.4 MB/s eta 0:00:01\r\u001b[K     |█████████████████████████       | 143 kB 13.4 MB/s eta 0:00:01\r\u001b[K     |██████████████████████████▉     | 153 kB 13.4 MB/s eta 0:00:01\r\u001b[K     |████████████████████████████▊   | 163 kB 13.4 MB/s eta 0:00:01\r\u001b[K     |██████████████████████████████▌ | 174 kB 13.4 MB/s eta 0:00:01\r\u001b[K     |████████████████████████████████| 182 kB 13.4 MB/s \n",
            "\u001b[?25hRequirement already satisfied: beautifulsoup4 in /usr/local/lib/python3.7/dist-packages (from chemdataextractor) (4.6.3)\n",
            "Requirement already satisfied: python-dateutil in /usr/local/lib/python3.7/dist-packages (from chemdataextractor) (2.8.2)\n",
            "Requirement already satisfied: appdirs in /usr/local/lib/python3.7/dist-packages (from chemdataextractor) (1.4.4)\n",
            "Collecting python-crfsuite\n",
            "  Downloading python_crfsuite-0.9.8-cp37-cp37m-manylinux_2_17_x86_64.manylinux2014_x86_64.whl (965 kB)\n",
            "\u001b[K     |████████████████████████████████| 965 kB 69.2 MB/s \n",
            "\u001b[?25hRequirement already satisfied: requests in /usr/local/lib/python3.7/dist-packages (from chemdataextractor) (2.23.0)\n",
            "Requirement already satisfied: six in /usr/local/lib/python3.7/dist-packages (from chemdataextractor) (1.15.0)\n",
            "Requirement already satisfied: lxml in /usr/local/lib/python3.7/dist-packages (from chemdataextractor) (4.2.6)\n",
            "Requirement already satisfied: click in /usr/local/lib/python3.7/dist-packages (from chemdataextractor) (7.1.2)\n",
            "Collecting cssselect\n",
            "  Downloading cssselect-1.1.0-py2.py3-none-any.whl (16 kB)\n",
            "Collecting DAWG\n",
            "  Downloading DAWG-0.8.0.tar.gz (371 kB)\n",
            "\u001b[K     |████████████████████████████████| 371 kB 62.2 MB/s \n",
            "\u001b[?25hRequirement already satisfied: PyYAML in /usr/local/lib/python3.7/dist-packages (from chemdataextractor) (3.13)\n",
            "Requirement already satisfied: nltk in /usr/local/lib/python3.7/dist-packages (from chemdataextractor) (3.2.5)\n",
            "Collecting pdfminer.six\n",
            "  Downloading pdfminer.six-20220319-py3-none-any.whl (5.6 MB)\n",
            "\u001b[K     |████████████████████████████████| 5.6 MB 36.9 MB/s \n",
            "\u001b[?25hCollecting cryptography\n",
            "  Downloading cryptography-36.0.2-cp36-abi3-manylinux_2_24_x86_64.whl (3.6 MB)\n",
            "\u001b[K     |████████████████████████████████| 3.6 MB 51.6 MB/s \n",
            "\u001b[?25hRequirement already satisfied: chardet in /usr/local/lib/python3.7/dist-packages (from pdfminer.six->chemdataextractor) (3.0.4)\n",
            "Requirement already satisfied: cffi>=1.12 in /usr/local/lib/python3.7/dist-packages (from cryptography->pdfminer.six->chemdataextractor) (1.15.0)\n",
            "Requirement already satisfied: pycparser in /usr/local/lib/python3.7/dist-packages (from cffi>=1.12->cryptography->pdfminer.six->chemdataextractor) (2.21)\n",
            "Requirement already satisfied: urllib3!=1.25.0,!=1.25.1,<1.26,>=1.21.1 in /usr/local/lib/python3.7/dist-packages (from requests->chemdataextractor) (1.24.3)\n",
            "Requirement already satisfied: certifi>=2017.4.17 in /usr/local/lib/python3.7/dist-packages (from requests->chemdataextractor) (2021.10.8)\n",
            "Requirement already satisfied: idna<3,>=2.5 in /usr/local/lib/python3.7/dist-packages (from requests->chemdataextractor) (2.10)\n",
            "Building wheels for collected packages: DAWG\n",
            "  Building wheel for DAWG (setup.py) ... \u001b[?25l\u001b[?25hdone\n",
            "  Created wheel for DAWG: filename=DAWG-0.8.0-cp37-cp37m-linux_x86_64.whl size=866722 sha256=ae0009d4994af6879d2ca8fb7da71b7e34e0823035802d25cee6e38e0b699164\n",
            "  Stored in directory: /root/.cache/pip/wheels/85/51/a4/2de41ff197786537075027c27b479a38da92f50abc86634445\n",
            "Successfully built DAWG\n",
            "Installing collected packages: cryptography, python-crfsuite, pdfminer.six, DAWG, cssselect, chemdataextractor\n",
            "Successfully installed DAWG-0.8.0 chemdataextractor-1.3.0 cryptography-36.0.2 cssselect-1.1.0 pdfminer.six-20220319 python-crfsuite-0.9.8\n"
          ]
        }
      ]
    },
    {
      "cell_type": "code",
      "source": [
        "!pip install selenium"
      ],
      "metadata": {
        "colab": {
          "base_uri": "https://localhost:8080/",
          "height": 893
        },
        "id": "6uxvojs-ZEKv",
        "outputId": "11993961-6c61-4984-fe96-fdce98d70a17"
      },
      "execution_count": 7,
      "outputs": [
        {
          "output_type": "stream",
          "name": "stdout",
          "text": [
            "Collecting selenium\n",
            "  Downloading selenium-4.1.3-py3-none-any.whl (968 kB)\n",
            "\u001b[K     |████████████████████████████████| 968 kB 14.3 MB/s \n",
            "\u001b[?25hCollecting trio-websocket~=0.9\n",
            "  Downloading trio_websocket-0.9.2-py3-none-any.whl (16 kB)\n",
            "Collecting urllib3[secure,socks]~=1.26\n",
            "  Downloading urllib3-1.26.9-py2.py3-none-any.whl (138 kB)\n",
            "\u001b[K     |████████████████████████████████| 138 kB 67.1 MB/s \n",
            "\u001b[?25hCollecting trio~=0.17\n",
            "  Downloading trio-0.20.0-py3-none-any.whl (359 kB)\n",
            "\u001b[K     |████████████████████████████████| 359 kB 55.8 MB/s \n",
            "\u001b[?25hCollecting outcome\n",
            "  Downloading outcome-1.1.0-py2.py3-none-any.whl (9.7 kB)\n",
            "Collecting async-generator>=1.9\n",
            "  Downloading async_generator-1.10-py3-none-any.whl (18 kB)\n",
            "Requirement already satisfied: idna in /usr/local/lib/python3.7/dist-packages (from trio~=0.17->selenium) (2.10)\n",
            "Requirement already satisfied: attrs>=19.2.0 in /usr/local/lib/python3.7/dist-packages (from trio~=0.17->selenium) (21.4.0)\n",
            "Collecting sniffio\n",
            "  Downloading sniffio-1.2.0-py3-none-any.whl (10 kB)\n",
            "Requirement already satisfied: sortedcontainers in /usr/local/lib/python3.7/dist-packages (from trio~=0.17->selenium) (2.4.0)\n",
            "Collecting wsproto>=0.14\n",
            "  Downloading wsproto-1.1.0-py3-none-any.whl (24 kB)\n",
            "Requirement already satisfied: PySocks!=1.5.7,<2.0,>=1.5.6 in /usr/local/lib/python3.7/dist-packages (from urllib3[secure,socks]~=1.26->selenium) (1.7.1)\n",
            "Collecting pyOpenSSL>=0.14\n",
            "  Downloading pyOpenSSL-22.0.0-py2.py3-none-any.whl (55 kB)\n",
            "\u001b[K     |████████████████████████████████| 55 kB 3.2 MB/s \n",
            "\u001b[?25hRequirement already satisfied: certifi in /usr/local/lib/python3.7/dist-packages (from urllib3[secure,socks]~=1.26->selenium) (2021.10.8)\n",
            "Requirement already satisfied: cryptography>=1.3.4 in /usr/local/lib/python3.7/dist-packages (from urllib3[secure,socks]~=1.26->selenium) (36.0.2)\n",
            "Requirement already satisfied: cffi>=1.12 in /usr/local/lib/python3.7/dist-packages (from cryptography>=1.3.4->urllib3[secure,socks]~=1.26->selenium) (1.15.0)\n",
            "Requirement already satisfied: pycparser in /usr/local/lib/python3.7/dist-packages (from cffi>=1.12->cryptography>=1.3.4->urllib3[secure,socks]~=1.26->selenium) (2.21)\n",
            "Collecting h11<1,>=0.9.0\n",
            "  Downloading h11-0.13.0-py3-none-any.whl (58 kB)\n",
            "\u001b[K     |████████████████████████████████| 58 kB 4.5 MB/s \n",
            "\u001b[?25hRequirement already satisfied: typing-extensions in /usr/local/lib/python3.7/dist-packages (from h11<1,>=0.9.0->wsproto>=0.14->trio-websocket~=0.9->selenium) (3.10.0.2)\n",
            "Installing collected packages: sniffio, outcome, h11, async-generator, wsproto, urllib3, trio, pyOpenSSL, trio-websocket, selenium\n",
            "  Attempting uninstall: urllib3\n",
            "    Found existing installation: urllib3 1.24.3\n",
            "    Uninstalling urllib3-1.24.3:\n",
            "      Successfully uninstalled urllib3-1.24.3\n",
            "\u001b[31mERROR: pip's dependency resolver does not currently take into account all the packages that are installed. This behaviour is the source of the following dependency conflicts.\n",
            "requests 2.23.0 requires urllib3!=1.25.0,!=1.25.1,<1.26,>=1.21.1, but you have urllib3 1.26.9 which is incompatible.\n",
            "datascience 0.10.6 requires folium==0.2.1, but you have folium 0.8.3 which is incompatible.\u001b[0m\n",
            "Successfully installed async-generator-1.10 h11-0.13.0 outcome-1.1.0 pyOpenSSL-22.0.0 selenium-4.1.3 sniffio-1.2.0 trio-0.20.0 trio-websocket-0.9.2 urllib3-1.26.9 wsproto-1.1.0\n"
          ]
        },
        {
          "output_type": "display_data",
          "data": {
            "application/vnd.colab-display-data+json": {
              "pip_warning": {
                "packages": [
                  "urllib3"
                ]
              }
            }
          },
          "metadata": {}
        }
      ]
    },
    {
      "cell_type": "code",
      "source": [
        "import re\n",
        "import requests\n",
        "import urllib.request\n",
        "from chemdataextractor.scrape.pub.rsc import RscSearchScraper\n",
        "from selenium import webdriver\n",
        "\n",
        "\n",
        "def get_doi(query, pagenumber):\n",
        "    \"\"\"\n",
        "    Find the DOIs of a topic in RSC\n",
        "    :param query: <str> search topic\n",
        "    :param pagenumber: <int> the page of the search items\n",
        "    :return: <list> of <str> list of DOIs\n",
        "    \"\"\"\n",
        "    scrape = RscSearchScraper(\n",
        "        driver=webdriver.Chrome()).run(\n",
        "        query,\n",
        "        page=pagenumber)\n",
        "    results = scrape.serialize()\n",
        "    dois = [result['doi'] for result in results]\n",
        "    return dois\n",
        "\n",
        "\n",
        "def get_url(doi):\n",
        "    \"\"\"\n",
        "    Find the full url address according to the DOI\n",
        "    :param doi: <str> DOI\n",
        "    :return: <str> url text\n",
        "    \"\"\"\n",
        "    r = requests.get(\n",
        "        'http://doi.org/' +\n",
        "        doi,\n",
        "        headers={\n",
        "            'User-Agent': 'Mozilla/5.0 (Windows NT 6.0; WOW64; rv:24.0) Gecko/20100101 Firefox/24.0'})\n",
        "    result = re.findall(\n",
        "        r'https://pubs.rsc.org/en/content/articlehtml/.*?\"',\n",
        "        r.text)\n",
        "    result = result[0][:-1]\n",
        "    return result\n",
        "\n",
        "\n",
        "def download_doi(doi):\n",
        "    \"\"\"\n",
        "    Download the paper according to the DOI\n",
        "    :param doi: <str> DOI\n",
        "    \"\"\"\n",
        "    webcontent = urllib.request.urlopen(get_url(doi)).read()\n",
        "    f = open(str(doi) + '.html', 'wb')\n",
        "    f.write(webcontent)\n",
        "    f.close()\n",
        "    return"
      ],
      "metadata": {
        "id": "RCSleYCvYv4_"
      },
      "execution_count": 8,
      "outputs": []
    },
    {
      "cell_type": "code",
      "source": [
        ""
      ],
      "metadata": {
        "id": "o8WKDaLkZIs3"
      },
      "execution_count": null,
      "outputs": []
    },
    {
      "cell_type": "markdown",
      "source": [
        "### SPRINGER API CALL"
      ],
      "metadata": {
        "id": "CMKkBLa4Ywin"
      }
    },
    {
      "cell_type": "code",
      "source": [
        "import urllib.request as request\n",
        "import json\n",
        "\n",
        "\n",
        "class SpringerScraper():\n",
        "    def __init__(\n",
        "            self,\n",
        "            query_text,\n",
        "            start=0,\n",
        "            year=2021,\n",
        "            apikey=\"d0fce19bf0a92a57dd448bd7f0c2301f\",\n",
        "            max_return=100):\n",
        "        \"\"\"\n",
        "        :param query_text: query words\n",
        "        :param start: start page number\n",
        "        :param year: year of published papers\n",
        "        :param apikey: Springer APIKEY\n",
        "        :param max_return: max returned number of papers\n",
        "        \"\"\"\n",
        "        self.apikey = apikey\n",
        "        self.start = start\n",
        "        self.max_return = max_return\n",
        "        self.year = year\n",
        "        self.query_text = query_text.replace(\" \", '%20')\n",
        "\n",
        "    def FindDois(self):\n",
        "        \"\"\"\n",
        "        :return: <list> of <str> list of DOIs\n",
        "        \"\"\"\n",
        "        url = \"http://api.springernature.com/meta/v2/json?&q={}%20type:Journal%20year:{}&s={}&p={}&api_key={}\".format(\n",
        "            self.query_text, self.year, self.start, self.max_return, self.apikey)\n",
        "        crawl_content = request.urlopen(url).read()\n",
        "        Content = json.loads(crawl_content.decode('utf8'))\n",
        "        Dois = []\n",
        "        for i in range(self.max_return):\n",
        "            Dois.append(Content['records'][i]['doi'])\n",
        "        return Dois\n",
        "\n",
        "    def FindingXml(self, papers):\n",
        "        \"\"\"\n",
        "        :param papers: list of DOIS\n",
        "        :return: url addresses of papers\n",
        "        \"\"\"\n",
        "        DoiUrls = []\n",
        "        for doi in papers:\n",
        "            doiUrls = \"https://api.springernature.com/meta/v2/pam?q=doi:{}&p=2&api_key={}\".format(\n",
        "                doi, self.apikey)\n",
        "            DoiUrls.append(doiUrls)\n",
        "        return DoiUrls\n",
        "\n",
        "\n",
        "def download_doi(doi):\n",
        "    \"\"\"\n",
        "    :param doi: DOI\n",
        "    :return:\n",
        "    \"\"\"\n",
        "    WebContent = request.urlopen(doi).read()\n",
        "    with open(r'springer_{}.xml'.format(doi), 'wb') as f:\n",
        "        f.write(WebContent)\n",
        "        f.close()\n",
        "    return"
      ],
      "metadata": {
        "id": "KzYFsdWtY54I"
      },
      "execution_count": 9,
      "outputs": []
    },
    {
      "cell_type": "code",
      "source": [
        "ss = SpringerScraper(\"battery\")"
      ],
      "metadata": {
        "id": "galoq8BjZYrd"
      },
      "execution_count": 10,
      "outputs": []
    },
    {
      "cell_type": "code",
      "source": [
        "doi_springer = ss.FindDois()"
      ],
      "metadata": {
        "id": "KbgNDNMIZnjN"
      },
      "execution_count": 14,
      "outputs": []
    },
    {
      "cell_type": "code",
      "source": [
        "url_springer = ss.FindingXml(doi_springer)"
      ],
      "metadata": {
        "id": "1fzmKpxXaQH4"
      },
      "execution_count": 17,
      "outputs": []
    },
    {
      "cell_type": "code",
      "source": [
        "url_springer[0]"
      ],
      "metadata": {
        "colab": {
          "base_uri": "https://localhost:8080/",
          "height": 52
        },
        "id": "kAwl_vi9a65c",
        "outputId": "7b4f1c1b-5290-48c0-efbe-2fac08795bb7"
      },
      "execution_count": 19,
      "outputs": [
        {
          "output_type": "execute_result",
          "data": {
            "text/plain": [
              "'https://api.springernature.com/meta/v2/pam?q=doi:10.1007/s12274-021-4010-y&p=2&api_key=d0fce19bf0a92a57dd448bd7f0c2301f'"
            ],
            "application/vnd.google.colaboratory.intrinsic+json": {
              "type": "string"
            }
          },
          "metadata": {},
          "execution_count": 19
        }
      ]
    },
    {
      "cell_type": "code",
      "source": [
        "def download_doi(doi):\n",
        "    \"\"\"\n",
        "    :param doi: DOI\n",
        "    :return:\n",
        "    \"\"\"\n",
        "    WebContent = request.urlopen(doi).read()\n",
        "    with open(r'springer_{}.xml'.format(doi), 'wb') as f:\n",
        "        f.write(WebContent)\n",
        "        f.close()\n",
        "    return"
      ],
      "metadata": {
        "id": "G6wCu6Q8ZpWq"
      },
      "execution_count": null,
      "outputs": []
    },
    {
      "cell_type": "code",
      "source": [
        "doi_springer[0]"
      ],
      "metadata": {
        "colab": {
          "base_uri": "https://localhost:8080/",
          "height": 35
        },
        "id": "pkXVg48TbLGh",
        "outputId": "9f0a70dd-adeb-470e-a02b-1702755a3304"
      },
      "execution_count": 21,
      "outputs": [
        {
          "output_type": "execute_result",
          "data": {
            "text/plain": [
              "'10.1007/s12274-021-4010-y'"
            ],
            "application/vnd.google.colaboratory.intrinsic+json": {
              "type": "string"
            }
          },
          "metadata": {},
          "execution_count": 21
        }
      ]
    },
    {
      "cell_type": "code",
      "source": [
        "from google.colab import drive\n",
        "drive.mount('/content/drive')"
      ],
      "metadata": {
        "colab": {
          "base_uri": "https://localhost:8080/"
        },
        "id": "MPj1a8QXdEu4",
        "outputId": "37a23647-07c9-40d2-c630-48c6d6ad197c"
      },
      "execution_count": 35,
      "outputs": [
        {
          "output_type": "stream",
          "name": "stdout",
          "text": [
            "Mounted at /content/drive\n"
          ]
        }
      ]
    },
    {
      "cell_type": "code",
      "source": [
        ""
      ],
      "metadata": {
        "id": "xc1sn01LdHn7"
      },
      "execution_count": null,
      "outputs": []
    },
    {
      "cell_type": "code",
      "source": [
        "API_KEY_SP= \"d0fce19bf0a92a57dd448bd7f0c2301f\"\n",
        "def download_doi(doi):\n",
        "    \"\"\"\n",
        "    :param doi: DOI\n",
        "    :return:\n",
        "    \"\"\"\n",
        "    \n",
        "    file = open('/content/drive/MyDrive/LBNL/springer_extract/springer_{}.xml'.format(doi), 'w')\n",
        "    # WebContent = request.urlopen(doi).read()\n",
        "    with file as f:\n",
        "      request_url = \"https://api.springernature.com/meta/v2/pam?q=doi:{}&p=2&api_key={}\".format(doi,API_KEY_SP)\n",
        "      print(request_url)\n",
        "      text = requests.get(request_url).text\n",
        "\n",
        "      f.write(text)\n",
        "      f.close()\n",
        "    return"
      ],
      "metadata": {
        "id": "m8Q7rCbIbXLf"
      },
      "execution_count": 40,
      "outputs": []
    },
    {
      "cell_type": "code",
      "source": [
        "request_url = \"https://api.springernature.com/meta/v2/pam?q=doi:{}&p=2&api_key={}\".format(\"10.1007/s12274-021-4010-y\",API_KEY_SP)\n",
        "print(request_url)\n",
        "text = requests.get(request_url).text\n",
        "print(text)"
      ],
      "metadata": {
        "colab": {
          "base_uri": "https://localhost:8080/"
        },
        "id": "LvXWSPHMdDgM",
        "outputId": "80cba340-4a37-4efa-b63d-eee9468478aa"
      },
      "execution_count": 43,
      "outputs": [
        {
          "output_type": "stream",
          "name": "stdout",
          "text": [
            "https://api.springernature.com/meta/v2/pam?q=doi:10.1007/s12274-021-4010-y&p=2&api_key=d0fce19bf0a92a57dd448bd7f0c2301f\n",
            "<?xml version=\"1.0\"?>\n",
            "<?xml-stylesheet type=\"text/xsl\" href=\"/resources/spdi-meta-v2-pam.xsl\"?>\n",
            "<!DOCTYPE response PUBLIC \"-//Springer-Nature//DTD PAM V2.0//EN\" \"https://spdi.public.springernature.app/resources/PAMV2.0.dtd\"><response><apiMessage>This XML was provided by Springer Nature</apiMessage><query>doi:10.1007/s12274-021-4010-y</query><apiKey>d0fce19bf0a92a57dd448bd7f0c2301f</apiKey><result><total>1</total><start>1</start><pageLength>2</pageLength><recordsDisplayed>1</recordsDisplayed></result><records><record><pam:message xmlns:dc=\"http://purl.org/dc/elements/1.1/\" xmlns:pam=\"http://prismstandard.org/namespaces/pam/2.2/\" xmlns:prism=\"http://prismstandard.org/namespaces/basic/2.2/\" xmlns:xhtml=\"http://www.w3.org/1999/xhtml\"><pam:article><xhtml:head>\n",
            "\t    <dc:identifier>doi:10.1007/s12274-021-4010-y</dc:identifier>\n",
            "\t    <dc:language>en</dc:language>\n",
            "\t    <dc:title>A garnet-electrolyte based molten Li-I_2 battery with high performance</dc:title>\n",
            "\t    <dc:creator>Sun, Bin</dc:creator>\n",
            "\t    <dc:creator>Wang, Panpan</dc:creator>\n",
            "\t    <dc:creator>Xu, Jing</dc:creator>\n",
            "\t    <dc:creator>Jin, Qianzheng</dc:creator>\n",
            "\t    <dc:creator>Zhang, Zili</dc:creator>\n",
            "\t    <dc:creator>Wu, Hui</dc:creator>\n",
            "\t    <dc:creator>Jin, Yang</dc:creator>\n",
            "\t    <prism:publicationName>Nano Research</prism:publicationName>\n",
            "\t    <prism:issn>1998-0124</prism:issn>\n",
            "\t    <prism:eIssn>1998-0000</prism:eIssn>\n",
            "\t    <prism:doi>10.1007/s12274-021-4010-y</prism:doi>\n",
            "\t    <dc:publisher>Springer</dc:publisher>\n",
            "\t    <prism:publicationDate>2021-12-31</prism:publicationDate>\n",
            "\t    <prism:volume/>\n",
            "\t    <prism:number/>\n",
            "\t    <prism:startingPage>1</prism:startingPage>\n",
            "\t    <prism:endingPage>7</prism:endingPage>\n",
            "\t    <prism:url>http://dx.doi.org/10.1007/s12274-021-4010-y</prism:url>\n",
            "\t    <prism:url prism:platform=\"web\">http://link.springer.com/openurl/fulltext?id=doi:10.1007/s12274-021-4010-y</prism:url>\n",
            "\t    <prism:url prism:platform=\"web\">http://link.springer.com/openurl/pdf?id=doi:10.1007/s12274-021-4010-y</prism:url>\n",
            "\t    <prism:genre>Research Article</prism:genre>\n",
            "\t    <prism:copyright>©2021 Tsinghua University Press and Springer-Verlag GmbH Germany, part of Springer Nature</prism:copyright>\n",
            "\t    <prism:keyword>garnet electrolyte</prism:keyword>\n",
            "\t    <prism:keyword>molten</prism:keyword>\n",
            "\t    <prism:keyword>eutectic salt cathode</prism:keyword>\n",
            "\t    <prism:keyword>safety</prism:keyword>\n",
            "\t  </xhtml:head><xhtml:body><xhtml:h1>Abstract</xhtml:h1><xhtml:p>Lithium-iodine (Li-I_2) battery exhibits high potential to match with high-rate property and large energy density. However, problems of the system, such as evident sublimation of iodine elements, dissolution of iodine species in electrolyte, and lithium anode corrosion, prevent the practical use of rechargeable Li-I_2 batteries. In this work, a molten Li-I_2 typical cell design which has distinct advantages based on the solid-state garnet electrolyte with the eutectic iodate cathode is firstly developed. The U-shaped ceramic electrolyte tube can separate Li anode from the eutectic iodate cathode, so as to better tackle the above-mentioned inherent challenges for the liquid electrolyte systems. Without self-discharging and lithium anode corrosion, this solid-state battery system demonstrates high safety margin and excellent electrochemical performance. Also, the simple battery structure also indicates the easy assembly process and recycling of electrode materials. With the cathode loading of 593 mg in a single cell, an energy density of ∼ 506.7 Wh·kg^−1 was achieved at 1 C and a long-term cycling life for 2,000 cycles also displays negligible capacity decay.</xhtml:p></xhtml:body></pam:article></pam:message><extendedMeta><contentType>Article</contentType><journalId>12274</journalId><issueType/><topicalCollection/><openAccess>false</openAccess><onlineDate>2021-12-31</onlineDate></extendedMeta></record></records><facets><facet name=\"subject\"><facet-value count=\"1\">Atomic/Molecular Structure and Spectra</facet-value><facet-value count=\"1\">Biomedicine, general</facet-value><facet-value count=\"1\">Biotechnology</facet-value><facet-value count=\"1\">Condensed Matter Physics</facet-value><facet-value count=\"1\">Materials Science</facet-value><facet-value count=\"1\">Materials Science, general</facet-value><facet-value count=\"1\">Nanotechnology</facet-value></facet><facet name=\"keyword\"><facet-value count=\"1\">eutectic salt cathode</facet-value><facet-value count=\"1\">garnet electrolyte</facet-value><facet-value count=\"1\">molten</facet-value><facet-value count=\"1\">safety</facet-value></facet><facet name=\"pub\"><facet-value count=\"1\">Nano Research</facet-value></facet><facet name=\"year\"><facet-value count=\"1\">2021</facet-value></facet><facet name=\"country\"><facet-value count=\"1\">China</facet-value></facet><facet name=\"type\"><facet-value count=\"1\">Journal</facet-value></facet></facets></response>\n",
            "\n"
          ]
        }
      ]
    },
    {
      "cell_type": "code",
      "source": [
        "download_doi(\"10.1007/s12274-021-4010-y\")"
      ],
      "metadata": {
        "colab": {
          "base_uri": "https://localhost:8080/",
          "height": 311
        },
        "id": "3GgCUK_zbFyr",
        "outputId": "b6870681-ff4a-47d6-f404-159786c8a654"
      },
      "execution_count": 41,
      "outputs": [
        {
          "output_type": "error",
          "ename": "FileNotFoundError",
          "evalue": "ignored",
          "traceback": [
            "\u001b[0;31m---------------------------------------------------------------------------\u001b[0m",
            "\u001b[0;31mFileNotFoundError\u001b[0m                         Traceback (most recent call last)",
            "\u001b[0;32m<ipython-input-41-ee7ceb3f0519>\u001b[0m in \u001b[0;36m<module>\u001b[0;34m()\u001b[0m\n\u001b[0;32m----> 1\u001b[0;31m \u001b[0mdownload_doi\u001b[0m\u001b[0;34m(\u001b[0m\u001b[0;34m\"10.1007/s12274-021-4010-y\"\u001b[0m\u001b[0;34m)\u001b[0m\u001b[0;34m\u001b[0m\u001b[0;34m\u001b[0m\u001b[0m\n\u001b[0m",
            "\u001b[0;32m<ipython-input-40-bf6e9064eda9>\u001b[0m in \u001b[0;36mdownload_doi\u001b[0;34m(doi)\u001b[0m\n\u001b[1;32m      6\u001b[0m     \"\"\"\n\u001b[1;32m      7\u001b[0m \u001b[0;34m\u001b[0m\u001b[0m\n\u001b[0;32m----> 8\u001b[0;31m     \u001b[0mfile\u001b[0m \u001b[0;34m=\u001b[0m \u001b[0mopen\u001b[0m\u001b[0;34m(\u001b[0m\u001b[0;34m'/content/drive/MyDrive/LBNL/springer_extract/springer_{}.xml'\u001b[0m\u001b[0;34m.\u001b[0m\u001b[0mformat\u001b[0m\u001b[0;34m(\u001b[0m\u001b[0mdoi\u001b[0m\u001b[0;34m)\u001b[0m\u001b[0;34m,\u001b[0m \u001b[0;34m'w'\u001b[0m\u001b[0;34m)\u001b[0m\u001b[0;34m\u001b[0m\u001b[0;34m\u001b[0m\u001b[0m\n\u001b[0m\u001b[1;32m      9\u001b[0m     \u001b[0;31m# WebContent = request.urlopen(doi).read()\u001b[0m\u001b[0;34m\u001b[0m\u001b[0;34m\u001b[0m\u001b[0;34m\u001b[0m\u001b[0m\n\u001b[1;32m     10\u001b[0m     \u001b[0;32mwith\u001b[0m \u001b[0mfile\u001b[0m \u001b[0;32mas\u001b[0m \u001b[0mf\u001b[0m\u001b[0;34m:\u001b[0m\u001b[0;34m\u001b[0m\u001b[0;34m\u001b[0m\u001b[0m\n",
            "\u001b[0;31mFileNotFoundError\u001b[0m: [Errno 2] No such file or directory: '/content/drive/MyDrive/LBNL/springer_extract/springer_10.1007/s12274-021-4010-y.xml'"
          ]
        }
      ]
    },
    {
      "cell_type": "code",
      "source": [
        "\"\""
      ],
      "metadata": {
        "id": "BVZdhTZWbHcZ"
      },
      "execution_count": null,
      "outputs": []
    }
  ]
}