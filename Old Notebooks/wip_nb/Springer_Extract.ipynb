{
  "nbformat": 4,
  "nbformat_minor": 0,
  "metadata": {
    "colab": {
      "name": "Springer_Extract.ipynb",
      "provenance": [],
      "include_colab_link": true
    },
    "kernelspec": {
      "name": "python3",
      "display_name": "Python 3"
    },
    "language_info": {
      "name": "python"
    }
  },
  "cells": [
    {
      "cell_type": "markdown",
      "metadata": {
        "id": "view-in-github",
        "colab_type": "text"
      },
      "source": [
        "<a href=\"https://colab.research.google.com/github/dani-lbnl/mudit/blob/main/Springer_Extract.ipynb\" target=\"_parent\"><img src=\"https://colab.research.google.com/assets/colab-badge.svg\" alt=\"Open In Colab\"/></a>"
      ]
    },
    {
      "cell_type": "markdown",
      "source": [
        "## install and setup"
      ],
      "metadata": {
        "id": "2c420izHUqUH"
      }
    },
    {
      "cell_type": "code",
      "execution_count": 21,
      "metadata": {
        "id": "uhA_Er4bUjSy"
      },
      "outputs": [],
      "source": [
        "import urllib.request as request\n",
        "import json\n",
        "\n",
        "\n",
        "class SpringerScraper():\n",
        "    def __init__(\n",
        "            self,\n",
        "            query_text,\n",
        "            start=0,\n",
        "            year=2020,\n",
        "            apikey=\"d0fce19bf0a92a57dd448bd7f0c2301f\",\n",
        "            max_return=100):\n",
        "        \"\"\"\n",
        "        :param query_text: query words\n",
        "        :param start: start page number\n",
        "        :param year: year of published papers\n",
        "        :param apikey: Springer APIKEY\n",
        "        :param max_return: max returned number of papers\n",
        "        \"\"\"\n",
        "        self.apikey = apikey\n",
        "        self.start = start\n",
        "        self.max_return = max_return\n",
        "        self.year = year\n",
        "        self.query_text = query_text.replace(\" \", '%20')\n",
        "\n",
        "    def FindDois(self):\n",
        "        \"\"\"\n",
        "        :return: <list> of <str> list of DOIs\n",
        "        \"\"\"\n",
        "        url = \"http://api.springernature.com/meta/v2/json?&q={}%20type:Journal%20year:{}&s={}&p={}&api_key={}\".format(\n",
        "            self.query_text, self.year, self.start, self.max_return, self.apikey)\n",
        "        # url = \"http://api.springernature.com/openaccess/json?q=title:%22lithium%22metal%22battery%22type:Journal%20year:{}&s={}&p={}&api_key={}\".format(self.year, self.start, self.max_return, self.apikey)\n",
        "        # url = \"http://api.springernature.com/openaccess/json?q=title:{}%20type:Journal%20year:{}&s={}&p={}&api_key={}\".format(self.query_text,self.year, self.start, self.max_return, self.apikey)\n",
        "\n",
        "        \n",
        "        crawl_content = request.urlopen(url).read()\n",
        "        Content = json.loads(crawl_content.decode('utf8'))\n",
        "        Dois = []\n",
        "        for i in range(self.max_return):\n",
        "            Dois.append(Content['records'][i]['doi'])\n",
        "        return Dois\n",
        "\n",
        "    def FindingXml(self, papers):\n",
        "        \"\"\"\n",
        "        :param papers: list of DOIS\n",
        "        :return: url addresses of papers\n",
        "        \"\"\"\n",
        "        DoiUrls = []\n",
        "        for doi in papers:\n",
        "            doiUrls = \"https://api.springernature.com/meta/v2/jats?q=doi:{}&p=2&api_key={}\".format(\n",
        "                doi, self.apikey)\n",
        "            DoiUrls.append(doiUrls)\n",
        "        return DoiUrls\n",
        "\n",
        "\n",
        "def download_doi(doi):\n",
        "    \"\"\"\n",
        "    :param doi: DOI\n",
        "    :return:\n",
        "    \"\"\"\n",
        "    WebContent = request.urlopen(doi).read()\n",
        "    with open(r'springer_{}.xml'.format(doi), 'wb') as f:\n",
        "        f.write(WebContent)\n",
        "        f.close()\n",
        "    return"
      ]
    },
    {
      "cell_type": "markdown",
      "source": [
        "## search and extract url"
      ],
      "metadata": {
        "id": "PALHr9cqNeO_"
      }
    },
    {
      "cell_type": "code",
      "source": [
        "ss = SpringerScraper(\"Lithium Metal Battery\")"
      ],
      "metadata": {
        "id": "sZudokFDUuPI"
      },
      "execution_count": 19,
      "outputs": []
    },
    {
      "cell_type": "code",
      "source": [
        "doi_list = ss.FindDois()"
      ],
      "metadata": {
        "id": "MX-ejl-5U_LC",
        "colab": {
          "base_uri": "https://localhost:8080/",
          "height": 300
        },
        "outputId": "233bb5d2-ffe8-4ca6-d0fb-5468dfacb3ae"
      },
      "execution_count": 22,
      "outputs": [
        {
          "output_type": "error",
          "ename": "JSONDecodeError",
          "evalue": "ignored",
          "traceback": [
            "\u001b[0;31m---------------------------------------------------------------------------\u001b[0m",
            "\u001b[0;31mJSONDecodeError\u001b[0m                           Traceback (most recent call last)",
            "\u001b[0;32m<ipython-input-22-84caacdca091>\u001b[0m in \u001b[0;36m<module>\u001b[0;34m()\u001b[0m\n\u001b[0;32m----> 1\u001b[0;31m \u001b[0mdoi_list\u001b[0m \u001b[0;34m=\u001b[0m \u001b[0mss\u001b[0m\u001b[0;34m.\u001b[0m\u001b[0mFindDois\u001b[0m\u001b[0;34m(\u001b[0m\u001b[0;34m)\u001b[0m\u001b[0;34m\u001b[0m\u001b[0;34m\u001b[0m\u001b[0m\n\u001b[0m",
            "\u001b[0;32m<ipython-input-18-868500520094>\u001b[0m in \u001b[0;36mFindDois\u001b[0;34m(self)\u001b[0m\n\u001b[1;32m     35\u001b[0m \u001b[0;34m\u001b[0m\u001b[0m\n\u001b[1;32m     36\u001b[0m         \u001b[0mcrawl_content\u001b[0m \u001b[0;34m=\u001b[0m \u001b[0mrequest\u001b[0m\u001b[0;34m.\u001b[0m\u001b[0murlopen\u001b[0m\u001b[0;34m(\u001b[0m\u001b[0murl\u001b[0m\u001b[0;34m)\u001b[0m\u001b[0;34m.\u001b[0m\u001b[0mread\u001b[0m\u001b[0;34m(\u001b[0m\u001b[0;34m)\u001b[0m\u001b[0;34m\u001b[0m\u001b[0;34m\u001b[0m\u001b[0m\n\u001b[0;32m---> 37\u001b[0;31m         \u001b[0mContent\u001b[0m \u001b[0;34m=\u001b[0m \u001b[0mjson\u001b[0m\u001b[0;34m.\u001b[0m\u001b[0mloads\u001b[0m\u001b[0;34m(\u001b[0m\u001b[0mcrawl_content\u001b[0m\u001b[0;34m.\u001b[0m\u001b[0mdecode\u001b[0m\u001b[0;34m(\u001b[0m\u001b[0;34m'utf8'\u001b[0m\u001b[0;34m)\u001b[0m\u001b[0;34m)\u001b[0m\u001b[0;34m\u001b[0m\u001b[0;34m\u001b[0m\u001b[0m\n\u001b[0m\u001b[1;32m     38\u001b[0m         \u001b[0mDois\u001b[0m \u001b[0;34m=\u001b[0m \u001b[0;34m[\u001b[0m\u001b[0;34m]\u001b[0m\u001b[0;34m\u001b[0m\u001b[0;34m\u001b[0m\u001b[0m\n\u001b[1;32m     39\u001b[0m         \u001b[0;32mfor\u001b[0m \u001b[0mi\u001b[0m \u001b[0;32min\u001b[0m \u001b[0mrange\u001b[0m\u001b[0;34m(\u001b[0m\u001b[0mself\u001b[0m\u001b[0;34m.\u001b[0m\u001b[0mmax_return\u001b[0m\u001b[0;34m)\u001b[0m\u001b[0;34m:\u001b[0m\u001b[0;34m\u001b[0m\u001b[0;34m\u001b[0m\u001b[0m\n",
            "\u001b[0;32m/usr/lib/python3.7/json/__init__.py\u001b[0m in \u001b[0;36mloads\u001b[0;34m(s, encoding, cls, object_hook, parse_float, parse_int, parse_constant, object_pairs_hook, **kw)\u001b[0m\n\u001b[1;32m    346\u001b[0m             \u001b[0mparse_int\u001b[0m \u001b[0;32mis\u001b[0m \u001b[0;32mNone\u001b[0m \u001b[0;32mand\u001b[0m \u001b[0mparse_float\u001b[0m \u001b[0;32mis\u001b[0m \u001b[0;32mNone\u001b[0m \u001b[0;32mand\u001b[0m\u001b[0;34m\u001b[0m\u001b[0;34m\u001b[0m\u001b[0m\n\u001b[1;32m    347\u001b[0m             parse_constant is None and object_pairs_hook is None and not kw):\n\u001b[0;32m--> 348\u001b[0;31m         \u001b[0;32mreturn\u001b[0m \u001b[0m_default_decoder\u001b[0m\u001b[0;34m.\u001b[0m\u001b[0mdecode\u001b[0m\u001b[0;34m(\u001b[0m\u001b[0ms\u001b[0m\u001b[0;34m)\u001b[0m\u001b[0;34m\u001b[0m\u001b[0;34m\u001b[0m\u001b[0m\n\u001b[0m\u001b[1;32m    349\u001b[0m     \u001b[0;32mif\u001b[0m \u001b[0mcls\u001b[0m \u001b[0;32mis\u001b[0m \u001b[0;32mNone\u001b[0m\u001b[0;34m:\u001b[0m\u001b[0;34m\u001b[0m\u001b[0;34m\u001b[0m\u001b[0m\n\u001b[1;32m    350\u001b[0m         \u001b[0mcls\u001b[0m \u001b[0;34m=\u001b[0m \u001b[0mJSONDecoder\u001b[0m\u001b[0;34m\u001b[0m\u001b[0;34m\u001b[0m\u001b[0m\n",
            "\u001b[0;32m/usr/lib/python3.7/json/decoder.py\u001b[0m in \u001b[0;36mdecode\u001b[0;34m(self, s, _w)\u001b[0m\n\u001b[1;32m    335\u001b[0m \u001b[0;34m\u001b[0m\u001b[0m\n\u001b[1;32m    336\u001b[0m         \"\"\"\n\u001b[0;32m--> 337\u001b[0;31m         \u001b[0mobj\u001b[0m\u001b[0;34m,\u001b[0m \u001b[0mend\u001b[0m \u001b[0;34m=\u001b[0m \u001b[0mself\u001b[0m\u001b[0;34m.\u001b[0m\u001b[0mraw_decode\u001b[0m\u001b[0;34m(\u001b[0m\u001b[0ms\u001b[0m\u001b[0;34m,\u001b[0m \u001b[0midx\u001b[0m\u001b[0;34m=\u001b[0m\u001b[0m_w\u001b[0m\u001b[0;34m(\u001b[0m\u001b[0ms\u001b[0m\u001b[0;34m,\u001b[0m \u001b[0;36m0\u001b[0m\u001b[0;34m)\u001b[0m\u001b[0;34m.\u001b[0m\u001b[0mend\u001b[0m\u001b[0;34m(\u001b[0m\u001b[0;34m)\u001b[0m\u001b[0;34m)\u001b[0m\u001b[0;34m\u001b[0m\u001b[0;34m\u001b[0m\u001b[0m\n\u001b[0m\u001b[1;32m    338\u001b[0m         \u001b[0mend\u001b[0m \u001b[0;34m=\u001b[0m \u001b[0m_w\u001b[0m\u001b[0;34m(\u001b[0m\u001b[0ms\u001b[0m\u001b[0;34m,\u001b[0m \u001b[0mend\u001b[0m\u001b[0;34m)\u001b[0m\u001b[0;34m.\u001b[0m\u001b[0mend\u001b[0m\u001b[0;34m(\u001b[0m\u001b[0;34m)\u001b[0m\u001b[0;34m\u001b[0m\u001b[0;34m\u001b[0m\u001b[0m\n\u001b[1;32m    339\u001b[0m         \u001b[0;32mif\u001b[0m \u001b[0mend\u001b[0m \u001b[0;34m!=\u001b[0m \u001b[0mlen\u001b[0m\u001b[0;34m(\u001b[0m\u001b[0ms\u001b[0m\u001b[0;34m)\u001b[0m\u001b[0;34m:\u001b[0m\u001b[0;34m\u001b[0m\u001b[0;34m\u001b[0m\u001b[0m\n",
            "\u001b[0;32m/usr/lib/python3.7/json/decoder.py\u001b[0m in \u001b[0;36mraw_decode\u001b[0;34m(self, s, idx)\u001b[0m\n\u001b[1;32m    353\u001b[0m             \u001b[0mobj\u001b[0m\u001b[0;34m,\u001b[0m \u001b[0mend\u001b[0m \u001b[0;34m=\u001b[0m \u001b[0mself\u001b[0m\u001b[0;34m.\u001b[0m\u001b[0mscan_once\u001b[0m\u001b[0;34m(\u001b[0m\u001b[0ms\u001b[0m\u001b[0;34m,\u001b[0m \u001b[0midx\u001b[0m\u001b[0;34m)\u001b[0m\u001b[0;34m\u001b[0m\u001b[0;34m\u001b[0m\u001b[0m\n\u001b[1;32m    354\u001b[0m         \u001b[0;32mexcept\u001b[0m \u001b[0mStopIteration\u001b[0m \u001b[0;32mas\u001b[0m \u001b[0merr\u001b[0m\u001b[0;34m:\u001b[0m\u001b[0;34m\u001b[0m\u001b[0;34m\u001b[0m\u001b[0m\n\u001b[0;32m--> 355\u001b[0;31m             \u001b[0;32mraise\u001b[0m \u001b[0mJSONDecodeError\u001b[0m\u001b[0;34m(\u001b[0m\u001b[0;34m\"Expecting value\"\u001b[0m\u001b[0;34m,\u001b[0m \u001b[0ms\u001b[0m\u001b[0;34m,\u001b[0m \u001b[0merr\u001b[0m\u001b[0;34m.\u001b[0m\u001b[0mvalue\u001b[0m\u001b[0;34m)\u001b[0m \u001b[0;32mfrom\u001b[0m \u001b[0;32mNone\u001b[0m\u001b[0;34m\u001b[0m\u001b[0;34m\u001b[0m\u001b[0m\n\u001b[0m\u001b[1;32m    356\u001b[0m         \u001b[0;32mreturn\u001b[0m \u001b[0mobj\u001b[0m\u001b[0;34m,\u001b[0m \u001b[0mend\u001b[0m\u001b[0;34m\u001b[0m\u001b[0;34m\u001b[0m\u001b[0m\n",
            "\u001b[0;31mJSONDecodeError\u001b[0m: Expecting value: line 1 column 1 (char 0)"
          ]
        }
      ]
    },
    {
      "cell_type": "code",
      "source": [
        "url_doi=ss.FindingXml(doi_list)"
      ],
      "metadata": {
        "id": "jEkm9W-yVHlz"
      },
      "execution_count": 4,
      "outputs": []
    },
    {
      "cell_type": "code",
      "source": [
        "len(doi_list)"
      ],
      "metadata": {
        "colab": {
          "base_uri": "https://localhost:8080/",
          "height": 168
        },
        "id": "-ETO7V3CYNxk",
        "outputId": "647fc88b-dd1d-44be-c25a-b596d22297ea"
      },
      "execution_count": 23,
      "outputs": [
        {
          "output_type": "error",
          "ename": "NameError",
          "evalue": "ignored",
          "traceback": [
            "\u001b[0;31m---------------------------------------------------------------------------\u001b[0m",
            "\u001b[0;31mNameError\u001b[0m                                 Traceback (most recent call last)",
            "\u001b[0;32m<ipython-input-23-2fad31a5e4fc>\u001b[0m in \u001b[0;36m<module>\u001b[0;34m()\u001b[0m\n\u001b[0;32m----> 1\u001b[0;31m \u001b[0mlen\u001b[0m\u001b[0;34m(\u001b[0m\u001b[0mdoi_list\u001b[0m\u001b[0;34m)\u001b[0m\u001b[0;34m\u001b[0m\u001b[0;34m\u001b[0m\u001b[0m\n\u001b[0m",
            "\u001b[0;31mNameError\u001b[0m: name 'doi_list' is not defined"
          ]
        }
      ]
    },
    {
      "cell_type": "code",
      "source": [
        ""
      ],
      "metadata": {
        "id": "iR5871LVYWiK"
      },
      "execution_count": 6,
      "outputs": []
    },
    {
      "cell_type": "code",
      "source": [
        "import re\n",
        "url_list_v2 = []\n",
        "for a in doi_list:\n",
        "  url_list_v2.append(re.sub(\"pam\", 'jats',a))\n"
      ],
      "metadata": {
        "id": "VlpnYHkQb-P4"
      },
      "execution_count": 30,
      "outputs": []
    },
    {
      "cell_type": "code",
      "source": [
        "url_doi"
      ],
      "metadata": {
        "colab": {
          "base_uri": "https://localhost:8080/"
        },
        "id": "w9UL-_40ZHbk",
        "outputId": "3fa90ff5-cab6-4aae-8c24-9a53898ab2ef"
      },
      "execution_count": 7,
      "outputs": [
        {
          "output_type": "execute_result",
          "data": {
            "text/plain": [
              "['https://api.springernature.com/meta/v2/pam?q=doi:10.1038/s41378-020-00222-1&p=2&api_key=d0fce19bf0a92a57dd448bd7f0c2301f',\n",
              " 'https://api.springernature.com/meta/v2/pam?q=doi:10.1007/s11467-020-0992-2&p=2&api_key=d0fce19bf0a92a57dd448bd7f0c2301f',\n",
              " 'https://api.springernature.com/meta/v2/pam?q=doi:10.1038/s41427-020-00257-w&p=2&api_key=d0fce19bf0a92a57dd448bd7f0c2301f',\n",
              " 'https://api.springernature.com/meta/v2/pam?q=doi:10.1186/s12302-020-00436-0&p=2&api_key=d0fce19bf0a92a57dd448bd7f0c2301f',\n",
              " 'https://api.springernature.com/meta/v2/pam?q=doi:10.1186/s12887-020-02444-8&p=2&api_key=d0fce19bf0a92a57dd448bd7f0c2301f',\n",
              " 'https://api.springernature.com/meta/v2/pam?q=doi:10.1557/PROC-699-R7.5&p=2&api_key=d0fce19bf0a92a57dd448bd7f0c2301f',\n",
              " 'https://api.springernature.com/meta/v2/pam?q=doi:10.1038/s41598-020-79286-y&p=2&api_key=d0fce19bf0a92a57dd448bd7f0c2301f',\n",
              " 'https://api.springernature.com/meta/v2/pam?q=doi:10.1038/s41598-020-79188-z&p=2&api_key=d0fce19bf0a92a57dd448bd7f0c2301f',\n",
              " 'https://api.springernature.com/meta/v2/pam?q=doi:10.1038/s41598-020-78977-w&p=2&api_key=d0fce19bf0a92a57dd448bd7f0c2301f',\n",
              " 'https://api.springernature.com/meta/v2/pam?q=doi:10.1038/s41467-020-19815-5&p=2&api_key=d0fce19bf0a92a57dd448bd7f0c2301f',\n",
              " 'https://api.springernature.com/meta/v2/pam?q=doi:10.1038/s41598-020-79038-y&p=2&api_key=d0fce19bf0a92a57dd448bd7f0c2301f',\n",
              " 'https://api.springernature.com/meta/v2/pam?q=doi:10.1038/s41598-020-78558-x&p=2&api_key=d0fce19bf0a92a57dd448bd7f0c2301f',\n",
              " 'https://api.springernature.com/meta/v2/pam?q=doi:10.1007/s11051-020-05100-5&p=2&api_key=d0fce19bf0a92a57dd448bd7f0c2301f',\n",
              " 'https://api.springernature.com/meta/v2/pam?q=doi:10.1186/s40635-020-00354-8&p=2&api_key=d0fce19bf0a92a57dd448bd7f0c2301f',\n",
              " 'https://api.springernature.com/meta/v2/pam?q=doi:10.1007/s42452-020-03842-4&p=2&api_key=d0fce19bf0a92a57dd448bd7f0c2301f',\n",
              " 'https://api.springernature.com/meta/v2/pam?q=doi:10.1007/s11051-020-05089-x&p=2&api_key=d0fce19bf0a92a57dd448bd7f0c2301f',\n",
              " 'https://api.springernature.com/meta/v2/pam?q=doi:10.1038/s41467-020-20198-w&p=2&api_key=d0fce19bf0a92a57dd448bd7f0c2301f',\n",
              " 'https://api.springernature.com/meta/v2/pam?q=doi:10.1038/s41598-020-78649-9&p=2&api_key=d0fce19bf0a92a57dd448bd7f0c2301f',\n",
              " 'https://api.springernature.com/meta/v2/pam?q=doi:10.1038/s41467-020-20374-y&p=2&api_key=d0fce19bf0a92a57dd448bd7f0c2301f',\n",
              " 'https://api.springernature.com/meta/v2/pam?q=doi:10.1038/s41598-020-78268-4&p=2&api_key=d0fce19bf0a92a57dd448bd7f0c2301f',\n",
              " 'https://api.springernature.com/meta/v2/pam?q=doi:10.1038/s43246-020-00095-x&p=2&api_key=d0fce19bf0a92a57dd448bd7f0c2301f',\n",
              " 'https://api.springernature.com/meta/v2/pam?q=doi:10.1038/s41598-020-78258-6&p=2&api_key=d0fce19bf0a92a57dd448bd7f0c2301f',\n",
              " 'https://api.springernature.com/meta/v2/pam?q=doi:10.1038/s41598-020-78542-5&p=2&api_key=d0fce19bf0a92a57dd448bd7f0c2301f',\n",
              " 'https://api.springernature.com/meta/v2/pam?q=doi:10.1038/s41467-020-19991-4&p=2&api_key=d0fce19bf0a92a57dd448bd7f0c2301f',\n",
              " 'https://api.springernature.com/meta/v2/pam?q=doi:10.1038/s41598-020-78262-w&p=2&api_key=d0fce19bf0a92a57dd448bd7f0c2301f',\n",
              " 'https://api.springernature.com/meta/v2/pam?q=doi:10.1007/s11051-020-05103-2&p=2&api_key=d0fce19bf0a92a57dd448bd7f0c2301f',\n",
              " 'https://api.springernature.com/meta/v2/pam?q=doi:10.1007/s11051-020-05097-x&p=2&api_key=d0fce19bf0a92a57dd448bd7f0c2301f',\n",
              " 'https://api.springernature.com/meta/v2/pam?q=doi:10.1038/s41598-020-78070-2&p=2&api_key=d0fce19bf0a92a57dd448bd7f0c2301f',\n",
              " 'https://api.springernature.com/meta/v2/pam?q=doi:10.1038/s41598-020-78363-6&p=2&api_key=d0fce19bf0a92a57dd448bd7f0c2301f',\n",
              " 'https://api.springernature.com/meta/v2/pam?q=doi:10.1038/s41467-020-19992-3&p=2&api_key=d0fce19bf0a92a57dd448bd7f0c2301f',\n",
              " 'https://api.springernature.com/meta/v2/pam?q=doi:10.1038/s41467-020-19987-0&p=2&api_key=d0fce19bf0a92a57dd448bd7f0c2301f',\n",
              " 'https://api.springernature.com/meta/v2/pam?q=doi:10.1007/s41918-020-00076-1&p=2&api_key=d0fce19bf0a92a57dd448bd7f0c2301f',\n",
              " 'https://api.springernature.com/meta/v2/pam?q=doi:10.1007/s42864-020-00068-0&p=2&api_key=d0fce19bf0a92a57dd448bd7f0c2301f',\n",
              " 'https://api.springernature.com/meta/v2/pam?q=doi:10.1007/s40843-020-1425-2&p=2&api_key=d0fce19bf0a92a57dd448bd7f0c2301f',\n",
              " 'https://api.springernature.com/meta/v2/pam?q=doi:10.1007/s12274-020-2993-4&p=2&api_key=d0fce19bf0a92a57dd448bd7f0c2301f',\n",
              " 'https://api.springernature.com/meta/v2/pam?q=doi:10.1007/s10118-020-2455-1&p=2&api_key=d0fce19bf0a92a57dd448bd7f0c2301f',\n",
              " 'https://api.springernature.com/meta/v2/pam?q=doi:10.1007/s42765-020-00052-w&p=2&api_key=d0fce19bf0a92a57dd448bd7f0c2301f',\n",
              " 'https://api.springernature.com/meta/v2/pam?q=doi:10.1007/s41918-020-00082-3&p=2&api_key=d0fce19bf0a92a57dd448bd7f0c2301f',\n",
              " 'https://api.springernature.com/meta/v2/pam?q=doi:10.1007/s11705-019-1897-x&p=2&api_key=d0fce19bf0a92a57dd448bd7f0c2301f',\n",
              " 'https://api.springernature.com/meta/v2/pam?q=doi:10.1007/s13233-020-8175-0&p=2&api_key=d0fce19bf0a92a57dd448bd7f0c2301f',\n",
              " 'https://api.springernature.com/meta/v2/pam?q=doi:10.1007/s11708-020-0810-0&p=2&api_key=d0fce19bf0a92a57dd448bd7f0c2301f',\n",
              " 'https://api.springernature.com/meta/v2/pam?q=doi:10.1007/s11581-020-03716-0&p=2&api_key=d0fce19bf0a92a57dd448bd7f0c2301f',\n",
              " 'https://api.springernature.com/meta/v2/pam?q=doi:10.1007/s12274-020-3015-2&p=2&api_key=d0fce19bf0a92a57dd448bd7f0c2301f',\n",
              " 'https://api.springernature.com/meta/v2/pam?q=doi:10.1007/s11581-020-03761-9&p=2&api_key=d0fce19bf0a92a57dd448bd7f0c2301f',\n",
              " 'https://api.springernature.com/meta/v2/pam?q=doi:10.1007/s41918-020-00079-y&p=2&api_key=d0fce19bf0a92a57dd448bd7f0c2301f',\n",
              " 'https://api.springernature.com/meta/v2/pam?q=doi:10.1007/s11581-020-03748-6&p=2&api_key=d0fce19bf0a92a57dd448bd7f0c2301f',\n",
              " 'https://api.springernature.com/meta/v2/pam?q=doi:10.1007/s42247-020-00146-6&p=2&api_key=d0fce19bf0a92a57dd448bd7f0c2301f',\n",
              " 'https://api.springernature.com/meta/v2/pam?q=doi:10.1007/s10934-020-00942-9&p=2&api_key=d0fce19bf0a92a57dd448bd7f0c2301f',\n",
              " 'https://api.springernature.com/meta/v2/pam?q=doi:10.1007/s10853-020-05203-3&p=2&api_key=d0fce19bf0a92a57dd448bd7f0c2301f',\n",
              " 'https://api.springernature.com/meta/v2/pam?q=doi:10.1007/s10853-020-05193-2&p=2&api_key=d0fce19bf0a92a57dd448bd7f0c2301f',\n",
              " 'https://api.springernature.com/meta/v2/pam?q=doi:10.1007/s10854-020-04723-7&p=2&api_key=d0fce19bf0a92a57dd448bd7f0c2301f',\n",
              " 'https://api.springernature.com/meta/v2/pam?q=doi:10.1007/s12274-020-2991-6&p=2&api_key=d0fce19bf0a92a57dd448bd7f0c2301f',\n",
              " 'https://api.springernature.com/meta/v2/pam?q=doi:10.1007/s12613-020-2175-0&p=2&api_key=d0fce19bf0a92a57dd448bd7f0c2301f',\n",
              " 'https://api.springernature.com/meta/v2/pam?q=doi:10.1007/s12598-020-01509-y&p=2&api_key=d0fce19bf0a92a57dd448bd7f0c2301f',\n",
              " 'https://api.springernature.com/meta/v2/pam?q=doi:10.1007/s11581-020-03764-6&p=2&api_key=d0fce19bf0a92a57dd448bd7f0c2301f',\n",
              " 'https://api.springernature.com/meta/v2/pam?q=doi:10.1007/s11581-020-03746-8&p=2&api_key=d0fce19bf0a92a57dd448bd7f0c2301f',\n",
              " 'https://api.springernature.com/meta/v2/pam?q=doi:10.1007/s11581-020-03742-y&p=2&api_key=d0fce19bf0a92a57dd448bd7f0c2301f',\n",
              " 'https://api.springernature.com/meta/v2/pam?q=doi:10.1007/s11581-020-03771-7&p=2&api_key=d0fce19bf0a92a57dd448bd7f0c2301f',\n",
              " 'https://api.springernature.com/meta/v2/pam?q=doi:10.1007/s12274-020-3009-0&p=2&api_key=d0fce19bf0a92a57dd448bd7f0c2301f',\n",
              " 'https://api.springernature.com/meta/v2/pam?q=doi:10.1007/s11581-020-03741-z&p=2&api_key=d0fce19bf0a92a57dd448bd7f0c2301f',\n",
              " 'https://api.springernature.com/meta/v2/pam?q=doi:10.1007/s11581-020-03768-2&p=2&api_key=d0fce19bf0a92a57dd448bd7f0c2301f',\n",
              " 'https://api.springernature.com/meta/v2/pam?q=doi:10.1007/s10854-020-04826-1&p=2&api_key=d0fce19bf0a92a57dd448bd7f0c2301f',\n",
              " 'https://api.springernature.com/meta/v2/pam?q=doi:10.1007/s10853-020-05197-y&p=2&api_key=d0fce19bf0a92a57dd448bd7f0c2301f',\n",
              " 'https://api.springernature.com/meta/v2/pam?q=doi:10.1007/s11431-019-1539-6&p=2&api_key=d0fce19bf0a92a57dd448bd7f0c2301f',\n",
              " 'https://api.springernature.com/meta/v2/pam?q=doi:10.1007/s11581-020-03520-w&p=2&api_key=d0fce19bf0a92a57dd448bd7f0c2301f',\n",
              " 'https://api.springernature.com/meta/v2/pam?q=doi:10.1007/s42247-020-00140-y&p=2&api_key=d0fce19bf0a92a57dd448bd7f0c2301f',\n",
              " 'https://api.springernature.com/meta/v2/pam?q=doi:10.1007/s10934-020-00963-4&p=2&api_key=d0fce19bf0a92a57dd448bd7f0c2301f',\n",
              " 'https://api.springernature.com/meta/v2/pam?q=doi:10.1007/s11581-020-03751-x&p=2&api_key=d0fce19bf0a92a57dd448bd7f0c2301f',\n",
              " 'https://api.springernature.com/meta/v2/pam?q=doi:10.1007/s13204-020-01310-4&p=2&api_key=d0fce19bf0a92a57dd448bd7f0c2301f',\n",
              " 'https://api.springernature.com/meta/v2/pam?q=doi:10.1007/s11581-020-03738-8&p=2&api_key=d0fce19bf0a92a57dd448bd7f0c2301f',\n",
              " 'https://api.springernature.com/meta/v2/pam?q=doi:10.1007/s11581-020-03782-4&p=2&api_key=d0fce19bf0a92a57dd448bd7f0c2301f',\n",
              " 'https://api.springernature.com/meta/v2/pam?q=doi:10.1007/s11771-020-4570-0&p=2&api_key=d0fce19bf0a92a57dd448bd7f0c2301f',\n",
              " 'https://api.springernature.com/meta/v2/pam?q=doi:10.1007/s40843-020-1433-4&p=2&api_key=d0fce19bf0a92a57dd448bd7f0c2301f',\n",
              " 'https://api.springernature.com/meta/v2/pam?q=doi:10.1038/s41560-020-00734-0&p=2&api_key=d0fce19bf0a92a57dd448bd7f0c2301f',\n",
              " 'https://api.springernature.com/meta/v2/pam?q=doi:10.1007/s11705-020-1918-9&p=2&api_key=d0fce19bf0a92a57dd448bd7f0c2301f',\n",
              " 'https://api.springernature.com/meta/v2/pam?q=doi:10.1007/s11581-020-03758-4&p=2&api_key=d0fce19bf0a92a57dd448bd7f0c2301f',\n",
              " 'https://api.springernature.com/meta/v2/pam?q=doi:10.1007/s11664-020-08470-7&p=2&api_key=d0fce19bf0a92a57dd448bd7f0c2301f',\n",
              " 'https://api.springernature.com/meta/v2/pam?q=doi:10.1038/s41563-020-0729-1&p=2&api_key=d0fce19bf0a92a57dd448bd7f0c2301f',\n",
              " 'https://api.springernature.com/meta/v2/pam?q=doi:10.1007/s12649-019-00927-z&p=2&api_key=d0fce19bf0a92a57dd448bd7f0c2301f',\n",
              " 'https://api.springernature.com/meta/v2/pam?q=doi:10.1007/s40831-020-00314-2&p=2&api_key=d0fce19bf0a92a57dd448bd7f0c2301f',\n",
              " 'https://api.springernature.com/meta/v2/pam?q=doi:10.1007/s12613-020-2150-9&p=2&api_key=d0fce19bf0a92a57dd448bd7f0c2301f',\n",
              " 'https://api.springernature.com/meta/v2/pam?q=doi:10.1007/s11581-020-03781-5&p=2&api_key=d0fce19bf0a92a57dd448bd7f0c2301f',\n",
              " 'https://api.springernature.com/meta/v2/pam?q=doi:10.1007/s42823-020-00133-1&p=2&api_key=d0fce19bf0a92a57dd448bd7f0c2301f',\n",
              " 'https://api.springernature.com/meta/v2/pam?q=doi:10.1134/S1023193520120174&p=2&api_key=d0fce19bf0a92a57dd448bd7f0c2301f',\n",
              " 'https://api.springernature.com/meta/v2/pam?q=doi:10.1007/s11581-020-03762-8&p=2&api_key=d0fce19bf0a92a57dd448bd7f0c2301f',\n",
              " 'https://api.springernature.com/meta/v2/pam?q=doi:10.1007/s40831-020-00313-3&p=2&api_key=d0fce19bf0a92a57dd448bd7f0c2301f',\n",
              " 'https://api.springernature.com/meta/v2/pam?q=doi:10.1134/S0020168520120092&p=2&api_key=d0fce19bf0a92a57dd448bd7f0c2301f',\n",
              " 'https://api.springernature.com/meta/v2/pam?q=doi:10.1007/s11581-020-03747-7&p=2&api_key=d0fce19bf0a92a57dd448bd7f0c2301f',\n",
              " 'https://api.springernature.com/meta/v2/pam?q=doi:10.1007/s12649-019-00921-5&p=2&api_key=d0fce19bf0a92a57dd448bd7f0c2301f',\n",
              " 'https://api.springernature.com/meta/v2/pam?q=doi:10.1007/s12598-014-0316-1&p=2&api_key=d0fce19bf0a92a57dd448bd7f0c2301f',\n",
              " 'https://api.springernature.com/meta/v2/pam?q=doi:10.1007/s11581-020-03786-0&p=2&api_key=d0fce19bf0a92a57dd448bd7f0c2301f',\n",
              " 'https://api.springernature.com/meta/v2/pam?q=doi:10.1007/s12613-020-2026-z&p=2&api_key=d0fce19bf0a92a57dd448bd7f0c2301f',\n",
              " 'https://api.springernature.com/meta/v2/pam?q=doi:10.1007/s40145-020-0411-8&p=2&api_key=d0fce19bf0a92a57dd448bd7f0c2301f',\n",
              " 'https://api.springernature.com/meta/v2/pam?q=doi:10.1007/s10853-020-05221-1&p=2&api_key=d0fce19bf0a92a57dd448bd7f0c2301f',\n",
              " 'https://api.springernature.com/meta/v2/pam?q=doi:10.1007/s12274-020-3011-6&p=2&api_key=d0fce19bf0a92a57dd448bd7f0c2301f',\n",
              " 'https://api.springernature.com/meta/v2/pam?q=doi:10.1007/s12613-020-2080-6&p=2&api_key=d0fce19bf0a92a57dd448bd7f0c2301f',\n",
              " 'https://api.springernature.com/meta/v2/pam?q=doi:10.1007/s40843-020-1387-7&p=2&api_key=d0fce19bf0a92a57dd448bd7f0c2301f',\n",
              " 'https://api.springernature.com/meta/v2/pam?q=doi:10.1134/S0031918X20140173&p=2&api_key=d0fce19bf0a92a57dd448bd7f0c2301f',\n",
              " 'https://api.springernature.com/meta/v2/pam?q=doi:10.1007/s10854-020-04805-6&p=2&api_key=d0fce19bf0a92a57dd448bd7f0c2301f',\n",
              " 'https://api.springernature.com/meta/v2/pam?q=doi:10.1007/s11581-020-03772-6&p=2&api_key=d0fce19bf0a92a57dd448bd7f0c2301f']"
            ]
          },
          "metadata": {},
          "execution_count": 7
        }
      ]
    },
    {
      "cell_type": "code",
      "source": [
        "url_doi = ['https://api.springernature.com/meta/v2/pam?q=doi:10.1038/s41378-020-00222-1&p=2&api_key=d0fce19bf0a92a57dd448bd7f0c2301f',\n",
        " 'https://api.springernature.com/meta/v2/pam?q=doi:10.1007/s11467-020-0992-2&p=2&api_key=d0fce19bf0a92a57dd448bd7f0c2301f',\n",
        " 'https://api.springernature.com/meta/v2/pam?q=doi:10.1038/s41427-020-00257-w&p=2&api_key=d0fce19bf0a92a57dd448bd7f0c2301f',\n",
        " 'https://api.springernature.com/meta/v2/pam?q=doi:10.1186/s12302-020-00436-0&p=2&api_key=d0fce19bf0a92a57dd448bd7f0c2301f',\n",
        " 'https://api.springernature.com/meta/v2/pam?q=doi:10.1186/s12887-020-02444-8&p=2&api_key=d0fce19bf0a92a57dd448bd7f0c2301f',\n",
        " 'https://api.springernature.com/meta/v2/pam?q=doi:10.1557/PROC-699-R7.5&p=2&api_key=d0fce19bf0a92a57dd448bd7f0c2301f',\n",
        " 'https://api.springernature.com/meta/v2/pam?q=doi:10.1038/s41598-020-79286-y&p=2&api_key=d0fce19bf0a92a57dd448bd7f0c2301f',\n",
        " 'https://api.springernature.com/meta/v2/pam?q=doi:10.1038/s41598-020-79188-z&p=2&api_key=d0fce19bf0a92a57dd448bd7f0c2301f',\n",
        " 'https://api.springernature.com/meta/v2/pam?q=doi:10.1038/s41598-020-78977-w&p=2&api_key=d0fce19bf0a92a57dd448bd7f0c2301f',\n",
        " 'https://api.springernature.com/meta/v2/pam?q=doi:10.1038/s41467-020-19815-5&p=2&api_key=d0fce19bf0a92a57dd448bd7f0c2301f',\n",
        " 'https://api.springernature.com/meta/v2/pam?q=doi:10.1038/s41598-020-79038-y&p=2&api_key=d0fce19bf0a92a57dd448bd7f0c2301f',\n",
        " 'https://api.springernature.com/meta/v2/pam?q=doi:10.1038/s41598-020-78558-x&p=2&api_key=d0fce19bf0a92a57dd448bd7f0c2301f',\n",
        " 'https://api.springernature.com/meta/v2/pam?q=doi:10.1007/s11051-020-05100-5&p=2&api_key=d0fce19bf0a92a57dd448bd7f0c2301f',\n",
        " 'https://api.springernature.com/meta/v2/pam?q=doi:10.1186/s40635-020-00354-8&p=2&api_key=d0fce19bf0a92a57dd448bd7f0c2301f',\n",
        " 'https://api.springernature.com/meta/v2/pam?q=doi:10.1007/s42452-020-03842-4&p=2&api_key=d0fce19bf0a92a57dd448bd7f0c2301f',\n",
        " 'https://api.springernature.com/meta/v2/pam?q=doi:10.1007/s11051-020-05089-x&p=2&api_key=d0fce19bf0a92a57dd448bd7f0c2301f',\n",
        " 'https://api.springernature.com/meta/v2/pam?q=doi:10.1038/s41467-020-20198-w&p=2&api_key=d0fce19bf0a92a57dd448bd7f0c2301f',\n",
        " 'https://api.springernature.com/meta/v2/pam?q=doi:10.1038/s41598-020-78649-9&p=2&api_key=d0fce19bf0a92a57dd448bd7f0c2301f',\n",
        " 'https://api.springernature.com/meta/v2/pam?q=doi:10.1038/s41467-020-20374-y&p=2&api_key=d0fce19bf0a92a57dd448bd7f0c2301f',\n",
        " 'https://api.springernature.com/meta/v2/pam?q=doi:10.1038/s41598-020-78268-4&p=2&api_key=d0fce19bf0a92a57dd448bd7f0c2301f',\n",
        " 'https://api.springernature.com/meta/v2/pam?q=doi:10.1038/s43246-020-00095-x&p=2&api_key=d0fce19bf0a92a57dd448bd7f0c2301f',\n",
        " 'https://api.springernature.com/meta/v2/pam?q=doi:10.1038/s41598-020-78258-6&p=2&api_key=d0fce19bf0a92a57dd448bd7f0c2301f',\n",
        " 'https://api.springernature.com/meta/v2/pam?q=doi:10.1038/s41598-020-78542-5&p=2&api_key=d0fce19bf0a92a57dd448bd7f0c2301f',\n",
        " 'https://api.springernature.com/meta/v2/pam?q=doi:10.1038/s41467-020-19991-4&p=2&api_key=d0fce19bf0a92a57dd448bd7f0c2301f',\n",
        " 'https://api.springernature.com/meta/v2/pam?q=doi:10.1038/s41598-020-78262-w&p=2&api_key=d0fce19bf0a92a57dd448bd7f0c2301f',\n",
        " 'https://api.springernature.com/meta/v2/pam?q=doi:10.1007/s11051-020-05103-2&p=2&api_key=d0fce19bf0a92a57dd448bd7f0c2301f',\n",
        " 'https://api.springernature.com/meta/v2/pam?q=doi:10.1007/s11051-020-05097-x&p=2&api_key=d0fce19bf0a92a57dd448bd7f0c2301f',\n",
        " 'https://api.springernature.com/meta/v2/pam?q=doi:10.1038/s41598-020-78070-2&p=2&api_key=d0fce19bf0a92a57dd448bd7f0c2301f',\n",
        " 'https://api.springernature.com/meta/v2/pam?q=doi:10.1038/s41598-020-78363-6&p=2&api_key=d0fce19bf0a92a57dd448bd7f0c2301f',\n",
        " 'https://api.springernature.com/meta/v2/pam?q=doi:10.1038/s41467-020-19992-3&p=2&api_key=d0fce19bf0a92a57dd448bd7f0c2301f',\n",
        " 'https://api.springernature.com/meta/v2/pam?q=doi:10.1038/s41467-020-19987-0&p=2&api_key=d0fce19bf0a92a57dd448bd7f0c2301f',\n",
        " 'https://api.springernature.com/meta/v2/pam?q=doi:10.1007/s41918-020-00076-1&p=2&api_key=d0fce19bf0a92a57dd448bd7f0c2301f',\n",
        " 'https://api.springernature.com/meta/v2/pam?q=doi:10.1007/s42864-020-00068-0&p=2&api_key=d0fce19bf0a92a57dd448bd7f0c2301f',\n",
        " 'https://api.springernature.com/meta/v2/pam?q=doi:10.1007/s40843-020-1425-2&p=2&api_key=d0fce19bf0a92a57dd448bd7f0c2301f',\n",
        " 'https://api.springernature.com/meta/v2/pam?q=doi:10.1007/s12274-020-2993-4&p=2&api_key=d0fce19bf0a92a57dd448bd7f0c2301f',\n",
        " 'https://api.springernature.com/meta/v2/pam?q=doi:10.1007/s10118-020-2455-1&p=2&api_key=d0fce19bf0a92a57dd448bd7f0c2301f',\n",
        " 'https://api.springernature.com/meta/v2/pam?q=doi:10.1007/s42765-020-00052-w&p=2&api_key=d0fce19bf0a92a57dd448bd7f0c2301f',\n",
        " 'https://api.springernature.com/meta/v2/pam?q=doi:10.1007/s41918-020-00082-3&p=2&api_key=d0fce19bf0a92a57dd448bd7f0c2301f',\n",
        " 'https://api.springernature.com/meta/v2/pam?q=doi:10.1007/s11705-019-1897-x&p=2&api_key=d0fce19bf0a92a57dd448bd7f0c2301f',\n",
        " 'https://api.springernature.com/meta/v2/pam?q=doi:10.1007/s13233-020-8175-0&p=2&api_key=d0fce19bf0a92a57dd448bd7f0c2301f',\n",
        " 'https://api.springernature.com/meta/v2/pam?q=doi:10.1007/s11708-020-0810-0&p=2&api_key=d0fce19bf0a92a57dd448bd7f0c2301f',\n",
        " 'https://api.springernature.com/meta/v2/pam?q=doi:10.1007/s11581-020-03716-0&p=2&api_key=d0fce19bf0a92a57dd448bd7f0c2301f',\n",
        " 'https://api.springernature.com/meta/v2/pam?q=doi:10.1007/s12274-020-3015-2&p=2&api_key=d0fce19bf0a92a57dd448bd7f0c2301f',\n",
        " 'https://api.springernature.com/meta/v2/pam?q=doi:10.1007/s11581-020-03761-9&p=2&api_key=d0fce19bf0a92a57dd448bd7f0c2301f',\n",
        " 'https://api.springernature.com/meta/v2/pam?q=doi:10.1007/s41918-020-00079-y&p=2&api_key=d0fce19bf0a92a57dd448bd7f0c2301f',\n",
        " 'https://api.springernature.com/meta/v2/pam?q=doi:10.1007/s11581-020-03748-6&p=2&api_key=d0fce19bf0a92a57dd448bd7f0c2301f',\n",
        " 'https://api.springernature.com/meta/v2/pam?q=doi:10.1007/s42247-020-00146-6&p=2&api_key=d0fce19bf0a92a57dd448bd7f0c2301f',\n",
        " 'https://api.springernature.com/meta/v2/pam?q=doi:10.1007/s10934-020-00942-9&p=2&api_key=d0fce19bf0a92a57dd448bd7f0c2301f',\n",
        " 'https://api.springernature.com/meta/v2/pam?q=doi:10.1007/s10853-020-05203-3&p=2&api_key=d0fce19bf0a92a57dd448bd7f0c2301f',\n",
        " 'https://api.springernature.com/meta/v2/pam?q=doi:10.1007/s10853-020-05193-2&p=2&api_key=d0fce19bf0a92a57dd448bd7f0c2301f',\n",
        " 'https://api.springernature.com/meta/v2/pam?q=doi:10.1007/s10854-020-04723-7&p=2&api_key=d0fce19bf0a92a57dd448bd7f0c2301f',\n",
        " 'https://api.springernature.com/meta/v2/pam?q=doi:10.1007/s12274-020-2991-6&p=2&api_key=d0fce19bf0a92a57dd448bd7f0c2301f',\n",
        " 'https://api.springernature.com/meta/v2/pam?q=doi:10.1007/s12613-020-2175-0&p=2&api_key=d0fce19bf0a92a57dd448bd7f0c2301f',\n",
        " 'https://api.springernature.com/meta/v2/pam?q=doi:10.1007/s12598-020-01509-y&p=2&api_key=d0fce19bf0a92a57dd448bd7f0c2301f',\n",
        " 'https://api.springernature.com/meta/v2/pam?q=doi:10.1007/s11581-020-03764-6&p=2&api_key=d0fce19bf0a92a57dd448bd7f0c2301f',\n",
        " 'https://api.springernature.com/meta/v2/pam?q=doi:10.1007/s11581-020-03746-8&p=2&api_key=d0fce19bf0a92a57dd448bd7f0c2301f',\n",
        " 'https://api.springernature.com/meta/v2/pam?q=doi:10.1007/s11581-020-03742-y&p=2&api_key=d0fce19bf0a92a57dd448bd7f0c2301f',\n",
        " 'https://api.springernature.com/meta/v2/pam?q=doi:10.1007/s11581-020-03771-7&p=2&api_key=d0fce19bf0a92a57dd448bd7f0c2301f',\n",
        " 'https://api.springernature.com/meta/v2/pam?q=doi:10.1007/s12274-020-3009-0&p=2&api_key=d0fce19bf0a92a57dd448bd7f0c2301f',\n",
        " 'https://api.springernature.com/meta/v2/pam?q=doi:10.1007/s11581-020-03741-z&p=2&api_key=d0fce19bf0a92a57dd448bd7f0c2301f',\n",
        " 'https://api.springernature.com/meta/v2/pam?q=doi:10.1007/s11581-020-03768-2&p=2&api_key=d0fce19bf0a92a57dd448bd7f0c2301f',\n",
        " 'https://api.springernature.com/meta/v2/pam?q=doi:10.1007/s10854-020-04826-1&p=2&api_key=d0fce19bf0a92a57dd448bd7f0c2301f',\n",
        " 'https://api.springernature.com/meta/v2/pam?q=doi:10.1007/s10853-020-05197-y&p=2&api_key=d0fce19bf0a92a57dd448bd7f0c2301f',\n",
        " 'https://api.springernature.com/meta/v2/pam?q=doi:10.1007/s11431-019-1539-6&p=2&api_key=d0fce19bf0a92a57dd448bd7f0c2301f',\n",
        " 'https://api.springernature.com/meta/v2/pam?q=doi:10.1007/s11581-020-03520-w&p=2&api_key=d0fce19bf0a92a57dd448bd7f0c2301f',\n",
        " 'https://api.springernature.com/meta/v2/pam?q=doi:10.1007/s42247-020-00140-y&p=2&api_key=d0fce19bf0a92a57dd448bd7f0c2301f',\n",
        " 'https://api.springernature.com/meta/v2/pam?q=doi:10.1007/s10934-020-00963-4&p=2&api_key=d0fce19bf0a92a57dd448bd7f0c2301f',\n",
        " 'https://api.springernature.com/meta/v2/pam?q=doi:10.1007/s11581-020-03751-x&p=2&api_key=d0fce19bf0a92a57dd448bd7f0c2301f',\n",
        " 'https://api.springernature.com/meta/v2/pam?q=doi:10.1007/s13204-020-01310-4&p=2&api_key=d0fce19bf0a92a57dd448bd7f0c2301f',\n",
        " 'https://api.springernature.com/meta/v2/pam?q=doi:10.1007/s11581-020-03738-8&p=2&api_key=d0fce19bf0a92a57dd448bd7f0c2301f',\n",
        " 'https://api.springernature.com/meta/v2/pam?q=doi:10.1007/s11581-020-03782-4&p=2&api_key=d0fce19bf0a92a57dd448bd7f0c2301f',\n",
        " 'https://api.springernature.com/meta/v2/pam?q=doi:10.1007/s11771-020-4570-0&p=2&api_key=d0fce19bf0a92a57dd448bd7f0c2301f',\n",
        " 'https://api.springernature.com/meta/v2/pam?q=doi:10.1007/s40843-020-1433-4&p=2&api_key=d0fce19bf0a92a57dd448bd7f0c2301f',\n",
        " 'https://api.springernature.com/meta/v2/pam?q=doi:10.1038/s41560-020-00734-0&p=2&api_key=d0fce19bf0a92a57dd448bd7f0c2301f',\n",
        " 'https://api.springernature.com/meta/v2/pam?q=doi:10.1007/s11705-020-1918-9&p=2&api_key=d0fce19bf0a92a57dd448bd7f0c2301f',\n",
        " 'https://api.springernature.com/meta/v2/pam?q=doi:10.1007/s11581-020-03758-4&p=2&api_key=d0fce19bf0a92a57dd448bd7f0c2301f',\n",
        " 'https://api.springernature.com/meta/v2/pam?q=doi:10.1007/s11664-020-08470-7&p=2&api_key=d0fce19bf0a92a57dd448bd7f0c2301f',\n",
        " 'https://api.springernature.com/meta/v2/pam?q=doi:10.1038/s41563-020-0729-1&p=2&api_key=d0fce19bf0a92a57dd448bd7f0c2301f',\n",
        " 'https://api.springernature.com/meta/v2/pam?q=doi:10.1007/s12649-019-00927-z&p=2&api_key=d0fce19bf0a92a57dd448bd7f0c2301f',\n",
        " 'https://api.springernature.com/meta/v2/pam?q=doi:10.1007/s40831-020-00314-2&p=2&api_key=d0fce19bf0a92a57dd448bd7f0c2301f',\n",
        " 'https://api.springernature.com/meta/v2/pam?q=doi:10.1007/s12613-020-2150-9&p=2&api_key=d0fce19bf0a92a57dd448bd7f0c2301f',\n",
        " 'https://api.springernature.com/meta/v2/pam?q=doi:10.1007/s11581-020-03781-5&p=2&api_key=d0fce19bf0a92a57dd448bd7f0c2301f',\n",
        " 'https://api.springernature.com/meta/v2/pam?q=doi:10.1007/s42823-020-00133-1&p=2&api_key=d0fce19bf0a92a57dd448bd7f0c2301f',\n",
        " 'https://api.springernature.com/meta/v2/pam?q=doi:10.1134/S1023193520120174&p=2&api_key=d0fce19bf0a92a57dd448bd7f0c2301f',\n",
        " 'https://api.springernature.com/meta/v2/pam?q=doi:10.1007/s11581-020-03762-8&p=2&api_key=d0fce19bf0a92a57dd448bd7f0c2301f',\n",
        " 'https://api.springernature.com/meta/v2/pam?q=doi:10.1007/s40831-020-00313-3&p=2&api_key=d0fce19bf0a92a57dd448bd7f0c2301f',\n",
        " 'https://api.springernature.com/meta/v2/pam?q=doi:10.1134/S0020168520120092&p=2&api_key=d0fce19bf0a92a57dd448bd7f0c2301f',\n",
        " 'https://api.springernature.com/meta/v2/pam?q=doi:10.1007/s11581-020-03747-7&p=2&api_key=d0fce19bf0a92a57dd448bd7f0c2301f',\n",
        " 'https://api.springernature.com/meta/v2/pam?q=doi:10.1007/s12649-019-00921-5&p=2&api_key=d0fce19bf0a92a57dd448bd7f0c2301f',\n",
        " 'https://api.springernature.com/meta/v2/pam?q=doi:10.1007/s12598-014-0316-1&p=2&api_key=d0fce19bf0a92a57dd448bd7f0c2301f',\n",
        " 'https://api.springernature.com/meta/v2/pam?q=doi:10.1007/s11581-020-03786-0&p=2&api_key=d0fce19bf0a92a57dd448bd7f0c2301f',\n",
        " 'https://api.springernature.com/meta/v2/pam?q=doi:10.1007/s12613-020-2026-z&p=2&api_key=d0fce19bf0a92a57dd448bd7f0c2301f',\n",
        " 'https://api.springernature.com/meta/v2/pam?q=doi:10.1007/s40145-020-0411-8&p=2&api_key=d0fce19bf0a92a57dd448bd7f0c2301f',\n",
        " 'https://api.springernature.com/meta/v2/pam?q=doi:10.1007/s10853-020-05221-1&p=2&api_key=d0fce19bf0a92a57dd448bd7f0c2301f',\n",
        " 'https://api.springernature.com/meta/v2/pam?q=doi:10.1007/s12274-020-3011-6&p=2&api_key=d0fce19bf0a92a57dd448bd7f0c2301f',\n",
        " 'https://api.springernature.com/meta/v2/pam?q=doi:10.1007/s12613-020-2080-6&p=2&api_key=d0fce19bf0a92a57dd448bd7f0c2301f',\n",
        " 'https://api.springernature.com/meta/v2/pam?q=doi:10.1007/s40843-020-1387-7&p=2&api_key=d0fce19bf0a92a57dd448bd7f0c2301f',\n",
        " 'https://api.springernature.com/meta/v2/pam?q=doi:10.1134/S0031918X20140173&p=2&api_key=d0fce19bf0a92a57dd448bd7f0c2301f',\n",
        " 'https://api.springernature.com/meta/v2/pam?q=doi:10.1007/s10854-020-04805-6&p=2&api_key=d0fce19bf0a92a57dd448bd7f0c2301f',\n",
        " 'https://api.springernature.com/meta/v2/pam?q=doi:10.1007/s11581-020-03772-6&p=2&api_key=d0fce19bf0a92a57dd448bd7f0c2301f']"
      ],
      "metadata": {
        "id": "50Ne7hYAcfHv"
      },
      "execution_count": 27,
      "outputs": []
    },
    {
      "cell_type": "code",
      "source": [
        "# set up drive\n",
        "from google.colab import drive\n",
        "drive.mount('/content/drive')"
      ],
      "metadata": {
        "colab": {
          "base_uri": "https://localhost:8080/"
        },
        "id": "iJfeoD_eNjua",
        "outputId": "df41df41-37f6-479f-acc2-134947840e4e"
      },
      "execution_count": 32,
      "outputs": [
        {
          "output_type": "stream",
          "name": "stdout",
          "text": [
            "Drive already mounted at /content/drive; to attempt to forcibly remount, call drive.mount(\"/content/drive\", force_remount=True).\n"
          ]
        }
      ]
    },
    {
      "cell_type": "code",
      "source": [
        "num_list = []\n",
        "for i in range(1,101):\n",
        "  num_list.append(i)\n"
      ],
      "metadata": {
        "id": "Og7992FNNq0E"
      },
      "execution_count": 35,
      "outputs": []
    },
    {
      "cell_type": "code",
      "source": [
        "def download_doi(doi,num_list):\n",
        "    \"\"\"\n",
        "    :param doi: DOI\n",
        "    :return:\n",
        "    \"\"\"\n",
        "\n",
        "    save_list = []\n",
        "    WebContent = request.urlopen(doi).read()\n",
        "    with open(r'/content/drive/My Drive/LBNL/springer_docs/springer_{}.xml'.format(num_list), 'wb') as f:\n",
        "        save_list.append(WebContent)   \n",
        "        f.write(WebContent)\n",
        "        f.close()\n",
        "    return"
      ],
      "metadata": {
        "id": "NxhGeoGrVJBn"
      },
      "execution_count": 33,
      "outputs": []
    },
    {
      "cell_type": "code",
      "source": [
        "for i in range(100):\n",
        "  download_doi(url_doi[i],num_list[i])"
      ],
      "metadata": {
        "id": "lxVt51Sv5_XN"
      },
      "execution_count": 36,
      "outputs": []
    },
    {
      "cell_type": "markdown",
      "source": [
        "### read xml and process"
      ],
      "metadata": {
        "id": "EwDJp5i9Z7Ew"
      }
    },
    {
      "cell_type": "code",
      "source": [
        "%cd /content/drive/My\\ Drive/LBNL/Battery_database/"
      ],
      "metadata": {
        "colab": {
          "base_uri": "https://localhost:8080/"
        },
        "id": "YJCFFeuO60bi",
        "outputId": "70c458d3-05ee-451a-b040-665ce097943d"
      },
      "execution_count": 37,
      "outputs": [
        {
          "output_type": "stream",
          "name": "stdout",
          "text": [
            "/content/drive/My Drive/LBNL/Battery_database\n"
          ]
        }
      ]
    },
    {
      "cell_type": "code",
      "source": [
        "!pip install -r requirements.txt"
      ],
      "metadata": {
        "colab": {
          "base_uri": "https://localhost:8080/",
          "height": 911
        },
        "id": "yux2OE1vRHsr",
        "outputId": "01a1556d-f227-435d-8a08-15c8e452095e"
      },
      "execution_count": 4,
      "outputs": [
        {
          "output_type": "stream",
          "name": "stdout",
          "text": [
            "Requirement already satisfied: regex in /usr/local/lib/python3.7/site-packages (from -r requirements.txt (line 1)) (2022.3.15)\n",
            "Collecting colorama\n",
            "  Using cached colorama-0.4.4-py2.py3-none-any.whl (16 kB)\n",
            "Collecting sympy==1.5.1\n",
            "  Using cached sympy-1.5.1-py2.py3-none-any.whl (5.6 MB)\n",
            "Collecting pubchempy==1.0.4\n",
            "  Using cached PubChemPy-1.0.4-py3-none-any.whl\n",
            "Collecting pymongo==3.10.1\n",
            "  Using cached pymongo-3.10.1-cp37-cp37m-manylinux2014_x86_64.whl (462 kB)\n",
            "Collecting selenium==4.0.0\n",
            "  Using cached selenium-4.0.0-py3-none-any.whl (954 kB)\n",
            "Collecting trio~=0.17\n",
            "  Using cached trio-0.20.0-py3-none-any.whl (359 kB)\n",
            "Collecting trio-websocket~=0.9\n",
            "  Using cached trio_websocket-0.9.2-py3-none-any.whl (16 kB)\n",
            "Requirement already satisfied: urllib3[secure]~=1.26 in /usr/local/lib/python3.7/site-packages (from selenium==4.0.0->-r requirements.txt (line 6)) (1.26.3)\n",
            "Collecting mpmath>=0.19\n",
            "  Downloading mpmath-1.2.1-py3-none-any.whl (532 kB)\n",
            "\u001b[K     |████████████████████████████████| 532 kB 5.4 MB/s \n",
            "\u001b[?25hCollecting async-generator>=1.9\n",
            "  Using cached async_generator-1.10-py3-none-any.whl (18 kB)\n",
            "Collecting sniffio\n",
            "  Using cached sniffio-1.2.0-py3-none-any.whl (10 kB)\n",
            "Collecting sortedcontainers\n",
            "  Downloading sortedcontainers-2.4.0-py2.py3-none-any.whl (29 kB)\n",
            "Requirement already satisfied: idna in /usr/local/lib/python3.7/site-packages (from trio~=0.17->selenium==4.0.0->-r requirements.txt (line 6)) (2.10)\n",
            "Collecting attrs>=19.2.0\n",
            "  Downloading attrs-21.4.0-py2.py3-none-any.whl (60 kB)\n",
            "\u001b[K     |████████████████████████████████| 60 kB 5.9 MB/s \n",
            "\u001b[?25hCollecting outcome\n",
            "  Using cached outcome-1.1.0-py2.py3-none-any.whl (9.7 kB)\n",
            "Collecting wsproto>=0.14\n",
            "  Using cached wsproto-1.1.0-py3-none-any.whl (24 kB)\n",
            "Requirement already satisfied: pyOpenSSL>=0.14 in /usr/local/lib/python3.7/site-packages (from urllib3[secure]~=1.26->selenium==4.0.0->-r requirements.txt (line 6)) (20.0.1)\n",
            "Requirement already satisfied: certifi in /usr/local/lib/python3.7/site-packages (from urllib3[secure]~=1.26->selenium==4.0.0->-r requirements.txt (line 6)) (2021.10.8)\n",
            "Requirement already satisfied: cryptography>=1.3.4 in /usr/local/lib/python3.7/site-packages (from urllib3[secure]~=1.26->selenium==4.0.0->-r requirements.txt (line 6)) (3.4.5)\n",
            "Requirement already satisfied: cffi>=1.12 in /usr/local/lib/python3.7/site-packages (from cryptography>=1.3.4->urllib3[secure]~=1.26->selenium==4.0.0->-r requirements.txt (line 6)) (1.14.5)\n",
            "Requirement already satisfied: pycparser in /usr/local/lib/python3.7/site-packages (from cffi>=1.12->cryptography>=1.3.4->urllib3[secure]~=1.26->selenium==4.0.0->-r requirements.txt (line 6)) (2.20)\n",
            "Requirement already satisfied: six>=1.5.2 in /usr/local/lib/python3.7/site-packages (from pyOpenSSL>=0.14->urllib3[secure]~=1.26->selenium==4.0.0->-r requirements.txt (line 6)) (1.15.0)\n",
            "Collecting h11<1,>=0.9.0\n",
            "  Using cached h11-0.13.0-py3-none-any.whl (58 kB)\n",
            "Requirement already satisfied: typing-extensions in /usr/local/lib/python3.7/site-packages (from h11<1,>=0.9.0->wsproto>=0.14->trio-websocket~=0.9->selenium==4.0.0->-r requirements.txt (line 6)) (4.1.1)\n",
            "Installing collected packages: attrs, sortedcontainers, sniffio, outcome, h11, async-generator, wsproto, trio, trio-websocket, mpmath, sympy, selenium, pymongo, pubchempy, colorama\n",
            "Successfully installed async-generator-1.10 attrs-21.4.0 colorama-0.4.4 h11-0.13.0 mpmath-1.2.1 outcome-1.1.0 pubchempy-1.0.4 pymongo-3.10.1 selenium-4.0.0 sniffio-1.2.0 sortedcontainers-2.4.0 sympy-1.5.1 trio-0.20.0 trio-websocket-0.9.2 wsproto-1.1.0\n"
          ]
        },
        {
          "output_type": "display_data",
          "data": {
            "application/vnd.colab-display-data+json": {
              "pip_warning": {
                "packages": [
                  "colorama"
                ]
              }
            }
          },
          "metadata": {}
        }
      ]
    },
    {
      "cell_type": "code",
      "source": [
        "!pip install -q condacolab\n",
        "import condacolab\n",
        "condacolab.install()"
      ],
      "metadata": {
        "colab": {
          "base_uri": "https://localhost:8080/"
        },
        "id": "gFZQPW-DRWXB",
        "outputId": "141d61c0-2d39-4a6d-a69b-e4090a693b0c"
      },
      "execution_count": 16,
      "outputs": [
        {
          "output_type": "stream",
          "name": "stdout",
          "text": [
            "⏬ Downloading https://github.com/jaimergp/miniforge/releases/latest/download/Mambaforge-colab-Linux-x86_64.sh...\n",
            "📦 Installing...\n",
            "📌 Adjusting configuration...\n",
            "🩹 Patching environment...\n",
            "⏲ Done in 0:00:25\n",
            "🔁 Restarting kernel...\n"
          ]
        }
      ]
    },
    {
      "cell_type": "code",
      "source": [
        "!conda install chemdataextractor chemdataextractor"
      ],
      "metadata": {
        "colab": {
          "base_uri": "https://localhost:8080/"
        },
        "id": "dABObkRsRM_5",
        "outputId": "c007126b-8677-4ac5-dc42-2b4c7dc2c683"
      },
      "execution_count": 1,
      "outputs": [
        {
          "output_type": "stream",
          "name": "stdout",
          "text": [
            "Collecting package metadata (current_repodata.json): - \b\b\\ \b\b| \b\b/ \b\b- \b\b\\ \b\b| \b\b/ \b\b- \b\b\\ \b\b| \b\b/ \b\b- \b\b\\ \b\b| \b\b/ \b\b- \b\b\\ \b\b| \b\b/ \b\b- \b\b\\ \b\b| \b\b/ \b\b- \b\b\\ \b\b| \b\b/ \b\b- \b\b\\ \b\b| \b\b/ \b\b- \b\b\\ \b\b| \b\b/ \b\b- \b\b\\ \b\b| \b\b/ \b\b- \b\b\\ \b\b| \b\b/ \b\b- \b\b\\ \b\b| \b\b/ \b\b- \b\b\\ \b\b| \b\b/ \b\b- \b\b\\ \b\b| \b\b/ \b\b- \b\b\\ \b\b| \b\b/ \b\b- \b\b\\ \b\b| \b\b/ \b\b- \b\b\\ \b\b| \b\b/ \b\b- \b\b\\ \b\b| \b\b/ \b\b- \b\b\\ \b\b| \b\b/ \b\bdone\n",
            "Solving environment: \\ \b\b| \b\b/ \b\b- \b\b\\ \b\b| \b\b/ \b\b- \b\b\\ \b\b| \b\b/ \b\b- \b\b\\ \b\b| \b\b/ \b\b- \b\b\\ \b\b| \b\b/ \b\b- \b\b\\ \b\b| \b\b/ \b\b- \b\bdone\n",
            "\n",
            "## Package Plan ##\n",
            "\n",
            "  environment location: /usr/local\n",
            "\n",
            "  added / updated specs:\n",
            "    - chemdataextractor\n",
            "\n",
            "\n",
            "The following packages will be downloaded:\n",
            "\n",
            "    package                    |            build\n",
            "    ---------------------------|-----------------\n",
            "    appdirs-1.4.4              |     pyh9f0ad1d_0          13 KB  conda-forge\n",
            "    beautifulsoup4-4.10.0      |     pyha770c72_0          77 KB  conda-forge\n",
            "    ca-certificates-2021.10.8  |       ha878542_0         139 KB  conda-forge\n",
            "    certifi-2021.10.8          |   py37h89c1867_2         145 KB  conda-forge\n",
            "    chemdataextractor-1.3.0    |     pyh9f0ad1d_1         133 KB  conda-forge\n",
            "    click-8.1.2                |   py37h89c1867_0         145 KB  conda-forge\n",
            "    conda-4.12.0               |   py37h89c1867_0         1.0 MB  conda-forge\n",
            "    cssselect-1.1.0            |             py_0          18 KB  conda-forge\n",
            "    dawg-0.8.0                 |   py37hcd2ae1e_3         177 KB  conda-forge\n",
            "    importlib-metadata-4.11.3  |   py37h89c1867_1          33 KB  conda-forge\n",
            "    joblib-1.1.0               |     pyhd8ed1ab_0         210 KB  conda-forge\n",
            "    libgcc-ng-11.2.0           |      h1d223b6_14         906 KB  conda-forge\n",
            "    libgomp-11.2.0             |      h1d223b6_14         429 KB  conda-forge\n",
            "    libstdcxx-ng-11.2.0        |      he4da1e4_14         4.2 MB  conda-forge\n",
            "    libxslt-1.1.33             |       h15afd5d_2         522 KB  conda-forge\n",
            "    lxml-4.8.0                 |   py37h540881e_1         1.4 MB  conda-forge\n",
            "    nltk-3.6.7                 |     pyhd8ed1ab_0         1.1 MB  conda-forge\n",
            "    openssl-1.1.1n             |       h166bdaf_0         2.1 MB  conda-forge\n",
            "    pdfminer.six-20220319      |     pyhd8ed1ab_0         4.9 MB  conda-forge\n",
            "    python-crfsuite-0.9.8      |   py37h7cecad7_1         184 KB  conda-forge\n",
            "    python-dateutil-2.8.2      |     pyhd8ed1ab_0         240 KB  conda-forge\n",
            "    python_abi-3.7             |          2_cp37m           4 KB  conda-forge\n",
            "    pyyaml-6.0                 |   py37h540881e_4         178 KB  conda-forge\n",
            "    regex-2022.3.15            |   py37h540881e_0         381 KB  conda-forge\n",
            "    soupsieve-2.3.1            |     pyhd8ed1ab_0          33 KB  conda-forge\n",
            "    typing_extensions-4.1.1    |     pyha770c72_0          29 KB  conda-forge\n",
            "    zipp-3.7.0                 |     pyhd8ed1ab_1          12 KB  conda-forge\n",
            "    ------------------------------------------------------------\n",
            "                                           Total:        18.6 MB\n",
            "\n",
            "The following NEW packages will be INSTALLED:\n",
            "\n",
            "  appdirs            conda-forge/noarch::appdirs-1.4.4-pyh9f0ad1d_0\n",
            "  beautifulsoup4     conda-forge/noarch::beautifulsoup4-4.10.0-pyha770c72_0\n",
            "  chemdataextractor  conda-forge/noarch::chemdataextractor-1.3.0-pyh9f0ad1d_1\n",
            "  click              conda-forge/linux-64::click-8.1.2-py37h89c1867_0\n",
            "  cssselect          conda-forge/noarch::cssselect-1.1.0-py_0\n",
            "  dawg               conda-forge/linux-64::dawg-0.8.0-py37hcd2ae1e_3\n",
            "  importlib-metadata conda-forge/linux-64::importlib-metadata-4.11.3-py37h89c1867_1\n",
            "  joblib             conda-forge/noarch::joblib-1.1.0-pyhd8ed1ab_0\n",
            "  libxslt            conda-forge/linux-64::libxslt-1.1.33-h15afd5d_2\n",
            "  lxml               conda-forge/linux-64::lxml-4.8.0-py37h540881e_1\n",
            "  nltk               conda-forge/noarch::nltk-3.6.7-pyhd8ed1ab_0\n",
            "  pdfminer.six       conda-forge/noarch::pdfminer.six-20220319-pyhd8ed1ab_0\n",
            "  python-crfsuite    conda-forge/linux-64::python-crfsuite-0.9.8-py37h7cecad7_1\n",
            "  python-dateutil    conda-forge/noarch::python-dateutil-2.8.2-pyhd8ed1ab_0\n",
            "  pyyaml             conda-forge/linux-64::pyyaml-6.0-py37h540881e_4\n",
            "  regex              conda-forge/linux-64::regex-2022.3.15-py37h540881e_0\n",
            "  soupsieve          conda-forge/noarch::soupsieve-2.3.1-pyhd8ed1ab_0\n",
            "  typing_extensions  conda-forge/noarch::typing_extensions-4.1.1-pyha770c72_0\n",
            "  zipp               conda-forge/noarch::zipp-3.7.0-pyhd8ed1ab_1\n",
            "\n",
            "The following packages will be UPDATED:\n",
            "\n",
            "  ca-certificates                      2020.12.5-ha878542_0 --> 2021.10.8-ha878542_0\n",
            "  certifi                          2020.12.5-py37h89c1867_1 --> 2021.10.8-py37h89c1867_2\n",
            "  conda                                4.9.2-py37h89c1867_0 --> 4.12.0-py37h89c1867_0\n",
            "  libgcc-ng                               9.3.0-h2828fa1_18 --> 11.2.0-h1d223b6_14\n",
            "  libgomp                                 9.3.0-h2828fa1_18 --> 11.2.0-h1d223b6_14\n",
            "  libstdcxx-ng                            9.3.0-h6de172a_18 --> 11.2.0-he4da1e4_14\n",
            "  openssl                                 1.1.1j-h7f98852_0 --> 1.1.1n-h166bdaf_0\n",
            "  python_abi                                    3.7-1_cp37m --> 3.7-2_cp37m\n",
            "\n",
            "\n",
            "\n",
            "Downloading and Extracting Packages\n",
            "libxslt-1.1.33       | 522 KB    | : 100% 1.0/1 [00:00<00:00,  3.46it/s]\n",
            "ca-certificates-2021 | 139 KB    | : 100% 1.0/1 [00:00<00:00, 17.50it/s]\n",
            "cssselect-1.1.0      | 18 KB     | : 100% 1.0/1 [00:00<00:00, 19.64it/s]\n",
            "nltk-3.6.7           | 1.1 MB    | : 100% 1.0/1 [00:00<00:00,  2.84it/s]\n",
            "python_abi-3.7       | 4 KB      | : 100% 1.0/1 [00:00<00:00, 26.06it/s]\n",
            "libgcc-ng-11.2.0     | 906 KB    | : 100% 1.0/1 [00:00<00:00,  5.45it/s]\n",
            "click-8.1.2          | 145 KB    | : 100% 1.0/1 [00:00<00:00,  8.14it/s]\n",
            "dawg-0.8.0           | 177 KB    | : 100% 1.0/1 [00:00<00:00,  4.65it/s]              \n",
            "libstdcxx-ng-11.2.0  | 4.2 MB    | : 100% 1.0/1 [00:00<00:00,  1.44it/s]\n",
            "regex-2022.3.15      | 381 KB    | : 100% 1.0/1 [00:00<00:00,  9.29it/s]\n",
            "conda-4.12.0         | 1.0 MB    | : 100% 1.0/1 [00:00<00:00,  3.55it/s]\n",
            "zipp-3.7.0           | 12 KB     | : 100% 1.0/1 [00:00<00:00, 24.50it/s]\n",
            "appdirs-1.4.4        | 13 KB     | : 100% 1.0/1 [00:00<00:00, 25.87it/s]\n",
            "lxml-4.8.0           | 1.4 MB    | : 100% 1.0/1 [00:00<00:00,  3.49it/s]\n",
            "soupsieve-2.3.1      | 33 KB     | : 100% 1.0/1 [00:00<00:00, 19.64it/s]\n",
            "typing_extensions-4. | 29 KB     | : 100% 1.0/1 [00:00<00:00, 24.20it/s]\n",
            "libgomp-11.2.0       | 429 KB    | : 100% 1.0/1 [00:00<00:00, 10.01it/s]\n",
            "python-crfsuite-0.9. | 184 KB    | : 100% 1.0/1 [00:00<00:00, 10.44it/s]\n",
            "beautifulsoup4-4.10. | 77 KB     | : 100% 1.0/1 [00:00<00:00, 17.31it/s]\n",
            "pyyaml-6.0           | 178 KB    | : 100% 1.0/1 [00:00<00:00, 12.63it/s]\n",
            "joblib-1.1.0         | 210 KB    | : 100% 1.0/1 [00:00<00:00, 10.79it/s]\n",
            "certifi-2021.10.8    | 145 KB    | : 100% 1.0/1 [00:00<00:00, 17.58it/s]\n",
            "pdfminer.six-2022031 | 4.9 MB    | : 100% 1.0/1 [00:00<00:00,  1.34it/s]\n",
            "chemdataextractor-1. | 133 KB    | : 100% 1.0/1 [00:00<00:00,  9.92it/s]\n",
            "importlib-metadata-4 | 33 KB     | : 100% 1.0/1 [00:00<00:00, 23.91it/s]\n",
            "openssl-1.1.1n       | 2.1 MB    | : 100% 1.0/1 [00:00<00:00,  2.68it/s]\n",
            "python-dateutil-2.8. | 240 KB    | : 100% 1.0/1 [00:00<00:00, 14.55it/s]\n",
            "Preparing transaction: | \b\bdone\n",
            "Verifying transaction: - \b\b\\ \b\b| \b\bdone\n",
            "Executing transaction: - \b\b\\ \b\b| \b\b/ \b\b- \b\b\\ \b\b| \b\b/ \b\b- \b\b\\ \b\b| \b\b/ \b\b- \b\b\\ \b\b| \b\b/ \b\b- \b\bdone\n"
          ]
        }
      ]
    },
    {
      "cell_type": "code",
      "source": [
        "!cde data download"
      ],
      "metadata": {
        "colab": {
          "base_uri": "https://localhost:8080/"
        },
        "id": "ZB_CufRRSVWq",
        "outputId": "403c2633-b0cd-48db-c67d-6d6f7fe25d3e"
      },
      "execution_count": 7,
      "outputs": [
        {
          "output_type": "stream",
          "name": "stdout",
          "text": [
            "INFO:chemdataextractor.data:Downloading http://data.chemdataextractor.org/models/cem_crf-1.0.pickle to /root/.local/share/ChemDataExtractor/models/cem_crf-1.0.pickle\n",
            "INFO:chemdataextractor.data:Downloading http://data.chemdataextractor.org/models/cem_crf_chemdner_cemp-1.0.pickle to /root/.local/share/ChemDataExtractor/models/cem_crf_chemdner_cemp-1.0.pickle\n",
            "INFO:chemdataextractor.data:Downloading http://data.chemdataextractor.org/models/cem_dict_cs-1.0.pickle to /root/.local/share/ChemDataExtractor/models/cem_dict_cs-1.0.pickle\n",
            "INFO:chemdataextractor.data:Downloading http://data.chemdataextractor.org/models/cem_dict-1.0.pickle to /root/.local/share/ChemDataExtractor/models/cem_dict-1.0.pickle\n",
            "INFO:chemdataextractor.data:Downloading http://data.chemdataextractor.org/models/clusters_chem1500-1.0.pickle to /root/.local/share/ChemDataExtractor/models/clusters_chem1500-1.0.pickle\n",
            "INFO:chemdataextractor.data:Downloading http://data.chemdataextractor.org/models/pos_ap_genia_nocluster-1.0.pickle to /root/.local/share/ChemDataExtractor/models/pos_ap_genia_nocluster-1.0.pickle\n",
            "INFO:chemdataextractor.data:Downloading http://data.chemdataextractor.org/models/pos_ap_genia-1.0.pickle to /root/.local/share/ChemDataExtractor/models/pos_ap_genia-1.0.pickle\n",
            "INFO:chemdataextractor.data:Downloading http://data.chemdataextractor.org/models/pos_ap_wsj_genia_nocluster-1.0.pickle to /root/.local/share/ChemDataExtractor/models/pos_ap_wsj_genia_nocluster-1.0.pickle\n",
            "INFO:chemdataextractor.data:Downloading http://data.chemdataextractor.org/models/pos_ap_wsj_genia-1.0.pickle to /root/.local/share/ChemDataExtractor/models/pos_ap_wsj_genia-1.0.pickle\n",
            "INFO:chemdataextractor.data:Downloading http://data.chemdataextractor.org/models/pos_ap_wsj_nocluster-1.0.pickle to /root/.local/share/ChemDataExtractor/models/pos_ap_wsj_nocluster-1.0.pickle\n",
            "INFO:chemdataextractor.data:Downloading http://data.chemdataextractor.org/models/pos_ap_wsj-1.0.pickle to /root/.local/share/ChemDataExtractor/models/pos_ap_wsj-1.0.pickle\n",
            "INFO:chemdataextractor.data:Downloading http://data.chemdataextractor.org/models/pos_crf_genia_nocluster-1.0.pickle to /root/.local/share/ChemDataExtractor/models/pos_crf_genia_nocluster-1.0.pickle\n",
            "INFO:chemdataextractor.data:Downloading http://data.chemdataextractor.org/models/pos_crf_genia-1.0.pickle to /root/.local/share/ChemDataExtractor/models/pos_crf_genia-1.0.pickle\n",
            "INFO:chemdataextractor.data:Downloading http://data.chemdataextractor.org/models/pos_crf_wsj_genia_nocluster-1.0.pickle to /root/.local/share/ChemDataExtractor/models/pos_crf_wsj_genia_nocluster-1.0.pickle\n",
            "INFO:chemdataextractor.data:Downloading http://data.chemdataextractor.org/models/pos_crf_wsj_genia-1.0.pickle to /root/.local/share/ChemDataExtractor/models/pos_crf_wsj_genia-1.0.pickle\n",
            "INFO:chemdataextractor.data:Downloading http://data.chemdataextractor.org/models/pos_crf_wsj_nocluster-1.0.pickle to /root/.local/share/ChemDataExtractor/models/pos_crf_wsj_nocluster-1.0.pickle\n",
            "INFO:chemdataextractor.data:Downloading http://data.chemdataextractor.org/models/pos_crf_wsj-1.0.pickle to /root/.local/share/ChemDataExtractor/models/pos_crf_wsj-1.0.pickle\n",
            "INFO:chemdataextractor.data:Downloading http://data.chemdataextractor.org/models/punkt_chem-1.0.pickle to /root/.local/share/ChemDataExtractor/models/punkt_chem-1.0.pickle\n",
            "Successfully downloaded 18 new data packages (0 existing)\n"
          ]
        }
      ]
    },
    {
      "cell_type": "code",
      "source": [
        "!python extract.py --input_dir springer_extract/ --output_dir output_test/ --start 0 --end 1 --save_name raw_data"
      ],
      "metadata": {
        "id": "SFlseWNgKOJo",
        "colab": {
          "base_uri": "https://localhost:8080/"
        },
        "outputId": "7e3a59fc-6111-4e48-ec76-e540a0b588f5"
      },
      "execution_count": 9,
      "outputs": [
        {
          "output_type": "stream",
          "name": "stdout",
          "text": [
            "Traceback (most recent call last):\n",
            "  File \"extract.py\", line 77, in <module>\n",
            "    create_db(args.input_dir, args.output_dir, args.start, args.end, args.save_name)\n",
            "  File \"extract.py\", line 62, in create_db\n",
            "    mdb.extract(file_n)\n",
            "  File \"/content/drive/MyDrive/LBNL/Battery_database/database.py\", line 37, in extract\n",
            "    d = Document.from_file(f)\n",
            "  File \"/content/drive/MyDrive/LBNL/Battery_database/chemdataextractor_batteries/chemdataextractor/doc/document.py\", line 164, in from_file\n",
            "    return cls.from_string(f.read(), fname=fname, readers=readers)\n",
            "  File \"/content/drive/MyDrive/LBNL/Battery_database/chemdataextractor_batteries/chemdataextractor/doc/document.py\", line 200, in from_string\n",
            "    d = reader.readstring(fstring)\n",
            "  File \"/content/drive/MyDrive/LBNL/Battery_database/chemdataextractor_batteries/chemdataextractor/reader/base.py\", line 40, in readstring\n",
            "    return self.parse(fstring)\n",
            "  File \"/content/drive/MyDrive/LBNL/Battery_database/chemdataextractor_batteries/chemdataextractor/reader/markup.py\", line 277, in parse\n",
            "    root = self._css(self.root_css, root)[0]\n",
            "IndexError: list index out of range\n"
          ]
        }
      ]
    },
    {
      "cell_type": "markdown",
      "source": [
        "### chemdataextractor2"
      ],
      "metadata": {
        "id": "9xKQXhSlSU2g"
      }
    },
    {
      "cell_type": "code",
      "source": [
        "!pip install chemdataextractor2\n"
      ],
      "metadata": {
        "colab": {
          "base_uri": "https://localhost:8080/"
        },
        "id": "JIu57RDpRHaP",
        "outputId": "bd9f36ba-2093-4e8a-b830-ebf008ae5c95"
      },
      "execution_count": 49,
      "outputs": [
        {
          "output_type": "stream",
          "name": "stdout",
          "text": [
            "Requirement already satisfied: chemdataextractor2 in /usr/local/lib/python3.7/site-packages (2.1.1)\n",
            "Requirement already satisfied: requests==2.21.0 in /usr/local/lib/python3.7/site-packages (from chemdataextractor2) (2.21.0)\n",
            "Requirement already satisfied: tokenizers in /usr/local/lib/python3.7/site-packages (from chemdataextractor2) (0.12.0)\n",
            "Requirement already satisfied: selenium==3.141.0 in /usr/local/lib/python3.7/site-packages (from chemdataextractor2) (3.141.0)\n",
            "Requirement already satisfied: DAWG-Patched in /usr/local/lib/python3.7/site-packages (from chemdataextractor2) (0.9.1)\n",
            "Requirement already satisfied: numpy in /usr/local/lib/python3.7/site-packages (from chemdataextractor2) (1.21.5)\n",
            "Requirement already satisfied: scikit-learn==0.22.1 in /usr/local/lib/python3.7/site-packages (from chemdataextractor2) (0.22.1)\n",
            "Requirement already satisfied: PyYAML in /usr/local/lib/python3.7/site-packages (from chemdataextractor2) (6.0)\n",
            "Requirement already satisfied: cssselect in /usr/local/lib/python3.7/site-packages (from chemdataextractor2) (1.1.0)\n",
            "Requirement already satisfied: yaspin in /usr/local/lib/python3.7/site-packages (from chemdataextractor2) (2.1.0)\n",
            "Requirement already satisfied: click==6.7 in /usr/local/lib/python3.7/site-packages (from chemdataextractor2) (6.7)\n",
            "Requirement already satisfied: lxml in /usr/local/lib/python3.7/site-packages (from chemdataextractor2) (4.8.0)\n",
            "Requirement already satisfied: overrides==3.1.0 in /usr/local/lib/python3.7/site-packages (from chemdataextractor2) (3.1.0)\n",
            "Requirement already satisfied: python-crfsuite in /usr/local/lib/python3.7/site-packages (from chemdataextractor2) (0.9.8)\n",
            "Requirement already satisfied: allennlp==0.9.0 in /usr/local/lib/python3.7/site-packages (from chemdataextractor2) (0.9.0)\n",
            "Requirement already satisfied: python-dateutil in /usr/local/lib/python3.7/site-packages (from chemdataextractor2) (2.8.2)\n",
            "Requirement already satisfied: pdfminer.six in /usr/local/lib/python3.7/site-packages (from chemdataextractor2) (20220319)\n",
            "Requirement already satisfied: nltk in /usr/local/lib/python3.7/site-packages (from chemdataextractor2) (3.6.7)\n",
            "Requirement already satisfied: appdirs in /usr/local/lib/python3.7/site-packages (from chemdataextractor2) (1.4.4)\n",
            "Requirement already satisfied: six in /usr/local/lib/python3.7/site-packages (from chemdataextractor2) (1.15.0)\n",
            "Requirement already satisfied: beautifulsoup4 in /usr/local/lib/python3.7/site-packages (from chemdataextractor2) (4.6.3)\n",
            "Requirement already satisfied: tabledataextractor in /usr/local/lib/python3.7/site-packages (from chemdataextractor2) (1.5.10)\n",
            "Requirement already satisfied: deprecation in /usr/local/lib/python3.7/site-packages (from chemdataextractor2) (2.1.0)\n",
            "Requirement already satisfied: flaky in /usr/local/lib/python3.7/site-packages (from allennlp==0.9.0->chemdataextractor2) (3.7.0)\n",
            "Requirement already satisfied: matplotlib>=2.2.3 in /usr/local/lib/python3.7/site-packages (from allennlp==0.9.0->chemdataextractor2) (3.5.1)\n",
            "Requirement already satisfied: flask-cors>=3.0.7 in /usr/local/lib/python3.7/site-packages (from allennlp==0.9.0->chemdataextractor2) (3.0.10)\n",
            "Requirement already satisfied: tqdm>=4.19 in /usr/local/lib/python3.7/site-packages (from allennlp==0.9.0->chemdataextractor2) (4.59.0)\n",
            "Requirement already satisfied: scipy in /usr/local/lib/python3.7/site-packages (from allennlp==0.9.0->chemdataextractor2) (1.7.3)\n",
            "Requirement already satisfied: conllu==1.3.1 in /usr/local/lib/python3.7/site-packages (from allennlp==0.9.0->chemdataextractor2) (1.3.1)\n",
            "Requirement already satisfied: tensorboardX>=1.2 in /usr/local/lib/python3.7/site-packages (from allennlp==0.9.0->chemdataextractor2) (2.5)\n",
            "Requirement already satisfied: ftfy in /usr/local/lib/python3.7/site-packages (from allennlp==0.9.0->chemdataextractor2) (6.1.1)\n",
            "Requirement already satisfied: pytorch-pretrained-bert>=0.6.0 in /usr/local/lib/python3.7/site-packages (from allennlp==0.9.0->chemdataextractor2) (0.6.2)\n",
            "Requirement already satisfied: pytest in /usr/local/lib/python3.7/site-packages (from allennlp==0.9.0->chemdataextractor2) (7.1.1)\n",
            "Requirement already satisfied: parsimonious>=0.8.0 in /usr/local/lib/python3.7/site-packages (from allennlp==0.9.0->chemdataextractor2) (0.9.0)\n",
            "Requirement already satisfied: h5py in /usr/local/lib/python3.7/site-packages (from allennlp==0.9.0->chemdataextractor2) (3.6.0)\n",
            "Requirement already satisfied: pytz>=2017.3 in /usr/local/lib/python3.7/site-packages (from allennlp==0.9.0->chemdataextractor2) (2022.1)\n",
            "Requirement already satisfied: sqlparse>=0.2.4 in /usr/local/lib/python3.7/site-packages (from allennlp==0.9.0->chemdataextractor2) (0.4.2)\n",
            "Requirement already satisfied: torch>=1.2.0 in /usr/local/lib/python3.7/site-packages (from allennlp==0.9.0->chemdataextractor2) (1.11.0)\n",
            "Requirement already satisfied: boto3 in /usr/local/lib/python3.7/site-packages (from allennlp==0.9.0->chemdataextractor2) (1.15.18)\n",
            "Requirement already satisfied: responses>=0.7 in /usr/local/lib/python3.7/site-packages (from allennlp==0.9.0->chemdataextractor2) (0.10.15)\n",
            "Requirement already satisfied: editdistance in /usr/local/lib/python3.7/site-packages (from allennlp==0.9.0->chemdataextractor2) (0.6.0)\n",
            "Requirement already satisfied: numpydoc>=0.8.0 in /usr/local/lib/python3.7/site-packages (from allennlp==0.9.0->chemdataextractor2) (1.2.1)\n",
            "Requirement already satisfied: word2number>=1.1 in /usr/local/lib/python3.7/site-packages (from allennlp==0.9.0->chemdataextractor2) (1.1)\n",
            "Requirement already satisfied: pytorch-transformers==1.1.0 in /usr/local/lib/python3.7/site-packages (from allennlp==0.9.0->chemdataextractor2) (1.1.0)\n",
            "Requirement already satisfied: unidecode in /usr/local/lib/python3.7/site-packages (from allennlp==0.9.0->chemdataextractor2) (1.3.4)\n",
            "Requirement already satisfied: flask>=1.0.2 in /usr/local/lib/python3.7/site-packages (from allennlp==0.9.0->chemdataextractor2) (1.1.4)\n",
            "Requirement already satisfied: spacy<2.2,>=2.1.0 in /usr/local/lib/python3.7/site-packages (from allennlp==0.9.0->chemdataextractor2) (2.1.9)\n",
            "Requirement already satisfied: gevent>=1.3.6 in /usr/local/lib/python3.7/site-packages (from allennlp==0.9.0->chemdataextractor2) (21.12.0)\n",
            "Requirement already satisfied: jsonnet>=0.10.0 in /usr/local/lib/python3.7/site-packages (from allennlp==0.9.0->chemdataextractor2) (0.18.0)\n",
            "Requirement already satisfied: jsonpickle in /usr/local/lib/python3.7/site-packages (from allennlp==0.9.0->chemdataextractor2) (2.1.0)\n",
            "Requirement already satisfied: regex in /usr/local/lib/python3.7/site-packages (from pytorch-transformers==1.1.0->allennlp==0.9.0->chemdataextractor2) (2022.3.15)\n",
            "Requirement already satisfied: sentencepiece in /usr/local/lib/python3.7/site-packages (from pytorch-transformers==1.1.0->allennlp==0.9.0->chemdataextractor2) (0.1.96)\n",
            "Requirement already satisfied: certifi>=2017.4.17 in /usr/local/lib/python3.7/site-packages (from requests==2.21.0->chemdataextractor2) (2021.10.8)\n",
            "Requirement already satisfied: urllib3<1.25,>=1.21.1 in /usr/local/lib/python3.7/site-packages (from requests==2.21.0->chemdataextractor2) (1.24.3)\n",
            "Requirement already satisfied: chardet<3.1.0,>=3.0.2 in /usr/local/lib/python3.7/site-packages (from requests==2.21.0->chemdataextractor2) (3.0.4)\n",
            "Requirement already satisfied: idna<2.9,>=2.5 in /usr/local/lib/python3.7/site-packages (from requests==2.21.0->chemdataextractor2) (2.8)\n",
            "Requirement already satisfied: joblib>=0.11 in /usr/local/lib/python3.7/site-packages (from scikit-learn==0.22.1->chemdataextractor2) (1.1.0)\n",
            "Requirement already satisfied: Jinja2<3.0,>=2.10.1 in /usr/local/lib/python3.7/site-packages (from flask>=1.0.2->allennlp==0.9.0->chemdataextractor2) (2.11.3)\n",
            "Requirement already satisfied: itsdangerous<2.0,>=0.24 in /usr/local/lib/python3.7/site-packages (from flask>=1.0.2->allennlp==0.9.0->chemdataextractor2) (1.1.0)\n",
            "Requirement already satisfied: Werkzeug<2.0,>=0.15 in /usr/local/lib/python3.7/site-packages (from flask>=1.0.2->allennlp==0.9.0->chemdataextractor2) (1.0.1)\n",
            "Requirement already satisfied: greenlet<2.0,>=1.1.0 in /usr/local/lib/python3.7/site-packages (from gevent>=1.3.6->allennlp==0.9.0->chemdataextractor2) (1.1.2)\n",
            "Requirement already satisfied: zope.event in /usr/local/lib/python3.7/site-packages (from gevent>=1.3.6->allennlp==0.9.0->chemdataextractor2) (4.5.0)\n",
            "Requirement already satisfied: setuptools in /usr/local/lib/python3.7/site-packages (from gevent>=1.3.6->allennlp==0.9.0->chemdataextractor2) (49.6.0.post20210108)\n",
            "Requirement already satisfied: zope.interface in /usr/local/lib/python3.7/site-packages (from gevent>=1.3.6->allennlp==0.9.0->chemdataextractor2) (5.4.0)\n",
            "Requirement already satisfied: MarkupSafe>=0.23 in /usr/local/lib/python3.7/site-packages (from Jinja2<3.0,>=2.10.1->flask>=1.0.2->allennlp==0.9.0->chemdataextractor2) (2.1.1)\n",
            "Requirement already satisfied: kiwisolver>=1.0.1 in /usr/local/lib/python3.7/site-packages (from matplotlib>=2.2.3->allennlp==0.9.0->chemdataextractor2) (1.4.2)\n",
            "Requirement already satisfied: pillow>=6.2.0 in /usr/local/lib/python3.7/site-packages (from matplotlib>=2.2.3->allennlp==0.9.0->chemdataextractor2) (9.0.1)\n",
            "Requirement already satisfied: cycler>=0.10 in /usr/local/lib/python3.7/site-packages (from matplotlib>=2.2.3->allennlp==0.9.0->chemdataextractor2) (0.11.0)\n",
            "Requirement already satisfied: packaging>=20.0 in /usr/local/lib/python3.7/site-packages (from matplotlib>=2.2.3->allennlp==0.9.0->chemdataextractor2) (21.3)\n",
            "Requirement already satisfied: pyparsing>=2.2.1 in /usr/local/lib/python3.7/site-packages (from matplotlib>=2.2.3->allennlp==0.9.0->chemdataextractor2) (3.0.7)\n",
            "Requirement already satisfied: fonttools>=4.22.0 in /usr/local/lib/python3.7/site-packages (from matplotlib>=2.2.3->allennlp==0.9.0->chemdataextractor2) (4.31.2)\n",
            "Requirement already satisfied: typing-extensions in /usr/local/lib/python3.7/site-packages (from kiwisolver>=1.0.1->matplotlib>=2.2.3->allennlp==0.9.0->chemdataextractor2) (4.1.1)\n",
            "Requirement already satisfied: sphinx>=1.8 in /usr/local/lib/python3.7/site-packages (from numpydoc>=0.8.0->allennlp==0.9.0->chemdataextractor2) (4.5.0)\n",
            "Requirement already satisfied: thinc<7.1.0,>=7.0.8 in /usr/local/lib/python3.7/site-packages (from spacy<2.2,>=2.1.0->allennlp==0.9.0->chemdataextractor2) (7.0.8)\n",
            "Requirement already satisfied: plac<1.0.0,>=0.9.6 in /usr/local/lib/python3.7/site-packages (from spacy<2.2,>=2.1.0->allennlp==0.9.0->chemdataextractor2) (0.9.6)\n",
            "Requirement already satisfied: wasabi<1.1.0,>=0.2.0 in /usr/local/lib/python3.7/site-packages (from spacy<2.2,>=2.1.0->allennlp==0.9.0->chemdataextractor2) (0.9.1)\n",
            "Requirement already satisfied: preshed<2.1.0,>=2.0.1 in /usr/local/lib/python3.7/site-packages (from spacy<2.2,>=2.1.0->allennlp==0.9.0->chemdataextractor2) (2.0.1)\n",
            "Requirement already satisfied: blis<0.3.0,>=0.2.2 in /usr/local/lib/python3.7/site-packages (from spacy<2.2,>=2.1.0->allennlp==0.9.0->chemdataextractor2) (0.2.4)\n",
            "Requirement already satisfied: murmurhash<1.1.0,>=0.28.0 in /usr/local/lib/python3.7/site-packages (from spacy<2.2,>=2.1.0->allennlp==0.9.0->chemdataextractor2) (1.0.6)\n",
            "Requirement already satisfied: srsly<1.1.0,>=0.0.6 in /usr/local/lib/python3.7/site-packages (from spacy<2.2,>=2.1.0->allennlp==0.9.0->chemdataextractor2) (1.0.5)\n",
            "Requirement already satisfied: cymem<2.1.0,>=2.0.2 in /usr/local/lib/python3.7/site-packages (from spacy<2.2,>=2.1.0->allennlp==0.9.0->chemdataextractor2) (2.0.6)\n",
            "Requirement already satisfied: docutils<0.18,>=0.14 in /usr/local/lib/python3.7/site-packages (from sphinx>=1.8->numpydoc>=0.8.0->allennlp==0.9.0->chemdataextractor2) (0.17.1)\n",
            "Requirement already satisfied: imagesize in /usr/local/lib/python3.7/site-packages (from sphinx>=1.8->numpydoc>=0.8.0->allennlp==0.9.0->chemdataextractor2) (1.3.0)\n",
            "Requirement already satisfied: sphinxcontrib-serializinghtml>=1.1.5 in /usr/local/lib/python3.7/site-packages (from sphinx>=1.8->numpydoc>=0.8.0->allennlp==0.9.0->chemdataextractor2) (1.1.5)\n",
            "Requirement already satisfied: sphinxcontrib-devhelp in /usr/local/lib/python3.7/site-packages (from sphinx>=1.8->numpydoc>=0.8.0->allennlp==0.9.0->chemdataextractor2) (1.0.2)\n",
            "Requirement already satisfied: sphinxcontrib-qthelp in /usr/local/lib/python3.7/site-packages (from sphinx>=1.8->numpydoc>=0.8.0->allennlp==0.9.0->chemdataextractor2) (1.0.3)\n",
            "Requirement already satisfied: babel>=1.3 in /usr/local/lib/python3.7/site-packages (from sphinx>=1.8->numpydoc>=0.8.0->allennlp==0.9.0->chemdataextractor2) (2.9.1)\n",
            "Requirement already satisfied: sphinxcontrib-htmlhelp>=2.0.0 in /usr/local/lib/python3.7/site-packages (from sphinx>=1.8->numpydoc>=0.8.0->allennlp==0.9.0->chemdataextractor2) (2.0.0)\n",
            "Requirement already satisfied: Pygments>=2.0 in /usr/local/lib/python3.7/site-packages (from sphinx>=1.8->numpydoc>=0.8.0->allennlp==0.9.0->chemdataextractor2) (2.11.2)\n",
            "Requirement already satisfied: importlib-metadata>=4.4 in /usr/local/lib/python3.7/site-packages (from sphinx>=1.8->numpydoc>=0.8.0->allennlp==0.9.0->chemdataextractor2) (4.11.3)\n",
            "Requirement already satisfied: snowballstemmer>=1.1 in /usr/local/lib/python3.7/site-packages (from sphinx>=1.8->numpydoc>=0.8.0->allennlp==0.9.0->chemdataextractor2) (2.2.0)\n",
            "Requirement already satisfied: sphinxcontrib-jsmath in /usr/local/lib/python3.7/site-packages (from sphinx>=1.8->numpydoc>=0.8.0->allennlp==0.9.0->chemdataextractor2) (1.0.1)\n",
            "Requirement already satisfied: sphinxcontrib-applehelp in /usr/local/lib/python3.7/site-packages (from sphinx>=1.8->numpydoc>=0.8.0->allennlp==0.9.0->chemdataextractor2) (1.0.2)\n",
            "Requirement already satisfied: alabaster<0.8,>=0.7 in /usr/local/lib/python3.7/site-packages (from sphinx>=1.8->numpydoc>=0.8.0->allennlp==0.9.0->chemdataextractor2) (0.7.12)\n",
            "Requirement already satisfied: zipp>=0.5 in /usr/local/lib/python3.7/site-packages (from importlib-metadata>=4.4->sphinx>=1.8->numpydoc>=0.8.0->allennlp==0.9.0->chemdataextractor2) (3.7.0)\n",
            "Requirement already satisfied: protobuf>=3.8.0 in /usr/local/lib/python3.7/site-packages (from tensorboardX>=1.2->allennlp==0.9.0->chemdataextractor2) (3.19.4)\n",
            "Requirement already satisfied: s3transfer<0.4.0,>=0.3.0 in /usr/local/lib/python3.7/site-packages (from boto3->allennlp==0.9.0->chemdataextractor2) (0.3.7)\n",
            "Requirement already satisfied: jmespath<1.0.0,>=0.7.1 in /usr/local/lib/python3.7/site-packages (from boto3->allennlp==0.9.0->chemdataextractor2) (0.10.0)\n",
            "Requirement already satisfied: botocore<1.19.0,>=1.18.18 in /usr/local/lib/python3.7/site-packages (from boto3->allennlp==0.9.0->chemdataextractor2) (1.18.18)\n",
            "Requirement already satisfied: wcwidth>=0.2.5 in /usr/local/lib/python3.7/site-packages (from ftfy->allennlp==0.9.0->chemdataextractor2) (0.2.5)\n",
            "Requirement already satisfied: cached-property in /usr/local/lib/python3.7/site-packages (from h5py->allennlp==0.9.0->chemdataextractor2) (1.5.2)\n",
            "Requirement already satisfied: cryptography in /usr/local/lib/python3.7/site-packages (from pdfminer.six->chemdataextractor2) (3.4.5)\n",
            "Requirement already satisfied: cffi>=1.12 in /usr/local/lib/python3.7/site-packages (from cryptography->pdfminer.six->chemdataextractor2) (1.14.5)\n",
            "Requirement already satisfied: pycparser in /usr/local/lib/python3.7/site-packages (from cffi>=1.12->cryptography->pdfminer.six->chemdataextractor2) (2.20)\n",
            "Requirement already satisfied: attrs>=19.2.0 in /usr/local/lib/python3.7/site-packages (from pytest->allennlp==0.9.0->chemdataextractor2) (21.4.0)\n",
            "Requirement already satisfied: pluggy<2.0,>=0.12 in /usr/local/lib/python3.7/site-packages (from pytest->allennlp==0.9.0->chemdataextractor2) (1.0.0)\n",
            "Requirement already satisfied: py>=1.8.2 in /usr/local/lib/python3.7/site-packages (from pytest->allennlp==0.9.0->chemdataextractor2) (1.11.0)\n",
            "Requirement already satisfied: tomli>=1.0.0 in /usr/local/lib/python3.7/site-packages (from pytest->allennlp==0.9.0->chemdataextractor2) (2.0.1)\n",
            "Requirement already satisfied: iniconfig in /usr/local/lib/python3.7/site-packages (from pytest->allennlp==0.9.0->chemdataextractor2) (1.1.1)\n",
            "Requirement already satisfied: prettytable==0.7.2 in /usr/local/lib/python3.7/site-packages (from tabledataextractor->chemdataextractor2) (0.7.2)\n",
            "Requirement already satisfied: pandas>=0.23.4 in /usr/local/lib/python3.7/site-packages (from tabledataextractor->chemdataextractor2) (1.3.5)\n",
            "Requirement already satisfied: sympy in /usr/local/lib/python3.7/site-packages (from tabledataextractor->chemdataextractor2) (1.5.1)\n",
            "Requirement already satisfied: django>2.1.6 in /usr/local/lib/python3.7/site-packages (from tabledataextractor->chemdataextractor2) (3.2.12)\n",
            "Requirement already satisfied: asgiref<4,>=3.3.2 in /usr/local/lib/python3.7/site-packages (from django>2.1.6->tabledataextractor->chemdataextractor2) (3.5.0)\n",
            "Requirement already satisfied: mpmath>=0.19 in /usr/local/lib/python3.7/site-packages (from sympy->tabledataextractor->chemdataextractor2) (1.2.1)\n",
            "Requirement already satisfied: termcolor<2.0.0,>=1.1.0 in /usr/local/lib/python3.7/site-packages (from yaspin->chemdataextractor2) (1.1.0)\n"
          ]
        }
      ]
    },
    {
      "cell_type": "code",
      "source": [
        "%cd /content/drive/My Drive/LBNL/springer_docs"
      ],
      "metadata": {
        "colab": {
          "base_uri": "https://localhost:8080/"
        },
        "id": "MKWZNTXJa8Ma",
        "outputId": "c462b795-604d-437e-f365-8bf00ce261b4"
      },
      "execution_count": 40,
      "outputs": [
        {
          "output_type": "stream",
          "name": "stdout",
          "text": [
            "/content/drive/My Drive/LBNL/springer_docs\n"
          ]
        }
      ]
    },
    {
      "cell_type": "code",
      "source": [
        "!pip uninstall chemdataextractor"
      ],
      "metadata": {
        "colab": {
          "base_uri": "https://localhost:8080/"
        },
        "id": "TM5IRsJEeWuK",
        "outputId": "1db04eee-b368-4b98-c213-ade215e43075"
      },
      "execution_count": 47,
      "outputs": [
        {
          "output_type": "stream",
          "name": "stdout",
          "text": [
            "Found existing installation: ChemDataExtractor 1.3.0\n",
            "Uninstalling ChemDataExtractor-1.3.0:\n",
            "  Would remove:\n",
            "    /usr/local/bin/cde\n",
            "    /usr/local/lib/python3.7/site-packages/ChemDataExtractor-1.3.0.dist-info/*\n",
            "    /usr/local/lib/python3.7/site-packages/chemdataextractor/*\n",
            "  Would not remove (might be manually added):\n",
            "    /usr/local/lib/python3.7/site-packages/chemdataextractor/doc/meta.py\n",
            "    /usr/local/lib/python3.7/site-packages/chemdataextractor/eval/__init__.py\n",
            "    /usr/local/lib/python3.7/site-packages/chemdataextractor/eval/evaluation.py\n",
            "    /usr/local/lib/python3.7/site-packages/chemdataextractor/fastner.py\n",
            "    /usr/local/lib/python3.7/site-packages/chemdataextractor/model/__init__.py\n",
            "    /usr/local/lib/python3.7/site-packages/chemdataextractor/model/base.py\n",
            "    /usr/local/lib/python3.7/site-packages/chemdataextractor/model/model.py\n",
            "    /usr/local/lib/python3.7/site-packages/chemdataextractor/model/units/__init__.py\n",
            "    /usr/local/lib/python3.7/site-packages/chemdataextractor/model/units/angle.py\n",
            "    /usr/local/lib/python3.7/site-packages/chemdataextractor/model/units/charge.py\n",
            "    /usr/local/lib/python3.7/site-packages/chemdataextractor/model/units/current.py\n",
            "    /usr/local/lib/python3.7/site-packages/chemdataextractor/model/units/dimension.py\n",
            "    /usr/local/lib/python3.7/site-packages/chemdataextractor/model/units/electric_potential.py\n",
            "    /usr/local/lib/python3.7/site-packages/chemdataextractor/model/units/energy.py\n",
            "    /usr/local/lib/python3.7/site-packages/chemdataextractor/model/units/length.py\n",
            "    /usr/local/lib/python3.7/site-packages/chemdataextractor/model/units/mass.py\n",
            "    /usr/local/lib/python3.7/site-packages/chemdataextractor/model/units/power.py\n",
            "    /usr/local/lib/python3.7/site-packages/chemdataextractor/model/units/quantity_model.py\n",
            "    /usr/local/lib/python3.7/site-packages/chemdataextractor/model/units/ratio.py\n",
            "    /usr/local/lib/python3.7/site-packages/chemdataextractor/model/units/substance_amount.py\n",
            "    /usr/local/lib/python3.7/site-packages/chemdataextractor/model/units/temperature.py\n",
            "    /usr/local/lib/python3.7/site-packages/chemdataextractor/model/units/time.py\n",
            "    /usr/local/lib/python3.7/site-packages/chemdataextractor/model/units/unit.py\n",
            "    /usr/local/lib/python3.7/site-packages/chemdataextractor/nlp/allennlpwrapper.py\n",
            "    /usr/local/lib/python3.7/site-packages/chemdataextractor/nlp/finetuned_bert_crf_wrapper.py\n",
            "    /usr/local/lib/python3.7/site-packages/chemdataextractor/nlp/new_cem.py\n",
            "    /usr/local/lib/python3.7/site-packages/chemdataextractor/parse/apparatus.py\n",
            "    /usr/local/lib/python3.7/site-packages/chemdataextractor/parse/auto.py\n",
            "    /usr/local/lib/python3.7/site-packages/chemdataextractor/parse/category.py\n",
            "    /usr/local/lib/python3.7/site-packages/chemdataextractor/parse/definitions.py\n",
            "    /usr/local/lib/python3.7/site-packages/chemdataextractor/parse/mp_new.py\n",
            "    /usr/local/lib/python3.7/site-packages/chemdataextractor/parse/new_parsers.py\n",
            "    /usr/local/lib/python3.7/site-packages/chemdataextractor/parse/quantity.py\n",
            "    /usr/local/lib/python3.7/site-packages/chemdataextractor/parse/template.py\n",
            "    /usr/local/lib/python3.7/site-packages/chemdataextractor/reader/elsevier.py\n",
            "    /usr/local/lib/python3.7/site-packages/chemdataextractor/reader/springer.py\n",
            "    /usr/local/lib/python3.7/site-packages/chemdataextractor/reader/springer_jats.py\n",
            "    /usr/local/lib/python3.7/site-packages/chemdataextractor/relex/__init__.py\n",
            "    /usr/local/lib/python3.7/site-packages/chemdataextractor/relex/candidate_parser.py\n",
            "    /usr/local/lib/python3.7/site-packages/chemdataextractor/relex/cluster.py\n",
            "    /usr/local/lib/python3.7/site-packages/chemdataextractor/relex/entity.py\n",
            "    /usr/local/lib/python3.7/site-packages/chemdataextractor/relex/pattern.py\n",
            "    /usr/local/lib/python3.7/site-packages/chemdataextractor/relex/phrase.py\n",
            "    /usr/local/lib/python3.7/site-packages/chemdataextractor/relex/relationship.py\n",
            "    /usr/local/lib/python3.7/site-packages/chemdataextractor/relex/snowball.py\n",
            "    /usr/local/lib/python3.7/site-packages/chemdataextractor/relex/utils.py\n",
            "    /usr/local/lib/python3.7/site-packages/chemdataextractor/scrape/pub/elsevier.py\n",
            "Proceed (y/n)? t\n",
            "Your response ('t') was not one of the expected responses: y, n\n",
            "Proceed (y/n)? y\n",
            "  Successfully uninstalled ChemDataExtractor-1.3.0\n"
          ]
        }
      ]
    },
    {
      "cell_type": "code",
      "source": [
        "from chemdataextractor import Document\n",
        "f = open('springer_77.xml', 'rb')\n",
        "doc = Document.from_file(f)"
      ],
      "metadata": {
        "colab": {
          "base_uri": "https://localhost:8080/",
          "height": 264
        },
        "id": "h1zZEM9nQ2Ca",
        "outputId": "fddc356f-1f9d-4921-a21d-152008a1325d"
      },
      "execution_count": 53,
      "outputs": [
        {
          "output_type": "error",
          "ename": "IndexError",
          "evalue": "ignored",
          "traceback": [
            "\u001b[0;31m---------------------------------------------------------------------------\u001b[0m",
            "\u001b[0;31mIndexError\u001b[0m                                Traceback (most recent call last)",
            "\u001b[0;32m<ipython-input-53-08d59788455a>\u001b[0m in \u001b[0;36m<module>\u001b[0;34m()\u001b[0m\n\u001b[1;32m      1\u001b[0m \u001b[0;32mfrom\u001b[0m \u001b[0mchemdataextractor\u001b[0m \u001b[0;32mimport\u001b[0m \u001b[0mDocument\u001b[0m\u001b[0;34m\u001b[0m\u001b[0;34m\u001b[0m\u001b[0m\n\u001b[1;32m      2\u001b[0m \u001b[0mf\u001b[0m \u001b[0;34m=\u001b[0m \u001b[0mopen\u001b[0m\u001b[0;34m(\u001b[0m\u001b[0;34m'springer_77.xml'\u001b[0m\u001b[0;34m,\u001b[0m \u001b[0;34m'rb'\u001b[0m\u001b[0;34m)\u001b[0m\u001b[0;34m\u001b[0m\u001b[0;34m\u001b[0m\u001b[0m\n\u001b[0;32m----> 3\u001b[0;31m \u001b[0mdoc\u001b[0m \u001b[0;34m=\u001b[0m \u001b[0mDocument\u001b[0m\u001b[0;34m.\u001b[0m\u001b[0mfrom_file\u001b[0m\u001b[0;34m(\u001b[0m\u001b[0mf\u001b[0m\u001b[0;34m)\u001b[0m\u001b[0;34m\u001b[0m\u001b[0;34m\u001b[0m\u001b[0m\n\u001b[0m",
            "\u001b[0;32m/usr/local/lib/python3.7/site-packages/chemdataextractor/doc/document.py\u001b[0m in \u001b[0;36mfrom_file\u001b[0;34m(cls, f, fname, readers)\u001b[0m\n",
            "\u001b[0;32m/usr/local/lib/python3.7/site-packages/chemdataextractor/doc/document.py\u001b[0m in \u001b[0;36mfrom_string\u001b[0;34m(cls, fstring, fname, readers)\u001b[0m\n",
            "\u001b[0;32m/usr/local/lib/python3.7/site-packages/chemdataextractor/reader/base.py\u001b[0m in \u001b[0;36mreadstring\u001b[0;34m(self, fstring)\u001b[0m\n",
            "\u001b[0;32m/usr/local/lib/python3.7/site-packages/chemdataextractor/reader/markup.py\u001b[0m in \u001b[0;36mparse\u001b[0;34m(self, fstring)\u001b[0m\n",
            "\u001b[0;31mIndexError\u001b[0m: list index out of range"
          ]
        }
      ]
    },
    {
      "cell_type": "markdown",
      "source": [
        "### another package"
      ],
      "metadata": {
        "id": "muWOkzl8amCU"
      }
    },
    {
      "cell_type": "code",
      "source": [
        "!pip install limesoup"
      ],
      "metadata": {
        "colab": {
          "base_uri": "https://localhost:8080/"
        },
        "id": "i1e4QQZfgfJV",
        "outputId": "bc5c9223-b613-415a-b661-ef6d869ef22e"
      },
      "execution_count": 54,
      "outputs": [
        {
          "output_type": "stream",
          "name": "stdout",
          "text": [
            "\u001b[31mERROR: Could not find a version that satisfies the requirement limesoup\u001b[0m\n",
            "\u001b[31mERROR: No matching distribution found for limesoup\u001b[0m\n"
          ]
        }
      ]
    },
    {
      "cell_type": "code",
      "source": [
        ""
      ],
      "metadata": {
        "id": "k2IjKogmgwa-"
      },
      "execution_count": null,
      "outputs": []
    }
  ]
}