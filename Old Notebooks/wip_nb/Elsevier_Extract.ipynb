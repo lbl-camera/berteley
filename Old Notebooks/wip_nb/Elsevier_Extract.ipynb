{
  "nbformat": 4,
  "nbformat_minor": 0,
  "metadata": {
    "colab": {
      "name": "Elsevier_Extract.ipynb",
      "provenance": [],
      "include_colab_link": true
    },
    "kernelspec": {
      "name": "python3",
      "display_name": "Python 3"
    },
    "language_info": {
      "name": "python"
    }
  },
  "cells": [
    {
      "cell_type": "markdown",
      "metadata": {
        "id": "view-in-github",
        "colab_type": "text"
      },
      "source": [
        "<a href=\"https://colab.research.google.com/github/dani-lbnl/mudit/blob/main/Elsevier_Extract.ipynb\" target=\"_parent\"><img src=\"https://colab.research.google.com/assets/colab-badge.svg\" alt=\"Open In Colab\"/></a>"
      ]
    },
    {
      "cell_type": "markdown",
      "source": [
        "## Elsevier"
      ],
      "metadata": {
        "id": "cGXA6KPB9HLT"
      }
    },
    {
      "cell_type": "code",
      "source": [
        "import requests \n",
        "from io import BytesIO\n",
        "import re \n",
        "import os"
      ],
      "metadata": {
        "id": "6KERR-bF9M8V"
      },
      "execution_count": 10,
      "outputs": []
    },
    {
      "cell_type": "code",
      "source": [
        "!pip install elsapy"
      ],
      "metadata": {
        "colab": {
          "base_uri": "https://localhost:8080/"
        },
        "id": "V-tmNNDz9xEb",
        "outputId": "9d06abd9-995a-4258-f047-7410560a6cbb"
      },
      "execution_count": 8,
      "outputs": [
        {
          "output_type": "stream",
          "name": "stdout",
          "text": [
            "Collecting elsapy\n",
            "  Downloading elsapy-0.5.0-py3-none-any.whl (12 kB)\n",
            "Requirement already satisfied: requests in /usr/local/lib/python3.7/dist-packages (from elsapy) (2.23.0)\n",
            "Requirement already satisfied: chardet<4,>=3.0.2 in /usr/local/lib/python3.7/dist-packages (from requests->elsapy) (3.0.4)\n",
            "Requirement already satisfied: urllib3!=1.25.0,!=1.25.1,<1.26,>=1.21.1 in /usr/local/lib/python3.7/dist-packages (from requests->elsapy) (1.24.3)\n",
            "Requirement already satisfied: certifi>=2017.4.17 in /usr/local/lib/python3.7/dist-packages (from requests->elsapy) (2021.10.8)\n",
            "Requirement already satisfied: idna<3,>=2.5 in /usr/local/lib/python3.7/dist-packages (from requests->elsapy) (2.10)\n",
            "Installing collected packages: elsapy\n",
            "Successfully installed elsapy-0.5.0\n"
          ]
        }
      ]
    },
    {
      "cell_type": "code",
      "source": [
        "from elsapy.elsclient import ElsClient\n",
        "from elsapy.elsprofile import ElsAuthor, ElsAffil\n",
        "from elsapy.elsdoc import FullDoc, AbsDoc\n",
        "from elsapy.elssearch import ElsSearch\n",
        "import json"
      ],
      "metadata": {
        "id": "pqu92dB_91Dq"
      },
      "execution_count": 11,
      "outputs": []
    },
    {
      "cell_type": "code",
      "source": [
        "# create config.json\n",
        "dict_api =    {\n",
        "\t    \"apikey\": \"856d163d12a1f149d801ee44e166857e\",\n",
        "\t    \"insttoken\": \"\"\n",
        "    }\n",
        "\n",
        "api_json = json.dumps(dict_api)\n",
        "# print(api_json)  \n",
        "\n",
        "\n",
        "my_file = r'config.json'\n",
        "with open(my_file, 'w', encoding='utf-8') as file:\n",
        "    file.write(api_json)\n",
        "\n",
        "\n",
        "## Load configuration\n",
        "con_file = open(\"config.json\")\n",
        "config = json.load(con_file)\n",
        "con_file.close()\n",
        "\n",
        "## Initialize client\n",
        "client = ElsClient(config['apikey'])\n",
        "client.inst_token = config['insttoken']"
      ],
      "metadata": {
        "id": "KffQzU0g92uw"
      },
      "execution_count": 12,
      "outputs": []
    },
    {
      "cell_type": "code",
      "source": [
        "#   retrieving all results\n",
        "doc_srch = ElsSearch(\"rechargeable lithium metal\",'sciencedirect')\n",
        "doc_srch.execute(client, get_all = False)\n",
        "print (\"doc_srch has\", len(doc_srch.results), \"results.\")"
      ],
      "metadata": {
        "colab": {
          "base_uri": "https://localhost:8080/",
          "height": 364
        },
        "id": "ScSo9k6K-rMf",
        "outputId": "142e0599-0154-4b83-d6be-4d8d4799a73f"
      },
      "execution_count": 5,
      "outputs": [
        {
          "output_type": "error",
          "ename": "HTTPError",
          "evalue": "ignored",
          "traceback": [
            "\u001b[0;31m---------------------------------------------------------------------------\u001b[0m",
            "\u001b[0;31mHTTPError\u001b[0m                                 Traceback (most recent call last)",
            "\u001b[0;32m<ipython-input-5-e60bd8db90df>\u001b[0m in \u001b[0;36m<module>\u001b[0;34m()\u001b[0m\n\u001b[1;32m      1\u001b[0m \u001b[0;31m#   retrieving all results\u001b[0m\u001b[0;34m\u001b[0m\u001b[0;34m\u001b[0m\u001b[0;34m\u001b[0m\u001b[0m\n\u001b[1;32m      2\u001b[0m \u001b[0mdoc_srch\u001b[0m \u001b[0;34m=\u001b[0m \u001b[0mElsSearch\u001b[0m\u001b[0;34m(\u001b[0m\u001b[0;34m\"rechargeable lithium metal\"\u001b[0m\u001b[0;34m,\u001b[0m\u001b[0;34m'sciencedirect'\u001b[0m\u001b[0;34m)\u001b[0m\u001b[0;34m\u001b[0m\u001b[0;34m\u001b[0m\u001b[0m\n\u001b[0;32m----> 3\u001b[0;31m \u001b[0mdoc_srch\u001b[0m\u001b[0;34m.\u001b[0m\u001b[0mexecute\u001b[0m\u001b[0;34m(\u001b[0m\u001b[0mclient\u001b[0m\u001b[0;34m,\u001b[0m \u001b[0mget_all\u001b[0m \u001b[0;34m=\u001b[0m \u001b[0;32mFalse\u001b[0m\u001b[0;34m)\u001b[0m\u001b[0;34m\u001b[0m\u001b[0;34m\u001b[0m\u001b[0m\n\u001b[0m\u001b[1;32m      4\u001b[0m \u001b[0mprint\u001b[0m \u001b[0;34m(\u001b[0m\u001b[0;34m\"doc_srch has\"\u001b[0m\u001b[0;34m,\u001b[0m \u001b[0mlen\u001b[0m\u001b[0;34m(\u001b[0m\u001b[0mdoc_srch\u001b[0m\u001b[0;34m.\u001b[0m\u001b[0mresults\u001b[0m\u001b[0;34m)\u001b[0m\u001b[0;34m,\u001b[0m \u001b[0;34m\"results.\"\u001b[0m\u001b[0;34m)\u001b[0m\u001b[0;34m\u001b[0m\u001b[0;34m\u001b[0m\u001b[0m\n",
            "\u001b[0;32m/usr/local/lib/python3.7/dist-packages/elsapy/elssearch.py\u001b[0m in \u001b[0;36mexecute\u001b[0;34m(self, els_client, get_all)\u001b[0m\n\u001b[1;32m     93\u001b[0m             all results for the search, up to a maximum of 5,000.\"\"\"\n\u001b[1;32m     94\u001b[0m         \u001b[0;31m## TODO: add exception handling\u001b[0m\u001b[0;34m\u001b[0m\u001b[0;34m\u001b[0m\u001b[0;34m\u001b[0m\u001b[0m\n\u001b[0;32m---> 95\u001b[0;31m         \u001b[0mapi_response\u001b[0m \u001b[0;34m=\u001b[0m \u001b[0mels_client\u001b[0m\u001b[0;34m.\u001b[0m\u001b[0mexec_request\u001b[0m\u001b[0;34m(\u001b[0m\u001b[0mself\u001b[0m\u001b[0;34m.\u001b[0m\u001b[0m_uri\u001b[0m\u001b[0;34m)\u001b[0m\u001b[0;34m\u001b[0m\u001b[0;34m\u001b[0m\u001b[0m\n\u001b[0m\u001b[1;32m     96\u001b[0m         \u001b[0mself\u001b[0m\u001b[0;34m.\u001b[0m\u001b[0m_tot_num_res\u001b[0m \u001b[0;34m=\u001b[0m \u001b[0mint\u001b[0m\u001b[0;34m(\u001b[0m\u001b[0mapi_response\u001b[0m\u001b[0;34m[\u001b[0m\u001b[0;34m'search-results'\u001b[0m\u001b[0;34m]\u001b[0m\u001b[0;34m[\u001b[0m\u001b[0;34m'opensearch:totalResults'\u001b[0m\u001b[0;34m]\u001b[0m\u001b[0;34m)\u001b[0m\u001b[0;34m\u001b[0m\u001b[0;34m\u001b[0m\u001b[0m\n\u001b[1;32m     97\u001b[0m         \u001b[0mself\u001b[0m\u001b[0;34m.\u001b[0m\u001b[0m_results\u001b[0m \u001b[0;34m=\u001b[0m \u001b[0mapi_response\u001b[0m\u001b[0;34m[\u001b[0m\u001b[0;34m'search-results'\u001b[0m\u001b[0;34m]\u001b[0m\u001b[0;34m[\u001b[0m\u001b[0;34m'entry'\u001b[0m\u001b[0;34m]\u001b[0m\u001b[0;34m\u001b[0m\u001b[0;34m\u001b[0m\u001b[0m\n",
            "\u001b[0;32m/usr/local/lib/python3.7/dist-packages/elsapy/elsclient.py\u001b[0m in \u001b[0;36mexec_request\u001b[0;34m(self, URL)\u001b[0m\n\u001b[1;32m    119\u001b[0m         \u001b[0;32melse\u001b[0m\u001b[0;34m:\u001b[0m\u001b[0;34m\u001b[0m\u001b[0;34m\u001b[0m\u001b[0m\n\u001b[1;32m    120\u001b[0m             \u001b[0mself\u001b[0m\u001b[0;34m.\u001b[0m\u001b[0m_status_msg\u001b[0m\u001b[0;34m=\u001b[0m\u001b[0;34m\"HTTP \"\u001b[0m \u001b[0;34m+\u001b[0m \u001b[0mstr\u001b[0m\u001b[0;34m(\u001b[0m\u001b[0mr\u001b[0m\u001b[0;34m.\u001b[0m\u001b[0mstatus_code\u001b[0m\u001b[0;34m)\u001b[0m \u001b[0;34m+\u001b[0m \u001b[0;34m\" Error from \"\u001b[0m \u001b[0;34m+\u001b[0m \u001b[0mURL\u001b[0m \u001b[0;34m+\u001b[0m \u001b[0;34m\" and using headers \"\u001b[0m \u001b[0;34m+\u001b[0m \u001b[0mstr\u001b[0m\u001b[0;34m(\u001b[0m\u001b[0mheaders\u001b[0m\u001b[0;34m)\u001b[0m \u001b[0;34m+\u001b[0m \u001b[0;34m\": \"\u001b[0m \u001b[0;34m+\u001b[0m \u001b[0mr\u001b[0m\u001b[0;34m.\u001b[0m\u001b[0mtext\u001b[0m\u001b[0;34m\u001b[0m\u001b[0;34m\u001b[0m\u001b[0m\n\u001b[0;32m--> 121\u001b[0;31m             \u001b[0;32mraise\u001b[0m \u001b[0mrequests\u001b[0m\u001b[0;34m.\u001b[0m\u001b[0mHTTPError\u001b[0m\u001b[0;34m(\u001b[0m\u001b[0;34m\"HTTP \"\u001b[0m \u001b[0;34m+\u001b[0m \u001b[0mstr\u001b[0m\u001b[0;34m(\u001b[0m\u001b[0mr\u001b[0m\u001b[0;34m.\u001b[0m\u001b[0mstatus_code\u001b[0m\u001b[0;34m)\u001b[0m \u001b[0;34m+\u001b[0m \u001b[0;34m\" Error from \"\u001b[0m \u001b[0;34m+\u001b[0m \u001b[0mURL\u001b[0m \u001b[0;34m+\u001b[0m \u001b[0;34m\"\\nand using headers \"\u001b[0m \u001b[0;34m+\u001b[0m \u001b[0mstr\u001b[0m\u001b[0;34m(\u001b[0m\u001b[0mheaders\u001b[0m\u001b[0;34m)\u001b[0m \u001b[0;34m+\u001b[0m \u001b[0;34m\":\\n\"\u001b[0m \u001b[0;34m+\u001b[0m \u001b[0mr\u001b[0m\u001b[0;34m.\u001b[0m\u001b[0mtext\u001b[0m\u001b[0;34m)\u001b[0m\u001b[0;34m\u001b[0m\u001b[0;34m\u001b[0m\u001b[0m\n\u001b[0m",
            "\u001b[0;31mHTTPError\u001b[0m: HTTP 401 Error from https://api.elsevier.com/content/search/sciencedirect?query=rechargeable+lithium+metal\nand using headers {'X-ELS-APIKey': '856d163d12a1f149d801ee44e166857e', 'User-Agent': 'elsapy-v0.5.0', 'Accept': 'application/json'}:\n{\"service-error\":{\"status\":{\"statusCode\":\"AUTHORIZATION_ERROR\",\"statusText\":\"The requestor is not authorized to access the requested view or fields of the resource\"}}}"
          ]
        }
      ]
    },
    {
      "cell_type": "code",
      "source": [
        "#   retrieving all results\n",
        "doc_srch = ElsSearch(\"rechargeable lithium metal\",'scopus')\n",
        "doc_srch.execute(client, get_all = True)\n",
        "print (\"doc_srch has\", len(doc_srch.results), \"results.\")"
      ],
      "metadata": {
        "id": "ZsGC3dgeMJO9"
      },
      "execution_count": null,
      "outputs": []
    },
    {
      "cell_type": "code",
      "source": [
        "!pip install pickle"
      ],
      "metadata": {
        "id": "5WpwjIwfAcWV"
      },
      "execution_count": null,
      "outputs": []
    },
    {
      "cell_type": "code",
      "source": [
        "import pickle\n",
        "drive.mount('/content/drive/MyDrive/LBNL')\n",
        "DATA_PATH = \"/content/drive/MyDrive/LBNL\"\n",
        "infile = open(DATA_PATH+'/notMNIST.pickle','rb')\n",
        "best_model2 = pickle.load(infile)\n"
      ],
      "metadata": {
        "id": "xHbv6crxAbmV"
      },
      "execution_count": null,
      "outputs": []
    },
    {
      "cell_type": "code",
      "source": [
        "# get scopus ID\n",
        "scopus_id = []\n",
        "for p in doc_srch.results:\n",
        "  if p['openaccess']==1:\n",
        "    scopus_id.append(p['dc:identifier'])"
      ],
      "metadata": {
        "id": "dh5pS3iBJ6qr"
      },
      "execution_count": null,
      "outputs": []
    },
    {
      "cell_type": "code",
      "source": [
        "# get doi\n",
        "doi = []\n",
        "for p in doc_srch.results:\n",
        "  if p['openaccess']=='1':\n",
        "    doi.append(p['prism:doi'])"
      ],
      "metadata": {
        "id": "0NVjL-xH-sMH"
      },
      "execution_count": 14,
      "outputs": []
    },
    {
      "cell_type": "code",
      "source": [
        "doc_srch.results[9]"
      ],
      "metadata": {
        "colab": {
          "base_uri": "https://localhost:8080/"
        },
        "id": "vwedGc2ePi57",
        "outputId": "9ee9d589-9886-440e-d0f0-ebadff56f4ec"
      },
      "execution_count": 9,
      "outputs": [
        {
          "output_type": "execute_result",
          "data": {
            "text/plain": [
              "{'@_fa': 'true',\n",
              " 'affiliation': [{'@_fa': 'true',\n",
              "   'affiliation-city': 'Thuwal',\n",
              "   'affiliation-country': 'Saudi Arabia',\n",
              "   'affilname': 'King Abdullah University of Science and Technology'}],\n",
              " 'article-number': '14',\n",
              " 'citedby-count': '0',\n",
              " 'dc:creator': 'Deokar G.',\n",
              " 'dc:identifier': 'SCOPUS_ID:85126090467',\n",
              " 'dc:title': 'Chemical vapor deposition-grown nitrogen-doped graphene’s synthesis, characterization and applications',\n",
              " 'eid': '2-s2.0-85126090467',\n",
              " 'freetoread': {'value': [{'$': 'all'},\n",
              "   {'$': 'publisherfullgold'},\n",
              "   {'$': 'repository'},\n",
              "   {'$': 'repositoryvor'}]},\n",
              " 'freetoreadLabel': {'value': [{'$': 'All Open Access'},\n",
              "   {'$': 'Gold'},\n",
              "   {'$': 'Green'}]},\n",
              " 'link': [{'@_fa': 'true',\n",
              "   '@href': 'https://api.elsevier.com/content/abstract/scopus_id/85126090467',\n",
              "   '@ref': 'self'},\n",
              "  {'@_fa': 'true',\n",
              "   '@href': 'https://api.elsevier.com/content/abstract/scopus_id/85126090467?field=author,affiliation',\n",
              "   '@ref': 'author-affiliation'},\n",
              "  {'@_fa': 'true',\n",
              "   '@href': 'https://www.scopus.com/inward/record.uri?partnerID=HzOxMe3b&scp=85126090467&origin=inward',\n",
              "   '@ref': 'scopus'},\n",
              "  {'@_fa': 'true',\n",
              "   '@href': 'https://www.scopus.com/inward/citedby.uri?partnerID=HzOxMe3b&scp=85126090467&origin=inward',\n",
              "   '@ref': 'scopus-citedby'}],\n",
              " 'openaccess': '1',\n",
              " 'openaccessFlag': True,\n",
              " 'prism:aggregationType': 'Journal',\n",
              " 'prism:coverDate': '2022-12-01',\n",
              " 'prism:coverDisplayDate': 'December 2022',\n",
              " 'prism:doi': '10.1038/s41699-022-00287-8',\n",
              " 'prism:eIssn': '23977132',\n",
              " 'prism:issueIdentifier': '1',\n",
              " 'prism:pageRange': None,\n",
              " 'prism:publicationName': 'npj 2D Materials and Applications',\n",
              " 'prism:url': 'https://api.elsevier.com/content/abstract/scopus_id/85126090467',\n",
              " 'prism:volume': '6',\n",
              " 'source-id': '21100924713',\n",
              " 'subtype': 're',\n",
              " 'subtypeDescription': 'Review'}"
            ]
          },
          "metadata": {},
          "execution_count": 9
        }
      ]
    },
    {
      "cell_type": "code",
      "source": [
        "len(doi)"
      ],
      "metadata": {
        "colab": {
          "base_uri": "https://localhost:8080/"
        },
        "id": "l43hIQ_NPYNS",
        "outputId": "4f456ac5-c814-451b-d87b-464f5565c235"
      },
      "execution_count": 15,
      "outputs": [
        {
          "output_type": "execute_result",
          "data": {
            "text/plain": [
              "25"
            ]
          },
          "metadata": {},
          "execution_count": 15
        }
      ]
    },
    {
      "cell_type": "code",
      "source": [
        "\"\"\"\n",
        "Elsevier web-scraper. PLEASE use your own API key.\n",
        "\"\"\"\n",
        "\n",
        "# __author__ = \"Shu Huang\"\n",
        "# __email__ = \"sh2009@cam.ac.uk\"\n",
        "\n",
        "import json\n",
        "import requests\n",
        "import numpy as np\n",
        "\n",
        "API_KEY = \"856d163d12a1f149d801ee44e166857e\"\n",
        "query = \"rechargeable lithium metal\"\n",
        "base_url = 'https://api.elsevier.com/content/search/scopus'\n",
        "\n",
        "data = {\"qs\": query,\n",
        "        \"date\": 2019,\n",
        "        # \"volume\": 0,\n",
        "        \"display\": {\n",
        "            \"show\": 10,\n",
        "            \"offset\": 0\n",
        "        }}\n",
        "\n",
        "headers = {'x-els-apikey': API_KEY,\n",
        "           'Content-Type': 'application/json',\n",
        "           'Accept': 'application/json'}\n",
        "\n",
        "\n",
        "def get_response(url, data, headers):\n",
        "    \"\"\"\n",
        "    Return the response from Elsevier\n",
        "    :param url: <str> base_url\n",
        "    :param data: <dict> data parameters\n",
        "    :param headers: <dict> headers\n",
        "    :return: response\n",
        "    \"\"\"\n",
        "    response = requests.put(url, data=json.dumps(data), headers=headers)\n",
        "    response = response.text.replace('false', 'False').replace('true', 'True')\n",
        "    try:\n",
        "        response = eval(response)\n",
        "    except BaseException:\n",
        "        print(response)\n",
        "    return response\n",
        "\n",
        "\n",
        "def get_doi(data, volume, year):\n",
        "    \"\"\"\n",
        "    Get DOIs\n",
        "    :param data: <dict> data parameters\n",
        "    :param volume: <int> the volume index\n",
        "    :param year: <int> the year index\n",
        "    :return: <list> of <str> list of DOIs\n",
        "    \"\"\"\n",
        "    dois = []\n",
        "    data['volume'] = volume\n",
        "    data[\"date\"] = year\n",
        "    response = get_response(base_url, data, headers)\n",
        "    if 'resultsFound' in response.keys():\n",
        "        n = int(np.ceil(response['resultsFound'] / 100))\n",
        "    else:\n",
        "        n = 60\n",
        "    for offset in range(n + 1):\n",
        "        data[\"display\"][\"offset\"] = offset\n",
        "        response = get_response(base_url, data, headers)\n",
        "        if 'results' in response.keys():\n",
        "            results = response['results']\n",
        "            for result in results:\n",
        "                if 'doi' in result:\n",
        "                    dois.append(result['doi'])\n",
        "    return dois\n",
        "\n",
        "\n",
        "# def download_doi(doi):\n",
        "#     \"\"\"\n",
        "#     Download the paper according to the DOI\n",
        "#     :param doi: <str> DOI\n",
        "#     \"\"\"\n",
        "#     with open(str(doi) + '.xml', 'w', encoding='utf-8') as f:\n",
        "#         request_url = 'https://api.elsevier.com/content/article/scopus_id/{}?apiKey={}&httpAccept=text%2Fxml'.format(\n",
        "#             doi, API_KEY)\n",
        "#         text = requests.get(request_url).text\n",
        "#         f.write(text)\n",
        "#     return"
      ],
      "metadata": {
        "id": "SgPa24hQET-K"
      },
      "execution_count": 20,
      "outputs": []
    },
    {
      "cell_type": "code",
      "source": [
        "def download_scopus(doi):\n",
        "    \"\"\"\n",
        "    Download the paper according to the DOI\n",
        "    :param doi: <str> DOI\n",
        "    \"\"\"\n",
        "    with open(str(doi) + '.xml', 'w', encoding='utf-8') as f:\n",
        "        request_url = 'https://api.elsevier.com/content/article/scopus_id/{}?apiKey={}&httpAccept=text%2Fxml'.format(\n",
        "            doi, API_KEY)\n",
        "        print(request_url)\n",
        "        text = requests.get(request_url).text\n",
        "        f.write(text)\n",
        "    return"
      ],
      "metadata": {
        "id": "zp15lhHZH3YI"
      },
      "execution_count": null,
      "outputs": []
    },
    {
      "cell_type": "code",
      "source": [
        "data"
      ],
      "metadata": {
        "colab": {
          "base_uri": "https://localhost:8080/"
        },
        "id": "CQuLdXCiiRum",
        "outputId": "7fc269cd-4232-4ed5-aef8-38665bac3827"
      },
      "execution_count": 22,
      "outputs": [
        {
          "output_type": "execute_result",
          "data": {
            "text/plain": [
              "{'date': 2019,\n",
              " 'display': {'offset': 0, 'show': 10},\n",
              " 'qs': 'rechargeable lithium metal'}"
            ]
          },
          "metadata": {},
          "execution_count": 22
        }
      ]
    },
    {
      "cell_type": "code",
      "source": [
        "get_doi(data,1,2019)"
      ],
      "metadata": {
        "colab": {
          "base_uri": "https://localhost:8080/"
        },
        "id": "_4m238Fqh4yH",
        "outputId": "d339dd97-5f09-42c1-a794-95dea2b5852d"
      },
      "execution_count": 24,
      "outputs": [
        {
          "output_type": "execute_result",
          "data": {
            "text/plain": [
              "[]"
            ]
          },
          "metadata": {},
          "execution_count": 24
        }
      ]
    },
    {
      "cell_type": "code",
      "source": [
        "len(doi)"
      ],
      "metadata": {
        "colab": {
          "base_uri": "https://localhost:8080/"
        },
        "id": "PjVLsP3YNiKi",
        "outputId": "8e3b04cd-c049-4e4e-ac0f-d5e15a204be8"
      },
      "execution_count": 17,
      "outputs": [
        {
          "output_type": "execute_result",
          "data": {
            "text/plain": [
              "25"
            ]
          },
          "metadata": {},
          "execution_count": 17
        }
      ]
    },
    {
      "cell_type": "code",
      "source": [
        "num_list = []\n",
        "for i in range(1,26):\n",
        "  num_list.append(i)\n"
      ],
      "metadata": {
        "id": "HICt_qFNNgvG"
      },
      "execution_count": 18,
      "outputs": []
    },
    {
      "cell_type": "code",
      "source": [
        "def download_doi(doi):\n",
        "    \"\"\"\n",
        "    Download the paper according to the DOI\n",
        "    :param doi: <str> DOI\n",
        "    \"\"\"\n",
        "    with open(\"doi/\" + str(doi) + '.xml', 'w', encoding='utf-8') as f:\n",
        "        request_url = 'https://api.elsevier.com/content/article/doi/{}?apiKey={}&httpAccept=text%2Fxml'.format(\n",
        "            doi, API_KEY)\n",
        "        print(request_url)\n",
        "        text = requests.get(request_url).text\n",
        "        f.write(text)\n",
        "    return"
      ],
      "metadata": {
        "id": "DPJwg8WJE5mj"
      },
      "execution_count": 11,
      "outputs": []
    },
    {
      "cell_type": "code",
      "source": [
        "'https://api.elsevier.com/content/article/doi/10.1038/s41467-022-28988-0?apiKey=856d163d12a1f149d801ee44e166857e&httpAccept=text%2Fxml'"
      ],
      "metadata": {
        "colab": {
          "base_uri": "https://localhost:8080/",
          "height": 35
        },
        "id": "CvTZYsI8g098",
        "outputId": "8c9109dc-9df6-4745-d1d9-fbc32f7c58bf"
      },
      "execution_count": 21,
      "outputs": [
        {
          "output_type": "execute_result",
          "data": {
            "text/plain": [
              "'https://api.elsevier.com/content/article/doi/10.1038/s41467-022-28988-0?apiKey=856d163d12a1f149d801ee44e166857e&httpAccept=text%2Fxml'"
            ],
            "application/vnd.google.colaboratory.intrinsic+json": {
              "type": "string"
            }
          },
          "metadata": {},
          "execution_count": 21
        }
      ]
    },
    {
      "cell_type": "code",
      "source": [
        " request_url = 'https://api.elsevier.com/content/article/scopus_id/{}?apiKey={}'.format(\n",
        "            '85122632679', API_KEY)\n",
        " \n",
        " print(request_url)\n",
        " # getting the error - \"Resource not found\""
      ],
      "metadata": {
        "colab": {
          "base_uri": "https://localhost:8080/"
        },
        "id": "JXOvpkyYKyNG",
        "outputId": "5d522418-9ff0-4f2b-b262-7f8fd6144a3d"
      },
      "execution_count": 12,
      "outputs": [
        {
          "output_type": "stream",
          "name": "stdout",
          "text": [
            "https://api.elsevier.com/content/article/scopus_id/85122632679?apiKey=856d163d12a1f149d801ee44e166857e\n"
          ]
        }
      ]
    },
    {
      "cell_type": "code",
      "source": [
        " request_url = 'https://api.elsevier.com/content/article/doi/{}?apiKey={}&httpAccept=text%2Fxml'.format(\n",
        "            '10.1038/s41598-022-08691-2', \t'856d163d12a1f149d801ee44e166857e')\n",
        " \n",
        " print(request_url)\n",
        " # getting the error - \"Resource not found\""
      ],
      "metadata": {
        "colab": {
          "base_uri": "https://localhost:8080/"
        },
        "id": "Rg7Rx42VJhb9",
        "outputId": "c3a37495-1d95-4e46-8658-6a3df6471138"
      },
      "execution_count": 14,
      "outputs": [
        {
          "output_type": "stream",
          "name": "stdout",
          "text": [
            "https://api.elsevier.com/content/article/doi/10.1038/s41598-022-08691-2?apiKey=856d163d12a1f149d801ee44e166857e&httpAccept=text%2Fxml\n"
          ]
        }
      ]
    },
    {
      "cell_type": "code",
      "source": [
        "doi"
      ],
      "metadata": {
        "colab": {
          "base_uri": "https://localhost:8080/"
        },
        "id": "K2B2hh7md600",
        "outputId": "ada07ea2-112f-4766-b6f6-17c06b934878"
      },
      "execution_count": 20,
      "outputs": [
        {
          "output_type": "execute_result",
          "data": {
            "text/plain": [
              "['10.1038/s41467-022-28963-9',\n",
              " '10.1038/s41467-022-29118-6',\n",
              " '10.1038/s41598-022-08691-2',\n",
              " '10.1038/s41467-022-29022-z',\n",
              " '10.1038/s41467-022-28988-0',\n",
              " '10.1186/s40659-022-00382-6',\n",
              " '10.1038/s41467-022-28959-5',\n",
              " '10.1038/s41528-022-00147-x',\n",
              " '10.1038/s41467-022-28880-x',\n",
              " '10.1038/s41699-022-00287-8',\n",
              " '10.1038/s41598-022-07853-6',\n",
              " '10.1038/s41598-022-07858-1',\n",
              " '10.1038/s41467-022-28792-w',\n",
              " '10.1038/s41467-022-28793-9',\n",
              " '10.1007/s40820-022-00793-w',\n",
              " '10.1038/s41598-022-07036-3',\n",
              " '10.1007/s40820-022-00806-8',\n",
              " '10.1038/s42004-022-00626-2',\n",
              " '10.1038/s41528-022-00144-0',\n",
              " '10.1038/s42004-022-00628-0',\n",
              " '10.1038/s41467-022-28380-y',\n",
              " '10.1038/s41467-022-28325-5',\n",
              " '10.1038/s41524-021-00693-4',\n",
              " '10.1038/s41467-022-28381-x',\n",
              " '10.1038/s41467-022-28176-0']"
            ]
          },
          "metadata": {},
          "execution_count": 20
        }
      ]
    },
    {
      "cell_type": "code",
      "source": [
        "for id in doi:\n",
        "  print(id)\n",
        "  download_doi(id)"
      ],
      "metadata": {
        "colab": {
          "base_uri": "https://localhost:8080/",
          "height": 340
        },
        "id": "hjcZGJRRNF5H",
        "outputId": "51a25376-7f19-4ca9-da53-ce88b47feb37"
      },
      "execution_count": 15,
      "outputs": [
        {
          "output_type": "stream",
          "name": "stdout",
          "text": [
            "10.1038/s41467-022-28963-9\n"
          ]
        },
        {
          "output_type": "error",
          "ename": "FileNotFoundError",
          "evalue": "ignored",
          "traceback": [
            "\u001b[0;31m---------------------------------------------------------------------------\u001b[0m",
            "\u001b[0;31mFileNotFoundError\u001b[0m                         Traceback (most recent call last)",
            "\u001b[0;32m<ipython-input-15-94fc6c41464f>\u001b[0m in \u001b[0;36m<module>\u001b[0;34m()\u001b[0m\n\u001b[1;32m      1\u001b[0m \u001b[0;32mfor\u001b[0m \u001b[0mid\u001b[0m \u001b[0;32min\u001b[0m \u001b[0mdoi\u001b[0m\u001b[0;34m:\u001b[0m\u001b[0;34m\u001b[0m\u001b[0;34m\u001b[0m\u001b[0m\n\u001b[1;32m      2\u001b[0m   \u001b[0mprint\u001b[0m\u001b[0;34m(\u001b[0m\u001b[0mid\u001b[0m\u001b[0;34m)\u001b[0m\u001b[0;34m\u001b[0m\u001b[0;34m\u001b[0m\u001b[0m\n\u001b[0;32m----> 3\u001b[0;31m   \u001b[0mdownload_doi\u001b[0m\u001b[0;34m(\u001b[0m\u001b[0mid\u001b[0m\u001b[0;34m)\u001b[0m\u001b[0;34m\u001b[0m\u001b[0;34m\u001b[0m\u001b[0m\n\u001b[0m",
            "\u001b[0;32m<ipython-input-11-ccc383ab2af5>\u001b[0m in \u001b[0;36mdownload_doi\u001b[0;34m(doi)\u001b[0m\n\u001b[1;32m      4\u001b[0m     \u001b[0;34m:\u001b[0m\u001b[0mparam\u001b[0m \u001b[0mdoi\u001b[0m\u001b[0;34m:\u001b[0m \u001b[0;34m<\u001b[0m\u001b[0mstr\u001b[0m\u001b[0;34m>\u001b[0m \u001b[0mDOI\u001b[0m\u001b[0;34m\u001b[0m\u001b[0;34m\u001b[0m\u001b[0m\n\u001b[1;32m      5\u001b[0m     \"\"\"\n\u001b[0;32m----> 6\u001b[0;31m     \u001b[0;32mwith\u001b[0m \u001b[0mopen\u001b[0m\u001b[0;34m(\u001b[0m\u001b[0;34m\"doi/\"\u001b[0m \u001b[0;34m+\u001b[0m \u001b[0mstr\u001b[0m\u001b[0;34m(\u001b[0m\u001b[0mdoi\u001b[0m\u001b[0;34m)\u001b[0m \u001b[0;34m+\u001b[0m \u001b[0;34m'.xml'\u001b[0m\u001b[0;34m,\u001b[0m \u001b[0;34m'w'\u001b[0m\u001b[0;34m,\u001b[0m \u001b[0mencoding\u001b[0m\u001b[0;34m=\u001b[0m\u001b[0;34m'utf-8'\u001b[0m\u001b[0;34m)\u001b[0m \u001b[0;32mas\u001b[0m \u001b[0mf\u001b[0m\u001b[0;34m:\u001b[0m\u001b[0;34m\u001b[0m\u001b[0;34m\u001b[0m\u001b[0m\n\u001b[0m\u001b[1;32m      7\u001b[0m         request_url = 'https://api.elsevier.com/content/article/doi/{}?apiKey={}&httpAccept=text%2Fxml'.format(\n\u001b[1;32m      8\u001b[0m             doi, API_KEY)\n",
            "\u001b[0;31mFileNotFoundError\u001b[0m: [Errno 2] No such file or directory: 'doi/10.1038/s41467-022-28963-9.xml'"
          ]
        }
      ]
    },
    {
      "cell_type": "code",
      "source": [
        "for id in scopus_id:\n",
        "  print(id)\n",
        "  download_scopus(id)"
      ],
      "metadata": {
        "colab": {
          "base_uri": "https://localhost:8080/"
        },
        "id": "dnRTgecAJ2N1",
        "outputId": "8e28cd72-50b4-49c7-c371-f44ff4f0d60d"
      },
      "execution_count": null,
      "outputs": [
        {
          "output_type": "stream",
          "name": "stdout",
          "text": [
            "SCOPUS_ID:85126720450\n",
            "https://api.elsevier.com/content/article/scopus_id/SCOPUS_ID:85126720450?apiKey=856d163d12a1f149d801ee44e166857e&httpAccept=text%2Fxml\n",
            "SCOPUS_ID:85126558210\n",
            "https://api.elsevier.com/content/article/scopus_id/SCOPUS_ID:85126558210?apiKey=856d163d12a1f149d801ee44e166857e&httpAccept=text%2Fxml\n",
            "SCOPUS_ID:85126531853\n",
            "https://api.elsevier.com/content/article/scopus_id/SCOPUS_ID:85126531853?apiKey=856d163d12a1f149d801ee44e166857e&httpAccept=text%2Fxml\n",
            "SCOPUS_ID:85126269582\n",
            "https://api.elsevier.com/content/article/scopus_id/SCOPUS_ID:85126269582?apiKey=856d163d12a1f149d801ee44e166857e&httpAccept=text%2Fxml\n",
            "SCOPUS_ID:85126250517\n",
            "https://api.elsevier.com/content/article/scopus_id/SCOPUS_ID:85126250517?apiKey=856d163d12a1f149d801ee44e166857e&httpAccept=text%2Fxml\n",
            "SCOPUS_ID:85126237860\n",
            "https://api.elsevier.com/content/article/scopus_id/SCOPUS_ID:85126237860?apiKey=856d163d12a1f149d801ee44e166857e&httpAccept=text%2Fxml\n",
            "SCOPUS_ID:85126224116\n",
            "https://api.elsevier.com/content/article/scopus_id/SCOPUS_ID:85126224116?apiKey=856d163d12a1f149d801ee44e166857e&httpAccept=text%2Fxml\n",
            "SCOPUS_ID:85126090467\n",
            "https://api.elsevier.com/content/article/scopus_id/SCOPUS_ID:85126090467?apiKey=856d163d12a1f149d801ee44e166857e&httpAccept=text%2Fxml\n",
            "SCOPUS_ID:85126022489\n",
            "https://api.elsevier.com/content/article/scopus_id/SCOPUS_ID:85126022489?apiKey=856d163d12a1f149d801ee44e166857e&httpAccept=text%2Fxml\n",
            "SCOPUS_ID:85125982200\n",
            "https://api.elsevier.com/content/article/scopus_id/SCOPUS_ID:85125982200?apiKey=856d163d12a1f149d801ee44e166857e&httpAccept=text%2Fxml\n",
            "SCOPUS_ID:85125691936\n",
            "https://api.elsevier.com/content/article/scopus_id/SCOPUS_ID:85125691936?apiKey=856d163d12a1f149d801ee44e166857e&httpAccept=text%2Fxml\n",
            "SCOPUS_ID:85125611038\n",
            "https://api.elsevier.com/content/article/scopus_id/SCOPUS_ID:85125611038?apiKey=856d163d12a1f149d801ee44e166857e&httpAccept=text%2Fxml\n",
            "SCOPUS_ID:85125483547\n",
            "https://api.elsevier.com/content/article/scopus_id/SCOPUS_ID:85125483547?apiKey=856d163d12a1f149d801ee44e166857e&httpAccept=text%2Fxml\n",
            "SCOPUS_ID:85125213854\n",
            "https://api.elsevier.com/content/article/scopus_id/SCOPUS_ID:85125213854?apiKey=856d163d12a1f149d801ee44e166857e&httpAccept=text%2Fxml\n",
            "SCOPUS_ID:85124976985\n",
            "https://api.elsevier.com/content/article/scopus_id/SCOPUS_ID:85124976985?apiKey=856d163d12a1f149d801ee44e166857e&httpAccept=text%2Fxml\n",
            "SCOPUS_ID:85124810061\n",
            "https://api.elsevier.com/content/article/scopus_id/SCOPUS_ID:85124810061?apiKey=856d163d12a1f149d801ee44e166857e&httpAccept=text%2Fxml\n",
            "SCOPUS_ID:85124740506\n",
            "https://api.elsevier.com/content/article/scopus_id/SCOPUS_ID:85124740506?apiKey=856d163d12a1f149d801ee44e166857e&httpAccept=text%2Fxml\n",
            "SCOPUS_ID:85124314181\n",
            "https://api.elsevier.com/content/article/scopus_id/SCOPUS_ID:85124314181?apiKey=856d163d12a1f149d801ee44e166857e&httpAccept=text%2Fxml\n",
            "SCOPUS_ID:85124270855\n",
            "https://api.elsevier.com/content/article/scopus_id/SCOPUS_ID:85124270855?apiKey=856d163d12a1f149d801ee44e166857e&httpAccept=text%2Fxml\n",
            "SCOPUS_ID:85124174691\n",
            "https://api.elsevier.com/content/article/scopus_id/SCOPUS_ID:85124174691?apiKey=856d163d12a1f149d801ee44e166857e&httpAccept=text%2Fxml\n",
            "SCOPUS_ID:85124045846\n",
            "https://api.elsevier.com/content/article/scopus_id/SCOPUS_ID:85124045846?apiKey=856d163d12a1f149d801ee44e166857e&httpAccept=text%2Fxml\n",
            "SCOPUS_ID:85123974052\n",
            "https://api.elsevier.com/content/article/scopus_id/SCOPUS_ID:85123974052?apiKey=856d163d12a1f149d801ee44e166857e&httpAccept=text%2Fxml\n",
            "SCOPUS_ID:85123973132\n",
            "https://api.elsevier.com/content/article/scopus_id/SCOPUS_ID:85123973132?apiKey=856d163d12a1f149d801ee44e166857e&httpAccept=text%2Fxml\n",
            "SCOPUS_ID:85123919258\n",
            "https://api.elsevier.com/content/article/scopus_id/SCOPUS_ID:85123919258?apiKey=856d163d12a1f149d801ee44e166857e&httpAccept=text%2Fxml\n",
            "SCOPUS_ID:85123794932\n",
            "https://api.elsevier.com/content/article/scopus_id/SCOPUS_ID:85123794932?apiKey=856d163d12a1f149d801ee44e166857e&httpAccept=text%2Fxml\n"
          ]
        }
      ]
    },
    {
      "cell_type": "markdown",
      "source": [
        "## search by SCOPUS ID"
      ],
      "metadata": {
        "id": "y-5vNXgoGIJX"
      }
    },
    {
      "cell_type": "code",
      "source": [
        "num_list = []\n",
        "for i in range(1,26):\n",
        "  num_list.append(i)"
      ],
      "metadata": {
        "id": "NZdEg35anwBO"
      },
      "execution_count": 17,
      "outputs": []
    },
    {
      "cell_type": "code",
      "source": [
        "doi"
      ],
      "metadata": {
        "colab": {
          "base_uri": "https://localhost:8080/"
        },
        "id": "j74EzcULoFwa",
        "outputId": "4b0e3567-fd3c-4092-908b-f229c0617163"
      },
      "execution_count": 16,
      "outputs": [
        {
          "output_type": "execute_result",
          "data": {
            "text/plain": [
              "['10.1038/s41467-022-28963-9',\n",
              " '10.1038/s41467-022-29118-6',\n",
              " '10.1038/s41598-022-08691-2',\n",
              " '10.1038/s41467-022-29022-z',\n",
              " '10.1038/s41467-022-28988-0',\n",
              " '10.1186/s40659-022-00382-6',\n",
              " '10.1038/s41467-022-28959-5',\n",
              " '10.1038/s41528-022-00147-x',\n",
              " '10.1038/s41467-022-28880-x',\n",
              " '10.1038/s41699-022-00287-8',\n",
              " '10.1038/s41598-022-07853-6',\n",
              " '10.1038/s41598-022-07858-1',\n",
              " '10.1038/s41467-022-28792-w',\n",
              " '10.1038/s41467-022-28793-9',\n",
              " '10.1007/s40820-022-00793-w',\n",
              " '10.1038/s41598-022-07036-3',\n",
              " '10.1007/s40820-022-00806-8',\n",
              " '10.1038/s42004-022-00626-2',\n",
              " '10.1038/s41528-022-00144-0',\n",
              " '10.1038/s42004-022-00628-0',\n",
              " '10.1038/s41467-022-28380-y',\n",
              " '10.1038/s41467-022-28325-5',\n",
              " '10.1038/s41524-021-00693-4',\n",
              " '10.1038/s41467-022-28381-x',\n",
              " '10.1038/s41467-022-28176-0']"
            ]
          },
          "metadata": {},
          "execution_count": 16
        }
      ]
    },
    {
      "cell_type": "code",
      "source": [
        "def download_doi(doi,num_list):\n",
        "    \"\"\"\n",
        "    Download the paper according to the DOI\n",
        "    :param doi: <str> DOI\n",
        "    \"\"\"\n",
        "    with open(\"doi_\" + str(num_list) + '.xml', 'w', encoding='utf-8') as f:\n",
        "        request_url = 'https://api.elsevier.com/content/article/doi/{}?apiKey={}&httpAccept=text%2Fxml'.format(\n",
        "            doi, API_KEY)\n",
        "        print(request_url)\n",
        "        text = requests.get(request_url).text\n",
        "        f.write(text)\n",
        "    return"
      ],
      "metadata": {
        "id": "uKVRKOGHnz-3"
      },
      "execution_count": 21,
      "outputs": []
    },
    {
      "cell_type": "code",
      "source": [
        ""
      ],
      "metadata": {
        "id": "9fI9wYYPoP7G"
      },
      "execution_count": 21,
      "outputs": []
    },
    {
      "cell_type": "code",
      "source": [
        "for i in range(25):\n",
        "  download_doi(doi[i],num_list[i])"
      ],
      "metadata": {
        "colab": {
          "base_uri": "https://localhost:8080/"
        },
        "id": "WTrjHlrYoMYS",
        "outputId": "a0b96591-92fc-44de-a909-9027a32a6560"
      },
      "execution_count": 22,
      "outputs": [
        {
          "output_type": "stream",
          "name": "stdout",
          "text": [
            "https://api.elsevier.com/content/article/doi/10.1038/s41467-022-28963-9?apiKey=856d163d12a1f149d801ee44e166857e&httpAccept=text%2Fxml\n",
            "https://api.elsevier.com/content/article/doi/10.1038/s41467-022-29118-6?apiKey=856d163d12a1f149d801ee44e166857e&httpAccept=text%2Fxml\n",
            "https://api.elsevier.com/content/article/doi/10.1038/s41598-022-08691-2?apiKey=856d163d12a1f149d801ee44e166857e&httpAccept=text%2Fxml\n",
            "https://api.elsevier.com/content/article/doi/10.1038/s41467-022-29022-z?apiKey=856d163d12a1f149d801ee44e166857e&httpAccept=text%2Fxml\n",
            "https://api.elsevier.com/content/article/doi/10.1038/s41467-022-28988-0?apiKey=856d163d12a1f149d801ee44e166857e&httpAccept=text%2Fxml\n",
            "https://api.elsevier.com/content/article/doi/10.1186/s40659-022-00382-6?apiKey=856d163d12a1f149d801ee44e166857e&httpAccept=text%2Fxml\n",
            "https://api.elsevier.com/content/article/doi/10.1038/s41467-022-28959-5?apiKey=856d163d12a1f149d801ee44e166857e&httpAccept=text%2Fxml\n",
            "https://api.elsevier.com/content/article/doi/10.1038/s41528-022-00147-x?apiKey=856d163d12a1f149d801ee44e166857e&httpAccept=text%2Fxml\n",
            "https://api.elsevier.com/content/article/doi/10.1038/s41467-022-28880-x?apiKey=856d163d12a1f149d801ee44e166857e&httpAccept=text%2Fxml\n",
            "https://api.elsevier.com/content/article/doi/10.1038/s41699-022-00287-8?apiKey=856d163d12a1f149d801ee44e166857e&httpAccept=text%2Fxml\n",
            "https://api.elsevier.com/content/article/doi/10.1038/s41598-022-07853-6?apiKey=856d163d12a1f149d801ee44e166857e&httpAccept=text%2Fxml\n",
            "https://api.elsevier.com/content/article/doi/10.1038/s41598-022-07858-1?apiKey=856d163d12a1f149d801ee44e166857e&httpAccept=text%2Fxml\n",
            "https://api.elsevier.com/content/article/doi/10.1038/s41467-022-28792-w?apiKey=856d163d12a1f149d801ee44e166857e&httpAccept=text%2Fxml\n",
            "https://api.elsevier.com/content/article/doi/10.1038/s41467-022-28793-9?apiKey=856d163d12a1f149d801ee44e166857e&httpAccept=text%2Fxml\n",
            "https://api.elsevier.com/content/article/doi/10.1007/s40820-022-00793-w?apiKey=856d163d12a1f149d801ee44e166857e&httpAccept=text%2Fxml\n",
            "https://api.elsevier.com/content/article/doi/10.1038/s41598-022-07036-3?apiKey=856d163d12a1f149d801ee44e166857e&httpAccept=text%2Fxml\n",
            "https://api.elsevier.com/content/article/doi/10.1007/s40820-022-00806-8?apiKey=856d163d12a1f149d801ee44e166857e&httpAccept=text%2Fxml\n",
            "https://api.elsevier.com/content/article/doi/10.1038/s42004-022-00626-2?apiKey=856d163d12a1f149d801ee44e166857e&httpAccept=text%2Fxml\n",
            "https://api.elsevier.com/content/article/doi/10.1038/s41528-022-00144-0?apiKey=856d163d12a1f149d801ee44e166857e&httpAccept=text%2Fxml\n",
            "https://api.elsevier.com/content/article/doi/10.1038/s42004-022-00628-0?apiKey=856d163d12a1f149d801ee44e166857e&httpAccept=text%2Fxml\n",
            "https://api.elsevier.com/content/article/doi/10.1038/s41467-022-28380-y?apiKey=856d163d12a1f149d801ee44e166857e&httpAccept=text%2Fxml\n",
            "https://api.elsevier.com/content/article/doi/10.1038/s41467-022-28325-5?apiKey=856d163d12a1f149d801ee44e166857e&httpAccept=text%2Fxml\n",
            "https://api.elsevier.com/content/article/doi/10.1038/s41524-021-00693-4?apiKey=856d163d12a1f149d801ee44e166857e&httpAccept=text%2Fxml\n",
            "https://api.elsevier.com/content/article/doi/10.1038/s41467-022-28381-x?apiKey=856d163d12a1f149d801ee44e166857e&httpAccept=text%2Fxml\n",
            "https://api.elsevier.com/content/article/doi/10.1038/s41467-022-28176-0?apiKey=856d163d12a1f149d801ee44e166857e&httpAccept=text%2Fxml\n"
          ]
        }
      ]
    },
    {
      "cell_type": "code",
      "source": [
        "https://api.elsevier.com/content/article/doi/10.1016/j.jallcom.2022.163703?apiKey=856d163d12a1f149d801ee44e166857e&httpAccept=text%2Fxml"
      ],
      "metadata": {
        "colab": {
          "base_uri": "https://localhost:8080/",
          "height": 131
        },
        "id": "nxinvkrqpx5i",
        "outputId": "a124507b-5133-4f2c-e562-2cf162667c6b"
      },
      "execution_count": 32,
      "outputs": [
        {
          "output_type": "error",
          "ename": "SyntaxError",
          "evalue": "ignored",
          "traceback": [
            "\u001b[0;36m  File \u001b[0;32m\"<ipython-input-32-a5a84eda820d>\"\u001b[0;36m, line \u001b[0;32m1\u001b[0m\n\u001b[0;31m    https://api.elsevier.com/content/article/doi/10.1016/j.jallcom.2022.163703?apiKey=856d163d12a1f149d801ee44e166857e&httpAccept=text%2Fxml\u001b[0m\n\u001b[0m           ^\u001b[0m\n\u001b[0;31mSyntaxError\u001b[0m\u001b[0;31m:\u001b[0m invalid syntax\n"
          ]
        }
      ]
    },
    {
      "cell_type": "code",
      "source": [
        "https://api.elsevier.com/content/article/doi/10.1016/j.jallcom.2022.163703?apiKey=856d163d12a1f149d801ee44e166857e&httpAccept=text%2Fxml&view=FULL"
      ],
      "metadata": {
        "id": "GXAfxWf-pPE9"
      },
      "execution_count": null,
      "outputs": []
    },
    {
      "cell_type": "code",
      "source": [
        "for id in doi:\n",
        "  print(id)\n",
        "  download_doi(id)"
      ],
      "metadata": {
        "id": "vKh1BB7FnxBB"
      },
      "execution_count": null,
      "outputs": []
    }
  ]
}