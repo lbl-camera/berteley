{
  "cells": [
    {
      "cell_type": "markdown",
      "metadata": {
        "id": "view-in-github",
        "colab_type": "text"
      },
      "source": [
        "<a href=\"https://colab.research.google.com/github/dani-lbnl/mudit/blob/main/Battery_raw_dataclean.ipynb\" target=\"_parent\"><img src=\"https://colab.research.google.com/assets/colab-badge.svg\" alt=\"Open In Colab\"/></a>"
      ]
    },
    {
      "cell_type": "markdown",
      "source": [
        "### Scrape from Elsevier"
      ],
      "metadata": {
        "id": "Ubx6RR0BljMb"
      }
    },
    {
      "cell_type": "code",
      "source": [
        "!pip install elsapy"
      ],
      "metadata": {
        "colab": {
          "base_uri": "https://localhost:8080/"
        },
        "id": "dwTXgj--lU6C",
        "outputId": "c5ecb5bf-3f63-42a9-87be-c3de5dd79f75"
      },
      "execution_count": null,
      "outputs": [
        {
          "output_type": "stream",
          "name": "stdout",
          "text": [
            "Collecting elsapy\n",
            "  Downloading elsapy-0.5.0-py3-none-any.whl (12 kB)\n",
            "Requirement already satisfied: requests in /usr/local/lib/python3.7/dist-packages (from elsapy) (2.23.0)\n",
            "Requirement already satisfied: certifi>=2017.4.17 in /usr/local/lib/python3.7/dist-packages (from requests->elsapy) (2021.10.8)\n",
            "Requirement already satisfied: chardet<4,>=3.0.2 in /usr/local/lib/python3.7/dist-packages (from requests->elsapy) (3.0.4)\n",
            "Requirement already satisfied: urllib3!=1.25.0,!=1.25.1,<1.26,>=1.21.1 in /usr/local/lib/python3.7/dist-packages (from requests->elsapy) (1.24.3)\n",
            "Requirement already satisfied: idna<3,>=2.5 in /usr/local/lib/python3.7/dist-packages (from requests->elsapy) (2.10)\n",
            "Installing collected packages: elsapy\n",
            "Successfully installed elsapy-0.5.0\n"
          ]
        }
      ]
    },
    {
      "cell_type": "code",
      "source": [
        ""
      ],
      "metadata": {
        "id": "ixn2UIgClXxR"
      },
      "execution_count": null,
      "outputs": []
    },
    {
      "cell_type": "markdown",
      "source": [
        "### Run extraction code from input paper "
      ],
      "metadata": {
        "id": "cctdHRUyfdCC"
      }
    },
    {
      "cell_type": "code",
      "source": [
        "# mount drive\n",
        "from google.colab import drive\n",
        "drive.mount('/content/drive/')\n",
        "# actual folder is MyDrive/LBNL/Battery_database"
      ],
      "metadata": {
        "id": "jLFo3HmYfouG",
        "outputId": "9c5af11a-63ba-45fe-b79d-4a69a7856dd4",
        "colab": {
          "base_uri": "https://localhost:8080/"
        }
      },
      "execution_count": 4,
      "outputs": [
        {
          "output_type": "stream",
          "name": "stdout",
          "text": [
            "Mounted at /content/drive/\n"
          ]
        }
      ]
    },
    {
      "cell_type": "code",
      "source": [
        "!git clone https://github.com/ShuHuang/batterydatabase.git"
      ],
      "metadata": {
        "id": "06bdFGr7oK8-",
        "outputId": "b32b6370-e0d9-42ea-ac60-e60046584591",
        "colab": {
          "base_uri": "https://localhost:8080/"
        }
      },
      "execution_count": 5,
      "outputs": [
        {
          "output_type": "stream",
          "name": "stdout",
          "text": [
            "Cloning into 'batterydatabase'...\n",
            "remote: Enumerating objects: 398, done.\u001b[K\n",
            "remote: Counting objects: 100% (398/398), done.\u001b[K\n",
            "remote: Compressing objects: 100% (280/280), done.\u001b[K\n",
            "remote: Total 398 (delta 133), reused 374 (delta 112), pack-reused 0\u001b[K\n",
            "Receiving objects: 100% (398/398), 849.53 KiB | 4.47 MiB/s, done.\n",
            "Resolving deltas: 100% (133/133), done.\n"
          ]
        }
      ]
    },
    {
      "cell_type": "code",
      "source": [
        "!pip install chemdataextractor "
      ],
      "metadata": {
        "id": "4GF04hFHr-_3",
        "outputId": "3c0add52-da41-4450-e5b2-814364bd8172",
        "colab": {
          "base_uri": "https://localhost:8080/"
        }
      },
      "execution_count": 12,
      "outputs": [
        {
          "output_type": "stream",
          "name": "stdout",
          "text": [
            "Collecting chemdataextractor\n",
            "  Downloading ChemDataExtractor-1.3.0-py3-none-any.whl (182 kB)\n",
            "\u001b[K     |████████████████████████████████| 182 kB 7.0 MB/s \n",
            "\u001b[?25hRequirement already satisfied: appdirs in /usr/local/lib/python3.7/dist-packages (from chemdataextractor) (1.4.4)\n",
            "Collecting DAWG\n",
            "  Downloading DAWG-0.8.0.tar.gz (371 kB)\n",
            "\u001b[K     |████████████████████████████████| 371 kB 45.4 MB/s \n",
            "\u001b[?25hCollecting python-crfsuite\n",
            "  Downloading python_crfsuite-0.9.7-cp37-cp37m-manylinux1_x86_64.whl (743 kB)\n",
            "\u001b[K     |████████████████████████████████| 743 kB 41.4 MB/s \n",
            "\u001b[?25hRequirement already satisfied: beautifulsoup4 in /usr/local/lib/python3.7/dist-packages (from chemdataextractor) (4.6.3)\n",
            "Collecting pdfminer.six\n",
            "  Downloading pdfminer.six-20211012-py3-none-any.whl (5.6 MB)\n",
            "\u001b[K     |████████████████████████████████| 5.6 MB 27.4 MB/s \n",
            "\u001b[?25hRequirement already satisfied: requests in /usr/local/lib/python3.7/dist-packages (from chemdataextractor) (2.23.0)\n",
            "Requirement already satisfied: nltk in /usr/local/lib/python3.7/dist-packages (from chemdataextractor) (3.2.5)\n",
            "Collecting cssselect\n",
            "  Downloading cssselect-1.1.0-py2.py3-none-any.whl (16 kB)\n",
            "Requirement already satisfied: lxml in /usr/local/lib/python3.7/dist-packages (from chemdataextractor) (4.2.6)\n",
            "Requirement already satisfied: click in /usr/local/lib/python3.7/dist-packages (from chemdataextractor) (7.1.2)\n",
            "Requirement already satisfied: six in /usr/local/lib/python3.7/dist-packages (from chemdataextractor) (1.15.0)\n",
            "Requirement already satisfied: PyYAML in /usr/local/lib/python3.7/dist-packages (from chemdataextractor) (3.13)\n",
            "Requirement already satisfied: python-dateutil in /usr/local/lib/python3.7/dist-packages (from chemdataextractor) (2.8.2)\n",
            "Requirement already satisfied: chardet in /usr/local/lib/python3.7/dist-packages (from pdfminer.six->chemdataextractor) (3.0.4)\n",
            "Collecting cryptography\n",
            "  Downloading cryptography-36.0.1-cp36-abi3-manylinux_2_24_x86_64.whl (3.6 MB)\n",
            "\u001b[K     |████████████████████████████████| 3.6 MB 46.7 MB/s \n",
            "\u001b[?25hRequirement already satisfied: cffi>=1.12 in /usr/local/lib/python3.7/dist-packages (from cryptography->pdfminer.six->chemdataextractor) (1.15.0)\n",
            "Requirement already satisfied: pycparser in /usr/local/lib/python3.7/dist-packages (from cffi>=1.12->cryptography->pdfminer.six->chemdataextractor) (2.21)\n",
            "Requirement already satisfied: urllib3!=1.25.0,!=1.25.1,<1.26,>=1.21.1 in /usr/local/lib/python3.7/dist-packages (from requests->chemdataextractor) (1.24.3)\n",
            "Requirement already satisfied: certifi>=2017.4.17 in /usr/local/lib/python3.7/dist-packages (from requests->chemdataextractor) (2021.10.8)\n",
            "Requirement already satisfied: idna<3,>=2.5 in /usr/local/lib/python3.7/dist-packages (from requests->chemdataextractor) (2.10)\n",
            "Building wheels for collected packages: DAWG\n",
            "  Building wheel for DAWG (setup.py) ... \u001b[?25l\u001b[?25hdone\n",
            "  Created wheel for DAWG: filename=DAWG-0.8.0-cp37-cp37m-linux_x86_64.whl size=858921 sha256=afe1519cf974828eb895a63ed31b38cb81c58acaeda52aa958e07cd3c87952db\n",
            "  Stored in directory: /root/.cache/pip/wheels/85/51/a4/2de41ff197786537075027c27b479a38da92f50abc86634445\n",
            "Successfully built DAWG\n",
            "Installing collected packages: cryptography, python-crfsuite, pdfminer.six, DAWG, cssselect, chemdataextractor\n",
            "Successfully installed DAWG-0.8.0 chemdataextractor-1.3.0 cryptography-36.0.1 cssselect-1.1.0 pdfminer.six-20211012 python-crfsuite-0.9.7\n"
          ]
        }
      ]
    },
    {
      "cell_type": "code",
      "source": [
        "!cde data download"
      ],
      "metadata": {
        "id": "E3n1v1MssXDI",
        "outputId": "bdad85cd-9b07-4ebd-8384-4d006e2c567d",
        "colab": {
          "base_uri": "https://localhost:8080/"
        }
      },
      "execution_count": 13,
      "outputs": [
        {
          "output_type": "stream",
          "name": "stdout",
          "text": [
            "INFO:chemdataextractor.data:Downloading http://data.chemdataextractor.org/models/cem_crf-1.0.pickle to /root/.local/share/ChemDataExtractor/models/cem_crf-1.0.pickle\n",
            "INFO:chemdataextractor.data:Downloading http://data.chemdataextractor.org/models/cem_crf_chemdner_cemp-1.0.pickle to /root/.local/share/ChemDataExtractor/models/cem_crf_chemdner_cemp-1.0.pickle\n",
            "INFO:chemdataextractor.data:Downloading http://data.chemdataextractor.org/models/cem_dict_cs-1.0.pickle to /root/.local/share/ChemDataExtractor/models/cem_dict_cs-1.0.pickle\n",
            "INFO:chemdataextractor.data:Downloading http://data.chemdataextractor.org/models/cem_dict-1.0.pickle to /root/.local/share/ChemDataExtractor/models/cem_dict-1.0.pickle\n",
            "INFO:chemdataextractor.data:Downloading http://data.chemdataextractor.org/models/clusters_chem1500-1.0.pickle to /root/.local/share/ChemDataExtractor/models/clusters_chem1500-1.0.pickle\n",
            "INFO:chemdataextractor.data:Downloading http://data.chemdataextractor.org/models/pos_ap_genia_nocluster-1.0.pickle to /root/.local/share/ChemDataExtractor/models/pos_ap_genia_nocluster-1.0.pickle\n",
            "INFO:chemdataextractor.data:Downloading http://data.chemdataextractor.org/models/pos_ap_genia-1.0.pickle to /root/.local/share/ChemDataExtractor/models/pos_ap_genia-1.0.pickle\n",
            "INFO:chemdataextractor.data:Downloading http://data.chemdataextractor.org/models/pos_ap_wsj_genia_nocluster-1.0.pickle to /root/.local/share/ChemDataExtractor/models/pos_ap_wsj_genia_nocluster-1.0.pickle\n",
            "INFO:chemdataextractor.data:Downloading http://data.chemdataextractor.org/models/pos_ap_wsj_genia-1.0.pickle to /root/.local/share/ChemDataExtractor/models/pos_ap_wsj_genia-1.0.pickle\n",
            "INFO:chemdataextractor.data:Downloading http://data.chemdataextractor.org/models/pos_ap_wsj_nocluster-1.0.pickle to /root/.local/share/ChemDataExtractor/models/pos_ap_wsj_nocluster-1.0.pickle\n",
            "INFO:chemdataextractor.data:Downloading http://data.chemdataextractor.org/models/pos_ap_wsj-1.0.pickle to /root/.local/share/ChemDataExtractor/models/pos_ap_wsj-1.0.pickle\n",
            "INFO:chemdataextractor.data:Downloading http://data.chemdataextractor.org/models/pos_crf_genia_nocluster-1.0.pickle to /root/.local/share/ChemDataExtractor/models/pos_crf_genia_nocluster-1.0.pickle\n",
            "INFO:chemdataextractor.data:Downloading http://data.chemdataextractor.org/models/pos_crf_genia-1.0.pickle to /root/.local/share/ChemDataExtractor/models/pos_crf_genia-1.0.pickle\n",
            "INFO:chemdataextractor.data:Downloading http://data.chemdataextractor.org/models/pos_crf_wsj_genia_nocluster-1.0.pickle to /root/.local/share/ChemDataExtractor/models/pos_crf_wsj_genia_nocluster-1.0.pickle\n",
            "INFO:chemdataextractor.data:Downloading http://data.chemdataextractor.org/models/pos_crf_wsj_genia-1.0.pickle to /root/.local/share/ChemDataExtractor/models/pos_crf_wsj_genia-1.0.pickle\n",
            "INFO:chemdataextractor.data:Downloading http://data.chemdataextractor.org/models/pos_crf_wsj_nocluster-1.0.pickle to /root/.local/share/ChemDataExtractor/models/pos_crf_wsj_nocluster-1.0.pickle\n",
            "INFO:chemdataextractor.data:Downloading http://data.chemdataextractor.org/models/pos_crf_wsj-1.0.pickle to /root/.local/share/ChemDataExtractor/models/pos_crf_wsj-1.0.pickle\n",
            "INFO:chemdataextractor.data:Downloading http://data.chemdataextractor.org/models/punkt_chem-1.0.pickle to /root/.local/share/ChemDataExtractor/models/punkt_chem-1.0.pickle\n",
            "Successfully downloaded 18 new data packages (0 existing)\n"
          ]
        }
      ]
    },
    {
      "cell_type": "code",
      "source": [
        "! pip install -r batterydatabase/requirements.txt"
      ],
      "metadata": {
        "id": "VJeYlXWdsiZp",
        "outputId": "91d4cf9e-9826-4a71-cc16-1267dea91ec1",
        "colab": {
          "base_uri": "https://localhost:8080/",
          "height": 1000
        }
      },
      "execution_count": 14,
      "outputs": [
        {
          "output_type": "stream",
          "name": "stdout",
          "text": [
            "Requirement already satisfied: regex in /usr/local/lib/python3.7/dist-packages (from -r batterydatabase/requirements.txt (line 1)) (2019.12.20)\n",
            "Collecting colorama\n",
            "  Downloading colorama-0.4.4-py2.py3-none-any.whl (16 kB)\n",
            "Collecting sympy==1.5.1\n",
            "  Downloading sympy-1.5.1-py2.py3-none-any.whl (5.6 MB)\n",
            "\u001b[K     |████████████████████████████████| 5.6 MB 6.1 MB/s \n",
            "\u001b[?25hCollecting pubchempy==1.0.4\n",
            "  Downloading PubChemPy-1.0.4.tar.gz (29 kB)\n",
            "Collecting pymongo==3.10.1\n",
            "  Downloading pymongo-3.10.1-cp37-cp37m-manylinux2014_x86_64.whl (462 kB)\n",
            "\u001b[K     |████████████████████████████████| 462 kB 60.3 MB/s \n",
            "\u001b[?25hCollecting selenium==4.0.0\n",
            "  Downloading selenium-4.0.0-py3-none-any.whl (954 kB)\n",
            "\u001b[K     |████████████████████████████████| 954 kB 52.6 MB/s \n",
            "\u001b[?25hRequirement already satisfied: mpmath>=0.19 in /usr/local/lib/python3.7/dist-packages (from sympy==1.5.1->-r batterydatabase/requirements.txt (line 3)) (1.2.1)\n",
            "Collecting trio~=0.17\n",
            "  Downloading trio-0.20.0-py3-none-any.whl (359 kB)\n",
            "\u001b[K     |████████████████████████████████| 359 kB 48.4 MB/s \n",
            "\u001b[?25hCollecting trio-websocket~=0.9\n",
            "  Downloading trio_websocket-0.9.2-py3-none-any.whl (16 kB)\n",
            "Collecting urllib3[secure]~=1.26\n",
            "  Downloading urllib3-1.26.8-py2.py3-none-any.whl (138 kB)\n",
            "\u001b[K     |████████████████████████████████| 138 kB 62.6 MB/s \n",
            "\u001b[?25hCollecting async-generator>=1.9\n",
            "  Downloading async_generator-1.10-py3-none-any.whl (18 kB)\n",
            "Collecting sniffio\n",
            "  Downloading sniffio-1.2.0-py3-none-any.whl (10 kB)\n",
            "Collecting outcome\n",
            "  Downloading outcome-1.1.0-py2.py3-none-any.whl (9.7 kB)\n",
            "Requirement already satisfied: idna in /usr/local/lib/python3.7/dist-packages (from trio~=0.17->selenium==4.0.0->-r batterydatabase/requirements.txt (line 6)) (2.10)\n",
            "Requirement already satisfied: attrs>=19.2.0 in /usr/local/lib/python3.7/dist-packages (from trio~=0.17->selenium==4.0.0->-r batterydatabase/requirements.txt (line 6)) (21.4.0)\n",
            "Requirement already satisfied: sortedcontainers in /usr/local/lib/python3.7/dist-packages (from trio~=0.17->selenium==4.0.0->-r batterydatabase/requirements.txt (line 6)) (2.4.0)\n",
            "Collecting wsproto>=0.14\n",
            "  Downloading wsproto-1.1.0-py3-none-any.whl (24 kB)\n",
            "Requirement already satisfied: certifi in /usr/local/lib/python3.7/dist-packages (from urllib3[secure]~=1.26->selenium==4.0.0->-r batterydatabase/requirements.txt (line 6)) (2021.10.8)\n",
            "Requirement already satisfied: cryptography>=1.3.4 in /usr/local/lib/python3.7/dist-packages (from urllib3[secure]~=1.26->selenium==4.0.0->-r batterydatabase/requirements.txt (line 6)) (36.0.1)\n",
            "Collecting pyOpenSSL>=0.14\n",
            "  Downloading pyOpenSSL-22.0.0-py2.py3-none-any.whl (55 kB)\n",
            "\u001b[K     |████████████████████████████████| 55 kB 3.7 MB/s \n",
            "\u001b[?25hRequirement already satisfied: cffi>=1.12 in /usr/local/lib/python3.7/dist-packages (from cryptography>=1.3.4->urllib3[secure]~=1.26->selenium==4.0.0->-r batterydatabase/requirements.txt (line 6)) (1.15.0)\n",
            "Requirement already satisfied: pycparser in /usr/local/lib/python3.7/dist-packages (from cffi>=1.12->cryptography>=1.3.4->urllib3[secure]~=1.26->selenium==4.0.0->-r batterydatabase/requirements.txt (line 6)) (2.21)\n",
            "Collecting h11<1,>=0.9.0\n",
            "  Downloading h11-0.13.0-py3-none-any.whl (58 kB)\n",
            "\u001b[K     |████████████████████████████████| 58 kB 5.5 MB/s \n",
            "\u001b[?25hRequirement already satisfied: typing-extensions in /usr/local/lib/python3.7/dist-packages (from h11<1,>=0.9.0->wsproto>=0.14->trio-websocket~=0.9->selenium==4.0.0->-r batterydatabase/requirements.txt (line 6)) (3.10.0.2)\n",
            "Building wheels for collected packages: pubchempy\n",
            "  Building wheel for pubchempy (setup.py) ... \u001b[?25l\u001b[?25hdone\n",
            "  Created wheel for pubchempy: filename=PubChemPy-1.0.4-py3-none-any.whl size=13834 sha256=39b0ed9dd1962a16e4c18561148e22bc5b602f7f5a30c43919fb24aa7827c1d1\n",
            "  Stored in directory: /root/.cache/pip/wheels/7c/3d/8c/8192697412e9899dc55bbbb08bbc1197bef333caaa2a71c448\n",
            "Successfully built pubchempy\n",
            "Installing collected packages: sniffio, outcome, h11, async-generator, wsproto, urllib3, trio, pyOpenSSL, trio-websocket, sympy, selenium, pymongo, pubchempy, colorama\n",
            "  Attempting uninstall: urllib3\n",
            "    Found existing installation: urllib3 1.24.3\n",
            "    Uninstalling urllib3-1.24.3:\n",
            "      Successfully uninstalled urllib3-1.24.3\n",
            "  Attempting uninstall: sympy\n",
            "    Found existing installation: sympy 1.7.1\n",
            "    Uninstalling sympy-1.7.1:\n",
            "      Successfully uninstalled sympy-1.7.1\n",
            "  Attempting uninstall: pymongo\n",
            "    Found existing installation: pymongo 4.0.1\n",
            "    Uninstalling pymongo-4.0.1:\n",
            "      Successfully uninstalled pymongo-4.0.1\n",
            "\u001b[31mERROR: pip's dependency resolver does not currently take into account all the packages that are installed. This behaviour is the source of the following dependency conflicts.\n",
            "requests 2.23.0 requires urllib3!=1.25.0,!=1.25.1,<1.26,>=1.21.1, but you have urllib3 1.26.8 which is incompatible.\n",
            "datascience 0.10.6 requires folium==0.2.1, but you have folium 0.8.3 which is incompatible.\u001b[0m\n",
            "Successfully installed async-generator-1.10 colorama-0.4.4 h11-0.13.0 outcome-1.1.0 pubchempy-1.0.4 pyOpenSSL-22.0.0 pymongo-3.10.1 selenium-4.0.0 sniffio-1.2.0 sympy-1.5.1 trio-0.20.0 trio-websocket-0.9.2 urllib3-1.26.8 wsproto-1.1.0\n"
          ]
        },
        {
          "output_type": "display_data",
          "data": {
            "application/vnd.colab-display-data+json": {
              "pip_warning": {
                "packages": [
                  "urllib3"
                ]
              }
            }
          },
          "metadata": {}
        }
      ]
    },
    {
      "cell_type": "code",
      "source": [
        "!python batterydatabase/extract.py --input_dir batterydatabase/test/ --output_dir batterydatabase/save/ --start 0 --end 1 --save_name raw_data_test"
      ],
      "metadata": {
        "id": "DO5_wsw-fIMA",
        "outputId": "28a0a563-d7fb-4df9-f030-8f7458e2ceef",
        "colab": {
          "base_uri": "https://localhost:8080/"
        }
      },
      "execution_count": 17,
      "outputs": [
        {
          "output_type": "stream",
          "name": "stdout",
          "text": [
            "/usr/local/lib/python3.7/dist-packages/requests/__init__.py:91: RequestsDependencyWarning: urllib3 (1.26.8) or chardet (3.0.4) doesn't match a supported version!\n",
            "  RequestsDependencyWarning)\n",
            "parsing batterydatabase/test//10.1039_a9rp90001b.html\n",
            "[{'BatteryVoltage': {'raw_value': '3.7', 'raw_units': 'V', 'value': '[3.7]', 'units': 'Volt^(1.0)', 'specifier': 'voltage', 'compound': {'Compound': {'names': ['LiFePO4']}}}}, {'Compound': {'names': ['LiFePO4']}}, {'Compound': {'labels': ['V']}}, {'BatteryCapacity': {'raw_value': '372', 'raw_units': 'mAh/g', 'value': '[372.0]', 'units': 'Gram^(-1.0)  Hour^(1.0)  MilliAmpere^(1.0)', 'specifier': 'capacity', 'compound': {'Compound': {'names': ['graphite']}}}}, {'Compound': {'names': ['graphite']}}]\n",
            "2 relations in total\n",
            "batterydatabase/test//10.1039_a9rp90001b.html is done\n"
          ]
        }
      ]
    },
    {
      "cell_type": "markdown",
      "metadata": {
        "id": "_SOyyiylCcBE"
      },
      "source": [
        "### Data cleaning and normalization of raw data\n",
        "\n",
        "In this demo, the raw data extracted by chemdataextractor_batteries will be cleaned and normalized including the following steps: removing the incorrect data records, processing compound names, and creating different versions of databases. "
      ]
    },
    {
      "cell_type": "code",
      "execution_count": 20,
      "metadata": {
        "id": "YIYoicAKCcBI"
      },
      "outputs": [],
      "source": [
        "import json\n",
        "import pandas as pd\n",
        "raw_data = []\n",
        "fileroot = 'batterydatabase/save/raw_data_test.json'\n",
        "with open(fileroot, encoding='utf-8') as f:\n",
        "    for line in f:\n",
        "        raw_data.append(json.loads(line))"
      ]
    },
    {
      "cell_type": "code",
      "source": [
        "raw_data"
      ],
      "metadata": {
        "id": "jW4Loudy1aHk",
        "outputId": "2e6efa56-34d9-4cdc-a087-a868755320b2",
        "colab": {
          "base_uri": "https://localhost:8080/"
        }
      },
      "execution_count": 21,
      "outputs": [
        {
          "output_type": "execute_result",
          "data": {
            "text/plain": [
              "[{'BatteryVoltage': {'compound': {'Compound': {'names': ['LiFePO4']}},\n",
              "   'names': 'LiFePO4',\n",
              "   'raw_units': 'V',\n",
              "   'raw_value': '3.7',\n",
              "   'specifier': 'voltage',\n",
              "   'units': 'Volt^(1.0)',\n",
              "   'value': 3.7},\n",
              "  'metadata': {'authors': ['Alex H.\\xa0Johnstone', 'Alex H.\\xa0Johnstone'],\n",
              "   'date': '2000/01/01',\n",
              "   'doi': '10.1039/A9RP90001B',\n",
              "   'firstpage': '9',\n",
              "   'html_url': 'https://pubs.rsc.org/en/content/articlelanding/2000/rp/a9rp90001b',\n",
              "   'issue': '1',\n",
              "   'journal': 'Chemistry Education Research and Practice',\n",
              "   'language': 'en',\n",
              "   'lastpage': '15',\n",
              "   'pdf_url': 'https://pubs.rsc.org/en/content/articlepdf/2000/rp/a9rp90001b',\n",
              "   'publisher': 'Royal Society of Chemistry',\n",
              "   'title': 'TEACHING OF CHEMISTRY - LOGICAL OR PSYCHOLOGICAL? ',\n",
              "   'volume': '1'},\n",
              "  'warning': 1},\n",
              " {'BatteryCapacity': {'compound': {'Compound': {'names': ['graphite']}},\n",
              "   'names': 'graphite',\n",
              "   'raw_units': 'mAh/g',\n",
              "   'raw_value': '372',\n",
              "   'specifier': 'capacity',\n",
              "   'units': 'Gram^(-1.0)  Hour^(1.0)  MilliAmpere^(1.0)',\n",
              "   'value': 372.0},\n",
              "  'metadata': {'authors': ['Alex H.\\xa0Johnstone', 'Alex H.\\xa0Johnstone'],\n",
              "   'date': '2000/01/01',\n",
              "   'doi': '10.1039/A9RP90001B',\n",
              "   'firstpage': '9',\n",
              "   'html_url': 'https://pubs.rsc.org/en/content/articlelanding/2000/rp/a9rp90001b',\n",
              "   'issue': '1',\n",
              "   'journal': 'Chemistry Education Research and Practice',\n",
              "   'language': 'en',\n",
              "   'lastpage': '15',\n",
              "   'pdf_url': 'https://pubs.rsc.org/en/content/articlepdf/2000/rp/a9rp90001b',\n",
              "   'publisher': 'Royal Society of Chemistry',\n",
              "   'title': 'TEACHING OF CHEMISTRY - LOGICAL OR PSYCHOLOGICAL? ',\n",
              "   'volume': '1'},\n",
              "  'warning': 1}]"
            ]
          },
          "metadata": {},
          "execution_count": 21
        }
      ]
    },
    {
      "cell_type": "code",
      "execution_count": 22,
      "metadata": {
        "id": "kRolVwbrCcBK"
      },
      "outputs": [],
      "source": [
        "def convert_rawdata(raw_data):\n",
        "    \"\"\"\n",
        "    Data tables created with columns including Property, Name, Raw_value, Raw_unit, Value, Unit,\n",
        "    DOI, Title, Journal, Date, Specifier, Correctness, Tag, Info, and Warning.\n",
        "    \"\"\"\n",
        "    new_dic = {}\n",
        "    property_raw = list(raw_data.keys())[0]\n",
        "    propertyname = property_raw.split('Battery')[-1]\n",
        "    new_dic['Property'] = propertyname\n",
        "    new_dic['name'] = raw_data[property_raw]['compound']['Compound']['names']\n",
        "    new_dic['Raw_value'] = raw_data[property_raw]['raw_value']\n",
        "    new_dic['Raw_unit'] = raw_data[property_raw]['raw_units']\n",
        "    new_dic['Value'] = raw_data[property_raw]['value']\n",
        "    new_dic['Unit'] = raw_data[property_raw]['units']\n",
        "    \n",
        "    new_dic['DOI'] = raw_data['metadata']['doi']\n",
        "    new_dic['Title'] = raw_data['metadata']['title']\n",
        "    new_dic['Journal'] = raw_data['metadata']['journal']\n",
        "    new_dic['Date'] = raw_data['metadata']['date']\n",
        "    \n",
        "    if 'specifier' in raw_data[property_raw]:\n",
        "        new_dic['Specifier'] = raw_data[property_raw]['specifier']\n",
        "    else: \n",
        "        new_dic['Specifier'] = 'None'\n",
        "    new_dic['Correctness'] = 'None'\n",
        "    new_dic['Tag'] = 'CDE'\n",
        "    \n",
        "    new_dic['Info'] = {}\n",
        "    if propertyname == 'Capacity':\n",
        "        if 'current_value' in raw_data['BatteryCapacity']:\n",
        "            new_dic['Info']['current_value'] = raw_data['BatteryCapacity']['current_value']\n",
        "        if 'current_units' in raw_data['BatteryCapacity']:\n",
        "            new_dic['Info']['current_units'] = raw_data['BatteryCapacity']['current_units']\n",
        "        if 'cycle_value' in raw_data['BatteryCapacity']:\n",
        "            new_dic['Info']['cycle_value'] = raw_data['BatteryCapacity']['cycle_value']\n",
        "        if 'cycle_units' in raw_data['BatteryCapacity']:\n",
        "            new_dic['Info']['cycle_units'] = raw_data['BatteryCapacity']['cycle_units']\n",
        "    if new_dic['Info'] == {}:\n",
        "        new_dic['Info'] = \"None\"\n",
        "    if propertyname == 'Coulombic':\n",
        "        new_dic['Property'] = 'Coulombic Efficiency'\n",
        "    if 'warning' in list(raw_data.keys()):\n",
        "        new_dic['Warning'] = 'R'\n",
        "    else:\n",
        "        new_dic['Warning'] = 'None'\n",
        "            \n",
        "    return new_dic"
      ]
    },
    {
      "cell_type": "code",
      "execution_count": 23,
      "metadata": {
        "scrolled": true,
        "id": "WdrBi1kaCcBL"
      },
      "outputs": [],
      "source": [
        "# Create the data tables as dictionaries and pandas dataframe.\n",
        "newdata = []\n",
        "for data in raw_data:\n",
        "        newdata0 = convert_rawdata(data)\n",
        "        newdata.append(newdata0)\n",
        "df = pd.DataFrame(newdata)\n",
        "df = df.drop(columns=['Value'])\n",
        "df = df.loc[df.astype(str).drop_duplicates().index]"
      ]
    },
    {
      "cell_type": "code",
      "source": [
        "df"
      ],
      "metadata": {
        "colab": {
          "base_uri": "https://localhost:8080/",
          "height": 226
        },
        "id": "y9Q80MKhFFLl",
        "outputId": "bec23542-712f-4aeb-e14f-226407b23a0f"
      },
      "execution_count": 24,
      "outputs": [
        {
          "output_type": "execute_result",
          "data": {
            "text/html": [
              "\n",
              "  <div id=\"df-a1309850-d025-46ad-8015-a5723a80a820\">\n",
              "    <div class=\"colab-df-container\">\n",
              "      <div>\n",
              "<style scoped>\n",
              "    .dataframe tbody tr th:only-of-type {\n",
              "        vertical-align: middle;\n",
              "    }\n",
              "\n",
              "    .dataframe tbody tr th {\n",
              "        vertical-align: top;\n",
              "    }\n",
              "\n",
              "    .dataframe thead th {\n",
              "        text-align: right;\n",
              "    }\n",
              "</style>\n",
              "<table border=\"1\" class=\"dataframe\">\n",
              "  <thead>\n",
              "    <tr style=\"text-align: right;\">\n",
              "      <th></th>\n",
              "      <th>Property</th>\n",
              "      <th>name</th>\n",
              "      <th>Raw_value</th>\n",
              "      <th>Raw_unit</th>\n",
              "      <th>Unit</th>\n",
              "      <th>DOI</th>\n",
              "      <th>Title</th>\n",
              "      <th>Journal</th>\n",
              "      <th>Date</th>\n",
              "      <th>Specifier</th>\n",
              "      <th>Correctness</th>\n",
              "      <th>Tag</th>\n",
              "      <th>Info</th>\n",
              "      <th>Warning</th>\n",
              "    </tr>\n",
              "  </thead>\n",
              "  <tbody>\n",
              "    <tr>\n",
              "      <th>0</th>\n",
              "      <td>Voltage</td>\n",
              "      <td>[LiFePO4]</td>\n",
              "      <td>3.7</td>\n",
              "      <td>V</td>\n",
              "      <td>Volt^(1.0)</td>\n",
              "      <td>10.1039/A9RP90001B</td>\n",
              "      <td>TEACHING OF CHEMISTRY - LOGICAL OR PSYCHOLOGIC...</td>\n",
              "      <td>Chemistry Education Research and Practice</td>\n",
              "      <td>2000/01/01</td>\n",
              "      <td>voltage</td>\n",
              "      <td>None</td>\n",
              "      <td>CDE</td>\n",
              "      <td>None</td>\n",
              "      <td>R</td>\n",
              "    </tr>\n",
              "    <tr>\n",
              "      <th>1</th>\n",
              "      <td>Capacity</td>\n",
              "      <td>[graphite]</td>\n",
              "      <td>372</td>\n",
              "      <td>mAh/g</td>\n",
              "      <td>Gram^(-1.0)  Hour^(1.0)  MilliAmpere^(1.0)</td>\n",
              "      <td>10.1039/A9RP90001B</td>\n",
              "      <td>TEACHING OF CHEMISTRY - LOGICAL OR PSYCHOLOGIC...</td>\n",
              "      <td>Chemistry Education Research and Practice</td>\n",
              "      <td>2000/01/01</td>\n",
              "      <td>capacity</td>\n",
              "      <td>None</td>\n",
              "      <td>CDE</td>\n",
              "      <td>None</td>\n",
              "      <td>R</td>\n",
              "    </tr>\n",
              "  </tbody>\n",
              "</table>\n",
              "</div>\n",
              "      <button class=\"colab-df-convert\" onclick=\"convertToInteractive('df-a1309850-d025-46ad-8015-a5723a80a820')\"\n",
              "              title=\"Convert this dataframe to an interactive table.\"\n",
              "              style=\"display:none;\">\n",
              "        \n",
              "  <svg xmlns=\"http://www.w3.org/2000/svg\" height=\"24px\"viewBox=\"0 0 24 24\"\n",
              "       width=\"24px\">\n",
              "    <path d=\"M0 0h24v24H0V0z\" fill=\"none\"/>\n",
              "    <path d=\"M18.56 5.44l.94 2.06.94-2.06 2.06-.94-2.06-.94-.94-2.06-.94 2.06-2.06.94zm-11 1L8.5 8.5l.94-2.06 2.06-.94-2.06-.94L8.5 2.5l-.94 2.06-2.06.94zm10 10l.94 2.06.94-2.06 2.06-.94-2.06-.94-.94-2.06-.94 2.06-2.06.94z\"/><path d=\"M17.41 7.96l-1.37-1.37c-.4-.4-.92-.59-1.43-.59-.52 0-1.04.2-1.43.59L10.3 9.45l-7.72 7.72c-.78.78-.78 2.05 0 2.83L4 21.41c.39.39.9.59 1.41.59.51 0 1.02-.2 1.41-.59l7.78-7.78 2.81-2.81c.8-.78.8-2.07 0-2.86zM5.41 20L4 18.59l7.72-7.72 1.47 1.35L5.41 20z\"/>\n",
              "  </svg>\n",
              "      </button>\n",
              "      \n",
              "  <style>\n",
              "    .colab-df-container {\n",
              "      display:flex;\n",
              "      flex-wrap:wrap;\n",
              "      gap: 12px;\n",
              "    }\n",
              "\n",
              "    .colab-df-convert {\n",
              "      background-color: #E8F0FE;\n",
              "      border: none;\n",
              "      border-radius: 50%;\n",
              "      cursor: pointer;\n",
              "      display: none;\n",
              "      fill: #1967D2;\n",
              "      height: 32px;\n",
              "      padding: 0 0 0 0;\n",
              "      width: 32px;\n",
              "    }\n",
              "\n",
              "    .colab-df-convert:hover {\n",
              "      background-color: #E2EBFA;\n",
              "      box-shadow: 0px 1px 2px rgba(60, 64, 67, 0.3), 0px 1px 3px 1px rgba(60, 64, 67, 0.15);\n",
              "      fill: #174EA6;\n",
              "    }\n",
              "\n",
              "    [theme=dark] .colab-df-convert {\n",
              "      background-color: #3B4455;\n",
              "      fill: #D2E3FC;\n",
              "    }\n",
              "\n",
              "    [theme=dark] .colab-df-convert:hover {\n",
              "      background-color: #434B5C;\n",
              "      box-shadow: 0px 1px 3px 1px rgba(0, 0, 0, 0.15);\n",
              "      filter: drop-shadow(0px 1px 2px rgba(0, 0, 0, 0.3));\n",
              "      fill: #FFFFFF;\n",
              "    }\n",
              "  </style>\n",
              "\n",
              "      <script>\n",
              "        const buttonEl =\n",
              "          document.querySelector('#df-a1309850-d025-46ad-8015-a5723a80a820 button.colab-df-convert');\n",
              "        buttonEl.style.display =\n",
              "          google.colab.kernel.accessAllowed ? 'block' : 'none';\n",
              "\n",
              "        async function convertToInteractive(key) {\n",
              "          const element = document.querySelector('#df-a1309850-d025-46ad-8015-a5723a80a820');\n",
              "          const dataTable =\n",
              "            await google.colab.kernel.invokeFunction('convertToInteractive',\n",
              "                                                     [key], {});\n",
              "          if (!dataTable) return;\n",
              "\n",
              "          const docLinkHtml = 'Like what you see? Visit the ' +\n",
              "            '<a target=\"_blank\" href=https://colab.research.google.com/notebooks/data_table.ipynb>data table notebook</a>'\n",
              "            + ' to learn more about interactive tables.';\n",
              "          element.innerHTML = '';\n",
              "          dataTable['output_type'] = 'display_data';\n",
              "          await google.colab.output.renderOutput(dataTable, element);\n",
              "          const docLink = document.createElement('div');\n",
              "          docLink.innerHTML = docLinkHtml;\n",
              "          element.appendChild(docLink);\n",
              "        }\n",
              "      </script>\n",
              "    </div>\n",
              "  </div>\n",
              "  "
            ],
            "text/plain": [
              "   Property        name Raw_value Raw_unit  \\\n",
              "0   Voltage   [LiFePO4]       3.7        V   \n",
              "1  Capacity  [graphite]       372    mAh/g   \n",
              "\n",
              "                                         Unit                 DOI  \\\n",
              "0                                  Volt^(1.0)  10.1039/A9RP90001B   \n",
              "1  Gram^(-1.0)  Hour^(1.0)  MilliAmpere^(1.0)  10.1039/A9RP90001B   \n",
              "\n",
              "                                               Title  \\\n",
              "0  TEACHING OF CHEMISTRY - LOGICAL OR PSYCHOLOGIC...   \n",
              "1  TEACHING OF CHEMISTRY - LOGICAL OR PSYCHOLOGIC...   \n",
              "\n",
              "                                     Journal        Date Specifier  \\\n",
              "0  Chemistry Education Research and Practice  2000/01/01   voltage   \n",
              "1  Chemistry Education Research and Practice  2000/01/01  capacity   \n",
              "\n",
              "  Correctness  Tag  Info Warning  \n",
              "0        None  CDE  None       R  \n",
              "1        None  CDE  None       R  "
            ]
          },
          "metadata": {},
          "execution_count": 24
        }
      ]
    },
    {
      "cell_type": "code",
      "execution_count": 25,
      "metadata": {
        "id": "GziF6h-lCcBL"
      },
      "outputs": [],
      "source": [
        "def capfirst(s):\n",
        "    \"\"\"Capitalize the first letter. Remain unchanged for others.\"\"\"\n",
        "    return s[:1].upper() + s[1:]"
      ]
    },
    {
      "cell_type": "code",
      "execution_count": 26,
      "metadata": {
        "id": "HhCUGEKzCcBM"
      },
      "outputs": [],
      "source": [
        "import re\n",
        "def extract_value(string):\n",
        "    \"\"\"\n",
        "    Takes a string and returns a list of floats representing the string given.\n",
        "    Usage::\n",
        "        test_string = '150 to 160'\n",
        "        end_value = extract_value(test_string)\n",
        "        print(end_value) # [150., 160.]\n",
        "    :param str string: A representation of the values as a string\n",
        "    :returns: The value expressed as a list of floats of length 1 if the value had no range,\n",
        "        and as a list of floats of length 2 if it was a range.\n",
        "    :rtype: list(float)\n",
        "    \"\"\"\n",
        "    if string is None:\n",
        "        return None\n",
        "    string = string.replace(\"-\", \"-\")\n",
        "    string = string.replace(\"–\", \"-\")\n",
        "    string = string.replace(\"−\", \"-\")\n",
        "    string = string.replace(\",\", \" \")\n",
        "    string = string.split(\"±\")[0]\n",
        "    split_by_space = [r for r in re.split(' |(-)', string) if r]\n",
        "    split_by_num = []\n",
        "    for elem in split_by_space:\n",
        "        split_by_num.extend([r for r in re.split('(\\d+\\.?(?:\\d+)?)', elem) if r])\n",
        "    try:\n",
        "        if split_by_num[0] == \"-\":\n",
        "            split_by_num[0] = \"-\" + split_by_num.pop(1)\n",
        "    except:\n",
        "        pass\n",
        "    flag = 0\n",
        "    new_split_by_num = []\n",
        "    for index, value in enumerate(split_by_num):\n",
        "        if flag == 2:\n",
        "            new_split_by_num.append(split_by_num[index - 2])\n",
        "            new_split_by_num.append(split_by_num[index - 1] + value)\n",
        "            flag = 0\n",
        "        elif flag == 1 and re.match('(-?\\d+\\.?(?:\\d+)?)', value):\n",
        "            new_split_by_num.append(split_by_num[index - 1])\n",
        "            new_split_by_num.append(value)\n",
        "            flag = 0\n",
        "        elif not re.match('(-?\\d+\\.?(?:\\d+)?)', value):\n",
        "            flag += 1\n",
        "        else:\n",
        "            new_split_by_num.append(value)\n",
        "    values = []\n",
        "    for index, value in enumerate(new_split_by_num):\n",
        "        try:\n",
        "            float_val = float(value)\n",
        "            float_val = abs(float_val)\n",
        "            values.append(float_val)\n",
        "        except ValueError:\n",
        "            pass\n",
        "    return values\n",
        "\n",
        "\n",
        "def extract_conduct_number(number):\n",
        "    \"\"\"Extract conductivity value with power\"\"\"\n",
        "    if re.findall(r'(\\d+.)?\\d+ × 10( )?[−−−-]( )?\\d', number):\n",
        "        numbers = extract_value(number)\n",
        "        try:\n",
        "            extracted_value = numbers[-3] * numbers[-2] ** -numbers[-1]\n",
        "        except BaseException:\n",
        "            return False\n",
        "    elif re.findall(r'10( )?[−−−-]( )?\\d', number):\n",
        "        numbers = extract_value(number)\n",
        "        extracted_value = numbers[-2] ** -numbers[-1]\n",
        "    elif re.findall(r'(\\d+.)?\\d+ × 10\\d', number):\n",
        "        numbers = extract_value(number)\n",
        "        try:\n",
        "            extracted_value = numbers[-2] * 10 ** (numbers[-1] - 100)\n",
        "        except BaseException:\n",
        "            return False\n",
        "    elif re.findall('^10[1-9]$', number):\n",
        "        numbers = extract_value(number)\n",
        "        extracted_value = 10 ** (numbers[-1] - 100)\n",
        "    else:\n",
        "        extracted_value = extract_value(number)\n",
        "    return extracted_value\n",
        "\n",
        "\n",
        "def extract_conduct_value(string):\n",
        "    \"\"\"\n",
        "    Extract conductivity values\n",
        "    :param string:\n",
        "    :return:\n",
        "    \"\"\"\n",
        "#     if re.match('[−−−-]? \\d (and|to|[−−−–-]) \\d', 'string'):\n",
        "#         string_list = re.split('and|to|[^10][−−−–-]]', string)\n",
        "        \n",
        "    if 'and' in string or 'to' in string or \",\" in string:\n",
        "        string_list = re.split('and|to|,', string)\n",
        "    else:\n",
        "        string_list = [string]\n",
        "    extracted_values = []\n",
        "    for number in string_list:\n",
        "        extracted_value = extract_conduct_number(number)\n",
        "        extracted_values.append(extracted_value)\n",
        "\n",
        "    extracted_values_final = []\n",
        "    for value in extracted_values:\n",
        "        if type(value) != list:\n",
        "            extracted_values_final.append(value)\n",
        "        else:\n",
        "            for value_in_list in value:\n",
        "                if value_in_list != []:\n",
        "                    extracted_values_final.append(value_in_list)      \n",
        "    return extracted_values_final\n"
      ]
    },
    {
      "cell_type": "code",
      "execution_count": 27,
      "metadata": {
        "id": "Ge9GNOQNCcBN"
      },
      "outputs": [],
      "source": [
        "# Convert raw values into standard formula\n",
        "value = df.apply(lambda df: extract_value(df['Raw_value']) if df['Property'] != \"Conductivity\" else extract_conduct_value(df['Raw_value']) , axis=1)"
      ]
    },
    {
      "cell_type": "code",
      "execution_count": 28,
      "metadata": {
        "id": "Jsm-aLqKCcBN"
      },
      "outputs": [],
      "source": [
        "# New dictionary df_dic with normalized value\n",
        "df.insert(loc=4, column=\"value\", value=value, allow_duplicates=False)\n",
        "df.insert(loc=5, column='Value', value='v')\n",
        "df.insert(loc=6, column='Name', value='n')\n",
        "df_dic = df.to_dict(orient='records')"
      ]
    },
    {
      "cell_type": "code",
      "execution_count": 29,
      "metadata": {
        "id": "Gvt-ZD4FCcBO"
      },
      "outputs": [],
      "source": [
        "import copy\n",
        "df_dics = []\n",
        "for i, row in enumerate(df_dic):\n",
        "    name_list = [capfirst(na) for na in row['name']]\n",
        "    name = list(sorted(set(name_list), key=name_list.index))\n",
        "    value = row['value']\n",
        "    row['Type'] = 'None'\n",
        "    if len(name) == 1 and len(value) == 1:\n",
        "        row['Name'] = capfirst(name[0])\n",
        "        row['Value'] = value[0]\n",
        "        df_dics.append(row)\n",
        "    elif len(name) ==1 and len(value) >1:\n",
        "        for v in value:\n",
        "            new_row = copy.deepcopy(row)\n",
        "            new_row['Name'] = capfirst(name[0]) \n",
        "            new_row['Value'] = v\n",
        "            df_dics.append(new_row)\n",
        "    elif len(name) >1 and len(value) == 1:\n",
        "        for n in name:\n",
        "            new_row = copy.deepcopy(row)\n",
        "            new_row['Name'] = capfirst(n) \n",
        "            new_row['Value'] = value[0]\n",
        "            df_dics.append(new_row)\n",
        "    elif len(name) == len(value) and len(name)>1:\n",
        "        for index in range(len(name)):\n",
        "            new_row = copy.deepcopy(row)\n",
        "            new_row['Name'] = capfirst(name[index])\n",
        "            new_row['Value'] = value[index]\n",
        "            df_dics.append(new_row)\n",
        "    else:\n",
        "        for nindex in range(len(name)):\n",
        "            for vindex in range(len(value)):\n",
        "                new_row = copy.deepcopy(row)\n",
        "                new_row['Name'] = capfirst(name[nindex]) \n",
        "                new_row['Value'] = value[vindex]\n",
        "                df_dics.append(new_row)"
      ]
    },
    {
      "cell_type": "code",
      "execution_count": 30,
      "metadata": {
        "id": "9pJ9XSXZCcBP",
        "outputId": "bf58f78c-f094-4829-ce7d-5c8b256ae22a",
        "colab": {
          "base_uri": "https://localhost:8080/",
          "height": 374
        }
      },
      "outputs": [
        {
          "output_type": "error",
          "ename": "ModuleNotFoundError",
          "evalue": "ignored",
          "traceback": [
            "\u001b[0;31m---------------------------------------------------------------------------\u001b[0m",
            "\u001b[0;31mModuleNotFoundError\u001b[0m                       Traceback (most recent call last)",
            "\u001b[0;32m<ipython-input-30-8c77245cce6d>\u001b[0m in \u001b[0;36m<module>\u001b[0;34m()\u001b[0m\n\u001b[0;32m----> 1\u001b[0;31m \u001b[0;32mfrom\u001b[0m \u001b[0mparse\u001b[0m\u001b[0;34m.\u001b[0m\u001b[0mmaterial_parser\u001b[0m \u001b[0;32mimport\u001b[0m \u001b[0mMaterialParser\u001b[0m\u001b[0;34m\u001b[0m\u001b[0;34m\u001b[0m\u001b[0m\n\u001b[0m\u001b[1;32m      2\u001b[0m \u001b[0;32mdef\u001b[0m \u001b[0mname_normalise\u001b[0m\u001b[0;34m(\u001b[0m\u001b[0mchems\u001b[0m\u001b[0;34m)\u001b[0m\u001b[0;34m:\u001b[0m\u001b[0;34m\u001b[0m\u001b[0;34m\u001b[0m\u001b[0m\n\u001b[1;32m      3\u001b[0m     \"\"\"\n\u001b[1;32m      4\u001b[0m     \u001b[0mNormalize\u001b[0m \u001b[0mthe\u001b[0m \u001b[0mchemical\u001b[0m \u001b[0mname\u001b[0m \u001b[0;32mas\u001b[0m \u001b[0ma\u001b[0m \u001b[0mdictionary\u001b[0m \u001b[0mof\u001b[0m \u001b[0melement\u001b[0m \u001b[0mnames\u001b[0m \u001b[0;32mand\u001b[0m \u001b[0mits\u001b[0m \u001b[0mnumbers\u001b[0m\u001b[0;34m.\u001b[0m \u001b[0me\u001b[0m\u001b[0;34m.\u001b[0m\u001b[0mg\u001b[0m\u001b[0;34m.\u001b[0m \u001b[0mNaCl\u001b[0m \u001b[0;32mas\u001b[0m \u001b[0;34m{\u001b[0m\u001b[0;34m'Na'\u001b[0m\u001b[0;34m:\u001b[0m\u001b[0;36m1\u001b[0m\u001b[0;34m,\u001b[0m \u001b[0;34m'Cl'\u001b[0m\u001b[0;34m:\u001b[0m\u001b[0;36m1\u001b[0m\u001b[0;34m}\u001b[0m\u001b[0;34m\u001b[0m\u001b[0;34m\u001b[0m\u001b[0m\n\u001b[1;32m      5\u001b[0m     \"\"\"\n",
            "\u001b[0;31mModuleNotFoundError\u001b[0m: No module named 'parse'",
            "",
            "\u001b[0;31m---------------------------------------------------------------------------\u001b[0;32m\nNOTE: If your import is failing due to a missing package, you can\nmanually install dependencies using either !pip or !apt.\n\nTo view examples of installing some common dependencies, click the\n\"Open Examples\" button below.\n\u001b[0;31m---------------------------------------------------------------------------\u001b[0m\n"
          ],
          "errorDetails": {
            "actions": [
              {
                "action": "open_url",
                "actionText": "Open Examples",
                "url": "/notebooks/snippets/importing_libraries.ipynb"
              }
            ]
          }
        }
      ],
      "source": [
        "from parse.material_parser import MaterialParser\n",
        "def name_normalise(chems):\n",
        "    \"\"\"\n",
        "    Normalize the chemical name as a dictionary of element names and its numbers. e.g. NaCl as {'Na':1, 'Cl':1}\n",
        "    \"\"\"\n",
        "    mp = MaterialParser(pubchem_lookup=False, verbose=False)\n",
        "    patter = r'He|Li|Be|Ne|Na|Mg|Al|Si|Cl|Ar|Ca|Sc|Ti|Cr|Mn|Fe|Co|Ni|Cu|Zn|Ga|Ge|As|Se|Br|Kr|Rb|Sr|Zr|Nb|Mo|Tc|Ru|' \\\n",
        "             r'Rh|Pd|Ag|Cd|In|Sn|Sb|Te|Xe|Cs|Ba|La|Ce|Pr|Nd|Pm|Sm|Eu|Gd|Tb|Dy|Ho|Er|Tm|Yb|Lu|Hf|Ta|Re|Os|Ir|Pt|Au|Hg' \\\n",
        "             r'|Tl|Pb|Bi|Po|At|Rn|Fr|Ra|Ac|Th|Pa|Np|Pu|Am|Cm|Bk|Cf|Es|Fm|Md|No|Lr|Rf|Db|Sg|Bh|Hs|Mt|Ds|Rg|Cn|Nh|Fl' \\\n",
        "             r'|Mc|Lv|Ts|Og|C|H|B|N|O|F|P|S|K|V|Y|I|W|U',\n",
        "    pattern = patter[0].split('|')\n",
        "\n",
        "    chem = chems.replace(' / ', '/').replace(' @ ', '@')\n",
        "    if re.compile(r'\\d/\\d').search(chem) is None and '/' in chem:\n",
        "        chem_list = chem.split('/')\n",
        "    elif re.compile(r'\\d@\\d').search(chem) is None and '@' in chem:\n",
        "        chem_list = chem.split('@')\n",
        "    else:\n",
        "        chem_list = [chem]\n",
        "    normalized_name = []\n",
        "    for cem in chem_list:\n",
        "        try:\n",
        "            parse = mp.parse_material(cem)\n",
        "            if parse['composition'] != []:\n",
        "                if parse['composition'][0]['elements'] != {}:\n",
        "                    if all(\n",
        "                            i in pattern for i in parse['composition'][0]['elements']):\n",
        "                        normalized_name.append(\n",
        "                            dict(parse['composition'][0]['elements']))\n",
        "        except BaseException:\n",
        "            continue\n",
        "    return normalized_name, chems"
      ]
    },
    {
      "cell_type": "code",
      "execution_count": null,
      "metadata": {
        "id": "15PepAv2CcBP"
      },
      "outputs": [],
      "source": [
        "# Remove the reference electrode compound\n",
        "from itertools import chain\n",
        "reference_list=['Hg / Hg2Cl2', 'H2O / H2' ,'Ag / Ag2SO4','Pt / C','Hg / Hg2SO4','HgO / Hg','Hg / HgCl','AgCl / Ag','Hg / HgO','Ag / AgCl','acid','+']\n",
        "reference_list0 = [i + 'electrode' for i in reference_list]\n",
        "reference_list1 = [i + 'electrodes' for i in reference_list]\n",
        "reference = reference_list + reference_list0 + reference_list1\n",
        "chainrange0 = chain(range(40,42), range(48, 58),range(65,91),range(97,123))\n",
        "chainrange = [i for i in chainrange0]"
      ]
    },
    {
      "cell_type": "code",
      "execution_count": null,
      "metadata": {
        "id": "XqOn-aqmCcBP"
      },
      "outputs": [],
      "source": [
        "# Extract the types for each data record, including Anode, Cathode, and Electrolyte.\n",
        "new_dics = []\n",
        "for i,row in enumerate(df_dics):\n",
        "    print(row)\n",
        "    name = row['Name']\n",
        "    name = name.replace(\"composites\",\"\").replace(\"materials\", \"\").replace(\"electrodes\", \"\").replace(\"electrode\", \"\").replace(\"material\", \"\").replace(\"composite\",\"\")\n",
        "    ordletter = row['Name'][0]\n",
        "    ordletter1 = row['Name'][-1]\n",
        "    if len(name) <=3 or name.endswith('/'):\n",
        "        continue\n",
        "    if name in reference or ord(ordletter) not in chainrange or ord(ordletter1) not in chainrange:\n",
        "        continue\n",
        "    if name.endswith('anode') or name.endswith('anodes'):\n",
        "        name = \" \".join(name.split()[0:-1])\n",
        "        row['Type'] = 'Anode'\n",
        "        print(row)\n",
        "    elif name.endswith('cathode') or name.endswith('cathodes'):\n",
        "        name = \" \".join(name.split()[0:-1])\n",
        "        row['Type'] = 'Cathode'\n",
        "        print(row)\n",
        "    elif name.endswith('electrolyte') or name.endswith('electrolytes'):\n",
        "        name = \" \".join(name.split()[0:-1])\n",
        "        row['Type'] = 'Electrolyte'\n",
        "        print(row)\n",
        "    normalized_name,_ = name_normalise(name)\n",
        "    if normalized_name:\n",
        "        row['Name'] = name\n",
        "        row['Extracted_name'] = normalized_name\n",
        "        print(row)\n",
        "        new_dics.append(row)"
      ]
    },
    {
      "cell_type": "code",
      "execution_count": null,
      "metadata": {
        "id": "6yPKmCJRCcBQ"
      },
      "outputs": [],
      "source": [
        "new_dics"
      ]
    },
    {
      "cell_type": "code",
      "execution_count": null,
      "metadata": {
        "id": "PXEIMwqmCcBQ"
      },
      "outputs": [],
      "source": [
        "# Standardlise different values and units as one formal unit\n",
        "new_dics1=[]\n",
        "for dat in new_dics:\n",
        "    extract_name = dat['Extracted_name']\n",
        "    if len(extract_name)==1 and len(extract_name[0])==1:\n",
        "        continue\n",
        "    if dat['Property']=='Voltage':\n",
        "        if dat['Unit'] == 'MilliVolt^(1.0)':\n",
        "            dat['Value'] = dat['Value']/1000\n",
        "            dat['Unit'] = 'Volt^(1.0)'\n",
        "        if dat['Unit'] == 'DimensionlessUnit':\n",
        "            dat['Unit'] = 'Volt^(1.0)'\n",
        "        if dat['Unit'] != 'Volt^(1.0)':\n",
        "            continue\n",
        "            \n",
        "        if dat['Value'] > 5 or dat['Value'] < 1:\n",
        "            if dat['Warning'] == 'R':\n",
        "                dat['Warning'] = 'RL'\n",
        "            else:\n",
        "                dat['Warning'] = 'L'\n",
        "        if dat['Value'] < 7 and dat['Value'] > 0.01:\n",
        "            new_dics1.append(dat)\n",
        "            \n",
        "    if dat['Property'] == 'Capacity':\n",
        "        if dat['Unit'] == 'Ampere^(1.0) Hour^(1.0) KiloGram^(-1.0)':\n",
        "            dat['Unit'] = 'Gram^(-1.0)  Hour^(1.0)  MilliAmpere^(1.0)'\n",
        "        if dat['Unit'] ==  'Ampere^(1.0)  Gram^(-1.0)  Hour^(1.0)':\n",
        "            dat['Value'] = dat['Value']*1000\n",
        "            dat['Unit'] = 'Gram^(-1.0)  Hour^(1.0)  MilliAmpere^(1.0)'\n",
        "        if dat['Unit'] == 'Hour^(1.0)  KiloGram^(-1.0)  MilliAmpere^(1.0)':\n",
        "            dat['Value'] = dat['Value']/1000\n",
        "            dat['Unit'] = 'Gram^(-1.0)  Hour^(1.0)  MilliAmpere^(1.0)'\n",
        "            \n",
        "        if dat['Value'] > 3000 or dat['Value'] < 20:\n",
        "            if dat['Warning'] == 'R':\n",
        "                dat['Warning'] = 'RL'\n",
        "            else:\n",
        "                dat['Warning'] = 'L'\n",
        "        if dat['Value'] < 5000 and dat['Value']>0:\n",
        "            new_dics1.append(dat)\n",
        "            \n",
        "    if dat['Property'] == 'Conductivity':\n",
        "        if dat['Unit'] == 'CentiMeter^(-1.0)  MilliSiemens^(1.0)':\n",
        "            dat['Value'] = dat['Value']/1000\n",
        "            dat['Unit'] = 'CentiMeter^(-1.0)  Siemens^(1.0)'\n",
        "        if dat['Unit'] == 'Meter^(-1.0)  MilliSiemens^(1.0)':\n",
        "            dat['Value'] = dat['Value']/100000\n",
        "            dat['Unit'] = 'CentiMeter^(-1.0)  Siemens^(1.0)'\n",
        "        if dat['Unit'] != 'CentiMeter^(-1.0)  Siemens^(1.0)':\n",
        "            continue\n",
        "            \n",
        "        if dat['Value'] > 10:\n",
        "            if dat['Warning'] == 'R':\n",
        "                dat['Warning'] = 'RL'\n",
        "            else:\n",
        "                dat['Warning'] = 'L'\n",
        "        if dat['Value'] < 100.1:\n",
        "            new_dics1.append(dat)\n",
        "        \n",
        "    if dat['Property'] == 'Coulombic Efficiency':\n",
        "        if dat['Value'] < 20:\n",
        "            if dat['Warning'] == 'R':\n",
        "                dat['Warning'] = 'RL'\n",
        "            else:\n",
        "                dat['Warning'] = 'L'\n",
        "        if dat['Value'] <=100 and dat['Value']>0:\n",
        "            new_dics1.append(dat)\n",
        "    if dat['Property'] == 'Energy':\n",
        "        if dat['Unit'] == 'Gram^(-1.0)  WattHour^(1.0)':\n",
        "            dat['Value'] = dat['Value']*1000\n",
        "            dat['Unit'] = 'KiloGram^(-1.0)  WattHour^(1.0)'\n",
        "        if dat['Unit'] ==  'KiloGram^(1.0)  WattHour^(1.0)':\n",
        "            dat['Unit'] ='KiloGram^(-1.0)  WattHour^(1.0)'\n",
        "        if dat['Unit'] != 'KiloGram^(-1.0)  WattHour^(1.0)':\n",
        "            continue\n",
        "            \n",
        "        if dat['Value'] > 3000 or dat['Value'] < 100:\n",
        "            if dat['Warning'] == 'R':\n",
        "                dat['Warning'] = 'RL'\n",
        "            else:\n",
        "                dat['Warning'] = 'L'\n",
        "        if dat['Value'] <5000 and dat['Value']>0:\n",
        "            new_dics1.append(dat)"
      ]
    },
    {
      "cell_type": "code",
      "execution_count": null,
      "metadata": {
        "id": "M98_ISoFCcBR"
      },
      "outputs": [],
      "source": [
        "# Convert python dictionaries back into pandas dataframe again\n",
        "df1 = pd.DataFrame(new_dics1)\n",
        "\n",
        "cols_to_order = ['Property', 'Name', 'Value','Raw_unit','Raw_value','Unit','Extracted_name','DOI','Specifier','Tag','Warning','Type','Info']\n",
        "new_columns = cols_to_order + (df1.columns.drop(cols_to_order).tolist())\n",
        "df1 = df1[new_columns]\n",
        "\n",
        "df1 = df1.drop_duplicates(subset=['Property','Value','DOI','Name'],keep='last')"
      ]
    },
    {
      "cell_type": "code",
      "execution_count": null,
      "metadata": {
        "id": "SyEGUz5cCcBS"
      },
      "outputs": [],
      "source": [
        "# Data augmentation preparation\n",
        "group = df1.groupby('Name')\n",
        "df2 = group.apply(lambda x: x['Property'].unique())\n",
        "aug_names = []\n",
        "for name0,propertylist in df2.iteritems():\n",
        "    if 'Capacity' in propertylist and 'Voltage' in propertylist and 'Energy' not in propertylist:\n",
        "        aug_names.append(name0)"
      ]
    },
    {
      "cell_type": "code",
      "execution_count": null,
      "metadata": {
        "scrolled": true,
        "id": "Utw3wGOfCcBS"
      },
      "outputs": [],
      "source": [
        "# Data augmentation for unknown energy data\n",
        "for i,aug_name in enumerate(aug_names):\n",
        "    print(i)\n",
        "    newdf = df1[df1['Name']==aug_name]\n",
        "    volt = newdf[newdf['Property']=='Voltage'].Value.mean()\n",
        "    capa = newdf[newdf['Property']=='Capacity'].Value.mean()\n",
        "    ener = volt*capa\n",
        "    add = newdf.iloc[0].copy()\n",
        "    add['Property'] = 'Energy'\n",
        "    add['Value'] = ener\n",
        "    add['Raw_value'] = str(ener)\n",
        "    add['Raw_unit'] = 'Wh/kg'\n",
        "    add['Unit'] = 'KiloGram^(-1.0)  WattHour^(1.0)'\n",
        "    add['Tag'] = 'Calculated'\n",
        "    add['DOI'], add['Specifier'], add['Warning'], add['Info'], add['Type'], add['Title'], add['Journal'], add['Date'] = 'None','None','None','None','None','None','None','None'\n",
        "    df1 = df1.append(add)"
      ]
    },
    {
      "cell_type": "code",
      "execution_count": null,
      "metadata": {
        "id": "YszI3OSgCcBS"
      },
      "outputs": [],
      "source": [
        "df2 = df1[~df1['Name'].str.startswith('–')]\n",
        "df2 = df2.sort_values(by=['Name'])\n",
        "df2 = df2.drop_duplicates(subset=['Property','Value','DOI','Name'],keep='last')\n",
        "df2 = df2.sample(frac=1).reset_index(drop=True)\n",
        "df2['id']=df2.index"
      ]
    },
    {
      "cell_type": "code",
      "execution_count": null,
      "metadata": {
        "id": "PktP7QdVCcBT"
      },
      "outputs": [],
      "source": [
        "# Merge duplicated data with same property, value, and units.\n",
        "def join(doi):\n",
        "    return ', '.join((doi))\n",
        "def unchange(item):\n",
        "    return [item.iloc[:]]\n",
        "df_merge_series = df2.copy()\n",
        "df_merge_series['Count'] = 'None'\n",
        "groups_series = df_merge_series.groupby(['Property','Name','DOI']).agg({'Count':'count','id':unchange})"
      ]
    },
    {
      "cell_type": "code",
      "execution_count": null,
      "metadata": {
        "id": "WN0TdBioCcBT"
      },
      "outputs": [],
      "source": [
        "series_lists=groups_series[groups_series['Count']>3]['id'].values.tolist()\n",
        "series=[]\n",
        "for i in series_lists:\n",
        "    new_list = i[0].values.tolist()\n",
        "    for j in new_list:\n",
        "        series.append(j)"
      ]
    },
    {
      "cell_type": "code",
      "execution_count": null,
      "metadata": {
        "id": "3eTdhOXrCcBT"
      },
      "outputs": [],
      "source": [
        "# Add series warning tag \"S\"\n",
        "for i in series:\n",
        "    if df2.iloc[i]['Warning']==\"None\":\n",
        "        df2.set_value(i,'Warning','S')\n",
        "    else:\n",
        "        warning = df2.iloc[i]['Warning']\n",
        "        df2.set_value(i,'Warning',warning+'S')"
      ]
    },
    {
      "cell_type": "code",
      "execution_count": null,
      "metadata": {
        "id": "-s6cIxGUCcBT"
      },
      "outputs": [],
      "source": [
        "# Other multiple warnings\n",
        "df2=df2[df2['Warning']!=\"RLS\"]\n",
        "df2=df2[df2['Warning']!=\"RS\"]\n",
        "df2 = df2.drop(columns=['id'])\n",
        "dfdic = df2.to_dict(orient='records')"
      ]
    },
    {
      "cell_type": "code",
      "execution_count": null,
      "metadata": {
        "id": "RToxw-XGCcBT"
      },
      "outputs": [],
      "source": [
        "# Data merge\n",
        "def join(doi):\n",
        "    return ', '.join(doi)\n",
        "def join_select(items):\n",
        "    string = ''\n",
        "    for i in items:\n",
        "        if i != \"None\":\n",
        "            string += str(i)\n",
        "            string += ', '\n",
        "    return string\n",
        "def unchange(item):\n",
        "    return item.iloc[0]\n",
        "df_merge = df2.copy()\n",
        "df_merge['Num_records'] = 'n'\n",
        "# df.groupby(['Property','Value','Name'])['DOI'].apply(', '.join).reset_index()\n",
        "groups = df_merge.groupby(['Property','Name','Value']).agg({'Raw_unit':unchange,'Raw_value':unchange,'Unit':unchange,'Num_records':'count',\"Extracted_name\":unchange,'DOI': join, \"Specifier\":join_select,  \"Tag\":unchange, \"Warning\":join_select,\"Type\":join_select,\"Info\":join_select,'Title': join, 'Journal':join, \"Date\":join,\"Correctness\":unchange})\n",
        "\n",
        "merge = groups.reset_index()\n",
        "merge = merge.drop_duplicates(subset=['Property','Value','DOI','Name'],keep='last')\n",
        "df5 = merge.sample(frac=1).reset_index(drop=True)\n",
        "merge = df5.replace([\"\"],\"None\")\n",
        "mergedic = merge.to_dict(orient='records')"
      ]
    },
    {
      "cell_type": "code",
      "execution_count": null,
      "metadata": {
        "id": "-58IwwqVCcBU"
      },
      "outputs": [],
      "source": [
        ""
      ]
    },
    {
      "cell_type": "code",
      "execution_count": null,
      "metadata": {
        "id": "sfgTkIlaCcBU"
      },
      "outputs": [],
      "source": [
        ""
      ]
    },
    {
      "cell_type": "markdown",
      "metadata": {
        "id": "A4MGU1jMCcBU"
      },
      "source": [
        "#### Save the data records as json, csv and sqlite format"
      ]
    },
    {
      "cell_type": "code",
      "execution_count": null,
      "metadata": {
        "id": "za5igFzSCcBU"
      },
      "outputs": [],
      "source": [
        "import json\n",
        "with open('save/battery.json', 'w') as fout:\n",
        "    json.dump(dfdic, fout)"
      ]
    },
    {
      "cell_type": "code",
      "execution_count": null,
      "metadata": {
        "id": "q0gQhZQuCcBU"
      },
      "outputs": [],
      "source": [
        "import csv\n",
        "csv_columns = list(df2.columns.values)\n",
        "try:\n",
        "    with open('battery.csv', 'a', encoding='utf-8') as csvfile:\n",
        "        writer = csv.DictWriter(csvfile, fieldnames=csv_columns)\n",
        "        writer.writeheader()\n",
        "        for data in dfdic:\n",
        "            writer.writerow(data)\n",
        "except IOError:\n",
        "    print(\"I/O error\")"
      ]
    },
    {
      "cell_type": "code",
      "execution_count": null,
      "metadata": {
        "id": "bWgk1W52CcBU"
      },
      "outputs": [],
      "source": [
        "import sqlite3\n",
        "inps = []\n",
        "for i in dfdic:\n",
        "    tuple1 = tuple(str(i[k]) for k in i)\n",
        "    inps.append(tuple1)\n",
        "conn = sqlite3.connect('battery' + '.db')\n",
        "\n",
        "conn.execute('''CREATE TABLE BATTERY\n",
        "            (Property       TEXT,\n",
        "             Name           TEXT,\n",
        "             Value          TEXT,\n",
        "             Raw_unit       TEXT,\n",
        "             Raw_value      TEXT,\n",
        "             Unit           TEXT,\n",
        "             Extracted_name TEXT,\n",
        "             DOI            TEXT,\n",
        "             Specifier      TEXT,\n",
        "             Tag            TEXT,\n",
        "             Warning       TEXT,\n",
        "             Type          TEXT,\n",
        "             Info          TEXT,\n",
        "             Title         TEXT,\n",
        "             Journal       TEXT,\n",
        "             Date            TEXT,\n",
        "             Correctness   TEXT)''')\n",
        "\n",
        "db = conn.cursor()\n",
        "db.executemany(\"INSERT INTO BATTERY VALUES (?,?,?,?,?,?,?,?,?,?,?,?,?,?,?,?,?)\", inps)\n",
        "conn.commit()\n",
        "conn.close()"
      ]
    },
    {
      "cell_type": "markdown",
      "metadata": {
        "id": "RWSf92dUCcBU"
      },
      "source": [
        "Save the merged data records as json, csv and sqlite format"
      ]
    },
    {
      "cell_type": "code",
      "execution_count": null,
      "metadata": {
        "id": "dlgdN5YACcBU"
      },
      "outputs": [],
      "source": [
        "import json\n",
        "with open('battery_merged.json', 'w') as f:\n",
        "    json.dump(mergedic, f)"
      ]
    },
    {
      "cell_type": "code",
      "execution_count": null,
      "metadata": {
        "id": "7-Gof-gqCcBV"
      },
      "outputs": [],
      "source": [
        "import csv\n",
        "csv_columns = list(merge.columns.values)\n",
        "try:\n",
        "    with open('battery_merged.csv', 'a', encoding='utf-8') as csvfile:\n",
        "        writer = csv.DictWriter(csvfile, fieldnames=csv_columns)\n",
        "        writer.writeheader()\n",
        "        for data in mergedic:\n",
        "            writer.writerow(data)\n",
        "except IOError:\n",
        "    print(\"I/O error\")"
      ]
    },
    {
      "cell_type": "code",
      "execution_count": null,
      "metadata": {
        "id": "GQfwfe6rCcBV"
      },
      "outputs": [],
      "source": [
        "import sqlite3\n",
        "inps = []\n",
        "for i in mergedic:\n",
        "    tuple1 = tuple(str(i[k]) for k in i)\n",
        "    inps.append(tuple1)\n",
        "conn = sqlite3.connect('battery_merged' + '.db')\n",
        "\n",
        "conn.execute('''CREATE TABLE BATTERY\n",
        "            (Property       TEXT,\n",
        "             Name           TEXT,\n",
        "             Value          TEXT,\n",
        "             Raw_unit       TEXT,\n",
        "             Raw_value      TEXT,\n",
        "             Unit           TEXT,\n",
        "             Num_records    REAL,\n",
        "             Extracted_name TEXT,\n",
        "             DOI            TEXT,\n",
        "             Specifier      TEXT,\n",
        "             Tag            TEXT,\n",
        "             Warning       TEXT,\n",
        "             Type          TEXT,\n",
        "             Info          TEXT,\n",
        "             Title         TEXT,\n",
        "             Journal       TEXT,\n",
        "             Date            TEXT,\n",
        "             Correctness   TEXT)''')\n",
        "\n",
        "db = conn.cursor()\n",
        "db.executemany(\"INSERT INTO BATTERY VALUES (?,?,?,?,?,?,?,?,?,?,?,?,?,?,?,?,?,?)\", inps)\n",
        "conn.commit()\n",
        "conn.close()"
      ]
    }
  ],
  "metadata": {
    "kernelspec": {
      "display_name": "Python 3",
      "language": "python",
      "name": "python3"
    },
    "language_info": {
      "codemirror_mode": {
        "name": "ipython",
        "version": 3
      },
      "file_extension": ".py",
      "mimetype": "text/x-python",
      "name": "python",
      "nbconvert_exporter": "python",
      "pygments_lexer": "ipython3",
      "version": "3.8.8"
    },
    "colab": {
      "name": "Battery_raw_dataclean.ipynb",
      "provenance": [],
      "include_colab_link": true
    }
  },
  "nbformat": 4,
  "nbformat_minor": 0
}