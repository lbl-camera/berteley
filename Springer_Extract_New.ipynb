{
  "nbformat": 4,
  "nbformat_minor": 0,
  "metadata": {
    "colab": {
      "name": "Springer_Extract_New.ipynb",
      "provenance": [],
      "include_colab_link": true
    },
    "kernelspec": {
      "name": "python3",
      "display_name": "Python 3"
    },
    "language_info": {
      "name": "python"
    }
  },
  "cells": [
    {
      "cell_type": "markdown",
      "metadata": {
        "id": "view-in-github",
        "colab_type": "text"
      },
      "source": [
        "<a href=\"https://colab.research.google.com/github/dani-lbnl/mudit/blob/main/Springer_Extract_New.ipynb\" target=\"_parent\"><img src=\"https://colab.research.google.com/assets/colab-badge.svg\" alt=\"Open In Colab\"/></a>"
      ]
    },
    {
      "cell_type": "code",
      "source": [
        "# set up drive\n",
        "from google.colab import drive\n",
        "drive.mount('/content/drive')"
      ],
      "metadata": {
        "id": "fD-y1vUkPhmC",
        "outputId": "de8127d5-031e-4597-f1a7-390a4c2a5dbf",
        "colab": {
          "base_uri": "https://localhost:8080/"
        }
      },
      "execution_count": 16,
      "outputs": [
        {
          "output_type": "stream",
          "name": "stdout",
          "text": [
            "Drive already mounted at /content/drive; to attempt to forcibly remount, call drive.mount(\"/content/drive\", force_remount=True).\n"
          ]
        }
      ]
    },
    {
      "cell_type": "code",
      "execution_count": 3,
      "metadata": {
        "id": "xKiGakJwOv2p"
      },
      "outputs": [],
      "source": [
        "import urllib.request as request\n",
        "import json\n",
        "\n",
        "\n",
        "class SpringerScraper():\n",
        "    def __init__(\n",
        "            self,\n",
        "            query_text,\n",
        "            start=0,\n",
        "            year=2020,\n",
        "            apikey=\"d0fce19bf0a92a57dd448bd7f0c2301f\",\n",
        "            max_return=100):\n",
        "        \"\"\"\n",
        "        :param query_text: query words\n",
        "        :param start: start page number\n",
        "        :param year: year of published papers\n",
        "        :param apikey: Springer APIKEY\n",
        "        :param max_return: max returned number of papers\n",
        "        \"\"\"\n",
        "        self.apikey = apikey\n",
        "        self.start = start\n",
        "        self.max_return = max_return\n",
        "        self.year = year\n",
        "        self.query_text = query_text.replace(\" \", '%20')\n",
        "\n",
        "    def FindDois(self):\n",
        "        \"\"\"\n",
        "        :return: <list> of <str> list of DOIs\n",
        "        \"\"\"\n",
        "        url = \"http://api.springernature.com/meta/v2/json?&q={}%20type:Journal%20year:{}&s={}&p={}&api_key={}\".format(\n",
        "            self.query_text, self.year, self.start, self.max_return, self.apikey)\n",
        "        # url = \"http://api.springernature.com/openaccess/json?q=title:%22lithium%22metal%22battery%22type:Journal%20year:{}&s={}&p={}&api_key={}\".format(self.year, self.start, self.max_return, self.apikey)\n",
        "        # url = \"http://api.springernature.com/openaccess/json?q=title:{}%20type:Journal%20year:{}&s={}&p={}&api_key={}\".format(self.query_text,self.year, self.start, self.max_return, self.apikey)\n",
        "\n",
        "        \n",
        "        crawl_content = request.urlopen(url).read()\n",
        "        Content = json.loads(crawl_content.decode('utf8'))\n",
        "        Dois = []\n",
        "        for i in range(self.max_return):\n",
        "            Dois.append(Content['records'][i]['doi'])\n",
        "        return Dois\n",
        "\n",
        "    def FindingXml(self, papers):\n",
        "        \"\"\"\n",
        "        :param papers: list of DOIS\n",
        "        :return: url addresses of papers\n",
        "        \"\"\"\n",
        "        DoiUrls = []\n",
        "        for doi in papers:\n",
        "            doiUrls = \"https://api.springernature.com/meta/v2/jats?q=doi:{}&p=2&api_key={}\".format(\n",
        "                doi, self.apikey)\n",
        "            DoiUrls.append(doiUrls)\n",
        "        return DoiUrls\n",
        "\n",
        "\n",
        "def download_doi(doi):\n",
        "    \"\"\"\n",
        "    :param doi: DOI\n",
        "    :return:\n",
        "    \"\"\"\n",
        "    WebContent = request.urlopen(doi).read()\n",
        "    with open(r'springer_{}.xml'.format(doi), 'wb') as f:\n",
        "        f.write(WebContent)\n",
        "        f.close()\n",
        "    return"
      ]
    },
    {
      "cell_type": "code",
      "source": [
        "year_list = list(range(2010, 2022)) # from 2010 to 2021\n",
        "start_list= [1,101,201,301,401,501,601,701,801,901] # five iterations\n",
        "\n",
        "total_url = []\n",
        "for y in year_list:\n",
        "  print(\"****Year*****:\",y)\n",
        "  for s in start_list:\n",
        "    print(\"Start:\",s)\n",
        "    ss = SpringerScraper(\"lithium battery\", start = s,year = y)\n",
        "    try:\n",
        "      doi_list = ss.FindDois()\n",
        "      url_doi=ss.FindingXml(doi_list)\n",
        "      if len(total_url)==0:\n",
        "        total_url = url_doi\n",
        "      else:\n",
        "        total_url+= url_doi\n",
        "    except:\n",
        "      print(\"Error raised; going back\")\n",
        "      print(\"start: \",s)\n",
        "      break\n"
      ],
      "metadata": {
        "id": "W-2CB55cPEkd",
        "outputId": "fba345c2-8ea0-4b28-9869-38ed71865bb6",
        "colab": {
          "base_uri": "https://localhost:8080/"
        }
      },
      "execution_count": 4,
      "outputs": [
        {
          "output_type": "stream",
          "name": "stdout",
          "text": [
            "****Year*****: 2010\n",
            "Start: 1\n",
            "Start: 101\n",
            "Start: 201\n",
            "Start: 301\n",
            "Start: 401\n",
            "Start: 501\n",
            "Start: 601\n",
            "Error raised; going back\n",
            "start:  601\n",
            "****Year*****: 2011\n",
            "Start: 1\n",
            "Start: 101\n",
            "Start: 201\n",
            "Start: 301\n",
            "Start: 401\n",
            "Start: 501\n",
            "Start: 601\n",
            "Start: 701\n",
            "Start: 801\n",
            "Error raised; going back\n",
            "start:  801\n",
            "****Year*****: 2012\n",
            "Start: 1\n",
            "Start: 101\n",
            "Start: 201\n",
            "Start: 301\n",
            "Start: 401\n",
            "Start: 501\n",
            "Start: 601\n",
            "Start: 701\n",
            "Start: 801\n",
            "Start: 901\n",
            "****Year*****: 2013\n",
            "Start: 1\n",
            "Start: 101\n",
            "Start: 201\n",
            "Start: 301\n",
            "Start: 401\n",
            "Start: 501\n",
            "Start: 601\n",
            "Start: 701\n",
            "Start: 801\n",
            "Start: 901\n",
            "****Year*****: 2014\n",
            "Start: 1\n",
            "Start: 101\n",
            "Start: 201\n",
            "Start: 301\n",
            "Start: 401\n",
            "Start: 501\n",
            "Start: 601\n",
            "Start: 701\n",
            "Start: 801\n",
            "Start: 901\n",
            "****Year*****: 2015\n",
            "Start: 1\n",
            "Start: 101\n",
            "Start: 201\n",
            "Start: 301\n",
            "Start: 401\n",
            "Start: 501\n",
            "Start: 601\n",
            "Start: 701\n",
            "Start: 801\n",
            "Start: 901\n",
            "****Year*****: 2016\n",
            "Start: 1\n",
            "Start: 101\n",
            "Start: 201\n",
            "Start: 301\n",
            "Start: 401\n",
            "Start: 501\n",
            "Start: 601\n",
            "Start: 701\n",
            "Start: 801\n",
            "Start: 901\n",
            "****Year*****: 2017\n",
            "Start: 1\n",
            "Start: 101\n",
            "Start: 201\n",
            "Start: 301\n",
            "Start: 401\n",
            "Start: 501\n",
            "Start: 601\n",
            "Start: 701\n",
            "Start: 801\n",
            "Start: 901\n",
            "****Year*****: 2018\n",
            "Start: 1\n",
            "Start: 101\n",
            "Start: 201\n",
            "Start: 301\n",
            "Start: 401\n",
            "Start: 501\n",
            "Start: 601\n",
            "Start: 701\n",
            "Start: 801\n",
            "Start: 901\n",
            "****Year*****: 2019\n",
            "Start: 1\n",
            "Start: 101\n",
            "Start: 201\n",
            "Start: 301\n",
            "Start: 401\n",
            "Start: 501\n",
            "Start: 601\n",
            "Start: 701\n",
            "Start: 801\n",
            "Start: 901\n",
            "****Year*****: 2020\n",
            "Start: 1\n",
            "Start: 101\n",
            "Start: 201\n",
            "Start: 301\n",
            "Start: 401\n",
            "Start: 501\n",
            "Start: 601\n",
            "Start: 701\n",
            "Start: 801\n",
            "Start: 901\n",
            "****Year*****: 2021\n",
            "Start: 1\n",
            "Start: 101\n",
            "Start: 201\n",
            "Start: 301\n",
            "Start: 401\n",
            "Start: 501\n",
            "Start: 601\n",
            "Start: 701\n",
            "Start: 801\n",
            "Start: 901\n"
          ]
        }
      ]
    },
    {
      "cell_type": "code",
      "source": [
        "total_url[0]"
      ],
      "metadata": {
        "id": "7PFc_g-cckW9",
        "outputId": "5396a9e3-b929-4705-fe59-10e5b797f779",
        "colab": {
          "base_uri": "https://localhost:8080/",
          "height": 35
        }
      },
      "execution_count": 23,
      "outputs": [
        {
          "output_type": "execute_result",
          "data": {
            "text/plain": [
              "'https://api.springernature.com/meta/v2/jats?q=doi:10.1186/1741-7015-8-89&p=2&api_key=d0fce19bf0a92a57dd448bd7f0c2301f'"
            ],
            "application/vnd.google.colaboratory.intrinsic+json": {
              "type": "string"
            }
          },
          "metadata": {},
          "execution_count": 23
        }
      ]
    },
    {
      "cell_type": "code",
      "source": [
        "# replace pam with jats\n",
        "\n",
        "import re\n",
        "url_list_v2 = []\n",
        "for a in total_url:\n",
        "  url_list_v2.append(re.sub(\"jats\", 'pam',a))\n"
      ],
      "metadata": {
        "id": "i1AslcUKt76j"
      },
      "execution_count": 26,
      "outputs": []
    },
    {
      "cell_type": "code",
      "source": [
        "url_list_v2[0]"
      ],
      "metadata": {
        "id": "Btyws2xHuExO",
        "outputId": "e965368f-12e1-492a-c001-a23c59d69738",
        "colab": {
          "base_uri": "https://localhost:8080/",
          "height": 35
        }
      },
      "execution_count": 27,
      "outputs": [
        {
          "output_type": "execute_result",
          "data": {
            "text/plain": [
              "'https://api.springernature.com/meta/v2/pam?q=doi:10.1186/1741-7015-8-89&p=2&api_key=d0fce19bf0a92a57dd448bd7f0c2301f'"
            ],
            "application/vnd.google.colaboratory.intrinsic+json": {
              "type": "string"
            }
          },
          "metadata": {},
          "execution_count": 27
        }
      ]
    },
    {
      "cell_type": "markdown",
      "source": [
        "## saving"
      ],
      "metadata": {
        "id": "KwHD7bnhckqi"
      }
    },
    {
      "cell_type": "code",
      "source": [
        "num_list = []\n",
        "for i in range(1,11401):\n",
        "  num_list.append(i)\n"
      ],
      "metadata": {
        "id": "xq1XRj0wPjg7"
      },
      "execution_count": 6,
      "outputs": []
    },
    {
      "cell_type": "code",
      "source": [
        "def download_doi(doi,num_list):\n",
        "    \"\"\"\n",
        "    :param doi: DOI\n",
        "    :return:\n",
        "    \"\"\"\n",
        "\n",
        "    save_list = []\n",
        "    WebContent = request.urlopen(doi).read()\n",
        "    with open(r'/content/drive/My Drive/LBNL/Springer_10k_abs/springer_{}.xml'.format(num_list), 'wb') as f:\n",
        "        save_list.append(WebContent)   \n",
        "        f.write(WebContent)\n",
        "        f.close()\n",
        "    return"
      ],
      "metadata": {
        "id": "4LmRSy-KPk2E"
      },
      "execution_count": 20,
      "outputs": []
    },
    {
      "cell_type": "code",
      "source": [
        "!pwd"
      ],
      "metadata": {
        "id": "9q4wwjEUtOg0",
        "outputId": "4e079244-6bac-41c1-b9d6-0146bbfa25c3",
        "colab": {
          "base_uri": "https://localhost:8080/"
        }
      },
      "execution_count": 21,
      "outputs": [
        {
          "output_type": "stream",
          "name": "stdout",
          "text": [
            "/content\n"
          ]
        }
      ]
    },
    {
      "cell_type": "code",
      "source": [
        "for i in range(11400):\n",
        "  download_doi(url_list_v2[i],num_list[i])"
      ],
      "metadata": {
        "id": "FNEPUSgoPmrT"
      },
      "execution_count": null,
      "outputs": []
    },
    {
      "cell_type": "code",
      "source": [
        ""
      ],
      "metadata": {
        "id": "AI0uevstoz_7"
      },
      "execution_count": null,
      "outputs": []
    }
  ]
}