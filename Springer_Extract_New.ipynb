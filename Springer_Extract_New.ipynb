{
  "nbformat": 4,
  "nbformat_minor": 0,
  "metadata": {
    "colab": {
      "name": "Springer_Extract_New.ipynb",
      "provenance": [],
      "authorship_tag": "ABX9TyN27BCLrtJUXxX7+gyqwYCI",
      "include_colab_link": true
    },
    "kernelspec": {
      "name": "python3",
      "display_name": "Python 3"
    },
    "language_info": {
      "name": "python"
    }
  },
  "cells": [
    {
      "cell_type": "markdown",
      "metadata": {
        "id": "view-in-github",
        "colab_type": "text"
      },
      "source": [
        "<a href=\"https://colab.research.google.com/github/dani-lbnl/mudit/blob/main/Springer_Extract_New.ipynb\" target=\"_parent\"><img src=\"https://colab.research.google.com/assets/colab-badge.svg\" alt=\"Open In Colab\"/></a>"
      ]
    },
    {
      "cell_type": "code",
      "execution_count": null,
      "metadata": {
        "id": "xKiGakJwOv2p"
      },
      "outputs": [],
      "source": [
        "import urllib.request as request\n",
        "import json\n",
        "\n",
        "\n",
        "class SpringerScraper():\n",
        "    def __init__(\n",
        "            self,\n",
        "            query_text,\n",
        "            start=0,\n",
        "            year=2020,\n",
        "            apikey=\"d0fce19bf0a92a57dd448bd7f0c2301f\",\n",
        "            max_return=100):\n",
        "        \"\"\"\n",
        "        :param query_text: query words\n",
        "        :param start: start page number\n",
        "        :param year: year of published papers\n",
        "        :param apikey: Springer APIKEY\n",
        "        :param max_return: max returned number of papers\n",
        "        \"\"\"\n",
        "        self.apikey = apikey\n",
        "        self.start = start\n",
        "        self.max_return = max_return\n",
        "        self.year = year\n",
        "        self.query_text = query_text.replace(\" \", '%20')\n",
        "\n",
        "    def FindDois(self):\n",
        "        \"\"\"\n",
        "        :return: <list> of <str> list of DOIs\n",
        "        \"\"\"\n",
        "        url = \"http://api.springernature.com/meta/v2/json?&q={}%20type:Journal%20year:{}&s={}&p={}&api_key={}\".format(\n",
        "            self.query_text, self.year, self.start, self.max_return, self.apikey)\n",
        "        # url = \"http://api.springernature.com/openaccess/json?q=title:%22lithium%22metal%22battery%22type:Journal%20year:{}&s={}&p={}&api_key={}\".format(self.year, self.start, self.max_return, self.apikey)\n",
        "        # url = \"http://api.springernature.com/openaccess/json?q=title:{}%20type:Journal%20year:{}&s={}&p={}&api_key={}\".format(self.query_text,self.year, self.start, self.max_return, self.apikey)\n",
        "\n",
        "        \n",
        "        crawl_content = request.urlopen(url).read()\n",
        "        Content = json.loads(crawl_content.decode('utf8'))\n",
        "        Dois = []\n",
        "        for i in range(self.max_return):\n",
        "            Dois.append(Content['records'][i]['doi'])\n",
        "        return Dois\n",
        "\n",
        "    def FindingXml(self, papers):\n",
        "        \"\"\"\n",
        "        :param papers: list of DOIS\n",
        "        :return: url addresses of papers\n",
        "        \"\"\"\n",
        "        DoiUrls = []\n",
        "        for doi in papers:\n",
        "            doiUrls = \"https://api.springernature.com/meta/v2/jats?q=doi:{}&p=2&api_key={}\".format(\n",
        "                doi, self.apikey)\n",
        "            DoiUrls.append(doiUrls)\n",
        "        return DoiUrls\n",
        "\n",
        "\n",
        "def download_doi(doi):\n",
        "    \"\"\"\n",
        "    :param doi: DOI\n",
        "    :return:\n",
        "    \"\"\"\n",
        "    WebContent = request.urlopen(doi).read()\n",
        "    with open(r'springer_{}.xml'.format(doi), 'wb') as f:\n",
        "        f.write(WebContent)\n",
        "        f.close()\n",
        "    return"
      ]
    }
  ]
}